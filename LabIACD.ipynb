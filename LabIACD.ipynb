{
 "cells": [
  {
   "cell_type": "markdown",
   "source": [
    "# Lung Cancer"
   ],
   "metadata": {
    "collapsed": false
   },
   "id": "f726fa86fffdd98c"
  },
  {
   "cell_type": "markdown",
   "source": [
    "## Get Radiomic Features from LIDC-IDRI"
   ],
   "metadata": {
    "collapsed": false
   },
   "id": "b3e8ef7050497e56"
  },
  {
   "cell_type": "markdown",
   "source": [
    "### Imports"
   ],
   "metadata": {
    "collapsed": false
   },
   "id": "338499ee5171f96a"
  },
  {
   "cell_type": "code",
   "execution_count": 1,
   "outputs": [],
   "source": [
    "import pylidc as pl\n",
    "from pylidc.utils import consensus\n",
    "import SimpleITK as sitk\n",
    "from radiomics import featureextractor\n",
    "import pandas as pd"
   ],
   "metadata": {
    "collapsed": false,
    "ExecuteTime": {
     "end_time": "2023-10-30T16:27:23.119755Z",
     "start_time": "2023-10-30T16:27:22.095969600Z"
    }
   },
   "id": "8c9b6ef6d8da5220"
  },
  {
   "cell_type": "markdown",
   "source": [
    "### Get the dataset with all the features"
   ],
   "metadata": {
    "collapsed": false
   },
   "id": "dfe2dc2891fdbaa4"
  },
  {
   "cell_type": "code",
   "execution_count": 3,
   "id": "93180d4d",
   "metadata": {
    "ExecuteTime": {
     "end_time": "2023-10-30T16:28:00.993842100Z",
     "start_time": "2023-10-30T16:27:49.754728200Z"
    }
   },
   "outputs": [
    {
     "name": "stderr",
     "output_type": "stream",
     "text": [
      "INFO:radiomics.featureextractor:No valid config parameter, using defaults: {'minimumROIDimensions': 2, 'minimumROISize': None, 'normalize': False, 'normalizeScale': 1, 'removeOutliers': None, 'resampledPixelSpacing': None, 'interpolator': 'sitkBSpline', 'preCrop': False, 'padDistance': 5, 'distances': [1], 'force2D': False, 'force2Ddimension': 0, 'resegmentRange': None, 'label': 1, 'additionalInfo': True}\n",
      "INFO:radiomics.featureextractor:Enabled image types: {'Original': {}}\n",
      "INFO:radiomics.featureextractor:Enabled features: {'firstorder': [], 'glcm': [], 'gldm': [], 'glrlm': [], 'glszm': [], 'ngtdm': [], 'shape': []}\n",
      "INFO:radiomics.featureextractor:Calculating features with label: 1\n",
      "INFO:radiomics.featureextractor:Loading image and mask\n",
      "INFO:radiomics.featureextractor:Computing shape\n",
      "INFO:radiomics.featureextractor:Adding image type \"Original\" with custom settings: {}\n",
      "INFO:radiomics.featureextractor:Calculating features for original image\n",
      "INFO:radiomics.featureextractor:Computing firstorder\n",
      "INFO:radiomics.featureextractor:Computing glcm\n",
      "GLCM is symmetrical, therefore Sum Average = 2 * Joint Average, only 1 needs to be calculated\n",
      "WARNING:radiomics.glcm:GLCM is symmetrical, therefore Sum Average = 2 * Joint Average, only 1 needs to be calculated\n",
      "INFO:radiomics.featureextractor:Computing gldm\n",
      "INFO:radiomics.featureextractor:Computing glrlm\n",
      "INFO:radiomics.featureextractor:Computing glszm\n",
      "INFO:radiomics.featureextractor:Computing ngtdm\n",
      "INFO:radiomics.featureextractor:Calculating features with label: 1\n",
      "INFO:radiomics.featureextractor:Loading image and mask\n",
      "INFO:radiomics.featureextractor:Computing shape\n",
      "INFO:radiomics.featureextractor:Adding image type \"Original\" with custom settings: {}\n",
      "INFO:radiomics.featureextractor:Calculating features for original image\n",
      "INFO:radiomics.featureextractor:Computing firstorder\n",
      "INFO:radiomics.featureextractor:Computing glcm\n",
      "GLCM is symmetrical, therefore Sum Average = 2 * Joint Average, only 1 needs to be calculated\n",
      "WARNING:radiomics.glcm:GLCM is symmetrical, therefore Sum Average = 2 * Joint Average, only 1 needs to be calculated\n",
      "INFO:radiomics.featureextractor:Computing gldm\n",
      "INFO:radiomics.featureextractor:Computing glrlm\n",
      "INFO:radiomics.featureextractor:Computing glszm\n",
      "INFO:radiomics.featureextractor:Computing ngtdm\n",
      "INFO:radiomics.featureextractor:Calculating features with label: 1\n",
      "INFO:radiomics.featureextractor:Loading image and mask\n",
      "INFO:radiomics.featureextractor:Computing shape\n",
      "INFO:radiomics.featureextractor:Adding image type \"Original\" with custom settings: {}\n",
      "INFO:radiomics.featureextractor:Calculating features for original image\n",
      "INFO:radiomics.featureextractor:Computing firstorder\n",
      "INFO:radiomics.featureextractor:Computing glcm\n",
      "GLCM is symmetrical, therefore Sum Average = 2 * Joint Average, only 1 needs to be calculated\n",
      "WARNING:radiomics.glcm:GLCM is symmetrical, therefore Sum Average = 2 * Joint Average, only 1 needs to be calculated\n",
      "INFO:radiomics.featureextractor:Computing gldm\n",
      "INFO:radiomics.featureextractor:Computing glrlm\n",
      "INFO:radiomics.featureextractor:Computing glszm\n",
      "INFO:radiomics.featureextractor:Computing ngtdm\n",
      "INFO:radiomics.featureextractor:Calculating features with label: 1\n",
      "INFO:radiomics.featureextractor:Loading image and mask\n",
      "INFO:radiomics.featureextractor:Computing shape\n",
      "INFO:radiomics.featureextractor:Adding image type \"Original\" with custom settings: {}\n",
      "INFO:radiomics.featureextractor:Calculating features for original image\n",
      "INFO:radiomics.featureextractor:Computing firstorder\n",
      "INFO:radiomics.featureextractor:Computing glcm\n",
      "GLCM is symmetrical, therefore Sum Average = 2 * Joint Average, only 1 needs to be calculated\n",
      "WARNING:radiomics.glcm:GLCM is symmetrical, therefore Sum Average = 2 * Joint Average, only 1 needs to be calculated\n",
      "INFO:radiomics.featureextractor:Computing gldm\n",
      "INFO:radiomics.featureextractor:Computing glrlm\n",
      "INFO:radiomics.featureextractor:Computing glszm\n",
      "INFO:radiomics.featureextractor:Computing ngtdm\n",
      "INFO:radiomics.featureextractor:Calculating features with label: 1\n",
      "INFO:radiomics.featureextractor:Loading image and mask\n",
      "INFO:radiomics.featureextractor:Computing shape\n",
      "INFO:radiomics.featureextractor:Adding image type \"Original\" with custom settings: {}\n",
      "INFO:radiomics.featureextractor:Calculating features for original image\n",
      "INFO:radiomics.featureextractor:Computing firstorder\n",
      "INFO:radiomics.featureextractor:Computing glcm\n",
      "GLCM is symmetrical, therefore Sum Average = 2 * Joint Average, only 1 needs to be calculated\n",
      "WARNING:radiomics.glcm:GLCM is symmetrical, therefore Sum Average = 2 * Joint Average, only 1 needs to be calculated\n",
      "INFO:radiomics.featureextractor:Computing gldm\n",
      "INFO:radiomics.featureextractor:Computing glrlm\n",
      "INFO:radiomics.featureextractor:Computing glszm\n",
      "INFO:radiomics.featureextractor:Computing ngtdm\n",
      "INFO:radiomics.featureextractor:Calculating features with label: 1\n",
      "INFO:radiomics.featureextractor:Loading image and mask\n",
      "INFO:radiomics.featureextractor:Computing shape\n",
      "INFO:radiomics.featureextractor:Adding image type \"Original\" with custom settings: {}\n",
      "INFO:radiomics.featureextractor:Calculating features for original image\n",
      "INFO:radiomics.featureextractor:Computing firstorder\n",
      "INFO:radiomics.featureextractor:Computing glcm\n",
      "GLCM is symmetrical, therefore Sum Average = 2 * Joint Average, only 1 needs to be calculated\n",
      "WARNING:radiomics.glcm:GLCM is symmetrical, therefore Sum Average = 2 * Joint Average, only 1 needs to be calculated\n",
      "INFO:radiomics.featureextractor:Computing gldm\n",
      "INFO:radiomics.featureextractor:Computing glrlm\n",
      "INFO:radiomics.featureextractor:Computing glszm\n",
      "INFO:radiomics.featureextractor:Computing ngtdm\n",
      "INFO:radiomics.featureextractor:Calculating features with label: 1\n",
      "INFO:radiomics.featureextractor:Loading image and mask\n",
      "INFO:radiomics.featureextractor:Computing shape\n",
      "INFO:radiomics.featureextractor:Adding image type \"Original\" with custom settings: {}\n",
      "INFO:radiomics.featureextractor:Calculating features for original image\n",
      "INFO:radiomics.featureextractor:Computing firstorder\n",
      "INFO:radiomics.featureextractor:Computing glcm\n",
      "GLCM is symmetrical, therefore Sum Average = 2 * Joint Average, only 1 needs to be calculated\n",
      "WARNING:radiomics.glcm:GLCM is symmetrical, therefore Sum Average = 2 * Joint Average, only 1 needs to be calculated\n",
      "INFO:radiomics.featureextractor:Computing gldm\n",
      "INFO:radiomics.featureextractor:Computing glrlm\n",
      "INFO:radiomics.featureextractor:Computing glszm\n",
      "INFO:radiomics.featureextractor:Computing ngtdm\n",
      "INFO:radiomics.featureextractor:Calculating features with label: 1\n",
      "INFO:radiomics.featureextractor:Loading image and mask\n",
      "INFO:radiomics.featureextractor:Computing shape\n",
      "INFO:radiomics.featureextractor:Adding image type \"Original\" with custom settings: {}\n",
      "INFO:radiomics.featureextractor:Calculating features for original image\n",
      "INFO:radiomics.featureextractor:Computing firstorder\n",
      "INFO:radiomics.featureextractor:Computing glcm\n",
      "GLCM is symmetrical, therefore Sum Average = 2 * Joint Average, only 1 needs to be calculated\n",
      "WARNING:radiomics.glcm:GLCM is symmetrical, therefore Sum Average = 2 * Joint Average, only 1 needs to be calculated\n",
      "INFO:radiomics.featureextractor:Computing gldm\n",
      "INFO:radiomics.featureextractor:Computing glrlm\n",
      "INFO:radiomics.featureextractor:Computing glszm\n",
      "INFO:radiomics.featureextractor:Computing ngtdm\n",
      "INFO:radiomics.featureextractor:Calculating features with label: 1\n",
      "INFO:radiomics.featureextractor:Loading image and mask\n",
      "INFO:radiomics.featureextractor:Computing shape\n",
      "INFO:radiomics.featureextractor:Adding image type \"Original\" with custom settings: {}\n",
      "INFO:radiomics.featureextractor:Calculating features for original image\n",
      "INFO:radiomics.featureextractor:Computing firstorder\n",
      "INFO:radiomics.featureextractor:Computing glcm\n",
      "GLCM is symmetrical, therefore Sum Average = 2 * Joint Average, only 1 needs to be calculated\n",
      "WARNING:radiomics.glcm:GLCM is symmetrical, therefore Sum Average = 2 * Joint Average, only 1 needs to be calculated\n",
      "INFO:radiomics.featureextractor:Computing gldm\n",
      "INFO:radiomics.featureextractor:Computing glrlm\n",
      "INFO:radiomics.featureextractor:Computing glszm\n",
      "INFO:radiomics.featureextractor:Computing ngtdm\n",
      "INFO:radiomics.featureextractor:Calculating features with label: 1\n",
      "INFO:radiomics.featureextractor:Loading image and mask\n",
      "INFO:radiomics.featureextractor:Computing shape\n",
      "INFO:radiomics.featureextractor:Adding image type \"Original\" with custom settings: {}\n",
      "INFO:radiomics.featureextractor:Calculating features for original image\n",
      "INFO:radiomics.featureextractor:Computing firstorder\n",
      "INFO:radiomics.featureextractor:Computing glcm\n",
      "GLCM is symmetrical, therefore Sum Average = 2 * Joint Average, only 1 needs to be calculated\n",
      "WARNING:radiomics.glcm:GLCM is symmetrical, therefore Sum Average = 2 * Joint Average, only 1 needs to be calculated\n",
      "INFO:radiomics.featureextractor:Computing gldm\n",
      "INFO:radiomics.featureextractor:Computing glrlm\n",
      "INFO:radiomics.featureextractor:Computing glszm\n",
      "INFO:radiomics.featureextractor:Computing ngtdm\n",
      "INFO:radiomics.featureextractor:Calculating features with label: 1\n",
      "INFO:radiomics.featureextractor:Loading image and mask\n",
      "INFO:radiomics.featureextractor:Computing shape\n",
      "INFO:radiomics.featureextractor:Adding image type \"Original\" with custom settings: {}\n",
      "INFO:radiomics.featureextractor:Calculating features for original image\n",
      "INFO:radiomics.featureextractor:Computing firstorder\n",
      "INFO:radiomics.featureextractor:Computing glcm\n",
      "GLCM is symmetrical, therefore Sum Average = 2 * Joint Average, only 1 needs to be calculated\n",
      "WARNING:radiomics.glcm:GLCM is symmetrical, therefore Sum Average = 2 * Joint Average, only 1 needs to be calculated\n",
      "INFO:radiomics.featureextractor:Computing gldm\n",
      "INFO:radiomics.featureextractor:Computing glrlm\n",
      "INFO:radiomics.featureextractor:Computing glszm\n",
      "INFO:radiomics.featureextractor:Computing ngtdm\n",
      "INFO:radiomics.featureextractor:Calculating features with label: 1\n",
      "INFO:radiomics.featureextractor:Loading image and mask\n",
      "INFO:radiomics.featureextractor:Computing shape\n",
      "INFO:radiomics.featureextractor:Adding image type \"Original\" with custom settings: {}\n",
      "INFO:radiomics.featureextractor:Calculating features for original image\n",
      "INFO:radiomics.featureextractor:Computing firstorder\n",
      "INFO:radiomics.featureextractor:Computing glcm\n",
      "GLCM is symmetrical, therefore Sum Average = 2 * Joint Average, only 1 needs to be calculated\n",
      "WARNING:radiomics.glcm:GLCM is symmetrical, therefore Sum Average = 2 * Joint Average, only 1 needs to be calculated\n",
      "INFO:radiomics.featureextractor:Computing gldm\n",
      "INFO:radiomics.featureextractor:Computing glrlm\n",
      "INFO:radiomics.featureextractor:Computing glszm\n",
      "INFO:radiomics.featureextractor:Computing ngtdm\n",
      "INFO:radiomics.featureextractor:Calculating features with label: 1\n",
      "INFO:radiomics.featureextractor:Loading image and mask\n",
      "INFO:radiomics.featureextractor:Computing shape\n",
      "INFO:radiomics.featureextractor:Adding image type \"Original\" with custom settings: {}\n",
      "INFO:radiomics.featureextractor:Calculating features for original image\n",
      "INFO:radiomics.featureextractor:Computing firstorder\n",
      "INFO:radiomics.featureextractor:Computing glcm\n",
      "GLCM is symmetrical, therefore Sum Average = 2 * Joint Average, only 1 needs to be calculated\n",
      "WARNING:radiomics.glcm:GLCM is symmetrical, therefore Sum Average = 2 * Joint Average, only 1 needs to be calculated\n",
      "INFO:radiomics.featureextractor:Computing gldm\n",
      "INFO:radiomics.featureextractor:Computing glrlm\n",
      "INFO:radiomics.featureextractor:Computing glszm\n",
      "INFO:radiomics.featureextractor:Computing ngtdm\n",
      "INFO:radiomics.featureextractor:Calculating features with label: 1\n",
      "INFO:radiomics.featureextractor:Loading image and mask\n",
      "INFO:radiomics.featureextractor:Computing shape\n",
      "INFO:radiomics.featureextractor:Adding image type \"Original\" with custom settings: {}\n",
      "INFO:radiomics.featureextractor:Calculating features for original image\n",
      "INFO:radiomics.featureextractor:Computing firstorder\n",
      "INFO:radiomics.featureextractor:Computing glcm\n",
      "GLCM is symmetrical, therefore Sum Average = 2 * Joint Average, only 1 needs to be calculated\n",
      "WARNING:radiomics.glcm:GLCM is symmetrical, therefore Sum Average = 2 * Joint Average, only 1 needs to be calculated\n",
      "INFO:radiomics.featureextractor:Computing gldm\n",
      "INFO:radiomics.featureextractor:Computing glrlm\n",
      "INFO:radiomics.featureextractor:Computing glszm\n",
      "INFO:radiomics.featureextractor:Computing ngtdm\n",
      "INFO:radiomics.featureextractor:Calculating features with label: 1\n",
      "INFO:radiomics.featureextractor:Loading image and mask\n",
      "INFO:radiomics.featureextractor:Computing shape\n",
      "INFO:radiomics.featureextractor:Adding image type \"Original\" with custom settings: {}\n",
      "INFO:radiomics.featureextractor:Calculating features for original image\n",
      "INFO:radiomics.featureextractor:Computing firstorder\n",
      "INFO:radiomics.featureextractor:Computing glcm\n",
      "GLCM is symmetrical, therefore Sum Average = 2 * Joint Average, only 1 needs to be calculated\n",
      "WARNING:radiomics.glcm:GLCM is symmetrical, therefore Sum Average = 2 * Joint Average, only 1 needs to be calculated\n",
      "INFO:radiomics.featureextractor:Computing gldm\n",
      "INFO:radiomics.featureextractor:Computing glrlm\n",
      "INFO:radiomics.featureextractor:Computing glszm\n",
      "INFO:radiomics.featureextractor:Computing ngtdm\n",
      "INFO:radiomics.featureextractor:Calculating features with label: 1\n",
      "INFO:radiomics.featureextractor:Loading image and mask\n",
      "INFO:radiomics.featureextractor:Computing shape\n",
      "INFO:radiomics.featureextractor:Adding image type \"Original\" with custom settings: {}\n",
      "INFO:radiomics.featureextractor:Calculating features for original image\n",
      "INFO:radiomics.featureextractor:Computing firstorder\n",
      "INFO:radiomics.featureextractor:Computing glcm\n",
      "GLCM is symmetrical, therefore Sum Average = 2 * Joint Average, only 1 needs to be calculated\n",
      "WARNING:radiomics.glcm:GLCM is symmetrical, therefore Sum Average = 2 * Joint Average, only 1 needs to be calculated\n",
      "INFO:radiomics.featureextractor:Computing gldm\n",
      "INFO:radiomics.featureextractor:Computing glrlm\n",
      "INFO:radiomics.featureextractor:Computing glszm\n",
      "INFO:radiomics.featureextractor:Computing ngtdm\n",
      "INFO:radiomics.featureextractor:Calculating features with label: 1\n",
      "INFO:radiomics.featureextractor:Loading image and mask\n",
      "INFO:radiomics.featureextractor:Computing shape\n",
      "INFO:radiomics.featureextractor:Adding image type \"Original\" with custom settings: {}\n",
      "INFO:radiomics.featureextractor:Calculating features for original image\n",
      "INFO:radiomics.featureextractor:Computing firstorder\n",
      "INFO:radiomics.featureextractor:Computing glcm\n",
      "GLCM is symmetrical, therefore Sum Average = 2 * Joint Average, only 1 needs to be calculated\n",
      "WARNING:radiomics.glcm:GLCM is symmetrical, therefore Sum Average = 2 * Joint Average, only 1 needs to be calculated\n",
      "INFO:radiomics.featureextractor:Computing gldm\n",
      "INFO:radiomics.featureextractor:Computing glrlm\n",
      "INFO:radiomics.featureextractor:Computing glszm\n",
      "INFO:radiomics.featureextractor:Computing ngtdm\n",
      "INFO:radiomics.featureextractor:Calculating features with label: 1\n",
      "INFO:radiomics.featureextractor:Loading image and mask\n",
      "INFO:radiomics.featureextractor:Computing shape\n",
      "INFO:radiomics.featureextractor:Adding image type \"Original\" with custom settings: {}\n",
      "INFO:radiomics.featureextractor:Calculating features for original image\n",
      "INFO:radiomics.featureextractor:Computing firstorder\n",
      "INFO:radiomics.featureextractor:Computing glcm\n",
      "GLCM is symmetrical, therefore Sum Average = 2 * Joint Average, only 1 needs to be calculated\n",
      "WARNING:radiomics.glcm:GLCM is symmetrical, therefore Sum Average = 2 * Joint Average, only 1 needs to be calculated\n",
      "INFO:radiomics.featureextractor:Computing gldm\n",
      "INFO:radiomics.featureextractor:Computing glrlm\n",
      "INFO:radiomics.featureextractor:Computing glszm\n",
      "INFO:radiomics.featureextractor:Computing ngtdm\n",
      "INFO:radiomics.featureextractor:Calculating features with label: 1\n",
      "INFO:radiomics.featureextractor:Loading image and mask\n",
      "INFO:radiomics.featureextractor:Computing shape\n",
      "INFO:radiomics.featureextractor:Adding image type \"Original\" with custom settings: {}\n",
      "INFO:radiomics.featureextractor:Calculating features for original image\n",
      "INFO:radiomics.featureextractor:Computing firstorder\n",
      "INFO:radiomics.featureextractor:Computing glcm\n",
      "GLCM is symmetrical, therefore Sum Average = 2 * Joint Average, only 1 needs to be calculated\n",
      "WARNING:radiomics.glcm:GLCM is symmetrical, therefore Sum Average = 2 * Joint Average, only 1 needs to be calculated\n",
      "INFO:radiomics.featureextractor:Computing gldm\n",
      "INFO:radiomics.featureextractor:Computing glrlm\n",
      "INFO:radiomics.featureextractor:Computing glszm\n",
      "INFO:radiomics.featureextractor:Computing ngtdm\n",
      "INFO:radiomics.featureextractor:Calculating features with label: 1\n",
      "INFO:radiomics.featureextractor:Loading image and mask\n",
      "INFO:radiomics.featureextractor:Computing shape\n",
      "INFO:radiomics.featureextractor:Adding image type \"Original\" with custom settings: {}\n",
      "INFO:radiomics.featureextractor:Calculating features for original image\n",
      "INFO:radiomics.featureextractor:Computing firstorder\n",
      "INFO:radiomics.featureextractor:Computing glcm\n",
      "GLCM is symmetrical, therefore Sum Average = 2 * Joint Average, only 1 needs to be calculated\n",
      "WARNING:radiomics.glcm:GLCM is symmetrical, therefore Sum Average = 2 * Joint Average, only 1 needs to be calculated\n",
      "INFO:radiomics.featureextractor:Computing gldm\n",
      "INFO:radiomics.featureextractor:Computing glrlm\n",
      "INFO:radiomics.featureextractor:Computing glszm\n",
      "INFO:radiomics.featureextractor:Computing ngtdm\n",
      "INFO:radiomics.featureextractor:Calculating features with label: 1\n",
      "INFO:radiomics.featureextractor:Loading image and mask\n",
      "INFO:radiomics.featureextractor:Computing shape\n",
      "INFO:radiomics.featureextractor:Adding image type \"Original\" with custom settings: {}\n",
      "INFO:radiomics.featureextractor:Calculating features for original image\n",
      "INFO:radiomics.featureextractor:Computing firstorder\n",
      "INFO:radiomics.featureextractor:Computing glcm\n",
      "GLCM is symmetrical, therefore Sum Average = 2 * Joint Average, only 1 needs to be calculated\n",
      "WARNING:radiomics.glcm:GLCM is symmetrical, therefore Sum Average = 2 * Joint Average, only 1 needs to be calculated\n",
      "INFO:radiomics.featureextractor:Computing gldm\n",
      "INFO:radiomics.featureextractor:Computing glrlm\n",
      "INFO:radiomics.featureextractor:Computing glszm\n",
      "INFO:radiomics.featureextractor:Computing ngtdm\n",
      "INFO:radiomics.featureextractor:Calculating features with label: 1\n",
      "INFO:radiomics.featureextractor:Loading image and mask\n",
      "INFO:radiomics.featureextractor:Computing shape\n",
      "INFO:radiomics.featureextractor:Adding image type \"Original\" with custom settings: {}\n",
      "INFO:radiomics.featureextractor:Calculating features for original image\n",
      "INFO:radiomics.featureextractor:Computing firstorder\n",
      "INFO:radiomics.featureextractor:Computing glcm\n",
      "GLCM is symmetrical, therefore Sum Average = 2 * Joint Average, only 1 needs to be calculated\n",
      "WARNING:radiomics.glcm:GLCM is symmetrical, therefore Sum Average = 2 * Joint Average, only 1 needs to be calculated\n",
      "INFO:radiomics.featureextractor:Computing gldm\n",
      "INFO:radiomics.featureextractor:Computing glrlm\n",
      "INFO:radiomics.featureextractor:Computing glszm\n",
      "INFO:radiomics.featureextractor:Computing ngtdm\n",
      "INFO:radiomics.featureextractor:Calculating features with label: 1\n",
      "INFO:radiomics.featureextractor:Loading image and mask\n",
      "INFO:radiomics.featureextractor:Computing shape\n",
      "INFO:radiomics.featureextractor:Adding image type \"Original\" with custom settings: {}\n",
      "INFO:radiomics.featureextractor:Calculating features for original image\n",
      "INFO:radiomics.featureextractor:Computing firstorder\n",
      "INFO:radiomics.featureextractor:Computing glcm\n",
      "GLCM is symmetrical, therefore Sum Average = 2 * Joint Average, only 1 needs to be calculated\n",
      "WARNING:radiomics.glcm:GLCM is symmetrical, therefore Sum Average = 2 * Joint Average, only 1 needs to be calculated\n",
      "INFO:radiomics.featureextractor:Computing gldm\n",
      "INFO:radiomics.featureextractor:Computing glrlm\n",
      "INFO:radiomics.featureextractor:Computing glszm\n",
      "INFO:radiomics.featureextractor:Computing ngtdm\n",
      "INFO:radiomics.featureextractor:Calculating features with label: 1\n",
      "INFO:radiomics.featureextractor:Loading image and mask\n",
      "INFO:radiomics.featureextractor:Computing shape\n",
      "INFO:radiomics.featureextractor:Adding image type \"Original\" with custom settings: {}\n",
      "INFO:radiomics.featureextractor:Calculating features for original image\n",
      "INFO:radiomics.featureextractor:Computing firstorder\n",
      "INFO:radiomics.featureextractor:Computing glcm\n",
      "GLCM is symmetrical, therefore Sum Average = 2 * Joint Average, only 1 needs to be calculated\n",
      "WARNING:radiomics.glcm:GLCM is symmetrical, therefore Sum Average = 2 * Joint Average, only 1 needs to be calculated\n",
      "INFO:radiomics.featureextractor:Computing gldm\n",
      "INFO:radiomics.featureextractor:Computing glrlm\n",
      "INFO:radiomics.featureextractor:Computing glszm\n",
      "INFO:radiomics.featureextractor:Computing ngtdm\n",
      "INFO:radiomics.featureextractor:Calculating features with label: 1\n",
      "INFO:radiomics.featureextractor:Loading image and mask\n",
      "INFO:radiomics.featureextractor:Computing shape\n",
      "INFO:radiomics.featureextractor:Adding image type \"Original\" with custom settings: {}\n",
      "INFO:radiomics.featureextractor:Calculating features for original image\n",
      "INFO:radiomics.featureextractor:Computing firstorder\n",
      "INFO:radiomics.featureextractor:Computing glcm\n",
      "GLCM is symmetrical, therefore Sum Average = 2 * Joint Average, only 1 needs to be calculated\n",
      "WARNING:radiomics.glcm:GLCM is symmetrical, therefore Sum Average = 2 * Joint Average, only 1 needs to be calculated\n",
      "INFO:radiomics.featureextractor:Computing gldm\n",
      "INFO:radiomics.featureextractor:Computing glrlm\n",
      "INFO:radiomics.featureextractor:Computing glszm\n",
      "INFO:radiomics.featureextractor:Computing ngtdm\n",
      "INFO:radiomics.featureextractor:Calculating features with label: 1\n",
      "INFO:radiomics.featureextractor:Loading image and mask\n",
      "INFO:radiomics.featureextractor:Computing shape\n",
      "INFO:radiomics.featureextractor:Adding image type \"Original\" with custom settings: {}\n",
      "INFO:radiomics.featureextractor:Calculating features for original image\n",
      "INFO:radiomics.featureextractor:Computing firstorder\n",
      "INFO:radiomics.featureextractor:Computing glcm\n",
      "GLCM is symmetrical, therefore Sum Average = 2 * Joint Average, only 1 needs to be calculated\n",
      "WARNING:radiomics.glcm:GLCM is symmetrical, therefore Sum Average = 2 * Joint Average, only 1 needs to be calculated\n",
      "INFO:radiomics.featureextractor:Computing gldm\n",
      "INFO:radiomics.featureextractor:Computing glrlm\n",
      "INFO:radiomics.featureextractor:Computing glszm\n",
      "INFO:radiomics.featureextractor:Computing ngtdm\n",
      "INFO:radiomics.featureextractor:Calculating features with label: 1\n",
      "INFO:radiomics.featureextractor:Loading image and mask\n",
      "INFO:radiomics.featureextractor:Computing shape\n",
      "INFO:radiomics.featureextractor:Adding image type \"Original\" with custom settings: {}\n",
      "INFO:radiomics.featureextractor:Calculating features for original image\n",
      "INFO:radiomics.featureextractor:Computing firstorder\n",
      "INFO:radiomics.featureextractor:Computing glcm\n",
      "GLCM is symmetrical, therefore Sum Average = 2 * Joint Average, only 1 needs to be calculated\n",
      "WARNING:radiomics.glcm:GLCM is symmetrical, therefore Sum Average = 2 * Joint Average, only 1 needs to be calculated\n",
      "INFO:radiomics.featureextractor:Computing gldm\n",
      "INFO:radiomics.featureextractor:Computing glrlm\n",
      "INFO:radiomics.featureextractor:Computing glszm\n",
      "INFO:radiomics.featureextractor:Computing ngtdm\n",
      "INFO:radiomics.featureextractor:Calculating features with label: 1\n",
      "INFO:radiomics.featureextractor:Loading image and mask\n",
      "INFO:radiomics.featureextractor:Computing shape\n",
      "INFO:radiomics.featureextractor:Adding image type \"Original\" with custom settings: {}\n",
      "INFO:radiomics.featureextractor:Calculating features for original image\n",
      "INFO:radiomics.featureextractor:Computing firstorder\n",
      "INFO:radiomics.featureextractor:Computing glcm\n",
      "GLCM is symmetrical, therefore Sum Average = 2 * Joint Average, only 1 needs to be calculated\n",
      "WARNING:radiomics.glcm:GLCM is symmetrical, therefore Sum Average = 2 * Joint Average, only 1 needs to be calculated\n",
      "INFO:radiomics.featureextractor:Computing gldm\n",
      "INFO:radiomics.featureextractor:Computing glrlm\n",
      "INFO:radiomics.featureextractor:Computing glszm\n",
      "INFO:radiomics.featureextractor:Computing ngtdm\n",
      "INFO:radiomics.featureextractor:Calculating features with label: 1\n",
      "INFO:radiomics.featureextractor:Loading image and mask\n",
      "INFO:radiomics.featureextractor:Computing shape\n",
      "INFO:radiomics.featureextractor:Adding image type \"Original\" with custom settings: {}\n",
      "INFO:radiomics.featureextractor:Calculating features for original image\n",
      "INFO:radiomics.featureextractor:Computing firstorder\n",
      "INFO:radiomics.featureextractor:Computing glcm\n",
      "GLCM is symmetrical, therefore Sum Average = 2 * Joint Average, only 1 needs to be calculated\n",
      "WARNING:radiomics.glcm:GLCM is symmetrical, therefore Sum Average = 2 * Joint Average, only 1 needs to be calculated\n",
      "INFO:radiomics.featureextractor:Computing gldm\n",
      "INFO:radiomics.featureextractor:Computing glrlm\n",
      "INFO:radiomics.featureextractor:Computing glszm\n",
      "INFO:radiomics.featureextractor:Computing ngtdm\n",
      "INFO:radiomics.featureextractor:Calculating features with label: 1\n",
      "INFO:radiomics.featureextractor:Loading image and mask\n",
      "INFO:radiomics.featureextractor:Computing shape\n",
      "INFO:radiomics.featureextractor:Adding image type \"Original\" with custom settings: {}\n",
      "INFO:radiomics.featureextractor:Calculating features for original image\n",
      "INFO:radiomics.featureextractor:Computing firstorder\n",
      "INFO:radiomics.featureextractor:Computing glcm\n",
      "GLCM is symmetrical, therefore Sum Average = 2 * Joint Average, only 1 needs to be calculated\n",
      "WARNING:radiomics.glcm:GLCM is symmetrical, therefore Sum Average = 2 * Joint Average, only 1 needs to be calculated\n",
      "INFO:radiomics.featureextractor:Computing gldm\n",
      "INFO:radiomics.featureextractor:Computing glrlm\n",
      "INFO:radiomics.featureextractor:Computing glszm\n",
      "INFO:radiomics.featureextractor:Computing ngtdm\n",
      "INFO:radiomics.featureextractor:Calculating features with label: 1\n",
      "INFO:radiomics.featureextractor:Loading image and mask\n",
      "INFO:radiomics.featureextractor:Computing shape\n",
      "INFO:radiomics.featureextractor:Adding image type \"Original\" with custom settings: {}\n",
      "INFO:radiomics.featureextractor:Calculating features for original image\n",
      "INFO:radiomics.featureextractor:Computing firstorder\n",
      "INFO:radiomics.featureextractor:Computing glcm\n",
      "GLCM is symmetrical, therefore Sum Average = 2 * Joint Average, only 1 needs to be calculated\n",
      "WARNING:radiomics.glcm:GLCM is symmetrical, therefore Sum Average = 2 * Joint Average, only 1 needs to be calculated\n",
      "INFO:radiomics.featureextractor:Computing gldm\n",
      "INFO:radiomics.featureextractor:Computing glrlm\n",
      "INFO:radiomics.featureextractor:Computing glszm\n",
      "INFO:radiomics.featureextractor:Computing ngtdm\n",
      "INFO:radiomics.featureextractor:Calculating features with label: 1\n",
      "INFO:radiomics.featureextractor:Loading image and mask\n",
      "INFO:radiomics.featureextractor:Computing shape\n",
      "INFO:radiomics.featureextractor:Adding image type \"Original\" with custom settings: {}\n",
      "INFO:radiomics.featureextractor:Calculating features for original image\n",
      "INFO:radiomics.featureextractor:Computing firstorder\n",
      "INFO:radiomics.featureextractor:Computing glcm\n",
      "GLCM is symmetrical, therefore Sum Average = 2 * Joint Average, only 1 needs to be calculated\n",
      "WARNING:radiomics.glcm:GLCM is symmetrical, therefore Sum Average = 2 * Joint Average, only 1 needs to be calculated\n",
      "INFO:radiomics.featureextractor:Computing gldm\n",
      "INFO:radiomics.featureextractor:Computing glrlm\n",
      "INFO:radiomics.featureextractor:Computing glszm\n",
      "INFO:radiomics.featureextractor:Computing ngtdm\n",
      "INFO:radiomics.featureextractor:Calculating features with label: 1\n",
      "INFO:radiomics.featureextractor:Loading image and mask\n",
      "INFO:radiomics.featureextractor:Computing shape\n",
      "INFO:radiomics.featureextractor:Adding image type \"Original\" with custom settings: {}\n",
      "INFO:radiomics.featureextractor:Calculating features for original image\n",
      "INFO:radiomics.featureextractor:Computing firstorder\n",
      "INFO:radiomics.featureextractor:Computing glcm\n",
      "GLCM is symmetrical, therefore Sum Average = 2 * Joint Average, only 1 needs to be calculated\n",
      "WARNING:radiomics.glcm:GLCM is symmetrical, therefore Sum Average = 2 * Joint Average, only 1 needs to be calculated\n",
      "INFO:radiomics.featureextractor:Computing gldm\n",
      "INFO:radiomics.featureextractor:Computing glrlm\n",
      "INFO:radiomics.featureextractor:Computing glszm\n",
      "INFO:radiomics.featureextractor:Computing ngtdm\n",
      "INFO:radiomics.featureextractor:Calculating features with label: 1\n",
      "INFO:radiomics.featureextractor:Loading image and mask\n",
      "INFO:radiomics.featureextractor:Computing shape\n",
      "INFO:radiomics.featureextractor:Adding image type \"Original\" with custom settings: {}\n",
      "INFO:radiomics.featureextractor:Calculating features for original image\n",
      "INFO:radiomics.featureextractor:Computing firstorder\n",
      "INFO:radiomics.featureextractor:Computing glcm\n",
      "GLCM is symmetrical, therefore Sum Average = 2 * Joint Average, only 1 needs to be calculated\n",
      "WARNING:radiomics.glcm:GLCM is symmetrical, therefore Sum Average = 2 * Joint Average, only 1 needs to be calculated\n",
      "INFO:radiomics.featureextractor:Computing gldm\n",
      "INFO:radiomics.featureextractor:Computing glrlm\n",
      "INFO:radiomics.featureextractor:Computing glszm\n",
      "INFO:radiomics.featureextractor:Computing ngtdm\n",
      "INFO:radiomics.featureextractor:Calculating features with label: 1\n",
      "INFO:radiomics.featureextractor:Loading image and mask\n",
      "INFO:radiomics.featureextractor:Computing shape\n",
      "INFO:radiomics.featureextractor:Adding image type \"Original\" with custom settings: {}\n",
      "INFO:radiomics.featureextractor:Calculating features for original image\n",
      "INFO:radiomics.featureextractor:Computing firstorder\n",
      "INFO:radiomics.featureextractor:Computing glcm\n",
      "GLCM is symmetrical, therefore Sum Average = 2 * Joint Average, only 1 needs to be calculated\n",
      "WARNING:radiomics.glcm:GLCM is symmetrical, therefore Sum Average = 2 * Joint Average, only 1 needs to be calculated\n",
      "INFO:radiomics.featureextractor:Computing gldm\n",
      "INFO:radiomics.featureextractor:Computing glrlm\n",
      "INFO:radiomics.featureextractor:Computing glszm\n",
      "INFO:radiomics.featureextractor:Computing ngtdm\n",
      "INFO:radiomics.featureextractor:Calculating features with label: 1\n",
      "INFO:radiomics.featureextractor:Loading image and mask\n",
      "INFO:radiomics.featureextractor:Computing shape\n",
      "INFO:radiomics.featureextractor:Adding image type \"Original\" with custom settings: {}\n",
      "INFO:radiomics.featureextractor:Calculating features for original image\n",
      "INFO:radiomics.featureextractor:Computing firstorder\n",
      "INFO:radiomics.featureextractor:Computing glcm\n",
      "GLCM is symmetrical, therefore Sum Average = 2 * Joint Average, only 1 needs to be calculated\n",
      "WARNING:radiomics.glcm:GLCM is symmetrical, therefore Sum Average = 2 * Joint Average, only 1 needs to be calculated\n",
      "INFO:radiomics.featureextractor:Computing gldm\n",
      "INFO:radiomics.featureextractor:Computing glrlm\n",
      "INFO:radiomics.featureextractor:Computing glszm\n",
      "INFO:radiomics.featureextractor:Computing ngtdm\n",
      "INFO:radiomics.featureextractor:Calculating features with label: 1\n",
      "INFO:radiomics.featureextractor:Loading image and mask\n",
      "INFO:radiomics.featureextractor:Computing shape\n",
      "INFO:radiomics.featureextractor:Adding image type \"Original\" with custom settings: {}\n",
      "INFO:radiomics.featureextractor:Calculating features for original image\n",
      "INFO:radiomics.featureextractor:Computing firstorder\n",
      "INFO:radiomics.featureextractor:Computing glcm\n",
      "GLCM is symmetrical, therefore Sum Average = 2 * Joint Average, only 1 needs to be calculated\n",
      "WARNING:radiomics.glcm:GLCM is symmetrical, therefore Sum Average = 2 * Joint Average, only 1 needs to be calculated\n",
      "INFO:radiomics.featureextractor:Computing gldm\n",
      "INFO:radiomics.featureextractor:Computing glrlm\n",
      "INFO:radiomics.featureextractor:Computing glszm\n",
      "INFO:radiomics.featureextractor:Computing ngtdm\n",
      "INFO:radiomics.featureextractor:Calculating features with label: 1\n",
      "INFO:radiomics.featureextractor:Loading image and mask\n",
      "INFO:radiomics.featureextractor:Computing shape\n",
      "INFO:radiomics.featureextractor:Adding image type \"Original\" with custom settings: {}\n",
      "INFO:radiomics.featureextractor:Calculating features for original image\n",
      "INFO:radiomics.featureextractor:Computing firstorder\n",
      "INFO:radiomics.featureextractor:Computing glcm\n",
      "GLCM is symmetrical, therefore Sum Average = 2 * Joint Average, only 1 needs to be calculated\n",
      "WARNING:radiomics.glcm:GLCM is symmetrical, therefore Sum Average = 2 * Joint Average, only 1 needs to be calculated\n",
      "INFO:radiomics.featureextractor:Computing gldm\n",
      "INFO:radiomics.featureextractor:Computing glrlm\n",
      "INFO:radiomics.featureextractor:Computing glszm\n",
      "INFO:radiomics.featureextractor:Computing ngtdm\n"
     ]
    },
    {
     "ename": "KeyboardInterrupt",
     "evalue": "",
     "output_type": "error",
     "traceback": [
      "\u001B[1;31m---------------------------------------------------------------------------\u001B[0m",
      "\u001B[1;31mKeyboardInterrupt\u001B[0m                         Traceback (most recent call last)",
      "\u001B[1;32m~\\AppData\\Local\\Temp\\ipykernel_9644\\1882875897.py\u001B[0m in \u001B[0;36m<module>\u001B[1;34m\u001B[0m\n\u001B[0;32m     20\u001B[0m \u001B[1;33m\u001B[0m\u001B[0m\n\u001B[0;32m     21\u001B[0m     \u001B[1;31m# Clusterize the annotations for the scan and retrieve all annotations\u001B[0m\u001B[1;33m\u001B[0m\u001B[1;33m\u001B[0m\u001B[0m\n\u001B[1;32m---> 22\u001B[1;33m     \u001B[0mnods\u001B[0m \u001B[1;33m=\u001B[0m \u001B[0mscan\u001B[0m\u001B[1;33m.\u001B[0m\u001B[0mcluster_annotations\u001B[0m\u001B[1;33m(\u001B[0m\u001B[1;33m)\u001B[0m\u001B[1;33m\u001B[0m\u001B[1;33m\u001B[0m\u001B[0m\n\u001B[0m\u001B[0;32m     23\u001B[0m \u001B[1;33m\u001B[0m\u001B[0m\n\u001B[0;32m     24\u001B[0m     \u001B[1;31m# Iterating through all nodules of the patient\u001B[0m\u001B[1;33m\u001B[0m\u001B[1;33m\u001B[0m\u001B[0m\n",
      "\u001B[1;32m~\\anaconda3\\lib\\site-packages\\pylidc\\Scan.py\u001B[0m in \u001B[0;36mcluster_annotations\u001B[1;34m(self, metric, tol, factor, min_tol, return_distance_matrix, verbose)\u001B[0m\n\u001B[0;32m    437\u001B[0m         \u001B[1;32mfor\u001B[0m \u001B[0mi\u001B[0m \u001B[1;32min\u001B[0m \u001B[0mrange\u001B[0m\u001B[1;33m(\u001B[0m\u001B[0mN\u001B[0m\u001B[1;33m)\u001B[0m\u001B[1;33m:\u001B[0m\u001B[1;33m\u001B[0m\u001B[1;33m\u001B[0m\u001B[0m\n\u001B[0;32m    438\u001B[0m             \u001B[1;32mfor\u001B[0m \u001B[0mj\u001B[0m \u001B[1;32min\u001B[0m \u001B[0mrange\u001B[0m\u001B[1;33m(\u001B[0m\u001B[0mi\u001B[0m\u001B[1;33m+\u001B[0m\u001B[1;36m1\u001B[0m\u001B[1;33m,\u001B[0m\u001B[0mN\u001B[0m\u001B[1;33m)\u001B[0m\u001B[1;33m:\u001B[0m\u001B[1;33m\u001B[0m\u001B[1;33m\u001B[0m\u001B[0m\n\u001B[1;32m--> 439\u001B[1;33m                 D[i,j] = D[j,i] = metric(self.annotations[i],\n\u001B[0m\u001B[0;32m    440\u001B[0m                                          self.annotations[j])\n\u001B[0;32m    441\u001B[0m \u001B[1;33m\u001B[0m\u001B[0m\n",
      "\u001B[1;32m~\\anaconda3\\lib\\site-packages\\pylidc\\annotation_distance_metrics.py\u001B[0m in \u001B[0;36m<lambda>\u001B[1;34m(a, b)\u001B[0m\n\u001B[0;32m     25\u001B[0m         \u001B[1;32mraise\u001B[0m \u001B[0mValueError\u001B[0m\u001B[1;33m(\u001B[0m\u001B[1;34m'invalid `which` value.'\u001B[0m\u001B[1;33m)\u001B[0m\u001B[1;33m\u001B[0m\u001B[1;33m\u001B[0m\u001B[0m\n\u001B[0;32m     26\u001B[0m \u001B[1;33m\u001B[0m\u001B[0m\n\u001B[1;32m---> 27\u001B[1;33m \u001B[0mmetrics\u001B[0m\u001B[1;33m[\u001B[0m\u001B[1;34m'min'\u001B[0m\u001B[1;33m]\u001B[0m \u001B[1;33m=\u001B[0m \u001B[1;32mlambda\u001B[0m \u001B[0ma\u001B[0m\u001B[1;33m,\u001B[0m\u001B[0mb\u001B[0m\u001B[1;33m:\u001B[0m \u001B[0mpairdist\u001B[0m\u001B[1;33m(\u001B[0m\u001B[0ma\u001B[0m\u001B[1;33m,\u001B[0m\u001B[0mb\u001B[0m\u001B[1;33m,\u001B[0m\u001B[1;34m'min'\u001B[0m\u001B[1;33m)\u001B[0m\u001B[1;33m\u001B[0m\u001B[1;33m\u001B[0m\u001B[0m\n\u001B[0m\u001B[0;32m     28\u001B[0m \u001B[0mmetrics\u001B[0m\u001B[1;33m[\u001B[0m\u001B[1;34m'max'\u001B[0m\u001B[1;33m]\u001B[0m \u001B[1;33m=\u001B[0m \u001B[1;32mlambda\u001B[0m \u001B[0ma\u001B[0m\u001B[1;33m,\u001B[0m\u001B[0mb\u001B[0m\u001B[1;33m:\u001B[0m \u001B[0mpairdist\u001B[0m\u001B[1;33m(\u001B[0m\u001B[0ma\u001B[0m\u001B[1;33m,\u001B[0m\u001B[0mb\u001B[0m\u001B[1;33m,\u001B[0m\u001B[1;34m'max'\u001B[0m\u001B[1;33m)\u001B[0m\u001B[1;33m\u001B[0m\u001B[1;33m\u001B[0m\u001B[0m\n\u001B[0;32m     29\u001B[0m \u001B[0mmetrics\u001B[0m\u001B[1;33m[\u001B[0m\u001B[1;34m'avg'\u001B[0m\u001B[1;33m]\u001B[0m \u001B[1;33m=\u001B[0m \u001B[1;32mlambda\u001B[0m \u001B[0ma\u001B[0m\u001B[1;33m,\u001B[0m\u001B[0mb\u001B[0m\u001B[1;33m:\u001B[0m \u001B[0mpairdist\u001B[0m\u001B[1;33m(\u001B[0m\u001B[0ma\u001B[0m\u001B[1;33m,\u001B[0m\u001B[0mb\u001B[0m\u001B[1;33m,\u001B[0m\u001B[1;34m'avg'\u001B[0m\u001B[1;33m)\u001B[0m\u001B[1;33m\u001B[0m\u001B[1;33m\u001B[0m\u001B[0m\n",
      "\u001B[1;32m~\\anaconda3\\lib\\site-packages\\pylidc\\annotation_distance_metrics.py\u001B[0m in \u001B[0;36mpairdist\u001B[1;34m(ann1, ann2, which)\u001B[0m\n\u001B[0;32m     14\u001B[0m     \"\"\"\n\u001B[0;32m     15\u001B[0m     dists = cdist(ann1.contours_matrix,\n\u001B[1;32m---> 16\u001B[1;33m                   ann2.contours_matrix)\n\u001B[0m\u001B[0;32m     17\u001B[0m \u001B[1;33m\u001B[0m\u001B[0m\n\u001B[0;32m     18\u001B[0m     \u001B[1;32mif\u001B[0m   \u001B[0mwhich\u001B[0m \u001B[1;33m==\u001B[0m \u001B[1;34m'min'\u001B[0m\u001B[1;33m:\u001B[0m\u001B[1;33m\u001B[0m\u001B[1;33m\u001B[0m\u001B[0m\n",
      "\u001B[1;32m~\\anaconda3\\lib\\site-packages\\pylidc\\Annotation.py\u001B[0m in \u001B[0;36mcontours_matrix\u001B[1;34m(self)\u001B[0m\n\u001B[0;32m    967\u001B[0m         \"\"\"\n\u001B[0;32m    968\u001B[0m         return np.vstack([c.to_matrix(include_k=True)\n\u001B[1;32m--> 969\u001B[1;33m                                 for c in sorted(self.contours,\n\u001B[0m\u001B[0;32m    970\u001B[0m                                         key=lambda c: c.image_z_position)])\n\u001B[0;32m    971\u001B[0m \u001B[1;33m\u001B[0m\u001B[0m\n",
      "\u001B[1;32m~\\anaconda3\\lib\\site-packages\\sqlalchemy\\orm\\attributes.py\u001B[0m in \u001B[0;36m__get__\u001B[1;34m(self, instance, owner)\u001B[0m\n\u001B[0;32m    292\u001B[0m             \u001B[1;32mreturn\u001B[0m \u001B[0mdict_\u001B[0m\u001B[1;33m[\u001B[0m\u001B[0mself\u001B[0m\u001B[1;33m.\u001B[0m\u001B[0mkey\u001B[0m\u001B[1;33m]\u001B[0m\u001B[1;33m\u001B[0m\u001B[1;33m\u001B[0m\u001B[0m\n\u001B[0;32m    293\u001B[0m         \u001B[1;32melse\u001B[0m\u001B[1;33m:\u001B[0m\u001B[1;33m\u001B[0m\u001B[1;33m\u001B[0m\u001B[0m\n\u001B[1;32m--> 294\u001B[1;33m             \u001B[1;32mreturn\u001B[0m \u001B[0mself\u001B[0m\u001B[1;33m.\u001B[0m\u001B[0mimpl\u001B[0m\u001B[1;33m.\u001B[0m\u001B[0mget\u001B[0m\u001B[1;33m(\u001B[0m\u001B[0minstance_state\u001B[0m\u001B[1;33m(\u001B[0m\u001B[0minstance\u001B[0m\u001B[1;33m)\u001B[0m\u001B[1;33m,\u001B[0m \u001B[0mdict_\u001B[0m\u001B[1;33m)\u001B[0m\u001B[1;33m\u001B[0m\u001B[1;33m\u001B[0m\u001B[0m\n\u001B[0m\u001B[0;32m    295\u001B[0m \u001B[1;33m\u001B[0m\u001B[0m\n\u001B[0;32m    296\u001B[0m \u001B[1;33m\u001B[0m\u001B[0m\n",
      "\u001B[1;32m~\\anaconda3\\lib\\site-packages\\sqlalchemy\\orm\\attributes.py\u001B[0m in \u001B[0;36mget\u001B[1;34m(self, state, dict_, passive)\u001B[0m\n\u001B[0;32m    728\u001B[0m                     \u001B[0mvalue\u001B[0m \u001B[1;33m=\u001B[0m \u001B[0mcallable_\u001B[0m\u001B[1;33m(\u001B[0m\u001B[0mstate\u001B[0m\u001B[1;33m,\u001B[0m \u001B[0mpassive\u001B[0m\u001B[1;33m)\u001B[0m\u001B[1;33m\u001B[0m\u001B[1;33m\u001B[0m\u001B[0m\n\u001B[0;32m    729\u001B[0m                 \u001B[1;32melif\u001B[0m \u001B[0mself\u001B[0m\u001B[1;33m.\u001B[0m\u001B[0mcallable_\u001B[0m\u001B[1;33m:\u001B[0m\u001B[1;33m\u001B[0m\u001B[1;33m\u001B[0m\u001B[0m\n\u001B[1;32m--> 730\u001B[1;33m                     \u001B[0mvalue\u001B[0m \u001B[1;33m=\u001B[0m \u001B[0mself\u001B[0m\u001B[1;33m.\u001B[0m\u001B[0mcallable_\u001B[0m\u001B[1;33m(\u001B[0m\u001B[0mstate\u001B[0m\u001B[1;33m,\u001B[0m \u001B[0mpassive\u001B[0m\u001B[1;33m)\u001B[0m\u001B[1;33m\u001B[0m\u001B[1;33m\u001B[0m\u001B[0m\n\u001B[0m\u001B[0;32m    731\u001B[0m                 \u001B[1;32melse\u001B[0m\u001B[1;33m:\u001B[0m\u001B[1;33m\u001B[0m\u001B[1;33m\u001B[0m\u001B[0m\n\u001B[0;32m    732\u001B[0m                     \u001B[0mvalue\u001B[0m \u001B[1;33m=\u001B[0m \u001B[0mATTR_EMPTY\u001B[0m\u001B[1;33m\u001B[0m\u001B[1;33m\u001B[0m\u001B[0m\n",
      "\u001B[1;32m~\\anaconda3\\lib\\site-packages\\sqlalchemy\\orm\\strategies.py\u001B[0m in \u001B[0;36m_load_for_state\u001B[1;34m(self, state, passive)\u001B[0m\n\u001B[0;32m    757\u001B[0m                 \u001B[1;32mreturn\u001B[0m \u001B[0mattributes\u001B[0m\u001B[1;33m.\u001B[0m\u001B[0mPASSIVE_NO_RESULT\u001B[0m\u001B[1;33m\u001B[0m\u001B[1;33m\u001B[0m\u001B[0m\n\u001B[0;32m    758\u001B[0m \u001B[1;33m\u001B[0m\u001B[0m\n\u001B[1;32m--> 759\u001B[1;33m         return self._emit_lazyload(\n\u001B[0m\u001B[0;32m    760\u001B[0m             \u001B[0msession\u001B[0m\u001B[1;33m,\u001B[0m \u001B[0mstate\u001B[0m\u001B[1;33m,\u001B[0m \u001B[0mprimary_key_identity\u001B[0m\u001B[1;33m,\u001B[0m \u001B[0mpassive\u001B[0m\u001B[1;33m\u001B[0m\u001B[1;33m\u001B[0m\u001B[0m\n\u001B[0;32m    761\u001B[0m         )\n",
      "\u001B[1;32m<string>\u001B[0m in \u001B[0;36m<lambda>\u001B[1;34m(self, session, state, primary_key_identity, passive)\u001B[0m\n",
      "\u001B[1;32m~\\anaconda3\\lib\\site-packages\\sqlalchemy\\orm\\strategies.py\u001B[0m in \u001B[0;36m_emit_lazyload\u001B[1;34m(self, strategy_options, session, state, primary_key_identity, passive)\u001B[0m\n\u001B[0;32m    898\u001B[0m \u001B[1;33m\u001B[0m\u001B[0m\n\u001B[0;32m    899\u001B[0m         result = (\n\u001B[1;32m--> 900\u001B[1;33m             \u001B[0mq\u001B[0m\u001B[1;33m(\u001B[0m\u001B[0msession\u001B[0m\u001B[1;33m)\u001B[0m\u001B[1;33m\u001B[0m\u001B[1;33m\u001B[0m\u001B[0m\n\u001B[0m\u001B[0;32m    901\u001B[0m             \u001B[1;33m.\u001B[0m\u001B[0mwith_post_criteria\u001B[0m\u001B[1;33m(\u001B[0m\u001B[1;32mlambda\u001B[0m \u001B[0mq\u001B[0m\u001B[1;33m:\u001B[0m \u001B[0mq\u001B[0m\u001B[1;33m.\u001B[0m\u001B[0m_set_lazyload_from\u001B[0m\u001B[1;33m(\u001B[0m\u001B[0mstate\u001B[0m\u001B[1;33m)\u001B[0m\u001B[1;33m)\u001B[0m\u001B[1;33m\u001B[0m\u001B[1;33m\u001B[0m\u001B[0m\n\u001B[0;32m    902\u001B[0m             \u001B[1;33m.\u001B[0m\u001B[0mwith_post_criteria\u001B[0m\u001B[1;33m(\u001B[0m\u001B[0mset_default_params\u001B[0m\u001B[1;33m)\u001B[0m\u001B[1;33m\u001B[0m\u001B[1;33m\u001B[0m\u001B[0m\n",
      "\u001B[1;32m~\\anaconda3\\lib\\site-packages\\sqlalchemy\\ext\\baked.py\u001B[0m in \u001B[0;36mall\u001B[1;34m(self)\u001B[0m\n\u001B[0;32m    542\u001B[0m \u001B[1;33m\u001B[0m\u001B[0m\n\u001B[0;32m    543\u001B[0m         \"\"\"\n\u001B[1;32m--> 544\u001B[1;33m         \u001B[1;32mreturn\u001B[0m \u001B[0mlist\u001B[0m\u001B[1;33m(\u001B[0m\u001B[0mself\u001B[0m\u001B[1;33m)\u001B[0m\u001B[1;33m\u001B[0m\u001B[1;33m\u001B[0m\u001B[0m\n\u001B[0m\u001B[0;32m    545\u001B[0m \u001B[1;33m\u001B[0m\u001B[0m\n\u001B[0;32m    546\u001B[0m     \u001B[1;32mdef\u001B[0m \u001B[0mget\u001B[0m\u001B[1;33m(\u001B[0m\u001B[0mself\u001B[0m\u001B[1;33m,\u001B[0m \u001B[0mident\u001B[0m\u001B[1;33m)\u001B[0m\u001B[1;33m:\u001B[0m\u001B[1;33m\u001B[0m\u001B[1;33m\u001B[0m\u001B[0m\n",
      "\u001B[1;32m~\\anaconda3\\lib\\site-packages\\sqlalchemy\\orm\\loading.py\u001B[0m in \u001B[0;36minstances\u001B[1;34m(query, cursor, context)\u001B[0m\n\u001B[0;32m     74\u001B[0m                     \u001B[1;32mbreak\u001B[0m\u001B[1;33m\u001B[0m\u001B[1;33m\u001B[0m\u001B[0m\n\u001B[0;32m     75\u001B[0m             \u001B[1;32melse\u001B[0m\u001B[1;33m:\u001B[0m\u001B[1;33m\u001B[0m\u001B[1;33m\u001B[0m\u001B[0m\n\u001B[1;32m---> 76\u001B[1;33m                 \u001B[0mfetch\u001B[0m \u001B[1;33m=\u001B[0m \u001B[0mcursor\u001B[0m\u001B[1;33m.\u001B[0m\u001B[0mfetchall\u001B[0m\u001B[1;33m(\u001B[0m\u001B[1;33m)\u001B[0m\u001B[1;33m\u001B[0m\u001B[1;33m\u001B[0m\u001B[0m\n\u001B[0m\u001B[0;32m     77\u001B[0m \u001B[1;33m\u001B[0m\u001B[0m\n\u001B[0;32m     78\u001B[0m             \u001B[1;32mif\u001B[0m \u001B[0msingle_entity\u001B[0m\u001B[1;33m:\u001B[0m\u001B[1;33m\u001B[0m\u001B[1;33m\u001B[0m\u001B[0m\n",
      "\u001B[1;32m~\\anaconda3\\lib\\site-packages\\sqlalchemy\\engine\\result.py\u001B[0m in \u001B[0;36mfetchall\u001B[1;34m(self)\u001B[0m\n\u001B[0;32m   1286\u001B[0m             \u001B[1;32mreturn\u001B[0m \u001B[0ml\u001B[0m\u001B[1;33m\u001B[0m\u001B[1;33m\u001B[0m\u001B[0m\n\u001B[0;32m   1287\u001B[0m         \u001B[1;32mexcept\u001B[0m \u001B[0mBaseException\u001B[0m \u001B[1;32mas\u001B[0m \u001B[0me\u001B[0m\u001B[1;33m:\u001B[0m\u001B[1;33m\u001B[0m\u001B[1;33m\u001B[0m\u001B[0m\n\u001B[1;32m-> 1288\u001B[1;33m             self.connection._handle_dbapi_exception(\n\u001B[0m\u001B[0;32m   1289\u001B[0m                 \u001B[0me\u001B[0m\u001B[1;33m,\u001B[0m \u001B[1;32mNone\u001B[0m\u001B[1;33m,\u001B[0m \u001B[1;32mNone\u001B[0m\u001B[1;33m,\u001B[0m \u001B[0mself\u001B[0m\u001B[1;33m.\u001B[0m\u001B[0mcursor\u001B[0m\u001B[1;33m,\u001B[0m \u001B[0mself\u001B[0m\u001B[1;33m.\u001B[0m\u001B[0mcontext\u001B[0m\u001B[1;33m\u001B[0m\u001B[1;33m\u001B[0m\u001B[0m\n\u001B[0;32m   1290\u001B[0m             )\n",
      "\u001B[1;32m~\\anaconda3\\lib\\site-packages\\sqlalchemy\\engine\\base.py\u001B[0m in \u001B[0;36m_handle_dbapi_exception\u001B[1;34m(self, e, statement, parameters, cursor, context)\u001B[0m\n\u001B[0;32m   1512\u001B[0m                 )\n\u001B[0;32m   1513\u001B[0m             \u001B[1;32melse\u001B[0m\u001B[1;33m:\u001B[0m\u001B[1;33m\u001B[0m\u001B[1;33m\u001B[0m\u001B[0m\n\u001B[1;32m-> 1514\u001B[1;33m                 \u001B[0mutil\u001B[0m\u001B[1;33m.\u001B[0m\u001B[0mraise_\u001B[0m\u001B[1;33m(\u001B[0m\u001B[0mexc_info\u001B[0m\u001B[1;33m[\u001B[0m\u001B[1;36m1\u001B[0m\u001B[1;33m]\u001B[0m\u001B[1;33m,\u001B[0m \u001B[0mwith_traceback\u001B[0m\u001B[1;33m=\u001B[0m\u001B[0mexc_info\u001B[0m\u001B[1;33m[\u001B[0m\u001B[1;36m2\u001B[0m\u001B[1;33m]\u001B[0m\u001B[1;33m)\u001B[0m\u001B[1;33m\u001B[0m\u001B[1;33m\u001B[0m\u001B[0m\n\u001B[0m\u001B[0;32m   1515\u001B[0m \u001B[1;33m\u001B[0m\u001B[0m\n\u001B[0;32m   1516\u001B[0m         \u001B[1;32mfinally\u001B[0m\u001B[1;33m:\u001B[0m\u001B[1;33m\u001B[0m\u001B[1;33m\u001B[0m\u001B[0m\n",
      "\u001B[1;32m~\\anaconda3\\lib\\site-packages\\sqlalchemy\\util\\compat.py\u001B[0m in \u001B[0;36mraise_\u001B[1;34m(***failed resolving arguments***)\u001B[0m\n\u001B[0;32m    180\u001B[0m \u001B[1;33m\u001B[0m\u001B[0m\n\u001B[0;32m    181\u001B[0m         \u001B[1;32mtry\u001B[0m\u001B[1;33m:\u001B[0m\u001B[1;33m\u001B[0m\u001B[1;33m\u001B[0m\u001B[0m\n\u001B[1;32m--> 182\u001B[1;33m             \u001B[1;32mraise\u001B[0m \u001B[0mexception\u001B[0m\u001B[1;33m\u001B[0m\u001B[1;33m\u001B[0m\u001B[0m\n\u001B[0m\u001B[0;32m    183\u001B[0m         \u001B[1;32mfinally\u001B[0m\u001B[1;33m:\u001B[0m\u001B[1;33m\u001B[0m\u001B[1;33m\u001B[0m\u001B[0m\n\u001B[0;32m    184\u001B[0m             \u001B[1;31m# credit to\u001B[0m\u001B[1;33m\u001B[0m\u001B[1;33m\u001B[0m\u001B[0m\n",
      "\u001B[1;32m~\\anaconda3\\lib\\site-packages\\sqlalchemy\\engine\\result.py\u001B[0m in \u001B[0;36mfetchall\u001B[1;34m(self)\u001B[0m\n\u001B[0;32m   1282\u001B[0m \u001B[1;33m\u001B[0m\u001B[0m\n\u001B[0;32m   1283\u001B[0m         \u001B[1;32mtry\u001B[0m\u001B[1;33m:\u001B[0m\u001B[1;33m\u001B[0m\u001B[1;33m\u001B[0m\u001B[0m\n\u001B[1;32m-> 1284\u001B[1;33m             \u001B[0ml\u001B[0m \u001B[1;33m=\u001B[0m \u001B[0mself\u001B[0m\u001B[1;33m.\u001B[0m\u001B[0mprocess_rows\u001B[0m\u001B[1;33m(\u001B[0m\u001B[0mself\u001B[0m\u001B[1;33m.\u001B[0m\u001B[0m_fetchall_impl\u001B[0m\u001B[1;33m(\u001B[0m\u001B[1;33m)\u001B[0m\u001B[1;33m)\u001B[0m\u001B[1;33m\u001B[0m\u001B[1;33m\u001B[0m\u001B[0m\n\u001B[0m\u001B[0;32m   1285\u001B[0m             \u001B[0mself\u001B[0m\u001B[1;33m.\u001B[0m\u001B[0m_soft_close\u001B[0m\u001B[1;33m(\u001B[0m\u001B[1;33m)\u001B[0m\u001B[1;33m\u001B[0m\u001B[1;33m\u001B[0m\u001B[0m\n\u001B[0;32m   1286\u001B[0m             \u001B[1;32mreturn\u001B[0m \u001B[0ml\u001B[0m\u001B[1;33m\u001B[0m\u001B[1;33m\u001B[0m\u001B[0m\n",
      "\u001B[1;32m~\\anaconda3\\lib\\site-packages\\sqlalchemy\\engine\\result.py\u001B[0m in \u001B[0;36m_fetchall_impl\u001B[1;34m(self)\u001B[0m\n\u001B[0;32m   1228\u001B[0m     \u001B[1;32mdef\u001B[0m \u001B[0m_fetchall_impl\u001B[0m\u001B[1;33m(\u001B[0m\u001B[0mself\u001B[0m\u001B[1;33m)\u001B[0m\u001B[1;33m:\u001B[0m\u001B[1;33m\u001B[0m\u001B[1;33m\u001B[0m\u001B[0m\n\u001B[0;32m   1229\u001B[0m         \u001B[1;32mtry\u001B[0m\u001B[1;33m:\u001B[0m\u001B[1;33m\u001B[0m\u001B[1;33m\u001B[0m\u001B[0m\n\u001B[1;32m-> 1230\u001B[1;33m             \u001B[1;32mreturn\u001B[0m \u001B[0mself\u001B[0m\u001B[1;33m.\u001B[0m\u001B[0mcursor\u001B[0m\u001B[1;33m.\u001B[0m\u001B[0mfetchall\u001B[0m\u001B[1;33m(\u001B[0m\u001B[1;33m)\u001B[0m\u001B[1;33m\u001B[0m\u001B[1;33m\u001B[0m\u001B[0m\n\u001B[0m\u001B[0;32m   1231\u001B[0m         \u001B[1;32mexcept\u001B[0m \u001B[0mAttributeError\u001B[0m \u001B[1;32mas\u001B[0m \u001B[0merr\u001B[0m\u001B[1;33m:\u001B[0m\u001B[1;33m\u001B[0m\u001B[1;33m\u001B[0m\u001B[0m\n\u001B[0;32m   1232\u001B[0m             \u001B[1;32mreturn\u001B[0m \u001B[0mself\u001B[0m\u001B[1;33m.\u001B[0m\u001B[0m_non_result\u001B[0m\u001B[1;33m(\u001B[0m\u001B[1;33m[\u001B[0m\u001B[1;33m]\u001B[0m\u001B[1;33m,\u001B[0m \u001B[0merr\u001B[0m\u001B[1;33m)\u001B[0m\u001B[1;33m\u001B[0m\u001B[1;33m\u001B[0m\u001B[0m\n",
      "\u001B[1;31mKeyboardInterrupt\u001B[0m: "
     ]
    }
   ],
   "source": [
    "%%capture\n",
    "# Initialize the feature extractor\n",
    "extractor = featureextractor.RadiomicsFeatureExtractor()\n",
    "\n",
    "# Get the list of additional features from pl.annotation_feature_names\n",
    "additional_features = pl.annotation_feature_names\n",
    "\n",
    "# Query the LIDC-IDRI dataset for scans with annotations\n",
    "scans_with_annotations = pl.query(pl.Scan).filter(pl.Scan.annotations.any()).all()\n",
    "\n",
    "# Lists to store the extracted features and patient IDs\n",
    "features_list = []\n",
    "\n",
    "# Variable to create unique IDs for the nodules\n",
    "nodule_id_counter = 1\n",
    "\n",
    "# Iterating through all scans with annotations\n",
    "for scan in scans_with_annotations:\n",
    "    # Get the patient ID\n",
    "    patient_id = scan.patient_id\n",
    "\n",
    "    # Clusterize the annotations for the scan and retrieve all annotations\n",
    "    nods = scan.cluster_annotations()\n",
    "\n",
    "    # Iterating through all nodules of the patient\n",
    "    for anns in nods:\n",
    "        # Check if the current nodule has annotations\n",
    "        if anns:\n",
    "            # Convert consensus annotations into a mask\n",
    "            cmask, _, _ = pl.utils.consensus(anns, clevel=0.5, pad=[(20, 20), (20, 20), (0, 0)])\n",
    "\n",
    "            # Convert the pixel array to a SimpleITK image\n",
    "            image = sitk.GetImageFromArray(cmask.astype(float))\n",
    "\n",
    "            # Extract radiomic features using PyRadiomics\n",
    "            features = extractor.execute(image, image, label=1)  # Use label 1 for the nodule\n",
    "\n",
    "            # Add the patient ID to the features\n",
    "            features['Patient_ID'] = patient_id\n",
    "\n",
    "            # Add a unique ID for the nodule\n",
    "            features['Nodule_ID'] = f'Nodule_{nodule_id_counter}'\n",
    "            nodule_id_counter += 1\n",
    "\n",
    "            # Add the additional features to the features dictionary\n",
    "            for feature_name in additional_features:\n",
    "                # Access the feature values from the annotation\n",
    "                if hasattr(anns[0], feature_name):\n",
    "                    features[feature_name] = getattr(anns[0], feature_name)\n",
    "                else:\n",
    "                    # Handle cases where the feature is not available\n",
    "                    features[feature_name] = None\n",
    "\n",
    "            # Add the features to the list\n",
    "            features_list.append(features) \n",
    "\n",
    "# Create a DataFrame to store the features\n",
    "features_df = pd.DataFrame(features_list)\n",
    "\n",
    "# Save the features to a CSV file\n",
    "features_df.to_csv('radiomic_features_lidc_all_with_additional.csv', index=False)\n"
   ]
  },
  {
   "cell_type": "markdown",
   "source": [
    "## Data Clean-up"
   ],
   "metadata": {
    "collapsed": false
   },
   "id": "23eea0d1c2b7cad1"
  },
  {
   "cell_type": "code",
   "execution_count": 4,
   "id": "f51d0300",
   "metadata": {
    "ExecuteTime": {
     "end_time": "2023-10-30T16:28:05.889107100Z",
     "start_time": "2023-10-30T16:28:05.664100800Z"
    }
   },
   "outputs": [
    {
     "data": {
      "text/plain": "     diagnostics_Versions_PyRadiomics diagnostics_Versions_Numpy  \\\n0                              v3.1.0                     1.23.5   \n1                              v3.1.0                     1.23.5   \n2                              v3.1.0                     1.23.5   \n3                              v3.1.0                     1.23.5   \n4                              v3.1.0                     1.23.5   \n...                               ...                        ...   \n2646                           v3.1.0                     1.23.5   \n2647                           v3.1.0                     1.23.5   \n2648                           v3.1.0                     1.23.5   \n2649                           v3.1.0                     1.23.5   \n2650                           v3.1.0                     1.23.5   \n\n     diagnostics_Versions_SimpleITK diagnostics_Versions_PyWavelet  \\\n0                             2.3.0                          1.3.0   \n1                             2.3.0                          1.3.0   \n2                             2.3.0                          1.3.0   \n3                             2.3.0                          1.3.0   \n4                             2.3.0                          1.3.0   \n...                             ...                            ...   \n2646                          2.3.0                          1.3.0   \n2647                          2.3.0                          1.3.0   \n2648                          2.3.0                          1.3.0   \n2649                          2.3.0                          1.3.0   \n2650                          2.3.0                          1.3.0   \n\n     diagnostics_Versions_Python  \\\n0                         3.9.13   \n1                         3.9.13   \n2                         3.9.13   \n3                         3.9.13   \n4                         3.9.13   \n...                          ...   \n2646                      3.9.13   \n2647                      3.9.13   \n2648                      3.9.13   \n2649                      3.9.13   \n2650                      3.9.13   \n\n                     diagnostics_Configuration_Settings  \\\n0     {'minimumROIDimensions': 2, 'minimumROISize': ...   \n1     {'minimumROIDimensions': 2, 'minimumROISize': ...   \n2     {'minimumROIDimensions': 2, 'minimumROISize': ...   \n3     {'minimumROIDimensions': 2, 'minimumROISize': ...   \n4     {'minimumROIDimensions': 2, 'minimumROISize': ...   \n...                                                 ...   \n2646  {'minimumROIDimensions': 2, 'minimumROISize': ...   \n2647  {'minimumROIDimensions': 2, 'minimumROISize': ...   \n2648  {'minimumROIDimensions': 2, 'minimumROISize': ...   \n2649  {'minimumROIDimensions': 2, 'minimumROISize': ...   \n2650  {'minimumROIDimensions': 2, 'minimumROISize': ...   \n\n     diagnostics_Configuration_EnabledImageTypes  \\\n0                               {'Original': {}}   \n1                               {'Original': {}}   \n2                               {'Original': {}}   \n3                               {'Original': {}}   \n4                               {'Original': {}}   \n...                                          ...   \n2646                            {'Original': {}}   \n2647                            {'Original': {}}   \n2648                            {'Original': {}}   \n2649                            {'Original': {}}   \n2650                            {'Original': {}}   \n\n               diagnostics_Image-original_Hash  \\\n0     966db6c8d814983bbfe7125907b2ae5008c7994e   \n1     d750f93365c734f6f1972e806b046bb1a203f47f   \n2     58d9ee5073ad7215556c1e295a67e9204a623b2d   \n3     312913e3e22bc6f2e6cffc8abd1120da5fa413fd   \n4     08706c40effcb9f7489dc9ce0139a265b8dc6048   \n...                                        ...   \n2646  db18dcbfdf1ebd1c1390db9dd1fbfd85cce4724b   \n2647  fe63df501e056c7f875ab771151194481c70a0b1   \n2648  e25d0da08cbc45ea3587c9426cc102940176a4de   \n2649  5888efc13966913742433819826d00f4d79f0c24   \n2650  13269d945ba36fb2fbefd307f1fa513918911e5c   \n\n     diagnostics_Image-original_Dimensionality  \\\n0                                           3D   \n1                                           3D   \n2                                           3D   \n3                                           3D   \n4                                           3D   \n...                                        ...   \n2646                                        3D   \n2647                                        3D   \n2648                                        3D   \n2649                                        3D   \n2650                                        3D   \n\n     diagnostics_Image-original_Spacing  ...    Nodule_ID  subtlety  \\\n0                       (1.0, 1.0, 1.0)  ...     Nodule_1         4   \n1                       (1.0, 1.0, 1.0)  ...     Nodule_2         5   \n2                       (1.0, 1.0, 1.0)  ...     Nodule_3         4   \n3                       (1.0, 1.0, 1.0)  ...     Nodule_4         5   \n4                       (1.0, 1.0, 1.0)  ...     Nodule_5         3   \n...                                 ...  ...          ...       ...   \n2646                    (1.0, 1.0, 1.0)  ...  Nodule_2647         5   \n2647                    (1.0, 1.0, 1.0)  ...  Nodule_2648         1   \n2648                    (1.0, 1.0, 1.0)  ...  Nodule_2649         2   \n2649                    (1.0, 1.0, 1.0)  ...  Nodule_2650         5   \n2650                    (1.0, 1.0, 1.0)  ...  Nodule_2651         5   \n\n      internalStructure  calcification sphericity margin lobulation  \\\n0                     1              6          4      4          1   \n1                     1              6          3      4          1   \n2                     1              5          5      5          1   \n3                     1              4          3      5          2   \n4                     1              6          5      5          5   \n...                 ...            ...        ...    ...        ...   \n2646                  1              6          4      4          2   \n2647                  1              6          4      1          1   \n2648                  1              6          4      3          1   \n2649                  1              6          4      5          1   \n2650                  1              2          5      5          4   \n\n     spiculation  texture  malignancy  \n0              2        5           3  \n1              1        5           3  \n2              1        5           1  \n3              3        5           4  \n4              5        5           5  \n...          ...      ...         ...  \n2646           2        5           4  \n2647           1        1           4  \n2648           1        5           3  \n2649           1        5           2  \n2650           5        5           2  \n\n[2651 rows x 140 columns]",
      "text/html": "<div>\n<style scoped>\n    .dataframe tbody tr th:only-of-type {\n        vertical-align: middle;\n    }\n\n    .dataframe tbody tr th {\n        vertical-align: top;\n    }\n\n    .dataframe thead th {\n        text-align: right;\n    }\n</style>\n<table border=\"1\" class=\"dataframe\">\n  <thead>\n    <tr style=\"text-align: right;\">\n      <th></th>\n      <th>diagnostics_Versions_PyRadiomics</th>\n      <th>diagnostics_Versions_Numpy</th>\n      <th>diagnostics_Versions_SimpleITK</th>\n      <th>diagnostics_Versions_PyWavelet</th>\n      <th>diagnostics_Versions_Python</th>\n      <th>diagnostics_Configuration_Settings</th>\n      <th>diagnostics_Configuration_EnabledImageTypes</th>\n      <th>diagnostics_Image-original_Hash</th>\n      <th>diagnostics_Image-original_Dimensionality</th>\n      <th>diagnostics_Image-original_Spacing</th>\n      <th>...</th>\n      <th>Nodule_ID</th>\n      <th>subtlety</th>\n      <th>internalStructure</th>\n      <th>calcification</th>\n      <th>sphericity</th>\n      <th>margin</th>\n      <th>lobulation</th>\n      <th>spiculation</th>\n      <th>texture</th>\n      <th>malignancy</th>\n    </tr>\n  </thead>\n  <tbody>\n    <tr>\n      <th>0</th>\n      <td>v3.1.0</td>\n      <td>1.23.5</td>\n      <td>2.3.0</td>\n      <td>1.3.0</td>\n      <td>3.9.13</td>\n      <td>{'minimumROIDimensions': 2, 'minimumROISize': ...</td>\n      <td>{'Original': {}}</td>\n      <td>966db6c8d814983bbfe7125907b2ae5008c7994e</td>\n      <td>3D</td>\n      <td>(1.0, 1.0, 1.0)</td>\n      <td>...</td>\n      <td>Nodule_1</td>\n      <td>4</td>\n      <td>1</td>\n      <td>6</td>\n      <td>4</td>\n      <td>4</td>\n      <td>1</td>\n      <td>2</td>\n      <td>5</td>\n      <td>3</td>\n    </tr>\n    <tr>\n      <th>1</th>\n      <td>v3.1.0</td>\n      <td>1.23.5</td>\n      <td>2.3.0</td>\n      <td>1.3.0</td>\n      <td>3.9.13</td>\n      <td>{'minimumROIDimensions': 2, 'minimumROISize': ...</td>\n      <td>{'Original': {}}</td>\n      <td>d750f93365c734f6f1972e806b046bb1a203f47f</td>\n      <td>3D</td>\n      <td>(1.0, 1.0, 1.0)</td>\n      <td>...</td>\n      <td>Nodule_2</td>\n      <td>5</td>\n      <td>1</td>\n      <td>6</td>\n      <td>3</td>\n      <td>4</td>\n      <td>1</td>\n      <td>1</td>\n      <td>5</td>\n      <td>3</td>\n    </tr>\n    <tr>\n      <th>2</th>\n      <td>v3.1.0</td>\n      <td>1.23.5</td>\n      <td>2.3.0</td>\n      <td>1.3.0</td>\n      <td>3.9.13</td>\n      <td>{'minimumROIDimensions': 2, 'minimumROISize': ...</td>\n      <td>{'Original': {}}</td>\n      <td>58d9ee5073ad7215556c1e295a67e9204a623b2d</td>\n      <td>3D</td>\n      <td>(1.0, 1.0, 1.0)</td>\n      <td>...</td>\n      <td>Nodule_3</td>\n      <td>4</td>\n      <td>1</td>\n      <td>5</td>\n      <td>5</td>\n      <td>5</td>\n      <td>1</td>\n      <td>1</td>\n      <td>5</td>\n      <td>1</td>\n    </tr>\n    <tr>\n      <th>3</th>\n      <td>v3.1.0</td>\n      <td>1.23.5</td>\n      <td>2.3.0</td>\n      <td>1.3.0</td>\n      <td>3.9.13</td>\n      <td>{'minimumROIDimensions': 2, 'minimumROISize': ...</td>\n      <td>{'Original': {}}</td>\n      <td>312913e3e22bc6f2e6cffc8abd1120da5fa413fd</td>\n      <td>3D</td>\n      <td>(1.0, 1.0, 1.0)</td>\n      <td>...</td>\n      <td>Nodule_4</td>\n      <td>5</td>\n      <td>1</td>\n      <td>4</td>\n      <td>3</td>\n      <td>5</td>\n      <td>2</td>\n      <td>3</td>\n      <td>5</td>\n      <td>4</td>\n    </tr>\n    <tr>\n      <th>4</th>\n      <td>v3.1.0</td>\n      <td>1.23.5</td>\n      <td>2.3.0</td>\n      <td>1.3.0</td>\n      <td>3.9.13</td>\n      <td>{'minimumROIDimensions': 2, 'minimumROISize': ...</td>\n      <td>{'Original': {}}</td>\n      <td>08706c40effcb9f7489dc9ce0139a265b8dc6048</td>\n      <td>3D</td>\n      <td>(1.0, 1.0, 1.0)</td>\n      <td>...</td>\n      <td>Nodule_5</td>\n      <td>3</td>\n      <td>1</td>\n      <td>6</td>\n      <td>5</td>\n      <td>5</td>\n      <td>5</td>\n      <td>5</td>\n      <td>5</td>\n      <td>5</td>\n    </tr>\n    <tr>\n      <th>...</th>\n      <td>...</td>\n      <td>...</td>\n      <td>...</td>\n      <td>...</td>\n      <td>...</td>\n      <td>...</td>\n      <td>...</td>\n      <td>...</td>\n      <td>...</td>\n      <td>...</td>\n      <td>...</td>\n      <td>...</td>\n      <td>...</td>\n      <td>...</td>\n      <td>...</td>\n      <td>...</td>\n      <td>...</td>\n      <td>...</td>\n      <td>...</td>\n      <td>...</td>\n      <td>...</td>\n    </tr>\n    <tr>\n      <th>2646</th>\n      <td>v3.1.0</td>\n      <td>1.23.5</td>\n      <td>2.3.0</td>\n      <td>1.3.0</td>\n      <td>3.9.13</td>\n      <td>{'minimumROIDimensions': 2, 'minimumROISize': ...</td>\n      <td>{'Original': {}}</td>\n      <td>db18dcbfdf1ebd1c1390db9dd1fbfd85cce4724b</td>\n      <td>3D</td>\n      <td>(1.0, 1.0, 1.0)</td>\n      <td>...</td>\n      <td>Nodule_2647</td>\n      <td>5</td>\n      <td>1</td>\n      <td>6</td>\n      <td>4</td>\n      <td>4</td>\n      <td>2</td>\n      <td>2</td>\n      <td>5</td>\n      <td>4</td>\n    </tr>\n    <tr>\n      <th>2647</th>\n      <td>v3.1.0</td>\n      <td>1.23.5</td>\n      <td>2.3.0</td>\n      <td>1.3.0</td>\n      <td>3.9.13</td>\n      <td>{'minimumROIDimensions': 2, 'minimumROISize': ...</td>\n      <td>{'Original': {}}</td>\n      <td>fe63df501e056c7f875ab771151194481c70a0b1</td>\n      <td>3D</td>\n      <td>(1.0, 1.0, 1.0)</td>\n      <td>...</td>\n      <td>Nodule_2648</td>\n      <td>1</td>\n      <td>1</td>\n      <td>6</td>\n      <td>4</td>\n      <td>1</td>\n      <td>1</td>\n      <td>1</td>\n      <td>1</td>\n      <td>4</td>\n    </tr>\n    <tr>\n      <th>2648</th>\n      <td>v3.1.0</td>\n      <td>1.23.5</td>\n      <td>2.3.0</td>\n      <td>1.3.0</td>\n      <td>3.9.13</td>\n      <td>{'minimumROIDimensions': 2, 'minimumROISize': ...</td>\n      <td>{'Original': {}}</td>\n      <td>e25d0da08cbc45ea3587c9426cc102940176a4de</td>\n      <td>3D</td>\n      <td>(1.0, 1.0, 1.0)</td>\n      <td>...</td>\n      <td>Nodule_2649</td>\n      <td>2</td>\n      <td>1</td>\n      <td>6</td>\n      <td>4</td>\n      <td>3</td>\n      <td>1</td>\n      <td>1</td>\n      <td>5</td>\n      <td>3</td>\n    </tr>\n    <tr>\n      <th>2649</th>\n      <td>v3.1.0</td>\n      <td>1.23.5</td>\n      <td>2.3.0</td>\n      <td>1.3.0</td>\n      <td>3.9.13</td>\n      <td>{'minimumROIDimensions': 2, 'minimumROISize': ...</td>\n      <td>{'Original': {}}</td>\n      <td>5888efc13966913742433819826d00f4d79f0c24</td>\n      <td>3D</td>\n      <td>(1.0, 1.0, 1.0)</td>\n      <td>...</td>\n      <td>Nodule_2650</td>\n      <td>5</td>\n      <td>1</td>\n      <td>6</td>\n      <td>4</td>\n      <td>5</td>\n      <td>1</td>\n      <td>1</td>\n      <td>5</td>\n      <td>2</td>\n    </tr>\n    <tr>\n      <th>2650</th>\n      <td>v3.1.0</td>\n      <td>1.23.5</td>\n      <td>2.3.0</td>\n      <td>1.3.0</td>\n      <td>3.9.13</td>\n      <td>{'minimumROIDimensions': 2, 'minimumROISize': ...</td>\n      <td>{'Original': {}}</td>\n      <td>13269d945ba36fb2fbefd307f1fa513918911e5c</td>\n      <td>3D</td>\n      <td>(1.0, 1.0, 1.0)</td>\n      <td>...</td>\n      <td>Nodule_2651</td>\n      <td>5</td>\n      <td>1</td>\n      <td>2</td>\n      <td>5</td>\n      <td>5</td>\n      <td>4</td>\n      <td>5</td>\n      <td>5</td>\n      <td>2</td>\n    </tr>\n  </tbody>\n</table>\n<p>2651 rows × 140 columns</p>\n</div>"
     },
     "execution_count": 4,
     "metadata": {},
     "output_type": "execute_result"
    }
   ],
   "source": [
    "#Read and print the features dataset\n",
    "df = pd.read_csv('radiomic_features_lidc_all_with_additional.csv')\n",
    "df"
   ]
  },
  {
   "cell_type": "code",
   "execution_count": 5,
   "id": "e2eaa4fa",
   "metadata": {
    "ExecuteTime": {
     "end_time": "2023-10-30T16:28:15.217644700Z",
     "start_time": "2023-10-30T16:28:15.167513800Z"
    }
   },
   "outputs": [
    {
     "data": {
      "text/plain": "diagnostics_Versions_PyRadiomics    0\ndiagnostics_Versions_Numpy          0\ndiagnostics_Versions_SimpleITK      0\ndiagnostics_Versions_PyWavelet      0\ndiagnostics_Versions_Python         0\n                                   ..\nmargin                              0\nlobulation                          0\nspiculation                         0\ntexture                             0\nmalignancy                          0\nLength: 140, dtype: int64"
     },
     "execution_count": 5,
     "metadata": {},
     "output_type": "execute_result"
    }
   ],
   "source": [
    "#Check for null values\n",
    "df.isna().sum()"
   ]
  },
  {
   "cell_type": "code",
   "execution_count": 7,
   "id": "9f6071ed",
   "metadata": {
    "ExecuteTime": {
     "end_time": "2023-10-30T16:28:20.477292400Z",
     "start_time": "2023-10-30T16:28:20.391756600Z"
    }
   },
   "outputs": [
    {
     "data": {
      "text/plain": "[1,\n 1,\n 1,\n 1,\n 1,\n 1,\n 1,\n 2651,\n 1,\n 1,\n 1339,\n 2334,\n 1,\n 1,\n 2651,\n 1,\n 1339,\n 1856,\n 951,\n 6,\n 2651,\n 2651,\n 2651,\n 2570,\n 2570,\n 2651,\n 325,\n 394,\n 314,\n 658,\n 2347,\n 2651,\n 2650,\n 2650,\n 2650,\n 951,\n 1,\n 1,\n 951,\n 1,\n 1,\n 1,\n 1,\n 1,\n 1,\n 1,\n 1,\n 1,\n 1,\n 1,\n 1,\n 951,\n 1,\n 1,\n 1,\n 1,\n 1,\n 1,\n 1,\n 1,\n 1,\n 2,\n 1,\n 1,\n 1,\n 1,\n 1,\n 1,\n 1,\n 1,\n 1,\n 1,\n 2,\n 1,\n 1,\n 1,\n 2,\n 1,\n 2647,\n 2483,\n 2536,\n 2648,\n 951,\n 1,\n 1,\n 2641,\n 2641,\n 2641,\n 1,\n 2650,\n 2650,\n 2650,\n 1668,\n 1,\n 1,\n 1,\n 2651,\n 2651,\n 2651,\n 1,\n 2651,\n 2651,\n 2651,\n 2546,\n 2651,\n 2651,\n 2651,\n 2651,\n 6,\n 1,\n 1,\n 1,\n 962,\n 962,\n 962,\n 1,\n 7,\n 9,\n 962,\n 962,\n 962,\n 9,\n 951,\n 48,\n 1,\n 1,\n 1,\n 1,\n 1,\n 875,\n 2651,\n 5,\n 4,\n 6,\n 5,\n 5,\n 5,\n 5,\n 5,\n 5]"
     },
     "execution_count": 7,
     "metadata": {},
     "output_type": "execute_result"
    }
   ],
   "source": [
    "#Check if there are columns with only one value\n",
    "df.nunique().tolist()"
   ]
  },
  {
   "cell_type": "code",
   "execution_count": 8,
   "id": "d83f256c",
   "metadata": {
    "ExecuteTime": {
     "end_time": "2023-10-30T16:28:29.666699400Z",
     "start_time": "2023-10-30T16:28:29.624605300Z"
    }
   },
   "outputs": [
    {
     "name": "stdout",
     "output_type": "stream",
     "text": [
      "Index(['diagnostics_Versions_PyRadiomics', 'diagnostics_Versions_Numpy',\n",
      "       'diagnostics_Versions_SimpleITK', 'diagnostics_Versions_PyWavelet',\n",
      "       'diagnostics_Versions_Python', 'diagnostics_Configuration_Settings',\n",
      "       'diagnostics_Configuration_EnabledImageTypes',\n",
      "       'diagnostics_Image-original_Dimensionality',\n",
      "       'diagnostics_Image-original_Spacing',\n",
      "       'diagnostics_Image-original_Minimum',\n",
      "       'diagnostics_Image-original_Maximum',\n",
      "       'diagnostics_Mask-original_Spacing', 'original_firstorder_10Percentile',\n",
      "       'original_firstorder_90Percentile', 'original_firstorder_Entropy',\n",
      "       'original_firstorder_InterquartileRange',\n",
      "       'original_firstorder_Kurtosis', 'original_firstorder_Maximum',\n",
      "       'original_firstorder_MeanAbsoluteDeviation', 'original_firstorder_Mean',\n",
      "       'original_firstorder_Median', 'original_firstorder_Minimum',\n",
      "       'original_firstorder_Range',\n",
      "       'original_firstorder_RobustMeanAbsoluteDeviation',\n",
      "       'original_firstorder_RootMeanSquared', 'original_firstorder_Skewness',\n",
      "       'original_firstorder_Uniformity', 'original_firstorder_Variance',\n",
      "       'original_glcm_Autocorrelation', 'original_glcm_ClusterProminence',\n",
      "       'original_glcm_ClusterShade', 'original_glcm_ClusterTendency',\n",
      "       'original_glcm_Contrast', 'original_glcm_Correlation',\n",
      "       'original_glcm_DifferenceAverage', 'original_glcm_DifferenceVariance',\n",
      "       'original_glcm_Id', 'original_glcm_Idm', 'original_glcm_Idmn',\n",
      "       'original_glcm_Idn', 'original_glcm_Imc1', 'original_glcm_Imc2',\n",
      "       'original_glcm_InverseVariance', 'original_glcm_JointAverage',\n",
      "       'original_glcm_JointEnergy', 'original_glcm_MCC',\n",
      "       'original_glcm_MaximumProbability', 'original_glcm_SumAverage',\n",
      "       'original_glcm_SumSquares', 'original_gldm_GrayLevelVariance',\n",
      "       'original_gldm_HighGrayLevelEmphasis',\n",
      "       'original_gldm_LowGrayLevelEmphasis',\n",
      "       'original_glrlm_GrayLevelNonUniformityNormalized',\n",
      "       'original_glrlm_GrayLevelVariance',\n",
      "       'original_glrlm_HighGrayLevelRunEmphasis',\n",
      "       'original_glrlm_LowGrayLevelRunEmphasis',\n",
      "       'original_glszm_GrayLevelNonUniformityNormalized',\n",
      "       'original_glszm_GrayLevelVariance',\n",
      "       'original_glszm_HighGrayLevelZoneEmphasis',\n",
      "       'original_glszm_LowGrayLevelZoneEmphasis', 'original_ngtdm_Busyness',\n",
      "       'original_ngtdm_Coarseness', 'original_ngtdm_Complexity',\n",
      "       'original_ngtdm_Contrast', 'original_ngtdm_Strength'],\n",
      "      dtype='object')\n"
     ]
    }
   ],
   "source": [
    "#Get all columns with only one value\n",
    "unique_value_counts = df.nunique()\n",
    "columns_with_single_unique_value = unique_value_counts[unique_value_counts == 1].index\n",
    "print(columns_with_single_unique_value)"
   ]
  },
  {
   "cell_type": "code",
   "execution_count": 9,
   "id": "36f6ef93",
   "metadata": {
    "ExecuteTime": {
     "end_time": "2023-10-30T16:28:44.252026900Z",
     "start_time": "2023-10-30T16:28:44.210062500Z"
    }
   },
   "outputs": [],
   "source": [
    "#Drop the selected columns\n",
    "df.drop(columns=columns_with_single_unique_value,inplace=True)"
   ]
  },
  {
   "cell_type": "code",
   "execution_count": 200,
   "outputs": [],
   "source": [
    "#Drop columns with tuples and IDs\n",
    "df.drop(df.columns[0], axis=1, inplace=True)\n",
    "df.drop(df.columns[0], axis=1, inplace=True)\n",
    "df.drop(df.columns[1], axis=1, inplace=True)\n",
    "df.drop(df.columns[1], axis=1, inplace=True)\n",
    "df.drop(df.columns[1], axis=1, inplace=True)\n",
    "df.drop(df.columns[3], axis=1, inplace=True)\n",
    "df.drop(df.columns[3], axis=1, inplace=True)\n",
    "df.drop(df.columns[3], axis=1, inplace=True)\n",
    "df.drop(\"Patient_ID\", axis=1, inplace=True)\n",
    "df.drop(\"Nodule_ID\", axis=1, inplace=True)"
   ],
   "metadata": {
    "collapsed": false,
    "ExecuteTime": {
     "end_time": "2023-10-26T08:39:48.478564Z",
     "start_time": "2023-10-26T08:39:48.473519Z"
    }
   },
   "id": "bcb10130994b97b8"
  },
  {
   "cell_type": "code",
   "execution_count": 201,
   "outputs": [
    {
     "data": {
      "text/plain": "malignancy\n3    989\n2    728\n1    418\n4    301\n5    215\nName: count, dtype: int64"
     },
     "execution_count": 201,
     "metadata": {},
     "output_type": "execute_result"
    }
   ],
   "source": [
    "#Get the count of each value in malignancy column\n",
    "df[\"malignancy\"].value_counts()"
   ],
   "metadata": {
    "collapsed": false,
    "ExecuteTime": {
     "end_time": "2023-10-26T08:39:48.649271Z",
     "start_time": "2023-10-26T08:39:48.646293Z"
    }
   },
   "id": "7d52679148ec2e98"
  },
  {
   "cell_type": "code",
   "execution_count": 202,
   "outputs": [],
   "source": [
    "# Transform values of the malignancy column to 0 or 1\n",
    "df = df[df['malignancy'] != 3]\n",
    "df.loc[:, 'malignancy'] = df['malignancy'].replace({1: 0, 2: 0})\n",
    "df.loc[:, 'malignancy'] = df['malignancy'].replace({4: 1, 5: 1})"
   ],
   "metadata": {
    "collapsed": false,
    "ExecuteTime": {
     "end_time": "2023-10-26T08:39:48.982701Z",
     "start_time": "2023-10-26T08:39:48.973345Z"
    }
   },
   "id": "65fac7b0be7f0bd"
  },
  {
   "cell_type": "code",
   "execution_count": 203,
   "outputs": [
    {
     "data": {
      "text/plain": "malignancy\n0    1146\n1     516\nName: count, dtype: int64"
     },
     "execution_count": 203,
     "metadata": {},
     "output_type": "execute_result"
    }
   ],
   "source": [
    "#Get the count of each value in malignancy column\n",
    "df[\"malignancy\"].value_counts()"
   ],
   "metadata": {
    "collapsed": false,
    "ExecuteTime": {
     "end_time": "2023-10-26T08:39:49.574914Z",
     "start_time": "2023-10-26T08:39:49.556553Z"
    }
   },
   "id": "638089bc7df483a"
  },
  {
   "cell_type": "code",
   "execution_count": 15,
   "outputs": [],
   "source": [
    "# Normalizing the columns using Min-Max scaling\n",
    "df = df.drop(columns=df.select_dtypes(include=['object']))\n",
    "df = (df - df.min()) / (df.max() - df.min())"
   ],
   "metadata": {
    "collapsed": false,
    "ExecuteTime": {
     "end_time": "2023-10-30T16:56:55.439716600Z",
     "start_time": "2023-10-30T16:56:55.401589Z"
    }
   },
   "id": "4185a0103aed89ae"
  },
  {
   "cell_type": "code",
   "execution_count": 16,
   "outputs": [
    {
     "data": {
      "text/plain": "      diagnostics_Image-original_Mean  diagnostics_Mask-original_VoxelNum  \\\n0                            0.398388                            0.041876   \n1                            0.423089                            0.038302   \n2                            0.053140                            0.000640   \n3                            0.495832                            0.080333   \n4                            0.111337                            0.011385   \n...                               ...                                 ...   \n2646                         0.074199                            0.007060   \n2647                         0.144706                            0.013635   \n2648                         0.158873                            0.004060   \n2649                         0.052095                            0.001589   \n2650                         1.000000                            0.304386   \n\n      diagnostics_Mask-original_VolumeNum  original_shape_Elongation  \\\n0                                   0.000                   0.800345   \n1                                   0.000                   0.795950   \n2                                   0.000                   0.842097   \n3                                   0.125                   0.947505   \n4                                   0.000                   0.706953   \n...                                   ...                        ...   \n2646                                0.000                   0.725930   \n2647                                0.000                   0.672113   \n2648                                0.000                   0.413795   \n2649                                0.000                   0.263273   \n2650                                0.125                   0.882922   \n\n      original_shape_Flatness  original_shape_LeastAxisLength  \\\n0                    0.240954                        0.156384   \n1                    0.236569                        0.146965   \n2                    0.318505                        0.046066   \n3                    0.238381                        0.181580   \n4                    0.655440                        0.208073   \n...                       ...                             ...   \n2646                 0.412680                        0.127934   \n2647                 0.756811                        0.242330   \n2648                 0.204373                        0.072975   \n2649                 0.272650                        0.069720   \n2650                 0.300535                        0.329371   \n\n      original_shape_MajorAxisLength  original_shape_Maximum2DDiameterColumn  \\\n0                           0.363943                                0.359994   \n1                           0.346630                                0.462676   \n2                           0.049688                                0.051377   \n3                           0.434161                                0.583195   \n4                           0.157364                                0.214484   \n...                              ...                                     ...   \n2646                        0.152723                                0.167938   \n2647                        0.159074                                0.195612   \n2648                        0.182043                                0.137781   \n2649                        0.118897                                0.073299   \n2650                        0.642398                                0.788475   \n\n      original_shape_Maximum2DDiameterRow  \\\n0                                0.519872   \n1                                0.404700   \n2                                0.047941   \n3                                0.584977   \n4                                0.160674   \n...                                   ...   \n2646                             0.121156   \n2647                             0.163207   \n2648                             0.171113   \n2649                             0.060726   \n2650                             0.680923   \n\n      original_shape_Maximum2DDiameterSlice  ...  original_glszm_ZoneVariance  \\\n0                                  0.293561  ...                     0.000000   \n1                                  0.256770  ...                     0.000000   \n2                                  0.035367  ...                     0.000000   \n3                                  0.407555  ...                     0.026006   \n4                                  0.121130  ...                     0.000000   \n...                                     ...  ...                          ...   \n2646                               0.144438  ...                     0.000000   \n2647                               0.128635  ...                     0.000000   \n2648                               0.122661  ...                     0.000000   \n2649                               0.066457  ...                     0.000000   \n2650                               0.541833  ...                     0.373070   \n\n      subtlety  internalStructure  calcification  sphericity  margin  \\\n0         0.75                0.0            1.0        0.75    0.75   \n1         1.00                0.0            1.0        0.50    0.75   \n2         0.75                0.0            0.8        1.00    1.00   \n3         1.00                0.0            0.6        0.50    1.00   \n4         0.50                0.0            1.0        1.00    1.00   \n...        ...                ...            ...         ...     ...   \n2646      1.00                0.0            1.0        0.75    0.75   \n2647      0.00                0.0            1.0        0.75    0.00   \n2648      0.25                0.0            1.0        0.75    0.50   \n2649      1.00                0.0            1.0        0.75    1.00   \n2650      1.00                0.0            0.2        1.00    1.00   \n\n      lobulation  spiculation  texture  malignancy  \n0           0.00         0.25      1.0        0.50  \n1           0.00         0.00      1.0        0.50  \n2           0.00         0.00      1.0        0.00  \n3           0.25         0.50      1.0        0.75  \n4           1.00         1.00      1.0        1.00  \n...          ...          ...      ...         ...  \n2646        0.25         0.25      1.0        0.75  \n2647        0.00         0.00      0.0        0.75  \n2648        0.00         0.00      1.0        0.50  \n2649        0.00         0.00      1.0        0.25  \n2650        0.75         1.00      1.0        0.25  \n\n[2651 rows x 66 columns]",
      "text/html": "<div>\n<style scoped>\n    .dataframe tbody tr th:only-of-type {\n        vertical-align: middle;\n    }\n\n    .dataframe tbody tr th {\n        vertical-align: top;\n    }\n\n    .dataframe thead th {\n        text-align: right;\n    }\n</style>\n<table border=\"1\" class=\"dataframe\">\n  <thead>\n    <tr style=\"text-align: right;\">\n      <th></th>\n      <th>diagnostics_Image-original_Mean</th>\n      <th>diagnostics_Mask-original_VoxelNum</th>\n      <th>diagnostics_Mask-original_VolumeNum</th>\n      <th>original_shape_Elongation</th>\n      <th>original_shape_Flatness</th>\n      <th>original_shape_LeastAxisLength</th>\n      <th>original_shape_MajorAxisLength</th>\n      <th>original_shape_Maximum2DDiameterColumn</th>\n      <th>original_shape_Maximum2DDiameterRow</th>\n      <th>original_shape_Maximum2DDiameterSlice</th>\n      <th>...</th>\n      <th>original_glszm_ZoneVariance</th>\n      <th>subtlety</th>\n      <th>internalStructure</th>\n      <th>calcification</th>\n      <th>sphericity</th>\n      <th>margin</th>\n      <th>lobulation</th>\n      <th>spiculation</th>\n      <th>texture</th>\n      <th>malignancy</th>\n    </tr>\n  </thead>\n  <tbody>\n    <tr>\n      <th>0</th>\n      <td>0.398388</td>\n      <td>0.041876</td>\n      <td>0.000</td>\n      <td>0.800345</td>\n      <td>0.240954</td>\n      <td>0.156384</td>\n      <td>0.363943</td>\n      <td>0.359994</td>\n      <td>0.519872</td>\n      <td>0.293561</td>\n      <td>...</td>\n      <td>0.000000</td>\n      <td>0.75</td>\n      <td>0.0</td>\n      <td>1.0</td>\n      <td>0.75</td>\n      <td>0.75</td>\n      <td>0.00</td>\n      <td>0.25</td>\n      <td>1.0</td>\n      <td>0.50</td>\n    </tr>\n    <tr>\n      <th>1</th>\n      <td>0.423089</td>\n      <td>0.038302</td>\n      <td>0.000</td>\n      <td>0.795950</td>\n      <td>0.236569</td>\n      <td>0.146965</td>\n      <td>0.346630</td>\n      <td>0.462676</td>\n      <td>0.404700</td>\n      <td>0.256770</td>\n      <td>...</td>\n      <td>0.000000</td>\n      <td>1.00</td>\n      <td>0.0</td>\n      <td>1.0</td>\n      <td>0.50</td>\n      <td>0.75</td>\n      <td>0.00</td>\n      <td>0.00</td>\n      <td>1.0</td>\n      <td>0.50</td>\n    </tr>\n    <tr>\n      <th>2</th>\n      <td>0.053140</td>\n      <td>0.000640</td>\n      <td>0.000</td>\n      <td>0.842097</td>\n      <td>0.318505</td>\n      <td>0.046066</td>\n      <td>0.049688</td>\n      <td>0.051377</td>\n      <td>0.047941</td>\n      <td>0.035367</td>\n      <td>...</td>\n      <td>0.000000</td>\n      <td>0.75</td>\n      <td>0.0</td>\n      <td>0.8</td>\n      <td>1.00</td>\n      <td>1.00</td>\n      <td>0.00</td>\n      <td>0.00</td>\n      <td>1.0</td>\n      <td>0.00</td>\n    </tr>\n    <tr>\n      <th>3</th>\n      <td>0.495832</td>\n      <td>0.080333</td>\n      <td>0.125</td>\n      <td>0.947505</td>\n      <td>0.238381</td>\n      <td>0.181580</td>\n      <td>0.434161</td>\n      <td>0.583195</td>\n      <td>0.584977</td>\n      <td>0.407555</td>\n      <td>...</td>\n      <td>0.026006</td>\n      <td>1.00</td>\n      <td>0.0</td>\n      <td>0.6</td>\n      <td>0.50</td>\n      <td>1.00</td>\n      <td>0.25</td>\n      <td>0.50</td>\n      <td>1.0</td>\n      <td>0.75</td>\n    </tr>\n    <tr>\n      <th>4</th>\n      <td>0.111337</td>\n      <td>0.011385</td>\n      <td>0.000</td>\n      <td>0.706953</td>\n      <td>0.655440</td>\n      <td>0.208073</td>\n      <td>0.157364</td>\n      <td>0.214484</td>\n      <td>0.160674</td>\n      <td>0.121130</td>\n      <td>...</td>\n      <td>0.000000</td>\n      <td>0.50</td>\n      <td>0.0</td>\n      <td>1.0</td>\n      <td>1.00</td>\n      <td>1.00</td>\n      <td>1.00</td>\n      <td>1.00</td>\n      <td>1.0</td>\n      <td>1.00</td>\n    </tr>\n    <tr>\n      <th>...</th>\n      <td>...</td>\n      <td>...</td>\n      <td>...</td>\n      <td>...</td>\n      <td>...</td>\n      <td>...</td>\n      <td>...</td>\n      <td>...</td>\n      <td>...</td>\n      <td>...</td>\n      <td>...</td>\n      <td>...</td>\n      <td>...</td>\n      <td>...</td>\n      <td>...</td>\n      <td>...</td>\n      <td>...</td>\n      <td>...</td>\n      <td>...</td>\n      <td>...</td>\n      <td>...</td>\n    </tr>\n    <tr>\n      <th>2646</th>\n      <td>0.074199</td>\n      <td>0.007060</td>\n      <td>0.000</td>\n      <td>0.725930</td>\n      <td>0.412680</td>\n      <td>0.127934</td>\n      <td>0.152723</td>\n      <td>0.167938</td>\n      <td>0.121156</td>\n      <td>0.144438</td>\n      <td>...</td>\n      <td>0.000000</td>\n      <td>1.00</td>\n      <td>0.0</td>\n      <td>1.0</td>\n      <td>0.75</td>\n      <td>0.75</td>\n      <td>0.25</td>\n      <td>0.25</td>\n      <td>1.0</td>\n      <td>0.75</td>\n    </tr>\n    <tr>\n      <th>2647</th>\n      <td>0.144706</td>\n      <td>0.013635</td>\n      <td>0.000</td>\n      <td>0.672113</td>\n      <td>0.756811</td>\n      <td>0.242330</td>\n      <td>0.159074</td>\n      <td>0.195612</td>\n      <td>0.163207</td>\n      <td>0.128635</td>\n      <td>...</td>\n      <td>0.000000</td>\n      <td>0.00</td>\n      <td>0.0</td>\n      <td>1.0</td>\n      <td>0.75</td>\n      <td>0.00</td>\n      <td>0.00</td>\n      <td>0.00</td>\n      <td>0.0</td>\n      <td>0.75</td>\n    </tr>\n    <tr>\n      <th>2648</th>\n      <td>0.158873</td>\n      <td>0.004060</td>\n      <td>0.000</td>\n      <td>0.413795</td>\n      <td>0.204373</td>\n      <td>0.072975</td>\n      <td>0.182043</td>\n      <td>0.137781</td>\n      <td>0.171113</td>\n      <td>0.122661</td>\n      <td>...</td>\n      <td>0.000000</td>\n      <td>0.25</td>\n      <td>0.0</td>\n      <td>1.0</td>\n      <td>0.75</td>\n      <td>0.50</td>\n      <td>0.00</td>\n      <td>0.00</td>\n      <td>1.0</td>\n      <td>0.50</td>\n    </tr>\n    <tr>\n      <th>2649</th>\n      <td>0.052095</td>\n      <td>0.001589</td>\n      <td>0.000</td>\n      <td>0.263273</td>\n      <td>0.272650</td>\n      <td>0.069720</td>\n      <td>0.118897</td>\n      <td>0.073299</td>\n      <td>0.060726</td>\n      <td>0.066457</td>\n      <td>...</td>\n      <td>0.000000</td>\n      <td>1.00</td>\n      <td>0.0</td>\n      <td>1.0</td>\n      <td>0.75</td>\n      <td>1.00</td>\n      <td>0.00</td>\n      <td>0.00</td>\n      <td>1.0</td>\n      <td>0.25</td>\n    </tr>\n    <tr>\n      <th>2650</th>\n      <td>1.000000</td>\n      <td>0.304386</td>\n      <td>0.125</td>\n      <td>0.882922</td>\n      <td>0.300535</td>\n      <td>0.329371</td>\n      <td>0.642398</td>\n      <td>0.788475</td>\n      <td>0.680923</td>\n      <td>0.541833</td>\n      <td>...</td>\n      <td>0.373070</td>\n      <td>1.00</td>\n      <td>0.0</td>\n      <td>0.2</td>\n      <td>1.00</td>\n      <td>1.00</td>\n      <td>0.75</td>\n      <td>1.00</td>\n      <td>1.0</td>\n      <td>0.25</td>\n    </tr>\n  </tbody>\n</table>\n<p>2651 rows × 66 columns</p>\n</div>"
     },
     "execution_count": 16,
     "metadata": {},
     "output_type": "execute_result"
    }
   ],
   "source": [
    "df"
   ],
   "metadata": {
    "collapsed": false,
    "ExecuteTime": {
     "end_time": "2023-10-30T16:56:57.305164200Z",
     "start_time": "2023-10-30T16:56:57.240155200Z"
    }
   },
   "id": "9260e74c684bee4a"
  },
  {
   "cell_type": "markdown",
   "source": [
    "## Data Analysis"
   ],
   "metadata": {
    "collapsed": false
   },
   "id": "3d435d1b5f271c72"
  },
  {
   "cell_type": "markdown",
   "source": [
    "## Imports"
   ],
   "metadata": {
    "collapsed": false
   },
   "id": "b7cce282e957a568"
  },
  {
   "cell_type": "code",
   "execution_count": null,
   "outputs": [],
   "source": [
    "import seaborn as sns\n",
    "import matplotlib.pyplot as plt"
   ],
   "metadata": {
    "collapsed": false
   },
   "id": "eb08c650302f0bcd"
  },
  {
   "cell_type": "code",
   "execution_count": null,
   "id": "6808e261",
   "metadata": {},
   "outputs": [],
   "source": [
    "df.select_dtypes(include=['object'])"
   ]
  },
  {
   "cell_type": "code",
   "execution_count": null,
   "id": "f9a5eabf",
   "metadata": {},
   "outputs": [],
   "source": [
    "numeric_columns = df.select_dtypes(exclude=['object'])\n",
    "correlation_matrix = numeric_columns.corr()\n",
    "\n",
    "print(correlation_matrix)"
   ]
  },
  {
   "cell_type": "code",
   "execution_count": null,
   "id": "7f612e44",
   "metadata": {},
   "outputs": [],
   "source": [
    "\n",
    "plt.figure(figsize=(15, 13))\n",
    "sns.heatmap(correlation_matrix, annot=False, cmap='coolwarm', linewidths=0.5)\n",
    "plt.show()"
   ]
  },
  {
   "cell_type": "code",
   "execution_count": null,
   "id": "424b254c",
   "metadata": {},
   "outputs": [],
   "source": [
    "correlation_matrix = numeric_columns.corr()\n",
    "\n",
    "threshold = 0.7\n",
    "\n",
    "strong_correlations = correlation_matrix[\n",
    "    (correlation_matrix > threshold) & (correlation_matrix < 1)\n",
    "]\n",
    "\n",
    "print(strong_correlations)"
   ]
  },
  {
   "cell_type": "markdown",
   "source": [
    "## Classification"
   ],
   "metadata": {
    "collapsed": false
   },
   "id": "ccb9048aafe9ceba"
  },
  {
   "cell_type": "markdown",
   "source": [
    "### Imports"
   ],
   "metadata": {
    "collapsed": false
   },
   "id": "c3f603b22b686feb"
  },
  {
   "cell_type": "code",
   "execution_count": 234,
   "outputs": [],
   "source": [
    "from sklearn.model_selection import train_test_split\n",
    "from sklearn.metrics import accuracy_score, classification_report"
   ],
   "metadata": {
    "collapsed": false,
    "ExecuteTime": {
     "end_time": "2023-10-26T09:20:53.818925Z",
     "start_time": "2023-10-26T09:20:53.791967Z"
    }
   },
   "id": "7d01157e4381bc02"
  },
  {
   "cell_type": "code",
   "execution_count": 235,
   "id": "08ce9908",
   "metadata": {
    "ExecuteTime": {
     "end_time": "2023-10-26T09:21:06.529331Z",
     "start_time": "2023-10-26T09:21:06.331286Z"
    }
   },
   "outputs": [
    {
     "data": {
      "text/plain": "      diagnostics_Image-original_Mean  diagnostics_Mask-original_VoxelNum  \\\n2                            0.007535                                  34   \n3                            0.063299                                3646   \n4                            0.014866                                 521   \n5                            0.006938                                  15   \n6                            0.025858                                1629   \n...                               ...                                 ...   \n2644                         0.028955                                 287   \n2646                         0.010188                                 325   \n2647                         0.019069                                 623   \n2649                         0.007404                                  77   \n2650                         0.126805                               13801   \n\n      diagnostics_Mask-original_VolumeNum  original_shape_Flatness  \\\n2                                       1                 0.289526   \n3                                       3                 0.216692   \n4                                       1                 0.595806   \n5                                       1                 0.000000   \n6                                       1                 0.261163   \n...                                   ...                      ...   \n2644                                    1                 0.231112   \n2646                                    1                 0.375133   \n2647                                    1                 0.687954   \n2649                                    1                 0.247844   \n2650                                    3                 0.273192   \n\n      original_shape_LeastAxisLength  original_shape_MajorAxisLength  \\\n2                           1.632763                        5.639429   \n3                           6.435946                       29.700850   \n4                           7.374952                       12.378110   \n5                           0.000000                        5.009955   \n6                           6.327166                       24.226851   \n...                              ...                             ...   \n2644                        2.892066                       12.513718   \n2646                        4.534490                       12.087678   \n2647                        8.589183                       12.485120   \n2649                        2.471175                        9.970706   \n2650                       11.674262                       42.732887   \n\n      original_shape_Maximum2DDiameterColumn  \\\n2                                   6.000000   \n3                                  37.054015   \n4                                  15.524175   \n5                                   4.000000   \n6                                  22.090722   \n...                                      ...   \n2644                               12.041595   \n2646                               12.806248   \n2647                               14.422205   \n2649                                7.280110   \n2650                               49.040799   \n\n      original_shape_Maximum2DDiameterRow  \\\n2                                6.324555   \n3                               43.566042   \n4                               14.142136   \n5                                5.385165   \n6                               31.256999   \n...                                   ...   \n2644                            15.231546   \n2646                            11.401754   \n2647                            14.317821   \n2649                             7.211103   \n2650                            50.219518   \n\n      original_shape_Maximum2DDiameterSlice  original_shape_Maximum3DDiameter  \\\n2                                  5.099020                          6.324555   \n3                                 35.227830                         49.284886   \n4                                 12.041595                         15.588457   \n5                                  5.000000                          5.385165   \n6                                 31.064449                         32.264532   \n...                                     ...                               ...   \n2644                              15.033296                         16.186414   \n2646                              13.928388                         14.628739   \n2647                              12.649111                         15.165751   \n2649                               7.615773                         10.440307   \n2650                              46.097722                         51.048996   \n\n      ...  original_glszm_ZoneVariance  subtlety  internalStructure  \\\n2     ...                 0.000000e+00         4                  1   \n3     ...                 2.949211e+06         5                  1   \n4     ...                 0.000000e+00         3                  1   \n5     ...                 0.000000e+00         2                  1   \n6     ...                 0.000000e+00         5                  1   \n...   ...                          ...       ...                ...   \n2644  ...                 0.000000e+00         5                  1   \n2646  ...                 0.000000e+00         5                  1   \n2647  ...                 0.000000e+00         1                  1   \n2649  ...                 0.000000e+00         5                  1   \n2650  ...                 4.230773e+07         5                  1   \n\n      calcification  sphericity  margin  lobulation  spiculation  texture  \\\n2                 5           5       5           1            1        5   \n3                 4           3       5           2            3        5   \n4                 6           5       5           5            5        5   \n5                 6           4       4           5            5        5   \n6                 6           4       5           5            4        5   \n...             ...         ...     ...         ...          ...      ...   \n2644              3           5       4           2            1        5   \n2646              6           4       4           2            2        5   \n2647              6           4       1           1            1        1   \n2649              6           4       5           1            1        5   \n2650              2           5       5           4            5        5   \n\n      malignancy  \n2              0  \n3              1  \n4              1  \n5              0  \n6              1  \n...          ...  \n2644           0  \n2646           1  \n2647           1  \n2649           0  \n2650           0  \n\n[1662 rows x 65 columns]",
      "text/html": "<div>\n<style scoped>\n    .dataframe tbody tr th:only-of-type {\n        vertical-align: middle;\n    }\n\n    .dataframe tbody tr th {\n        vertical-align: top;\n    }\n\n    .dataframe thead th {\n        text-align: right;\n    }\n</style>\n<table border=\"1\" class=\"dataframe\">\n  <thead>\n    <tr style=\"text-align: right;\">\n      <th></th>\n      <th>diagnostics_Image-original_Mean</th>\n      <th>diagnostics_Mask-original_VoxelNum</th>\n      <th>diagnostics_Mask-original_VolumeNum</th>\n      <th>original_shape_Flatness</th>\n      <th>original_shape_LeastAxisLength</th>\n      <th>original_shape_MajorAxisLength</th>\n      <th>original_shape_Maximum2DDiameterColumn</th>\n      <th>original_shape_Maximum2DDiameterRow</th>\n      <th>original_shape_Maximum2DDiameterSlice</th>\n      <th>original_shape_Maximum3DDiameter</th>\n      <th>...</th>\n      <th>original_glszm_ZoneVariance</th>\n      <th>subtlety</th>\n      <th>internalStructure</th>\n      <th>calcification</th>\n      <th>sphericity</th>\n      <th>margin</th>\n      <th>lobulation</th>\n      <th>spiculation</th>\n      <th>texture</th>\n      <th>malignancy</th>\n    </tr>\n  </thead>\n  <tbody>\n    <tr>\n      <th>2</th>\n      <td>0.007535</td>\n      <td>34</td>\n      <td>1</td>\n      <td>0.289526</td>\n      <td>1.632763</td>\n      <td>5.639429</td>\n      <td>6.000000</td>\n      <td>6.324555</td>\n      <td>5.099020</td>\n      <td>6.324555</td>\n      <td>...</td>\n      <td>0.000000e+00</td>\n      <td>4</td>\n      <td>1</td>\n      <td>5</td>\n      <td>5</td>\n      <td>5</td>\n      <td>1</td>\n      <td>1</td>\n      <td>5</td>\n      <td>0</td>\n    </tr>\n    <tr>\n      <th>3</th>\n      <td>0.063299</td>\n      <td>3646</td>\n      <td>3</td>\n      <td>0.216692</td>\n      <td>6.435946</td>\n      <td>29.700850</td>\n      <td>37.054015</td>\n      <td>43.566042</td>\n      <td>35.227830</td>\n      <td>49.284886</td>\n      <td>...</td>\n      <td>2.949211e+06</td>\n      <td>5</td>\n      <td>1</td>\n      <td>4</td>\n      <td>3</td>\n      <td>5</td>\n      <td>2</td>\n      <td>3</td>\n      <td>5</td>\n      <td>1</td>\n    </tr>\n    <tr>\n      <th>4</th>\n      <td>0.014866</td>\n      <td>521</td>\n      <td>1</td>\n      <td>0.595806</td>\n      <td>7.374952</td>\n      <td>12.378110</td>\n      <td>15.524175</td>\n      <td>14.142136</td>\n      <td>12.041595</td>\n      <td>15.588457</td>\n      <td>...</td>\n      <td>0.000000e+00</td>\n      <td>3</td>\n      <td>1</td>\n      <td>6</td>\n      <td>5</td>\n      <td>5</td>\n      <td>5</td>\n      <td>5</td>\n      <td>5</td>\n      <td>1</td>\n    </tr>\n    <tr>\n      <th>5</th>\n      <td>0.006938</td>\n      <td>15</td>\n      <td>1</td>\n      <td>0.000000</td>\n      <td>0.000000</td>\n      <td>5.009955</td>\n      <td>4.000000</td>\n      <td>5.385165</td>\n      <td>5.000000</td>\n      <td>5.385165</td>\n      <td>...</td>\n      <td>0.000000e+00</td>\n      <td>2</td>\n      <td>1</td>\n      <td>6</td>\n      <td>4</td>\n      <td>4</td>\n      <td>5</td>\n      <td>5</td>\n      <td>5</td>\n      <td>0</td>\n    </tr>\n    <tr>\n      <th>6</th>\n      <td>0.025858</td>\n      <td>1629</td>\n      <td>1</td>\n      <td>0.261163</td>\n      <td>6.327166</td>\n      <td>24.226851</td>\n      <td>22.090722</td>\n      <td>31.256999</td>\n      <td>31.064449</td>\n      <td>32.264532</td>\n      <td>...</td>\n      <td>0.000000e+00</td>\n      <td>5</td>\n      <td>1</td>\n      <td>6</td>\n      <td>4</td>\n      <td>5</td>\n      <td>5</td>\n      <td>4</td>\n      <td>5</td>\n      <td>1</td>\n    </tr>\n    <tr>\n      <th>...</th>\n      <td>...</td>\n      <td>...</td>\n      <td>...</td>\n      <td>...</td>\n      <td>...</td>\n      <td>...</td>\n      <td>...</td>\n      <td>...</td>\n      <td>...</td>\n      <td>...</td>\n      <td>...</td>\n      <td>...</td>\n      <td>...</td>\n      <td>...</td>\n      <td>...</td>\n      <td>...</td>\n      <td>...</td>\n      <td>...</td>\n      <td>...</td>\n      <td>...</td>\n      <td>...</td>\n    </tr>\n    <tr>\n      <th>2644</th>\n      <td>0.028955</td>\n      <td>287</td>\n      <td>1</td>\n      <td>0.231112</td>\n      <td>2.892066</td>\n      <td>12.513718</td>\n      <td>12.041595</td>\n      <td>15.231546</td>\n      <td>15.033296</td>\n      <td>16.186414</td>\n      <td>...</td>\n      <td>0.000000e+00</td>\n      <td>5</td>\n      <td>1</td>\n      <td>3</td>\n      <td>5</td>\n      <td>4</td>\n      <td>2</td>\n      <td>1</td>\n      <td>5</td>\n      <td>0</td>\n    </tr>\n    <tr>\n      <th>2646</th>\n      <td>0.010188</td>\n      <td>325</td>\n      <td>1</td>\n      <td>0.375133</td>\n      <td>4.534490</td>\n      <td>12.087678</td>\n      <td>12.806248</td>\n      <td>11.401754</td>\n      <td>13.928388</td>\n      <td>14.628739</td>\n      <td>...</td>\n      <td>0.000000e+00</td>\n      <td>5</td>\n      <td>1</td>\n      <td>6</td>\n      <td>4</td>\n      <td>4</td>\n      <td>2</td>\n      <td>2</td>\n      <td>5</td>\n      <td>1</td>\n    </tr>\n    <tr>\n      <th>2647</th>\n      <td>0.019069</td>\n      <td>623</td>\n      <td>1</td>\n      <td>0.687954</td>\n      <td>8.589183</td>\n      <td>12.485120</td>\n      <td>14.422205</td>\n      <td>14.317821</td>\n      <td>12.649111</td>\n      <td>15.165751</td>\n      <td>...</td>\n      <td>0.000000e+00</td>\n      <td>1</td>\n      <td>1</td>\n      <td>6</td>\n      <td>4</td>\n      <td>1</td>\n      <td>1</td>\n      <td>1</td>\n      <td>1</td>\n      <td>1</td>\n    </tr>\n    <tr>\n      <th>2649</th>\n      <td>0.007404</td>\n      <td>77</td>\n      <td>1</td>\n      <td>0.247844</td>\n      <td>2.471175</td>\n      <td>9.970706</td>\n      <td>7.280110</td>\n      <td>7.211103</td>\n      <td>7.615773</td>\n      <td>10.440307</td>\n      <td>...</td>\n      <td>0.000000e+00</td>\n      <td>5</td>\n      <td>1</td>\n      <td>6</td>\n      <td>4</td>\n      <td>5</td>\n      <td>1</td>\n      <td>1</td>\n      <td>5</td>\n      <td>0</td>\n    </tr>\n    <tr>\n      <th>2650</th>\n      <td>0.126805</td>\n      <td>13801</td>\n      <td>3</td>\n      <td>0.273192</td>\n      <td>11.674262</td>\n      <td>42.732887</td>\n      <td>49.040799</td>\n      <td>50.219518</td>\n      <td>46.097722</td>\n      <td>51.048996</td>\n      <td>...</td>\n      <td>4.230773e+07</td>\n      <td>5</td>\n      <td>1</td>\n      <td>2</td>\n      <td>5</td>\n      <td>5</td>\n      <td>4</td>\n      <td>5</td>\n      <td>5</td>\n      <td>0</td>\n    </tr>\n  </tbody>\n</table>\n<p>1662 rows × 65 columns</p>\n</div>"
     },
     "execution_count": 235,
     "metadata": {},
     "output_type": "execute_result"
    }
   ],
   "source": [
    "df"
   ]
  },
  {
   "cell_type": "code",
   "execution_count": 236,
   "outputs": [],
   "source": [
    "X = df.iloc[:, :-1]  # Features (all columns except the last one)\n",
    "y = df.iloc[:, -1]   # Target (the last column)"
   ],
   "metadata": {
    "collapsed": false,
    "ExecuteTime": {
     "end_time": "2023-10-26T09:21:06.530662Z",
     "start_time": "2023-10-26T09:21:06.339186Z"
    }
   },
   "id": "ad9e28edd1c2dc6b"
  },
  {
   "cell_type": "code",
   "execution_count": 237,
   "outputs": [],
   "source": [
    "X_train, X_test, y_train, y_test = train_test_split(X, y, test_size=0.2, random_state=42)"
   ],
   "metadata": {
    "collapsed": false,
    "ExecuteTime": {
     "end_time": "2023-10-26T09:21:06.566343Z",
     "start_time": "2023-10-26T09:21:06.344118Z"
    }
   },
   "id": "707a7f7902652c42"
  },
  {
   "cell_type": "code",
   "execution_count": 260,
   "outputs": [],
   "source": [
    "def testing(test,pred):\n",
    "    accuracy = accuracy_score(test, pred)\n",
    "    report = classification_report(test, pred, zero_division=1)\n",
    "    print(\"Accuracy:\", accuracy)\n",
    "    print(\"Classification Report:\\n\", report)\n"
   ],
   "metadata": {
    "collapsed": false,
    "ExecuteTime": {
     "end_time": "2023-10-26T09:22:30.139938Z",
     "start_time": "2023-10-26T09:22:29.974693Z"
    }
   },
   "id": "1c1d08d11609f7b6"
  },
  {
   "cell_type": "markdown",
   "source": [
    "#### Random Forest Classifier"
   ],
   "metadata": {
    "collapsed": false
   },
   "id": "fb456e8c672b88e3"
  },
  {
   "cell_type": "code",
   "execution_count": 261,
   "outputs": [],
   "source": [
    "from sklearn.ensemble import RandomForestClassifier"
   ],
   "metadata": {
    "collapsed": false,
    "ExecuteTime": {
     "end_time": "2023-10-26T09:22:30.180656Z",
     "start_time": "2023-10-26T09:22:29.980260Z"
    }
   },
   "id": "8a21b1cdfae8dad9"
  },
  {
   "cell_type": "code",
   "execution_count": 262,
   "outputs": [],
   "source": [
    "rf_classifier = RandomForestClassifier(n_estimators=100, random_state=42)  # You can adjust the number of trees (n_estimators)\n",
    "rf_classifier.fit(X_train, y_train)\n",
    "y_pred = rf_classifier.predict(X_test)"
   ],
   "metadata": {
    "collapsed": false,
    "ExecuteTime": {
     "end_time": "2023-10-26T09:22:30.367789Z",
     "start_time": "2023-10-26T09:22:30.002865Z"
    }
   },
   "id": "9fc6012f5a49955b"
  },
  {
   "cell_type": "code",
   "execution_count": 263,
   "outputs": [
    {
     "name": "stdout",
     "output_type": "stream",
     "text": [
      "Accuracy: 0.8918918918918919\n",
      "Classification Report:\n",
      "               precision    recall  f1-score   support\n",
      "\n",
      "           0       0.91      0.94      0.93       239\n",
      "           1       0.83      0.78      0.80        94\n",
      "\n",
      "    accuracy                           0.89       333\n",
      "   macro avg       0.87      0.86      0.86       333\n",
      "weighted avg       0.89      0.89      0.89       333\n"
     ]
    }
   ],
   "source": [
    "testing(y_test,y_pred)"
   ],
   "metadata": {
    "collapsed": false,
    "ExecuteTime": {
     "end_time": "2023-10-26T09:22:30.386986Z",
     "start_time": "2023-10-26T09:22:30.363856Z"
    }
   },
   "id": "2a453ee8db8b245d"
  },
  {
   "cell_type": "markdown",
   "source": [
    "#### Support Vector Machines (SVM)"
   ],
   "metadata": {
    "collapsed": false
   },
   "id": "7789853ad2d1c37d"
  },
  {
   "cell_type": "code",
   "execution_count": 264,
   "outputs": [],
   "source": [
    "from sklearn.svm import SVR\n",
    "from sklearn.svm import SVC"
   ],
   "metadata": {
    "collapsed": false,
    "ExecuteTime": {
     "end_time": "2023-10-26T09:22:30.387258Z",
     "start_time": "2023-10-26T09:22:30.370909Z"
    }
   },
   "id": "4c43f183f98200a3"
  },
  {
   "cell_type": "code",
   "execution_count": 264,
   "outputs": [],
   "source": [],
   "metadata": {
    "collapsed": false,
    "ExecuteTime": {
     "end_time": "2023-10-26T09:22:30.387688Z",
     "start_time": "2023-10-26T09:22:30.375173Z"
    }
   },
   "id": "847546be00ee57f2"
  },
  {
   "cell_type": "markdown",
   "source": [
    "#### Naive Bayes"
   ],
   "metadata": {
    "collapsed": false
   },
   "id": "ebcc7db0f6dce706"
  },
  {
   "cell_type": "markdown",
   "source": [
    "##### GaussianNB"
   ],
   "metadata": {
    "collapsed": false
   },
   "id": "b33ec0a4a4ad4766"
  },
  {
   "cell_type": "code",
   "execution_count": 265,
   "outputs": [],
   "source": [
    "from sklearn.naive_bayes import GaussianNB"
   ],
   "metadata": {
    "collapsed": false,
    "ExecuteTime": {
     "end_time": "2023-10-26T09:22:30.387846Z",
     "start_time": "2023-10-26T09:22:30.379346Z"
    }
   },
   "id": "20453e6d8858467e"
  },
  {
   "cell_type": "code",
   "execution_count": 266,
   "outputs": [],
   "source": [
    "gauss = GaussianNB()\n",
    "gauss.fit(X_train, y_train)\n",
    "y_pred = gauss.predict(X_test)"
   ],
   "metadata": {
    "collapsed": false,
    "ExecuteTime": {
     "end_time": "2023-10-26T09:22:30.444496Z",
     "start_time": "2023-10-26T09:22:30.382817Z"
    }
   },
   "id": "365f7961653ea819"
  },
  {
   "cell_type": "code",
   "execution_count": 267,
   "outputs": [
    {
     "name": "stdout",
     "output_type": "stream",
     "text": [
      "Accuracy: 0.7627627627627628\n",
      "Classification Report:\n",
      "               precision    recall  f1-score   support\n",
      "\n",
      "           0       0.76      0.97      0.86       239\n",
      "           1       0.78      0.22      0.35        94\n",
      "\n",
      "    accuracy                           0.76       333\n",
      "   macro avg       0.77      0.60      0.60       333\n",
      "weighted avg       0.77      0.76      0.71       333\n"
     ]
    }
   ],
   "source": [
    "testing(y_test,y_pred)"
   ],
   "metadata": {
    "collapsed": false,
    "ExecuteTime": {
     "end_time": "2023-10-26T09:22:30.454803Z",
     "start_time": "2023-10-26T09:22:30.391338Z"
    }
   },
   "id": "2a8b4701616789f1"
  },
  {
   "cell_type": "markdown",
   "source": [
    "##### MultinomialNB"
   ],
   "metadata": {
    "collapsed": false
   },
   "id": "42bb091b927d11d3"
  },
  {
   "cell_type": "code",
   "execution_count": 268,
   "outputs": [],
   "source": [
    "from sklearn.naive_bayes import MultinomialNB"
   ],
   "metadata": {
    "collapsed": false,
    "ExecuteTime": {
     "end_time": "2023-10-26T09:22:30.455403Z",
     "start_time": "2023-10-26T09:22:30.397798Z"
    }
   },
   "id": "f7fcefe7a46864c2"
  },
  {
   "cell_type": "code",
   "execution_count": 269,
   "outputs": [
    {
     "ename": "ValueError",
     "evalue": "Negative values in data passed to MultinomialNB (input X)",
     "output_type": "error",
     "traceback": [
      "\u001B[0;31m---------------------------------------------------------------------------\u001B[0m",
      "\u001B[0;31mValueError\u001B[0m                                Traceback (most recent call last)",
      "Cell \u001B[0;32mIn[269], line 2\u001B[0m\n\u001B[1;32m      1\u001B[0m mult \u001B[38;5;241m=\u001B[39m MultinomialNB()\n\u001B[0;32m----> 2\u001B[0m mult\u001B[38;5;241m.\u001B[39mfit(X_train, y_train)\n\u001B[1;32m      3\u001B[0m y_pred \u001B[38;5;241m=\u001B[39m mult\u001B[38;5;241m.\u001B[39mpredict(X_test)\n",
      "File \u001B[0;32m/opt/homebrew/Caskroom/miniconda/base/envs/LabIACD/lib/python3.11/site-packages/sklearn/base.py:1151\u001B[0m, in \u001B[0;36m_fit_context.<locals>.decorator.<locals>.wrapper\u001B[0;34m(estimator, *args, **kwargs)\u001B[0m\n\u001B[1;32m   1144\u001B[0m     estimator\u001B[38;5;241m.\u001B[39m_validate_params()\n\u001B[1;32m   1146\u001B[0m \u001B[38;5;28;01mwith\u001B[39;00m config_context(\n\u001B[1;32m   1147\u001B[0m     skip_parameter_validation\u001B[38;5;241m=\u001B[39m(\n\u001B[1;32m   1148\u001B[0m         prefer_skip_nested_validation \u001B[38;5;129;01mor\u001B[39;00m global_skip_validation\n\u001B[1;32m   1149\u001B[0m     )\n\u001B[1;32m   1150\u001B[0m ):\n\u001B[0;32m-> 1151\u001B[0m     \u001B[38;5;28;01mreturn\u001B[39;00m fit_method(estimator, \u001B[38;5;241m*\u001B[39margs, \u001B[38;5;241m*\u001B[39m\u001B[38;5;241m*\u001B[39mkwargs)\n",
      "File \u001B[0;32m/opt/homebrew/Caskroom/miniconda/base/envs/LabIACD/lib/python3.11/site-packages/sklearn/naive_bayes.py:772\u001B[0m, in \u001B[0;36m_BaseDiscreteNB.fit\u001B[0;34m(self, X, y, sample_weight)\u001B[0m\n\u001B[1;32m    770\u001B[0m n_classes \u001B[38;5;241m=\u001B[39m Y\u001B[38;5;241m.\u001B[39mshape[\u001B[38;5;241m1\u001B[39m]\n\u001B[1;32m    771\u001B[0m \u001B[38;5;28mself\u001B[39m\u001B[38;5;241m.\u001B[39m_init_counters(n_classes, n_features)\n\u001B[0;32m--> 772\u001B[0m \u001B[38;5;28mself\u001B[39m\u001B[38;5;241m.\u001B[39m_count(X, Y)\n\u001B[1;32m    773\u001B[0m alpha \u001B[38;5;241m=\u001B[39m \u001B[38;5;28mself\u001B[39m\u001B[38;5;241m.\u001B[39m_check_alpha()\n\u001B[1;32m    774\u001B[0m \u001B[38;5;28mself\u001B[39m\u001B[38;5;241m.\u001B[39m_update_feature_log_prob(alpha)\n",
      "File \u001B[0;32m/opt/homebrew/Caskroom/miniconda/base/envs/LabIACD/lib/python3.11/site-packages/sklearn/naive_bayes.py:894\u001B[0m, in \u001B[0;36mMultinomialNB._count\u001B[0;34m(self, X, Y)\u001B[0m\n\u001B[1;32m    892\u001B[0m \u001B[38;5;28;01mdef\u001B[39;00m \u001B[38;5;21m_count\u001B[39m(\u001B[38;5;28mself\u001B[39m, X, Y):\n\u001B[1;32m    893\u001B[0m \u001B[38;5;250m    \u001B[39m\u001B[38;5;124;03m\"\"\"Count and smooth feature occurrences.\"\"\"\u001B[39;00m\n\u001B[0;32m--> 894\u001B[0m     check_non_negative(X, \u001B[38;5;124m\"\u001B[39m\u001B[38;5;124mMultinomialNB (input X)\u001B[39m\u001B[38;5;124m\"\u001B[39m)\n\u001B[1;32m    895\u001B[0m     \u001B[38;5;28mself\u001B[39m\u001B[38;5;241m.\u001B[39mfeature_count_ \u001B[38;5;241m+\u001B[39m\u001B[38;5;241m=\u001B[39m safe_sparse_dot(Y\u001B[38;5;241m.\u001B[39mT, X)\n\u001B[1;32m    896\u001B[0m     \u001B[38;5;28mself\u001B[39m\u001B[38;5;241m.\u001B[39mclass_count_ \u001B[38;5;241m+\u001B[39m\u001B[38;5;241m=\u001B[39m Y\u001B[38;5;241m.\u001B[39msum(axis\u001B[38;5;241m=\u001B[39m\u001B[38;5;241m0\u001B[39m)\n",
      "File \u001B[0;32m/opt/homebrew/Caskroom/miniconda/base/envs/LabIACD/lib/python3.11/site-packages/sklearn/utils/validation.py:1490\u001B[0m, in \u001B[0;36mcheck_non_negative\u001B[0;34m(X, whom)\u001B[0m\n\u001B[1;32m   1487\u001B[0m     X_min \u001B[38;5;241m=\u001B[39m xp\u001B[38;5;241m.\u001B[39mmin(X)\n\u001B[1;32m   1489\u001B[0m \u001B[38;5;28;01mif\u001B[39;00m X_min \u001B[38;5;241m<\u001B[39m \u001B[38;5;241m0\u001B[39m:\n\u001B[0;32m-> 1490\u001B[0m     \u001B[38;5;28;01mraise\u001B[39;00m \u001B[38;5;167;01mValueError\u001B[39;00m(\u001B[38;5;124m\"\u001B[39m\u001B[38;5;124mNegative values in data passed to \u001B[39m\u001B[38;5;132;01m%s\u001B[39;00m\u001B[38;5;124m\"\u001B[39m \u001B[38;5;241m%\u001B[39m whom)\n",
      "\u001B[0;31mValueError\u001B[0m: Negative values in data passed to MultinomialNB (input X)"
     ]
    }
   ],
   "source": [
    "mult = MultinomialNB()\n",
    "mult.fit(X_train, y_train)\n",
    "y_pred = mult.predict(X_test)"
   ],
   "metadata": {
    "collapsed": false,
    "ExecuteTime": {
     "end_time": "2023-10-26T09:22:30.458345Z",
     "start_time": "2023-10-26T09:22:30.402398Z"
    }
   },
   "id": "d822ad13100866bf"
  },
  {
   "cell_type": "code",
   "execution_count": null,
   "outputs": [],
   "source": [
    "testing(y_test,y_pred)"
   ],
   "metadata": {
    "collapsed": false,
    "ExecuteTime": {
     "start_time": "2023-10-26T09:22:30.447187Z"
    }
   },
   "id": "65220e83f95ba2bc"
  },
  {
   "cell_type": "markdown",
   "source": [
    "##### BernoulliNB"
   ],
   "metadata": {
    "collapsed": false
   },
   "id": "263ce92d8c434a9d"
  },
  {
   "cell_type": "code",
   "execution_count": 270,
   "outputs": [],
   "source": [
    "from sklearn.naive_bayes import BernoulliNB\n",
    "bern = BernoulliNB()\n",
    "bern.fit(X_train, y_train)\n",
    "y_pred = bern.predict(X_test)"
   ],
   "metadata": {
    "collapsed": false,
    "ExecuteTime": {
     "end_time": "2023-10-26T09:22:56.258281Z",
     "start_time": "2023-10-26T09:22:56.011230Z"
    }
   },
   "id": "ddf3800f99e8d934"
  },
  {
   "cell_type": "code",
   "execution_count": 271,
   "outputs": [
    {
     "name": "stdout",
     "output_type": "stream",
     "text": [
      "Accuracy: 0.7267267267267268\n",
      "Classification Report:\n",
      "               precision    recall  f1-score   support\n",
      "\n",
      "           0       0.73      0.99      0.84       239\n",
      "           1       0.71      0.05      0.10        94\n",
      "\n",
      "    accuracy                           0.73       333\n",
      "   macro avg       0.72      0.52      0.47       333\n",
      "weighted avg       0.72      0.73      0.63       333\n"
     ]
    }
   ],
   "source": [
    "testing(y_test,y_pred)"
   ],
   "metadata": {
    "collapsed": false,
    "ExecuteTime": {
     "end_time": "2023-10-26T09:22:56.372722Z",
     "start_time": "2023-10-26T09:22:56.021618Z"
    }
   },
   "id": "f4798d397eccf798"
  },
  {
   "cell_type": "markdown",
   "source": [
    "#### Logistic Regression"
   ],
   "metadata": {
    "collapsed": false
   },
   "id": "f7509d065f47c6a4"
  },
  {
   "cell_type": "code",
   "execution_count": 272,
   "outputs": [],
   "source": [
    "from sklearn.linear_model import LogisticRegression"
   ],
   "metadata": {
    "collapsed": false,
    "ExecuteTime": {
     "end_time": "2023-10-26T09:22:56.374427Z",
     "start_time": "2023-10-26T09:22:56.029048Z"
    }
   },
   "id": "5beb1b02dc8c3edf"
  },
  {
   "cell_type": "code",
   "execution_count": 273,
   "outputs": [],
   "source": [
    "lregress = LogisticRegression()\n",
    "lregress.fit(X_train, y_train)\n",
    "y_pred = lregress.predict(X_test)"
   ],
   "metadata": {
    "collapsed": false,
    "ExecuteTime": {
     "end_time": "2023-10-26T09:22:56.402596Z",
     "start_time": "2023-10-26T09:22:56.033186Z"
    }
   },
   "id": "71c3269da651251e"
  },
  {
   "cell_type": "code",
   "execution_count": 274,
   "outputs": [
    {
     "name": "stdout",
     "output_type": "stream",
     "text": [
      "Accuracy: 0.2822822822822823\n",
      "Classification Report:\n",
      "               precision    recall  f1-score   support\n",
      "\n",
      "           0       1.00      0.00      0.00       239\n",
      "           1       0.28      1.00      0.44        94\n",
      "\n",
      "    accuracy                           0.28       333\n",
      "   macro avg       0.64      0.50      0.22       333\n",
      "weighted avg       0.80      0.28      0.12       333\n"
     ]
    }
   ],
   "source": [
    "testing(y_test,y_pred)"
   ],
   "metadata": {
    "collapsed": false,
    "ExecuteTime": {
     "end_time": "2023-10-26T09:22:56.403062Z",
     "start_time": "2023-10-26T09:22:56.129579Z"
    }
   },
   "id": "6c23a0f178e6fcca"
  },
  {
   "cell_type": "markdown",
   "source": [
    "#### XGBoost/LightGBM (Gradient Boosting)"
   ],
   "metadata": {
    "collapsed": false
   },
   "id": "805e95ac88ac4d60"
  },
  {
   "cell_type": "markdown",
   "source": [
    "##### XGBoost"
   ],
   "metadata": {
    "collapsed": false
   },
   "id": "7feaf3ae0f735598"
  },
  {
   "cell_type": "code",
   "execution_count": 275,
   "outputs": [],
   "source": [
    "import xgboost as xgb"
   ],
   "metadata": {
    "collapsed": false,
    "ExecuteTime": {
     "end_time": "2023-10-26T09:22:56.403289Z",
     "start_time": "2023-10-26T09:22:56.148521Z"
    }
   },
   "id": "a3b2bf6437c53631"
  },
  {
   "cell_type": "code",
   "execution_count": 276,
   "outputs": [],
   "source": [
    "model = xgb.XGBClassifier()\n",
    "model.fit(X_train, y_train)\n",
    "y_pred = model.predict(X_test)\n"
   ],
   "metadata": {
    "collapsed": false,
    "ExecuteTime": {
     "end_time": "2023-10-26T09:22:56.613526Z",
     "start_time": "2023-10-26T09:22:56.154081Z"
    }
   },
   "id": "3f0c70fbbe553b54"
  },
  {
   "cell_type": "code",
   "execution_count": 277,
   "outputs": [
    {
     "name": "stdout",
     "output_type": "stream",
     "text": [
      "Accuracy: 0.8828828828828829\n",
      "Classification Report:\n",
      "               precision    recall  f1-score   support\n",
      "\n",
      "           0       0.91      0.92      0.92       239\n",
      "           1       0.80      0.78      0.79        94\n",
      "\n",
      "    accuracy                           0.88       333\n",
      "   macro avg       0.86      0.85      0.85       333\n",
      "weighted avg       0.88      0.88      0.88       333\n"
     ]
    }
   ],
   "source": [
    "testing(y_test,y_pred)"
   ],
   "metadata": {
    "collapsed": false,
    "ExecuteTime": {
     "end_time": "2023-10-26T09:22:56.620571Z",
     "start_time": "2023-10-26T09:22:56.613652Z"
    }
   },
   "id": "88e47706d7912d44"
  },
  {
   "cell_type": "markdown",
   "source": [
    "##### LightGBM"
   ],
   "metadata": {
    "collapsed": false
   },
   "id": "933332c3c37b3c6f"
  },
  {
   "cell_type": "code",
   "execution_count": 278,
   "outputs": [],
   "source": [
    "import lightgbm as lgb"
   ],
   "metadata": {
    "collapsed": false,
    "ExecuteTime": {
     "end_time": "2023-10-26T09:22:56.622976Z",
     "start_time": "2023-10-26T09:22:56.619628Z"
    }
   },
   "id": "7f02a9a1a4135fa0"
  },
  {
   "cell_type": "code",
   "execution_count": 279,
   "outputs": [],
   "source": [
    "model = lgb.LGBMClassifier()\n",
    "model.fit(X_train, y_train)\n",
    "y_pred = model.predict(X_test)"
   ],
   "metadata": {
    "collapsed": false,
    "ExecuteTime": {
     "end_time": "2023-10-26T09:22:56.776551Z",
     "start_time": "2023-10-26T09:22:56.622235Z"
    }
   },
   "id": "327115aa050e7c5a"
  },
  {
   "cell_type": "code",
   "execution_count": 280,
   "outputs": [
    {
     "name": "stdout",
     "output_type": "stream",
     "text": [
      "Accuracy: 0.8918918918918919\n",
      "Classification Report:\n",
      "               precision    recall  f1-score   support\n",
      "\n",
      "           0       0.92      0.93      0.93       239\n",
      "           1       0.82      0.79      0.80        94\n",
      "\n",
      "    accuracy                           0.89       333\n",
      "   macro avg       0.87      0.86      0.86       333\n",
      "weighted avg       0.89      0.89      0.89       333\n"
     ]
    }
   ],
   "source": [
    "testing(y_test,y_pred)"
   ],
   "metadata": {
    "collapsed": false,
    "ExecuteTime": {
     "end_time": "2023-10-26T09:22:56.776912Z",
     "start_time": "2023-10-26T09:22:56.769341Z"
    }
   },
   "id": "e9e90ec07c89eaf1"
  },
  {
   "cell_type": "code",
   "execution_count": 280,
   "outputs": [],
   "source": [],
   "metadata": {
    "collapsed": false,
    "ExecuteTime": {
     "end_time": "2023-10-26T09:22:56.776984Z",
     "start_time": "2023-10-26T09:22:56.775346Z"
    }
   },
   "id": "eb69d41ad1a94c19"
  },
  {
   "cell_type": "code",
   "execution_count": 280,
   "outputs": [],
   "source": [],
   "metadata": {
    "collapsed": false,
    "ExecuteTime": {
     "end_time": "2023-10-26T09:22:56.791220Z",
     "start_time": "2023-10-26T09:22:56.777273Z"
    }
   },
   "id": "ee594dc505911a34"
  },
  {
   "cell_type": "code",
   "execution_count": 280,
   "outputs": [],
   "source": [],
   "metadata": {
    "collapsed": false,
    "ExecuteTime": {
     "end_time": "2023-10-26T09:22:56.791385Z",
     "start_time": "2023-10-26T09:22:56.781Z"
    }
   },
   "id": "f11fe6c45a57aea1"
  }
 ],
 "metadata": {
  "kernelspec": {
   "display_name": "Python 3 (ipykernel)",
   "language": "python",
   "name": "python3"
  },
  "language_info": {
   "codemirror_mode": {
    "name": "ipython",
    "version": 3
   },
   "file_extension": ".py",
   "mimetype": "text/x-python",
   "name": "python",
   "nbconvert_exporter": "python",
   "pygments_lexer": "ipython3",
   "version": "3.9.13"
  }
 },
 "nbformat": 4,
 "nbformat_minor": 5
}
