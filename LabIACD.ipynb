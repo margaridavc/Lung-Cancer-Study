{
 "cells": [
  {
   "cell_type": "markdown",
   "id": "f726fa86fffdd98c",
   "metadata": {},
   "source": [
    "# Lung Cancer"
   ]
  },
  {
   "cell_type": "markdown",
   "id": "b3e8ef7050497e56",
   "metadata": {},
   "source": [
    "## Get Radiomic Features from LIDC-IDRI"
   ]
  },
  {
   "cell_type": "markdown",
   "id": "338499ee5171f96a",
   "metadata": {},
   "source": [
    "### Imports"
   ]
  },
  {
   "cell_type": "code",
   "execution_count": null,
   "id": "8c9b6ef6d8da5220",
   "metadata": {
    "ExecuteTime": {
     "end_time": "2023-11-04T19:39:22.302591Z",
     "start_time": "2023-11-04T19:39:21.214575Z"
    }
   },
   "outputs": [],
   "source": [
    "import pylidc as pl\n",
    "from pylidc.utils import consensus\n",
    "import SimpleITK as sitk\n",
    "#from radiomics import featureextractor\n",
    "import pandas as pd\n",
    "from imblearn.over_sampling import SMOTE\n",
    "import statistics"
   ]
  },
  {
   "cell_type": "markdown",
   "id": "dfe2dc2891fdbaa4",
   "metadata": {},
   "source": [
    "### Get the dataset with all the features"
   ]
  },
  {
   "cell_type": "markdown",
   "id": "d61600a8",
   "metadata": {},
   "source": [
    "Using the python script below we are going to acess the information in the pylidc library and extract its features and calculating the mean or mode for all annotators as well as extracting all radiomics features"
   ]
  },
  {
   "cell_type": "code",
   "execution_count": null,
   "id": "867b4e20f90029e8",
   "metadata": {},
   "outputs": [],
   "source": [
    "\n",
    "# Initialize the feature extractor\n",
    "extractor = featureextractor.RadiomicsFeatureExtractor()\n",
    "\n",
    "# Get the list of additional features from pl.annotation_feature_names\n",
    "additional_features = pl.annotation_feature_names\n",
    "\n",
    "# Query the LIDC-IDRI dataset for scans with annotations\n",
    "scans_with_annotations = pl.query(pl.Scan).filter(pl.Scan.annotations.any()).all()\n",
    "\n",
    "# Lists to store the extracted features and patient IDs\n",
    "features_list = []\n",
    "\n",
    "# Variable to create unique IDs for the nodules\n",
    "nodule_id_counter = 1\n",
    "\n",
    "#weights = {1: 0.18745, 2: 0.34375, 3: 0.65625, 4: 1.28125, 5: 2.53125}\n",
    "\n",
    "\n",
    "# Iterating through all scans with annotations\n",
    "for scan in scans_with_annotations:\n",
    "    # Get the patient ID\n",
    "    patient_id = scan.patient_id\n",
    "\n",
    "    # Clusterize the annotations for the scan and retrieve all annotations\n",
    "    nods = scan.cluster_annotations()\n",
    "\n",
    "    # Iterating through all nodules of the patient\n",
    "    for anns in nods:\n",
    "        # Check if the current nodule has annotations\n",
    "        if anns:\n",
    "            # Convert consensus annotations into a mask\n",
    "            cmask, _, _ = pl.utils.consensus(anns, clevel=0.5, pad=[(20, 20), (20, 20), (0, 0)])\n",
    "\n",
    "            # Convert the pixel array to a SimpleITK image\n",
    "            image = sitk.GetImageFromArray(cmask.astype(float))\n",
    "\n",
    "            # Extract radiomic features using PyRadiomics\n",
    "            features = extractor.execute(image, image, label=1)  # Use label 1 for the nodule\n",
    "\n",
    "            # Add the patient ID to the features\n",
    "            features['Patient_ID'] = patient_id\n",
    "\n",
    "            # Add a unique ID for the nodule\n",
    "            features['Nodule_ID'] = f'Nodule_{nodule_id_counter}'\n",
    "            nodule_id_counter += 1\n",
    "\n",
    "            def calculate_value(value):\n",
    "                try:\n",
    "                    return statistics.mode(value)\n",
    "                except statistics.StatisticsError:\n",
    "                    return np.mean(value)\n",
    "\n",
    "\n",
    "            def  calculate_mean(value):\n",
    "                return np.mean(value)\n",
    "            \n",
    "            subtlety_value = calculate_value([ann.subtlety for ann in anns])\n",
    "            internalStructure_value = calculate_value([ann.internalStructure for ann in anns])\n",
    "            calcification_value = calculate_value([ann.calcification for ann in anns])\n",
    "            sphericity_value = calculate_value([ann.sphericity for ann in anns])\n",
    "            margin_value = calculate_value([ann.margin for ann in anns])\n",
    "            lobulation_value = calculate_value([ann.lobulation for ann in anns])\n",
    "            spiculation_value = calculate_value([ann.spiculation for ann in anns])\n",
    "            texture_value = calculate_value([ann.texture for ann in anns])\n",
    "            malignancy_value = calculate_mean([ann.malignancy for ann in anns])\n",
    "            \n",
    "            #weighted_sum = sum(value*weights.get(value) for value in malignancy_value)\n",
    "            #total_weight = sum(weights.get(value) for value in malignancy_value)\n",
    "            #final_malignancy=weighted_sum/total_weight\n",
    "\n",
    "            # Add the additional features to the features dictionary\n",
    "            for feature_name in additional_features:\n",
    "                features['subtlety'] = subtlety_value\n",
    "                features['internalStructure'] = internalStructure_value\n",
    "                features['sphericity'] = sphericity_value\n",
    "                features['margin'] = margin_value\n",
    "                features['lobulation'] = lobulation_value\n",
    "                features['spiculation'] = spiculation_value\n",
    "                features['texture'] = texture_value\n",
    "                features['malignancy'] = malignancy_value # final_malignancy\n",
    "\n",
    "            # Add the features to the list\n",
    "            features_list.append(features)\n",
    "\n",
    "        # Create a DataFrame to store the features\n",
    "features_df = pd.DataFrame(features_list)\n",
    "\n",
    "# Save the features to a CSV file\n",
    "features_df.to_csv('radiomic_features.csv', index=False)\n"
   ]
  },
  {
   "cell_type": "markdown",
   "id": "23eea0d1c2b7cad1",
   "metadata": {},
   "source": [
    "## Data Clean-up"
   ]
  },
  {
   "cell_type": "markdown",
   "id": "82d53b77",
   "metadata": {},
   "source": [
    "Read and print the features dataset"
   ]
  },
  {
   "cell_type": "code",
   "execution_count": 149,
   "id": "f51d0300",
   "metadata": {
    "ExecuteTime": {
     "end_time": "2023-11-04T19:39:39.995189Z",
     "start_time": "2023-11-04T19:39:38.217325Z"
    }
   },
   "outputs": [
    {
     "data": {
      "text/html": [
       "<div>\n",
       "<style scoped>\n",
       "    .dataframe tbody tr th:only-of-type {\n",
       "        vertical-align: middle;\n",
       "    }\n",
       "\n",
       "    .dataframe tbody tr th {\n",
       "        vertical-align: top;\n",
       "    }\n",
       "\n",
       "    .dataframe thead th {\n",
       "        text-align: right;\n",
       "    }\n",
       "</style>\n",
       "<table border=\"1\" class=\"dataframe\">\n",
       "  <thead>\n",
       "    <tr style=\"text-align: right;\">\n",
       "      <th></th>\n",
       "      <th>diagnostics_Versions_PyRadiomics</th>\n",
       "      <th>diagnostics_Versions_Numpy</th>\n",
       "      <th>diagnostics_Versions_SimpleITK</th>\n",
       "      <th>diagnostics_Versions_PyWavelet</th>\n",
       "      <th>diagnostics_Versions_Python</th>\n",
       "      <th>diagnostics_Configuration_Settings</th>\n",
       "      <th>diagnostics_Configuration_EnabledImageTypes</th>\n",
       "      <th>diagnostics_Image-original_Hash</th>\n",
       "      <th>diagnostics_Image-original_Dimensionality</th>\n",
       "      <th>diagnostics_Image-original_Spacing</th>\n",
       "      <th>...</th>\n",
       "      <th>Patient_ID</th>\n",
       "      <th>Nodule_ID</th>\n",
       "      <th>subtlety</th>\n",
       "      <th>internalStructure</th>\n",
       "      <th>sphericity</th>\n",
       "      <th>margin</th>\n",
       "      <th>lobulation</th>\n",
       "      <th>spiculation</th>\n",
       "      <th>texture</th>\n",
       "      <th>malignancy</th>\n",
       "    </tr>\n",
       "  </thead>\n",
       "  <tbody>\n",
       "    <tr>\n",
       "      <th>0</th>\n",
       "      <td>v3.0.1</td>\n",
       "      <td>1.23.5</td>\n",
       "      <td>2.3.0-g277b7</td>\n",
       "      <td>1.4.1</td>\n",
       "      <td>3.11.5</td>\n",
       "      <td>{'minimumROIDimensions': 2, 'minimumROISize': ...</td>\n",
       "      <td>{'Original': {}}</td>\n",
       "      <td>966db6c8d814983bbfe7125907b2ae5008c7994e</td>\n",
       "      <td>3D</td>\n",
       "      <td>(1.0, 1.0, 1.0)</td>\n",
       "      <td>...</td>\n",
       "      <td>LIDC-IDRI-0078</td>\n",
       "      <td>Nodule_1</td>\n",
       "      <td>4</td>\n",
       "      <td>1</td>\n",
       "      <td>4</td>\n",
       "      <td>4</td>\n",
       "      <td>2</td>\n",
       "      <td>2</td>\n",
       "      <td>5</td>\n",
       "      <td>3.75</td>\n",
       "    </tr>\n",
       "    <tr>\n",
       "      <th>1</th>\n",
       "      <td>v3.0.1</td>\n",
       "      <td>1.23.5</td>\n",
       "      <td>2.3.0-g277b7</td>\n",
       "      <td>1.4.1</td>\n",
       "      <td>3.11.5</td>\n",
       "      <td>{'minimumROIDimensions': 2, 'minimumROISize': ...</td>\n",
       "      <td>{'Original': {}}</td>\n",
       "      <td>d750f93365c734f6f1972e806b046bb1a203f47f</td>\n",
       "      <td>3D</td>\n",
       "      <td>(1.0, 1.0, 1.0)</td>\n",
       "      <td>...</td>\n",
       "      <td>LIDC-IDRI-0078</td>\n",
       "      <td>Nodule_2</td>\n",
       "      <td>5</td>\n",
       "      <td>1</td>\n",
       "      <td>4</td>\n",
       "      <td>2</td>\n",
       "      <td>4</td>\n",
       "      <td>1</td>\n",
       "      <td>5</td>\n",
       "      <td>3.75</td>\n",
       "    </tr>\n",
       "    <tr>\n",
       "      <th>2</th>\n",
       "      <td>v3.0.1</td>\n",
       "      <td>1.23.5</td>\n",
       "      <td>2.3.0-g277b7</td>\n",
       "      <td>1.4.1</td>\n",
       "      <td>3.11.5</td>\n",
       "      <td>{'minimumROIDimensions': 2, 'minimumROISize': ...</td>\n",
       "      <td>{'Original': {}}</td>\n",
       "      <td>58d9ee5073ad7215556c1e295a67e9204a623b2d</td>\n",
       "      <td>3D</td>\n",
       "      <td>(1.0, 1.0, 1.0)</td>\n",
       "      <td>...</td>\n",
       "      <td>LIDC-IDRI-0078</td>\n",
       "      <td>Nodule_3</td>\n",
       "      <td>4</td>\n",
       "      <td>1</td>\n",
       "      <td>5</td>\n",
       "      <td>5</td>\n",
       "      <td>1</td>\n",
       "      <td>1</td>\n",
       "      <td>5</td>\n",
       "      <td>1.00</td>\n",
       "    </tr>\n",
       "    <tr>\n",
       "      <th>3</th>\n",
       "      <td>v3.0.1</td>\n",
       "      <td>1.23.5</td>\n",
       "      <td>2.3.0-g277b7</td>\n",
       "      <td>1.4.1</td>\n",
       "      <td>3.11.5</td>\n",
       "      <td>{'minimumROIDimensions': 2, 'minimumROISize': ...</td>\n",
       "      <td>{'Original': {}}</td>\n",
       "      <td>312913e3e22bc6f2e6cffc8abd1120da5fa413fd</td>\n",
       "      <td>3D</td>\n",
       "      <td>(1.0, 1.0, 1.0)</td>\n",
       "      <td>...</td>\n",
       "      <td>LIDC-IDRI-0078</td>\n",
       "      <td>Nodule_4</td>\n",
       "      <td>5</td>\n",
       "      <td>1</td>\n",
       "      <td>4</td>\n",
       "      <td>2</td>\n",
       "      <td>4</td>\n",
       "      <td>3</td>\n",
       "      <td>5</td>\n",
       "      <td>4.25</td>\n",
       "    </tr>\n",
       "    <tr>\n",
       "      <th>4</th>\n",
       "      <td>v3.0.1</td>\n",
       "      <td>1.23.5</td>\n",
       "      <td>2.3.0-g277b7</td>\n",
       "      <td>1.4.1</td>\n",
       "      <td>3.11.5</td>\n",
       "      <td>{'minimumROIDimensions': 2, 'minimumROISize': ...</td>\n",
       "      <td>{'Original': {}}</td>\n",
       "      <td>08706c40effcb9f7489dc9ce0139a265b8dc6048</td>\n",
       "      <td>3D</td>\n",
       "      <td>(1.0, 1.0, 1.0)</td>\n",
       "      <td>...</td>\n",
       "      <td>LIDC-IDRI-0069</td>\n",
       "      <td>Nodule_5</td>\n",
       "      <td>3</td>\n",
       "      <td>1</td>\n",
       "      <td>5</td>\n",
       "      <td>5</td>\n",
       "      <td>5</td>\n",
       "      <td>5</td>\n",
       "      <td>5</td>\n",
       "      <td>3.25</td>\n",
       "    </tr>\n",
       "    <tr>\n",
       "      <th>...</th>\n",
       "      <td>...</td>\n",
       "      <td>...</td>\n",
       "      <td>...</td>\n",
       "      <td>...</td>\n",
       "      <td>...</td>\n",
       "      <td>...</td>\n",
       "      <td>...</td>\n",
       "      <td>...</td>\n",
       "      <td>...</td>\n",
       "      <td>...</td>\n",
       "      <td>...</td>\n",
       "      <td>...</td>\n",
       "      <td>...</td>\n",
       "      <td>...</td>\n",
       "      <td>...</td>\n",
       "      <td>...</td>\n",
       "      <td>...</td>\n",
       "      <td>...</td>\n",
       "      <td>...</td>\n",
       "      <td>...</td>\n",
       "      <td>...</td>\n",
       "    </tr>\n",
       "    <tr>\n",
       "      <th>2646</th>\n",
       "      <td>v3.0.1</td>\n",
       "      <td>1.23.5</td>\n",
       "      <td>2.3.0-g277b7</td>\n",
       "      <td>1.4.1</td>\n",
       "      <td>3.11.5</td>\n",
       "      <td>{'minimumROIDimensions': 2, 'minimumROISize': ...</td>\n",
       "      <td>{'Original': {}}</td>\n",
       "      <td>db18dcbfdf1ebd1c1390db9dd1fbfd85cce4724b</td>\n",
       "      <td>3D</td>\n",
       "      <td>(1.0, 1.0, 1.0)</td>\n",
       "      <td>...</td>\n",
       "      <td>LIDC-IDRI-0639</td>\n",
       "      <td>Nodule_2647</td>\n",
       "      <td>4</td>\n",
       "      <td>1</td>\n",
       "      <td>4</td>\n",
       "      <td>4</td>\n",
       "      <td>2</td>\n",
       "      <td>2</td>\n",
       "      <td>5</td>\n",
       "      <td>4.00</td>\n",
       "    </tr>\n",
       "    <tr>\n",
       "      <th>2647</th>\n",
       "      <td>v3.0.1</td>\n",
       "      <td>1.23.5</td>\n",
       "      <td>2.3.0-g277b7</td>\n",
       "      <td>1.4.1</td>\n",
       "      <td>3.11.5</td>\n",
       "      <td>{'minimumROIDimensions': 2, 'minimumROISize': ...</td>\n",
       "      <td>{'Original': {}}</td>\n",
       "      <td>fe63df501e056c7f875ab771151194481c70a0b1</td>\n",
       "      <td>3D</td>\n",
       "      <td>(1.0, 1.0, 1.0)</td>\n",
       "      <td>...</td>\n",
       "      <td>LIDC-IDRI-0639</td>\n",
       "      <td>Nodule_2648</td>\n",
       "      <td>1</td>\n",
       "      <td>1</td>\n",
       "      <td>4</td>\n",
       "      <td>1</td>\n",
       "      <td>1</td>\n",
       "      <td>1</td>\n",
       "      <td>1</td>\n",
       "      <td>3.50</td>\n",
       "    </tr>\n",
       "    <tr>\n",
       "      <th>2648</th>\n",
       "      <td>v3.0.1</td>\n",
       "      <td>1.23.5</td>\n",
       "      <td>2.3.0-g277b7</td>\n",
       "      <td>1.4.1</td>\n",
       "      <td>3.11.5</td>\n",
       "      <td>{'minimumROIDimensions': 2, 'minimumROISize': ...</td>\n",
       "      <td>{'Original': {}}</td>\n",
       "      <td>e25d0da08cbc45ea3587c9426cc102940176a4de</td>\n",
       "      <td>3D</td>\n",
       "      <td>(1.0, 1.0, 1.0)</td>\n",
       "      <td>...</td>\n",
       "      <td>LIDC-IDRI-0638</td>\n",
       "      <td>Nodule_2649</td>\n",
       "      <td>2</td>\n",
       "      <td>1</td>\n",
       "      <td>4</td>\n",
       "      <td>3</td>\n",
       "      <td>1</td>\n",
       "      <td>1</td>\n",
       "      <td>5</td>\n",
       "      <td>3.50</td>\n",
       "    </tr>\n",
       "    <tr>\n",
       "      <th>2649</th>\n",
       "      <td>v3.0.1</td>\n",
       "      <td>1.23.5</td>\n",
       "      <td>2.3.0-g277b7</td>\n",
       "      <td>1.4.1</td>\n",
       "      <td>3.11.5</td>\n",
       "      <td>{'minimumROIDimensions': 2, 'minimumROISize': ...</td>\n",
       "      <td>{'Original': {}}</td>\n",
       "      <td>5888efc13966913742433819826d00f4d79f0c24</td>\n",
       "      <td>3D</td>\n",
       "      <td>(1.0, 1.0, 1.0)</td>\n",
       "      <td>...</td>\n",
       "      <td>LIDC-IDRI-0638</td>\n",
       "      <td>Nodule_2650</td>\n",
       "      <td>5</td>\n",
       "      <td>1</td>\n",
       "      <td>4</td>\n",
       "      <td>5</td>\n",
       "      <td>1</td>\n",
       "      <td>1</td>\n",
       "      <td>5</td>\n",
       "      <td>2.00</td>\n",
       "    </tr>\n",
       "    <tr>\n",
       "      <th>2650</th>\n",
       "      <td>v3.0.1</td>\n",
       "      <td>1.23.5</td>\n",
       "      <td>2.3.0-g277b7</td>\n",
       "      <td>1.4.1</td>\n",
       "      <td>3.11.5</td>\n",
       "      <td>{'minimumROIDimensions': 2, 'minimumROISize': ...</td>\n",
       "      <td>{'Original': {}}</td>\n",
       "      <td>13269d945ba36fb2fbefd307f1fa513918911e5c</td>\n",
       "      <td>3D</td>\n",
       "      <td>(1.0, 1.0, 1.0)</td>\n",
       "      <td>...</td>\n",
       "      <td>LIDC-IDRI-0127</td>\n",
       "      <td>Nodule_2651</td>\n",
       "      <td>5</td>\n",
       "      <td>1</td>\n",
       "      <td>5</td>\n",
       "      <td>5</td>\n",
       "      <td>4</td>\n",
       "      <td>5</td>\n",
       "      <td>5</td>\n",
       "      <td>2.50</td>\n",
       "    </tr>\n",
       "  </tbody>\n",
       "</table>\n",
       "<p>2651 rows × 139 columns</p>\n",
       "</div>"
      ],
      "text/plain": [
       "     diagnostics_Versions_PyRadiomics diagnostics_Versions_Numpy  \\\n",
       "0                              v3.0.1                     1.23.5   \n",
       "1                              v3.0.1                     1.23.5   \n",
       "2                              v3.0.1                     1.23.5   \n",
       "3                              v3.0.1                     1.23.5   \n",
       "4                              v3.0.1                     1.23.5   \n",
       "...                               ...                        ...   \n",
       "2646                           v3.0.1                     1.23.5   \n",
       "2647                           v3.0.1                     1.23.5   \n",
       "2648                           v3.0.1                     1.23.5   \n",
       "2649                           v3.0.1                     1.23.5   \n",
       "2650                           v3.0.1                     1.23.5   \n",
       "\n",
       "     diagnostics_Versions_SimpleITK diagnostics_Versions_PyWavelet  \\\n",
       "0                      2.3.0-g277b7                          1.4.1   \n",
       "1                      2.3.0-g277b7                          1.4.1   \n",
       "2                      2.3.0-g277b7                          1.4.1   \n",
       "3                      2.3.0-g277b7                          1.4.1   \n",
       "4                      2.3.0-g277b7                          1.4.1   \n",
       "...                             ...                            ...   \n",
       "2646                   2.3.0-g277b7                          1.4.1   \n",
       "2647                   2.3.0-g277b7                          1.4.1   \n",
       "2648                   2.3.0-g277b7                          1.4.1   \n",
       "2649                   2.3.0-g277b7                          1.4.1   \n",
       "2650                   2.3.0-g277b7                          1.4.1   \n",
       "\n",
       "     diagnostics_Versions_Python  \\\n",
       "0                         3.11.5   \n",
       "1                         3.11.5   \n",
       "2                         3.11.5   \n",
       "3                         3.11.5   \n",
       "4                         3.11.5   \n",
       "...                          ...   \n",
       "2646                      3.11.5   \n",
       "2647                      3.11.5   \n",
       "2648                      3.11.5   \n",
       "2649                      3.11.5   \n",
       "2650                      3.11.5   \n",
       "\n",
       "                     diagnostics_Configuration_Settings  \\\n",
       "0     {'minimumROIDimensions': 2, 'minimumROISize': ...   \n",
       "1     {'minimumROIDimensions': 2, 'minimumROISize': ...   \n",
       "2     {'minimumROIDimensions': 2, 'minimumROISize': ...   \n",
       "3     {'minimumROIDimensions': 2, 'minimumROISize': ...   \n",
       "4     {'minimumROIDimensions': 2, 'minimumROISize': ...   \n",
       "...                                                 ...   \n",
       "2646  {'minimumROIDimensions': 2, 'minimumROISize': ...   \n",
       "2647  {'minimumROIDimensions': 2, 'minimumROISize': ...   \n",
       "2648  {'minimumROIDimensions': 2, 'minimumROISize': ...   \n",
       "2649  {'minimumROIDimensions': 2, 'minimumROISize': ...   \n",
       "2650  {'minimumROIDimensions': 2, 'minimumROISize': ...   \n",
       "\n",
       "     diagnostics_Configuration_EnabledImageTypes  \\\n",
       "0                               {'Original': {}}   \n",
       "1                               {'Original': {}}   \n",
       "2                               {'Original': {}}   \n",
       "3                               {'Original': {}}   \n",
       "4                               {'Original': {}}   \n",
       "...                                          ...   \n",
       "2646                            {'Original': {}}   \n",
       "2647                            {'Original': {}}   \n",
       "2648                            {'Original': {}}   \n",
       "2649                            {'Original': {}}   \n",
       "2650                            {'Original': {}}   \n",
       "\n",
       "               diagnostics_Image-original_Hash  \\\n",
       "0     966db6c8d814983bbfe7125907b2ae5008c7994e   \n",
       "1     d750f93365c734f6f1972e806b046bb1a203f47f   \n",
       "2     58d9ee5073ad7215556c1e295a67e9204a623b2d   \n",
       "3     312913e3e22bc6f2e6cffc8abd1120da5fa413fd   \n",
       "4     08706c40effcb9f7489dc9ce0139a265b8dc6048   \n",
       "...                                        ...   \n",
       "2646  db18dcbfdf1ebd1c1390db9dd1fbfd85cce4724b   \n",
       "2647  fe63df501e056c7f875ab771151194481c70a0b1   \n",
       "2648  e25d0da08cbc45ea3587c9426cc102940176a4de   \n",
       "2649  5888efc13966913742433819826d00f4d79f0c24   \n",
       "2650  13269d945ba36fb2fbefd307f1fa513918911e5c   \n",
       "\n",
       "     diagnostics_Image-original_Dimensionality  \\\n",
       "0                                           3D   \n",
       "1                                           3D   \n",
       "2                                           3D   \n",
       "3                                           3D   \n",
       "4                                           3D   \n",
       "...                                        ...   \n",
       "2646                                        3D   \n",
       "2647                                        3D   \n",
       "2648                                        3D   \n",
       "2649                                        3D   \n",
       "2650                                        3D   \n",
       "\n",
       "     diagnostics_Image-original_Spacing  ...      Patient_ID    Nodule_ID  \\\n",
       "0                       (1.0, 1.0, 1.0)  ...  LIDC-IDRI-0078     Nodule_1   \n",
       "1                       (1.0, 1.0, 1.0)  ...  LIDC-IDRI-0078     Nodule_2   \n",
       "2                       (1.0, 1.0, 1.0)  ...  LIDC-IDRI-0078     Nodule_3   \n",
       "3                       (1.0, 1.0, 1.0)  ...  LIDC-IDRI-0078     Nodule_4   \n",
       "4                       (1.0, 1.0, 1.0)  ...  LIDC-IDRI-0069     Nodule_5   \n",
       "...                                 ...  ...             ...          ...   \n",
       "2646                    (1.0, 1.0, 1.0)  ...  LIDC-IDRI-0639  Nodule_2647   \n",
       "2647                    (1.0, 1.0, 1.0)  ...  LIDC-IDRI-0639  Nodule_2648   \n",
       "2648                    (1.0, 1.0, 1.0)  ...  LIDC-IDRI-0638  Nodule_2649   \n",
       "2649                    (1.0, 1.0, 1.0)  ...  LIDC-IDRI-0638  Nodule_2650   \n",
       "2650                    (1.0, 1.0, 1.0)  ...  LIDC-IDRI-0127  Nodule_2651   \n",
       "\n",
       "      subtlety  internalStructure sphericity margin lobulation spiculation  \\\n",
       "0            4                  1          4      4          2           2   \n",
       "1            5                  1          4      2          4           1   \n",
       "2            4                  1          5      5          1           1   \n",
       "3            5                  1          4      2          4           3   \n",
       "4            3                  1          5      5          5           5   \n",
       "...        ...                ...        ...    ...        ...         ...   \n",
       "2646         4                  1          4      4          2           2   \n",
       "2647         1                  1          4      1          1           1   \n",
       "2648         2                  1          4      3          1           1   \n",
       "2649         5                  1          4      5          1           1   \n",
       "2650         5                  1          5      5          4           5   \n",
       "\n",
       "      texture  malignancy  \n",
       "0           5        3.75  \n",
       "1           5        3.75  \n",
       "2           5        1.00  \n",
       "3           5        4.25  \n",
       "4           5        3.25  \n",
       "...       ...         ...  \n",
       "2646        5        4.00  \n",
       "2647        1        3.50  \n",
       "2648        5        3.50  \n",
       "2649        5        2.00  \n",
       "2650        5        2.50  \n",
       "\n",
       "[2651 rows x 139 columns]"
      ]
     },
     "execution_count": 149,
     "metadata": {},
     "output_type": "execute_result"
    }
   ],
   "source": [
    "df = pd.read_csv('radiomic_features.csv')\n",
    "df"
   ]
  },
  {
   "cell_type": "markdown",
   "id": "e71e0a2b",
   "metadata": {},
   "source": [
    "Check if there are any null values\n",
    "\n",
    "#Since there are no null values we don´t need to perform any null value handling"
   ]
  },
  {
   "cell_type": "code",
   "execution_count": 150,
   "id": "e2eaa4fa",
   "metadata": {
    "ExecuteTime": {
     "end_time": "2023-11-04T19:39:40.061496Z",
     "start_time": "2023-11-04T19:39:38.286220Z"
    }
   },
   "outputs": [
    {
     "data": {
      "text/plain": [
       "diagnostics_Versions_PyRadiomics    0\n",
       "diagnostics_Versions_Numpy          0\n",
       "diagnostics_Versions_SimpleITK      0\n",
       "diagnostics_Versions_PyWavelet      0\n",
       "diagnostics_Versions_Python         0\n",
       "                                   ..\n",
       "margin                              0\n",
       "lobulation                          0\n",
       "spiculation                         0\n",
       "texture                             0\n",
       "malignancy                          0\n",
       "Length: 139, dtype: int64"
      ]
     },
     "execution_count": 150,
     "metadata": {},
     "output_type": "execute_result"
    }
   ],
   "source": [
    "df.isna().sum()"
   ]
  },
  {
   "cell_type": "markdown",
   "id": "35302b5a",
   "metadata": {},
   "source": [
    "Check if there are columns with only one value\n",
    "\n",
    "#A lot of columns have only one value, and we can conclude that they will not be helpful at predicting the label"
   ]
  },
  {
   "cell_type": "code",
   "execution_count": 151,
   "id": "9f6071ed",
   "metadata": {
    "ExecuteTime": {
     "end_time": "2023-11-04T19:39:40.198527Z",
     "start_time": "2023-11-04T19:39:38.293737Z"
    }
   },
   "outputs": [
    {
     "data": {
      "text/plain": [
       "[1,\n",
       " 1,\n",
       " 1,\n",
       " 1,\n",
       " 1,\n",
       " 1,\n",
       " 1,\n",
       " 2651,\n",
       " 1,\n",
       " 1,\n",
       " 1339,\n",
       " 2334,\n",
       " 1,\n",
       " 1,\n",
       " 2651,\n",
       " 1,\n",
       " 1339,\n",
       " 1856,\n",
       " 951,\n",
       " 6,\n",
       " 2651,\n",
       " 2651,\n",
       " 2651,\n",
       " 2570,\n",
       " 2570,\n",
       " 2651,\n",
       " 325,\n",
       " 394,\n",
       " 314,\n",
       " 658,\n",
       " 2347,\n",
       " 2651,\n",
       " 2650,\n",
       " 2650,\n",
       " 2650,\n",
       " 951,\n",
       " 1,\n",
       " 1,\n",
       " 951,\n",
       " 1,\n",
       " 1,\n",
       " 1,\n",
       " 1,\n",
       " 1,\n",
       " 1,\n",
       " 1,\n",
       " 1,\n",
       " 1,\n",
       " 1,\n",
       " 1,\n",
       " 1,\n",
       " 951,\n",
       " 1,\n",
       " 1,\n",
       " 1,\n",
       " 1,\n",
       " 1,\n",
       " 1,\n",
       " 1,\n",
       " 1,\n",
       " 1,\n",
       " 2,\n",
       " 1,\n",
       " 1,\n",
       " 1,\n",
       " 1,\n",
       " 1,\n",
       " 1,\n",
       " 1,\n",
       " 1,\n",
       " 1,\n",
       " 1,\n",
       " 2,\n",
       " 1,\n",
       " 1,\n",
       " 1,\n",
       " 2,\n",
       " 1,\n",
       " 2647,\n",
       " 2483,\n",
       " 2536,\n",
       " 2648,\n",
       " 951,\n",
       " 1,\n",
       " 1,\n",
       " 2641,\n",
       " 2641,\n",
       " 2641,\n",
       " 1,\n",
       " 2650,\n",
       " 2650,\n",
       " 2650,\n",
       " 1668,\n",
       " 1,\n",
       " 1,\n",
       " 1,\n",
       " 2651,\n",
       " 2651,\n",
       " 2651,\n",
       " 1,\n",
       " 2651,\n",
       " 2651,\n",
       " 2651,\n",
       " 2546,\n",
       " 2651,\n",
       " 2651,\n",
       " 2651,\n",
       " 2651,\n",
       " 6,\n",
       " 1,\n",
       " 1,\n",
       " 1,\n",
       " 962,\n",
       " 962,\n",
       " 962,\n",
       " 1,\n",
       " 7,\n",
       " 9,\n",
       " 962,\n",
       " 962,\n",
       " 962,\n",
       " 9,\n",
       " 951,\n",
       " 48,\n",
       " 1,\n",
       " 1,\n",
       " 1,\n",
       " 1,\n",
       " 1,\n",
       " 875,\n",
       " 2651,\n",
       " 5,\n",
       " 4,\n",
       " 5,\n",
       " 5,\n",
       " 5,\n",
       " 5,\n",
       " 5,\n",
       " 35]"
      ]
     },
     "execution_count": 151,
     "metadata": {},
     "output_type": "execute_result"
    }
   ],
   "source": [
    "df.nunique().tolist()"
   ]
  },
  {
   "cell_type": "markdown",
   "id": "2b53056a",
   "metadata": {},
   "source": [
    "Get all column names of the data refered to above"
   ]
  },
  {
   "cell_type": "code",
   "execution_count": 152,
   "id": "d83f256c",
   "metadata": {
    "ExecuteTime": {
     "end_time": "2023-11-04T19:39:40.202570Z",
     "start_time": "2023-11-04T19:39:38.315899Z"
    }
   },
   "outputs": [
    {
     "name": "stdout",
     "output_type": "stream",
     "text": [
      "Index(['diagnostics_Versions_PyRadiomics', 'diagnostics_Versions_Numpy',\n",
      "       'diagnostics_Versions_SimpleITK', 'diagnostics_Versions_PyWavelet',\n",
      "       'diagnostics_Versions_Python', 'diagnostics_Configuration_Settings',\n",
      "       'diagnostics_Configuration_EnabledImageTypes',\n",
      "       'diagnostics_Image-original_Dimensionality',\n",
      "       'diagnostics_Image-original_Spacing',\n",
      "       'diagnostics_Image-original_Minimum',\n",
      "       'diagnostics_Image-original_Maximum',\n",
      "       'diagnostics_Mask-original_Spacing', 'original_firstorder_10Percentile',\n",
      "       'original_firstorder_90Percentile', 'original_firstorder_Entropy',\n",
      "       'original_firstorder_InterquartileRange',\n",
      "       'original_firstorder_Kurtosis', 'original_firstorder_Maximum',\n",
      "       'original_firstorder_MeanAbsoluteDeviation', 'original_firstorder_Mean',\n",
      "       'original_firstorder_Median', 'original_firstorder_Minimum',\n",
      "       'original_firstorder_Range',\n",
      "       'original_firstorder_RobustMeanAbsoluteDeviation',\n",
      "       'original_firstorder_RootMeanSquared', 'original_firstorder_Skewness',\n",
      "       'original_firstorder_Uniformity', 'original_firstorder_Variance',\n",
      "       'original_glcm_Autocorrelation', 'original_glcm_ClusterProminence',\n",
      "       'original_glcm_ClusterShade', 'original_glcm_ClusterTendency',\n",
      "       'original_glcm_Contrast', 'original_glcm_Correlation',\n",
      "       'original_glcm_DifferenceAverage', 'original_glcm_DifferenceVariance',\n",
      "       'original_glcm_Id', 'original_glcm_Idm', 'original_glcm_Idmn',\n",
      "       'original_glcm_Idn', 'original_glcm_Imc1', 'original_glcm_Imc2',\n",
      "       'original_glcm_InverseVariance', 'original_glcm_JointAverage',\n",
      "       'original_glcm_JointEnergy', 'original_glcm_MCC',\n",
      "       'original_glcm_MaximumProbability', 'original_glcm_SumAverage',\n",
      "       'original_glcm_SumSquares', 'original_gldm_GrayLevelVariance',\n",
      "       'original_gldm_HighGrayLevelEmphasis',\n",
      "       'original_gldm_LowGrayLevelEmphasis',\n",
      "       'original_glrlm_GrayLevelNonUniformityNormalized',\n",
      "       'original_glrlm_GrayLevelVariance',\n",
      "       'original_glrlm_HighGrayLevelRunEmphasis',\n",
      "       'original_glrlm_LowGrayLevelRunEmphasis',\n",
      "       'original_glszm_GrayLevelNonUniformityNormalized',\n",
      "       'original_glszm_GrayLevelVariance',\n",
      "       'original_glszm_HighGrayLevelZoneEmphasis',\n",
      "       'original_glszm_LowGrayLevelZoneEmphasis', 'original_ngtdm_Busyness',\n",
      "       'original_ngtdm_Coarseness', 'original_ngtdm_Complexity',\n",
      "       'original_ngtdm_Contrast', 'original_ngtdm_Strength'],\n",
      "      dtype='object')\n"
     ]
    }
   ],
   "source": [
    "unique_value_counts = df.nunique()\n",
    "columns_with_single_unique_value = unique_value_counts[unique_value_counts == 1].index\n",
    "print(columns_with_single_unique_value)"
   ]
  },
  {
   "cell_type": "markdown",
   "id": "8e03ba27",
   "metadata": {},
   "source": [
    "Drop the selected columns"
   ]
  },
  {
   "cell_type": "code",
   "execution_count": 153,
   "id": "36f6ef93",
   "metadata": {
    "ExecuteTime": {
     "end_time": "2023-11-04T19:39:40.203236Z",
     "start_time": "2023-11-04T19:39:38.336623Z"
    }
   },
   "outputs": [],
   "source": [
    "df.drop(columns=columns_with_single_unique_value,inplace=True)"
   ]
  },
  {
   "cell_type": "code",
   "execution_count": 11,
   "id": "ee588af9",
   "metadata": {},
   "outputs": [
    {
     "data": {
      "text/html": [
       "<div>\n",
       "<style scoped>\n",
       "    .dataframe tbody tr th:only-of-type {\n",
       "        vertical-align: middle;\n",
       "    }\n",
       "\n",
       "    .dataframe tbody tr th {\n",
       "        vertical-align: top;\n",
       "    }\n",
       "\n",
       "    .dataframe thead th {\n",
       "        text-align: right;\n",
       "    }\n",
       "</style>\n",
       "<table border=\"1\" class=\"dataframe\">\n",
       "  <thead>\n",
       "    <tr style=\"text-align: right;\">\n",
       "      <th></th>\n",
       "      <th>diagnostics_Image-original_Hash</th>\n",
       "      <th>diagnostics_Image-original_Size</th>\n",
       "      <th>diagnostics_Mask-original_Hash</th>\n",
       "      <th>diagnostics_Mask-original_Size</th>\n",
       "      <th>diagnostics_Mask-original_BoundingBox</th>\n",
       "      <th>diagnostics_Mask-original_CenterOfMassIndex</th>\n",
       "      <th>diagnostics_Mask-original_CenterOfMass</th>\n",
       "      <th>Patient_ID</th>\n",
       "      <th>Nodule_ID</th>\n",
       "    </tr>\n",
       "  </thead>\n",
       "  <tbody>\n",
       "    <tr>\n",
       "      <th>0</th>\n",
       "      <td>966db6c8d814983bbfe7125907b2ae5008c7994e</td>\n",
       "      <td>(6, 84, 74)</td>\n",
       "      <td>916fa76fc2ef7083acad0f0a5b4ae605e176a590</td>\n",
       "      <td>(6, 84, 74)</td>\n",
       "      <td>(0, 26, 21, 6, 33, 31)</td>\n",
       "      <td>(2.606936416184971, 45.86600105097215, 38.7924...</td>\n",
       "      <td>(2.606936416184971, 45.86600105097215, 38.7924...</td>\n",
       "      <td>LIDC-IDRI-0078</td>\n",
       "      <td>Nodule_1</td>\n",
       "    </tr>\n",
       "    <tr>\n",
       "      <th>1</th>\n",
       "      <td>d750f93365c734f6f1972e806b046bb1a203f47f</td>\n",
       "      <td>(6, 67, 80)</td>\n",
       "      <td>21bb257f501d97fdac963a3eed3bc79763808d45</td>\n",
       "      <td>(6, 67, 80)</td>\n",
       "      <td>(0, 21, 27, 6, 25, 31)</td>\n",
       "      <td>(2.090178058587019, 31.88684663986215, 43.5117...</td>\n",
       "      <td>(2.090178058587019, 31.88684663986215, 43.5117...</td>\n",
       "      <td>LIDC-IDRI-0078</td>\n",
       "      <td>Nodule_2</td>\n",
       "    </tr>\n",
       "    <tr>\n",
       "      <th>2</th>\n",
       "      <td>58d9ee5073ad7215556c1e295a67e9204a623b2d</td>\n",
       "      <td>(2, 47, 48)</td>\n",
       "      <td>69eb0f6ec04ddf064cd30ecaaab2da630ee49849</td>\n",
       "      <td>(2, 47, 48)</td>\n",
       "      <td>(0, 21, 21, 2, 5, 6)</td>\n",
       "      <td>(0.2647058823529412, 23.323529411764707, 23.67...</td>\n",
       "      <td>(0.2647058823529412, 23.323529411764707, 23.67...</td>\n",
       "      <td>LIDC-IDRI-0078</td>\n",
       "      <td>Nodule_3</td>\n",
       "    </tr>\n",
       "    <tr>\n",
       "      <th>3</th>\n",
       "      <td>312913e3e22bc6f2e6cffc8abd1120da5fa413fd</td>\n",
       "      <td>(8, 80, 90)</td>\n",
       "      <td>5a014e3c44e80c29336a84747194b1bf20aa48ef</td>\n",
       "      <td>(8, 80, 90)</td>\n",
       "      <td>(0, 23, 24, 8, 35, 43)</td>\n",
       "      <td>(3.593801426220516, 37.13055403181569, 44.0181...</td>\n",
       "      <td>(3.593801426220516, 37.13055403181569, 44.0181...</td>\n",
       "      <td>LIDC-IDRI-0078</td>\n",
       "      <td>Nodule_4</td>\n",
       "    </tr>\n",
       "    <tr>\n",
       "      <th>4</th>\n",
       "      <td>08706c40effcb9f7489dc9ce0139a265b8dc6048</td>\n",
       "      <td>(9, 59, 66)</td>\n",
       "      <td>0e09298de81c2adef7164a13f222f85b3079fe33</td>\n",
       "      <td>(9, 59, 66)</td>\n",
       "      <td>(0, 25, 22, 8, 12, 15)</td>\n",
       "      <td>(4.113243761996161, 30.23608445297505, 29.5854...</td>\n",
       "      <td>(4.113243761996161, 30.23608445297505, 29.5854...</td>\n",
       "      <td>LIDC-IDRI-0069</td>\n",
       "      <td>Nodule_5</td>\n",
       "    </tr>\n",
       "    <tr>\n",
       "      <th>...</th>\n",
       "      <td>...</td>\n",
       "      <td>...</td>\n",
       "      <td>...</td>\n",
       "      <td>...</td>\n",
       "      <td>...</td>\n",
       "      <td>...</td>\n",
       "      <td>...</td>\n",
       "      <td>...</td>\n",
       "      <td>...</td>\n",
       "    </tr>\n",
       "    <tr>\n",
       "      <th>2646</th>\n",
       "      <td>db18dcbfdf1ebd1c1390db9dd1fbfd85cce4724b</td>\n",
       "      <td>(10, 58, 55)</td>\n",
       "      <td>963a7955ee5420a87b6a515b492cca8fc89e3993</td>\n",
       "      <td>(10, 58, 55)</td>\n",
       "      <td>(1, 23, 24, 9, 13, 10)</td>\n",
       "      <td>(5.9107692307692306, 28.12923076923077, 27.815...</td>\n",
       "      <td>(5.9107692307692306, 28.12923076923077, 27.815...</td>\n",
       "      <td>LIDC-IDRI-0639</td>\n",
       "      <td>Nodule_2647</td>\n",
       "    </tr>\n",
       "    <tr>\n",
       "      <th>2647</th>\n",
       "      <td>fe63df501e056c7f875ab771151194481c70a0b1</td>\n",
       "      <td>(11, 54, 55)</td>\n",
       "      <td>a7ae2e2729f721b44722634bb7c16d378fdedc2b</td>\n",
       "      <td>(11, 54, 55)</td>\n",
       "      <td>(0, 21, 21, 11, 12, 13)</td>\n",
       "      <td>(5.425361155698234, 25.696629213483146, 27.226...</td>\n",
       "      <td>(5.425361155698234, 25.696629213483146, 27.226...</td>\n",
       "      <td>LIDC-IDRI-0639</td>\n",
       "      <td>Nodule_2648</td>\n",
       "    </tr>\n",
       "    <tr>\n",
       "      <th>2648</th>\n",
       "      <td>e25d0da08cbc45ea3587c9426cc102940176a4de</td>\n",
       "      <td>(3, 57, 53)</td>\n",
       "      <td>5ee5cad2f9071e80d65abc9086faefb7e2ada532</td>\n",
       "      <td>(3, 57, 53)</td>\n",
       "      <td>(0, 21, 21, 3, 15, 11)</td>\n",
       "      <td>(0.7883597883597884, 27.978835978835978, 25.87...</td>\n",
       "      <td>(0.7883597883597884, 27.978835978835978, 25.87...</td>\n",
       "      <td>LIDC-IDRI-0638</td>\n",
       "      <td>Nodule_2649</td>\n",
       "    </tr>\n",
       "    <tr>\n",
       "      <th>2649</th>\n",
       "      <td>5888efc13966913742433819826d00f4d79f0c24</td>\n",
       "      <td>(4, 50, 52)</td>\n",
       "      <td>edb26895286ee1ebb94f0dd324b07f3be9624c33</td>\n",
       "      <td>(4, 50, 52)</td>\n",
       "      <td>(0, 21, 22, 4, 8, 8)</td>\n",
       "      <td>(1.6103896103896105, 24.662337662337663, 25.79...</td>\n",
       "      <td>(1.6103896103896105, 24.662337662337663, 25.79...</td>\n",
       "      <td>LIDC-IDRI-0638</td>\n",
       "      <td>Nodule_2650</td>\n",
       "    </tr>\n",
       "    <tr>\n",
       "      <th>2650</th>\n",
       "      <td>13269d945ba36fb2fbefd307f1fa513918911e5c</td>\n",
       "      <td>(13, 92, 91)</td>\n",
       "      <td>5512a50e2e618c3cb441f54516c4cb1ae4c05f84</td>\n",
       "      <td>(13, 92, 91)</td>\n",
       "      <td>(0, 21, 21, 13, 48, 49)</td>\n",
       "      <td>(5.716035069922469, 43.95746685022824, 43.2208...</td>\n",
       "      <td>(5.716035069922469, 43.95746685022824, 43.2208...</td>\n",
       "      <td>LIDC-IDRI-0127</td>\n",
       "      <td>Nodule_2651</td>\n",
       "    </tr>\n",
       "  </tbody>\n",
       "</table>\n",
       "<p>2651 rows × 9 columns</p>\n",
       "</div>"
      ],
      "text/plain": [
       "               diagnostics_Image-original_Hash  \\\n",
       "0     966db6c8d814983bbfe7125907b2ae5008c7994e   \n",
       "1     d750f93365c734f6f1972e806b046bb1a203f47f   \n",
       "2     58d9ee5073ad7215556c1e295a67e9204a623b2d   \n",
       "3     312913e3e22bc6f2e6cffc8abd1120da5fa413fd   \n",
       "4     08706c40effcb9f7489dc9ce0139a265b8dc6048   \n",
       "...                                        ...   \n",
       "2646  db18dcbfdf1ebd1c1390db9dd1fbfd85cce4724b   \n",
       "2647  fe63df501e056c7f875ab771151194481c70a0b1   \n",
       "2648  e25d0da08cbc45ea3587c9426cc102940176a4de   \n",
       "2649  5888efc13966913742433819826d00f4d79f0c24   \n",
       "2650  13269d945ba36fb2fbefd307f1fa513918911e5c   \n",
       "\n",
       "     diagnostics_Image-original_Size  \\\n",
       "0                        (6, 84, 74)   \n",
       "1                        (6, 67, 80)   \n",
       "2                        (2, 47, 48)   \n",
       "3                        (8, 80, 90)   \n",
       "4                        (9, 59, 66)   \n",
       "...                              ...   \n",
       "2646                    (10, 58, 55)   \n",
       "2647                    (11, 54, 55)   \n",
       "2648                     (3, 57, 53)   \n",
       "2649                     (4, 50, 52)   \n",
       "2650                    (13, 92, 91)   \n",
       "\n",
       "                diagnostics_Mask-original_Hash diagnostics_Mask-original_Size  \\\n",
       "0     916fa76fc2ef7083acad0f0a5b4ae605e176a590                    (6, 84, 74)   \n",
       "1     21bb257f501d97fdac963a3eed3bc79763808d45                    (6, 67, 80)   \n",
       "2     69eb0f6ec04ddf064cd30ecaaab2da630ee49849                    (2, 47, 48)   \n",
       "3     5a014e3c44e80c29336a84747194b1bf20aa48ef                    (8, 80, 90)   \n",
       "4     0e09298de81c2adef7164a13f222f85b3079fe33                    (9, 59, 66)   \n",
       "...                                        ...                            ...   \n",
       "2646  963a7955ee5420a87b6a515b492cca8fc89e3993                   (10, 58, 55)   \n",
       "2647  a7ae2e2729f721b44722634bb7c16d378fdedc2b                   (11, 54, 55)   \n",
       "2648  5ee5cad2f9071e80d65abc9086faefb7e2ada532                    (3, 57, 53)   \n",
       "2649  edb26895286ee1ebb94f0dd324b07f3be9624c33                    (4, 50, 52)   \n",
       "2650  5512a50e2e618c3cb441f54516c4cb1ae4c05f84                   (13, 92, 91)   \n",
       "\n",
       "     diagnostics_Mask-original_BoundingBox  \\\n",
       "0                   (0, 26, 21, 6, 33, 31)   \n",
       "1                   (0, 21, 27, 6, 25, 31)   \n",
       "2                     (0, 21, 21, 2, 5, 6)   \n",
       "3                   (0, 23, 24, 8, 35, 43)   \n",
       "4                   (0, 25, 22, 8, 12, 15)   \n",
       "...                                    ...   \n",
       "2646                (1, 23, 24, 9, 13, 10)   \n",
       "2647               (0, 21, 21, 11, 12, 13)   \n",
       "2648                (0, 21, 21, 3, 15, 11)   \n",
       "2649                  (0, 21, 22, 4, 8, 8)   \n",
       "2650               (0, 21, 21, 13, 48, 49)   \n",
       "\n",
       "            diagnostics_Mask-original_CenterOfMassIndex  \\\n",
       "0     (2.606936416184971, 45.86600105097215, 38.7924...   \n",
       "1     (2.090178058587019, 31.88684663986215, 43.5117...   \n",
       "2     (0.2647058823529412, 23.323529411764707, 23.67...   \n",
       "3     (3.593801426220516, 37.13055403181569, 44.0181...   \n",
       "4     (4.113243761996161, 30.23608445297505, 29.5854...   \n",
       "...                                                 ...   \n",
       "2646  (5.9107692307692306, 28.12923076923077, 27.815...   \n",
       "2647  (5.425361155698234, 25.696629213483146, 27.226...   \n",
       "2648  (0.7883597883597884, 27.978835978835978, 25.87...   \n",
       "2649  (1.6103896103896105, 24.662337662337663, 25.79...   \n",
       "2650  (5.716035069922469, 43.95746685022824, 43.2208...   \n",
       "\n",
       "                 diagnostics_Mask-original_CenterOfMass      Patient_ID  \\\n",
       "0     (2.606936416184971, 45.86600105097215, 38.7924...  LIDC-IDRI-0078   \n",
       "1     (2.090178058587019, 31.88684663986215, 43.5117...  LIDC-IDRI-0078   \n",
       "2     (0.2647058823529412, 23.323529411764707, 23.67...  LIDC-IDRI-0078   \n",
       "3     (3.593801426220516, 37.13055403181569, 44.0181...  LIDC-IDRI-0078   \n",
       "4     (4.113243761996161, 30.23608445297505, 29.5854...  LIDC-IDRI-0069   \n",
       "...                                                 ...             ...   \n",
       "2646  (5.9107692307692306, 28.12923076923077, 27.815...  LIDC-IDRI-0639   \n",
       "2647  (5.425361155698234, 25.696629213483146, 27.226...  LIDC-IDRI-0639   \n",
       "2648  (0.7883597883597884, 27.978835978835978, 25.87...  LIDC-IDRI-0638   \n",
       "2649  (1.6103896103896105, 24.662337662337663, 25.79...  LIDC-IDRI-0638   \n",
       "2650  (5.716035069922469, 43.95746685022824, 43.2208...  LIDC-IDRI-0127   \n",
       "\n",
       "        Nodule_ID  \n",
       "0        Nodule_1  \n",
       "1        Nodule_2  \n",
       "2        Nodule_3  \n",
       "3        Nodule_4  \n",
       "4        Nodule_5  \n",
       "...           ...  \n",
       "2646  Nodule_2647  \n",
       "2647  Nodule_2648  \n",
       "2648  Nodule_2649  \n",
       "2649  Nodule_2650  \n",
       "2650  Nodule_2651  \n",
       "\n",
       "[2651 rows x 9 columns]"
      ]
     },
     "execution_count": 11,
     "metadata": {},
     "output_type": "execute_result"
    }
   ],
   "source": [
    "df = df.select_dtypes(include=[object])\n",
    "df"
   ]
  },
  {
   "cell_type": "markdown",
   "id": "c892bd01",
   "metadata": {},
   "source": [
    "In the dataset some columns have Ids and tuples with numbers and since there is no point in label encoding them since the columns that start with 'diagnostics' don´t really represent features of the nodules and just information about the general images or masks. So, we will drop those columns, remaining just numerical data."
   ]
  },
  {
   "cell_type": "code",
   "execution_count": 7,
   "id": "bcb10130994b97b8",
   "metadata": {
    "ExecuteTime": {
     "end_time": "2023-11-04T19:39:40.264081Z",
     "start_time": "2023-11-04T19:39:38.339864Z"
    }
   },
   "outputs": [
    {
     "data": {
      "text/html": [
       "<div>\n",
       "<style scoped>\n",
       "    .dataframe tbody tr th:only-of-type {\n",
       "        vertical-align: middle;\n",
       "    }\n",
       "\n",
       "    .dataframe tbody tr th {\n",
       "        vertical-align: top;\n",
       "    }\n",
       "\n",
       "    .dataframe thead th {\n",
       "        text-align: right;\n",
       "    }\n",
       "</style>\n",
       "<table border=\"1\" class=\"dataframe\">\n",
       "  <thead>\n",
       "    <tr style=\"text-align: right;\">\n",
       "      <th></th>\n",
       "      <th>diagnostics_Image-original_Mean</th>\n",
       "      <th>diagnostics_Mask-original_VoxelNum</th>\n",
       "      <th>diagnostics_Mask-original_VolumeNum</th>\n",
       "      <th>original_shape_Elongation</th>\n",
       "      <th>original_shape_Flatness</th>\n",
       "      <th>original_shape_LeastAxisLength</th>\n",
       "      <th>original_shape_MajorAxisLength</th>\n",
       "      <th>original_shape_Maximum2DDiameterColumn</th>\n",
       "      <th>original_shape_Maximum2DDiameterRow</th>\n",
       "      <th>original_shape_Maximum2DDiameterSlice</th>\n",
       "      <th>...</th>\n",
       "      <th>original_glszm_ZonePercentage</th>\n",
       "      <th>original_glszm_ZoneVariance</th>\n",
       "      <th>subtlety</th>\n",
       "      <th>internalStructure</th>\n",
       "      <th>sphericity</th>\n",
       "      <th>margin</th>\n",
       "      <th>lobulation</th>\n",
       "      <th>spiculation</th>\n",
       "      <th>texture</th>\n",
       "      <th>malignancy</th>\n",
       "    </tr>\n",
       "  </thead>\n",
       "  <tbody>\n",
       "    <tr>\n",
       "      <th>0</th>\n",
       "      <td>0.051024</td>\n",
       "      <td>1903</td>\n",
       "      <td>1</td>\n",
       "      <td>0.848594</td>\n",
       "      <td>0.219031</td>\n",
       "      <td>5.542891</td>\n",
       "      <td>25.306411</td>\n",
       "      <td>24.020824</td>\n",
       "      <td>39.051248</td>\n",
       "      <td>26.000000</td>\n",
       "      <td>...</td>\n",
       "      <td>0.000525</td>\n",
       "      <td>0.000000e+00</td>\n",
       "      <td>4</td>\n",
       "      <td>1</td>\n",
       "      <td>4</td>\n",
       "      <td>4</td>\n",
       "      <td>2</td>\n",
       "      <td>2</td>\n",
       "      <td>5</td>\n",
       "      <td>3.75</td>\n",
       "    </tr>\n",
       "    <tr>\n",
       "      <th>1</th>\n",
       "      <td>0.054136</td>\n",
       "      <td>1741</td>\n",
       "      <td>1</td>\n",
       "      <td>0.845360</td>\n",
       "      <td>0.215045</td>\n",
       "      <td>5.209030</td>\n",
       "      <td>24.222923</td>\n",
       "      <td>30.016662</td>\n",
       "      <td>31.064449</td>\n",
       "      <td>23.021729</td>\n",
       "      <td>...</td>\n",
       "      <td>0.000574</td>\n",
       "      <td>0.000000e+00</td>\n",
       "      <td>5</td>\n",
       "      <td>1</td>\n",
       "      <td>4</td>\n",
       "      <td>2</td>\n",
       "      <td>4</td>\n",
       "      <td>1</td>\n",
       "      <td>5</td>\n",
       "      <td>3.75</td>\n",
       "    </tr>\n",
       "    <tr>\n",
       "      <th>2</th>\n",
       "      <td>0.007535</td>\n",
       "      <td>34</td>\n",
       "      <td>1</td>\n",
       "      <td>0.879310</td>\n",
       "      <td>0.289526</td>\n",
       "      <td>1.632763</td>\n",
       "      <td>5.639429</td>\n",
       "      <td>6.000000</td>\n",
       "      <td>6.324555</td>\n",
       "      <td>5.099020</td>\n",
       "      <td>...</td>\n",
       "      <td>0.029412</td>\n",
       "      <td>0.000000e+00</td>\n",
       "      <td>4</td>\n",
       "      <td>1</td>\n",
       "      <td>5</td>\n",
       "      <td>5</td>\n",
       "      <td>1</td>\n",
       "      <td>1</td>\n",
       "      <td>5</td>\n",
       "      <td>1.00</td>\n",
       "    </tr>\n",
       "    <tr>\n",
       "      <th>3</th>\n",
       "      <td>0.063299</td>\n",
       "      <td>3646</td>\n",
       "      <td>3</td>\n",
       "      <td>0.956858</td>\n",
       "      <td>0.216692</td>\n",
       "      <td>6.435946</td>\n",
       "      <td>29.700850</td>\n",
       "      <td>37.054015</td>\n",
       "      <td>43.566042</td>\n",
       "      <td>35.227830</td>\n",
       "      <td>...</td>\n",
       "      <td>0.000823</td>\n",
       "      <td>2.949211e+06</td>\n",
       "      <td>5</td>\n",
       "      <td>1</td>\n",
       "      <td>4</td>\n",
       "      <td>2</td>\n",
       "      <td>4</td>\n",
       "      <td>3</td>\n",
       "      <td>5</td>\n",
       "      <td>4.25</td>\n",
       "    </tr>\n",
       "    <tr>\n",
       "      <th>4</th>\n",
       "      <td>0.014866</td>\n",
       "      <td>521</td>\n",
       "      <td>1</td>\n",
       "      <td>0.779886</td>\n",
       "      <td>0.595806</td>\n",
       "      <td>7.374952</td>\n",
       "      <td>12.378110</td>\n",
       "      <td>15.524175</td>\n",
       "      <td>14.142136</td>\n",
       "      <td>12.041595</td>\n",
       "      <td>...</td>\n",
       "      <td>0.001919</td>\n",
       "      <td>0.000000e+00</td>\n",
       "      <td>3</td>\n",
       "      <td>1</td>\n",
       "      <td>5</td>\n",
       "      <td>5</td>\n",
       "      <td>5</td>\n",
       "      <td>5</td>\n",
       "      <td>5</td>\n",
       "      <td>3.25</td>\n",
       "    </tr>\n",
       "    <tr>\n",
       "      <th>...</th>\n",
       "      <td>...</td>\n",
       "      <td>...</td>\n",
       "      <td>...</td>\n",
       "      <td>...</td>\n",
       "      <td>...</td>\n",
       "      <td>...</td>\n",
       "      <td>...</td>\n",
       "      <td>...</td>\n",
       "      <td>...</td>\n",
       "      <td>...</td>\n",
       "      <td>...</td>\n",
       "      <td>...</td>\n",
       "      <td>...</td>\n",
       "      <td>...</td>\n",
       "      <td>...</td>\n",
       "      <td>...</td>\n",
       "      <td>...</td>\n",
       "      <td>...</td>\n",
       "      <td>...</td>\n",
       "      <td>...</td>\n",
       "      <td>...</td>\n",
       "    </tr>\n",
       "    <tr>\n",
       "      <th>2646</th>\n",
       "      <td>0.010188</td>\n",
       "      <td>325</td>\n",
       "      <td>1</td>\n",
       "      <td>0.793847</td>\n",
       "      <td>0.375133</td>\n",
       "      <td>4.534490</td>\n",
       "      <td>12.087678</td>\n",
       "      <td>12.806248</td>\n",
       "      <td>11.401754</td>\n",
       "      <td>13.928388</td>\n",
       "      <td>...</td>\n",
       "      <td>0.003077</td>\n",
       "      <td>0.000000e+00</td>\n",
       "      <td>4</td>\n",
       "      <td>1</td>\n",
       "      <td>4</td>\n",
       "      <td>4</td>\n",
       "      <td>2</td>\n",
       "      <td>2</td>\n",
       "      <td>5</td>\n",
       "      <td>4.00</td>\n",
       "    </tr>\n",
       "    <tr>\n",
       "      <th>2647</th>\n",
       "      <td>0.019069</td>\n",
       "      <td>623</td>\n",
       "      <td>1</td>\n",
       "      <td>0.754255</td>\n",
       "      <td>0.687954</td>\n",
       "      <td>8.589183</td>\n",
       "      <td>12.485120</td>\n",
       "      <td>14.422205</td>\n",
       "      <td>14.317821</td>\n",
       "      <td>12.649111</td>\n",
       "      <td>...</td>\n",
       "      <td>0.001605</td>\n",
       "      <td>0.000000e+00</td>\n",
       "      <td>1</td>\n",
       "      <td>1</td>\n",
       "      <td>4</td>\n",
       "      <td>1</td>\n",
       "      <td>1</td>\n",
       "      <td>1</td>\n",
       "      <td>1</td>\n",
       "      <td>3.50</td>\n",
       "    </tr>\n",
       "    <tr>\n",
       "      <th>2648</th>\n",
       "      <td>0.020854</td>\n",
       "      <td>189</td>\n",
       "      <td>1</td>\n",
       "      <td>0.564212</td>\n",
       "      <td>0.185778</td>\n",
       "      <td>2.586515</td>\n",
       "      <td>13.922612</td>\n",
       "      <td>11.045361</td>\n",
       "      <td>14.866069</td>\n",
       "      <td>12.165525</td>\n",
       "      <td>...</td>\n",
       "      <td>0.005291</td>\n",
       "      <td>0.000000e+00</td>\n",
       "      <td>2</td>\n",
       "      <td>1</td>\n",
       "      <td>4</td>\n",
       "      <td>3</td>\n",
       "      <td>1</td>\n",
       "      <td>1</td>\n",
       "      <td>5</td>\n",
       "      <td>3.50</td>\n",
       "    </tr>\n",
       "    <tr>\n",
       "      <th>2649</th>\n",
       "      <td>0.007404</td>\n",
       "      <td>77</td>\n",
       "      <td>1</td>\n",
       "      <td>0.453474</td>\n",
       "      <td>0.247844</td>\n",
       "      <td>2.471175</td>\n",
       "      <td>9.970706</td>\n",
       "      <td>7.280110</td>\n",
       "      <td>7.211103</td>\n",
       "      <td>7.615773</td>\n",
       "      <td>...</td>\n",
       "      <td>0.012987</td>\n",
       "      <td>0.000000e+00</td>\n",
       "      <td>5</td>\n",
       "      <td>1</td>\n",
       "      <td>4</td>\n",
       "      <td>5</td>\n",
       "      <td>1</td>\n",
       "      <td>1</td>\n",
       "      <td>5</td>\n",
       "      <td>2.00</td>\n",
       "    </tr>\n",
       "    <tr>\n",
       "      <th>2650</th>\n",
       "      <td>0.126805</td>\n",
       "      <td>13801</td>\n",
       "      <td>3</td>\n",
       "      <td>0.909345</td>\n",
       "      <td>0.273192</td>\n",
       "      <td>11.674262</td>\n",
       "      <td>42.732887</td>\n",
       "      <td>49.040799</td>\n",
       "      <td>50.219518</td>\n",
       "      <td>46.097722</td>\n",
       "      <td>...</td>\n",
       "      <td>0.000217</td>\n",
       "      <td>4.230773e+07</td>\n",
       "      <td>5</td>\n",
       "      <td>1</td>\n",
       "      <td>5</td>\n",
       "      <td>5</td>\n",
       "      <td>4</td>\n",
       "      <td>5</td>\n",
       "      <td>5</td>\n",
       "      <td>2.50</td>\n",
       "    </tr>\n",
       "  </tbody>\n",
       "</table>\n",
       "<p>2651 rows × 65 columns</p>\n",
       "</div>"
      ],
      "text/plain": [
       "      diagnostics_Image-original_Mean  diagnostics_Mask-original_VoxelNum  \\\n",
       "0                            0.051024                                1903   \n",
       "1                            0.054136                                1741   \n",
       "2                            0.007535                                  34   \n",
       "3                            0.063299                                3646   \n",
       "4                            0.014866                                 521   \n",
       "...                               ...                                 ...   \n",
       "2646                         0.010188                                 325   \n",
       "2647                         0.019069                                 623   \n",
       "2648                         0.020854                                 189   \n",
       "2649                         0.007404                                  77   \n",
       "2650                         0.126805                               13801   \n",
       "\n",
       "      diagnostics_Mask-original_VolumeNum  original_shape_Elongation  \\\n",
       "0                                       1                   0.848594   \n",
       "1                                       1                   0.845360   \n",
       "2                                       1                   0.879310   \n",
       "3                                       3                   0.956858   \n",
       "4                                       1                   0.779886   \n",
       "...                                   ...                        ...   \n",
       "2646                                    1                   0.793847   \n",
       "2647                                    1                   0.754255   \n",
       "2648                                    1                   0.564212   \n",
       "2649                                    1                   0.453474   \n",
       "2650                                    3                   0.909345   \n",
       "\n",
       "      original_shape_Flatness  original_shape_LeastAxisLength  \\\n",
       "0                    0.219031                        5.542891   \n",
       "1                    0.215045                        5.209030   \n",
       "2                    0.289526                        1.632763   \n",
       "3                    0.216692                        6.435946   \n",
       "4                    0.595806                        7.374952   \n",
       "...                       ...                             ...   \n",
       "2646                 0.375133                        4.534490   \n",
       "2647                 0.687954                        8.589183   \n",
       "2648                 0.185778                        2.586515   \n",
       "2649                 0.247844                        2.471175   \n",
       "2650                 0.273192                       11.674262   \n",
       "\n",
       "      original_shape_MajorAxisLength  original_shape_Maximum2DDiameterColumn  \\\n",
       "0                          25.306411                               24.020824   \n",
       "1                          24.222923                               30.016662   \n",
       "2                           5.639429                                6.000000   \n",
       "3                          29.700850                               37.054015   \n",
       "4                          12.378110                               15.524175   \n",
       "...                              ...                                     ...   \n",
       "2646                       12.087678                               12.806248   \n",
       "2647                       12.485120                               14.422205   \n",
       "2648                       13.922612                               11.045361   \n",
       "2649                        9.970706                                7.280110   \n",
       "2650                       42.732887                               49.040799   \n",
       "\n",
       "      original_shape_Maximum2DDiameterRow  \\\n",
       "0                               39.051248   \n",
       "1                               31.064449   \n",
       "2                                6.324555   \n",
       "3                               43.566042   \n",
       "4                               14.142136   \n",
       "...                                   ...   \n",
       "2646                            11.401754   \n",
       "2647                            14.317821   \n",
       "2648                            14.866069   \n",
       "2649                             7.211103   \n",
       "2650                            50.219518   \n",
       "\n",
       "      original_shape_Maximum2DDiameterSlice  ...  \\\n",
       "0                                 26.000000  ...   \n",
       "1                                 23.021729  ...   \n",
       "2                                  5.099020  ...   \n",
       "3                                 35.227830  ...   \n",
       "4                                 12.041595  ...   \n",
       "...                                     ...  ...   \n",
       "2646                              13.928388  ...   \n",
       "2647                              12.649111  ...   \n",
       "2648                              12.165525  ...   \n",
       "2649                               7.615773  ...   \n",
       "2650                              46.097722  ...   \n",
       "\n",
       "      original_glszm_ZonePercentage  original_glszm_ZoneVariance  subtlety  \\\n",
       "0                          0.000525                 0.000000e+00         4   \n",
       "1                          0.000574                 0.000000e+00         5   \n",
       "2                          0.029412                 0.000000e+00         4   \n",
       "3                          0.000823                 2.949211e+06         5   \n",
       "4                          0.001919                 0.000000e+00         3   \n",
       "...                             ...                          ...       ...   \n",
       "2646                       0.003077                 0.000000e+00         4   \n",
       "2647                       0.001605                 0.000000e+00         1   \n",
       "2648                       0.005291                 0.000000e+00         2   \n",
       "2649                       0.012987                 0.000000e+00         5   \n",
       "2650                       0.000217                 4.230773e+07         5   \n",
       "\n",
       "      internalStructure  sphericity  margin  lobulation  spiculation  texture  \\\n",
       "0                     1           4       4           2            2        5   \n",
       "1                     1           4       2           4            1        5   \n",
       "2                     1           5       5           1            1        5   \n",
       "3                     1           4       2           4            3        5   \n",
       "4                     1           5       5           5            5        5   \n",
       "...                 ...         ...     ...         ...          ...      ...   \n",
       "2646                  1           4       4           2            2        5   \n",
       "2647                  1           4       1           1            1        1   \n",
       "2648                  1           4       3           1            1        5   \n",
       "2649                  1           4       5           1            1        5   \n",
       "2650                  1           5       5           4            5        5   \n",
       "\n",
       "      malignancy  \n",
       "0           3.75  \n",
       "1           3.75  \n",
       "2           1.00  \n",
       "3           4.25  \n",
       "4           3.25  \n",
       "...          ...  \n",
       "2646        4.00  \n",
       "2647        3.50  \n",
       "2648        3.50  \n",
       "2649        2.00  \n",
       "2650        2.50  \n",
       "\n",
       "[2651 rows x 65 columns]"
      ]
     },
     "execution_count": 7,
     "metadata": {},
     "output_type": "execute_result"
    }
   ],
   "source": [
    "df = df.select_dtypes(include=[int, float])\n",
    "df"
   ]
  },
  {
   "cell_type": "markdown",
   "id": "7f347093",
   "metadata": {},
   "source": [
    "Get the count of each value in the malignancy column. The values do not follow a scale from 1 to 5 because we applied the mean to all of the values in the annotations for each nodule."
   ]
  },
  {
   "cell_type": "code",
   "execution_count": 155,
   "outputs": [
    {
     "data": {
      "text/plain": [
       "malignancy\n",
       "3.000000    641\n",
       "2.000000    417\n",
       "1.000000    272\n",
       "2.500000    228\n",
       "2.666667    130\n",
       "4.000000    127\n",
       "3.500000    116\n",
       "2.750000    111\n",
       "3.250000     95\n",
       "2.333333     65\n",
       "3.750000     54\n",
       "2.250000     46\n",
       "3.333333     45\n",
       "1.500000     45\n",
       "4.250000     42\n",
       "4.500000     41\n",
       "5.000000     37\n",
       "3.666667     33\n",
       "4.750000     23\n",
       "1.666667     18\n",
       "1.750000     17\n",
       "4.333333     13\n",
       "1.250000     10\n",
       "4.666667     10\n",
       "1.333333      5\n",
       "2.600000      1\n",
       "3.600000      1\n",
       "3.166667      1\n",
       "4.166667      1\n",
       "4.200000      1\n",
       "3.800000      1\n",
       "3.714286      1\n",
       "3.428571      1\n",
       "4.285714      1\n",
       "3.400000      1\n",
       "Name: count, dtype: int64"
      ]
     },
     "execution_count": 8,
     "metadata": {},
     "output_type": "execute_result"
    }
   ],
   "source": [
    "df[\"malignancy\"].value_counts()"
   ],
   "metadata": {
    "collapsed": false,
    "ExecuteTime": {
     "end_time": "2023-11-04T19:09:56.113433Z",
     "start_time": "2023-11-04T19:09:56.074991Z"
    }
   },
   "id": "7d52679148ec2e98"
  },
  {
   "cell_type": "code",
   "execution_count": 156,
   "outputs": [],
   "source": [
    "df = df[df['malignancy'] != 3]\n",
    "\n",
    "df.loc[:, \"malignancy\"] = df[\"malignancy\"].apply(lambda x: 1 if x > 3 else 0)"
   ],
   "metadata": {
    "collapsed": false,
    "ExecuteTime": {
     "end_time": "2023-11-04T19:09:56.281695Z",
     "start_time": "2023-11-04T19:09:56.187433Z"
    }
   },
   "id": "65fac7b0be7f0bd"
  },
  {
   "cell_type": "code",
   "execution_count": 157,
   "outputs": [
    {
     "data": {
      "text/plain": [
       "malignancy\n",
       "0.0    1365\n",
       "1.0     645\n",
       "Name: count, dtype: int64"
      ]
     },
     "execution_count": 10,
     "metadata": {},
     "output_type": "execute_result"
    }
   ],
   "source": [
    "df[\"malignancy\"].value_counts()"
   ],
   "metadata": {
    "collapsed": false,
    "ExecuteTime": {
     "end_time": "2023-11-04T19:09:56.356918Z",
     "start_time": "2023-11-04T19:09:56.273768Z"
    }
   },
   "id": "638089bc7df483a"
  },
  {
   "cell_type": "code",
   "execution_count": 158,
   "outputs": [],
   "source": [
    "smote = SMOTE(sampling_strategy='auto', random_state=42)\n",
    "df, _ = smote.fit_resample(df, df['malignancy'])"
   ],
   "metadata": {
    "ExecuteTime": {
     "end_time": "2023-11-04T19:39:40.417813Z",
     "start_time": "2023-11-04T19:39:38.368926Z"
    }
   },
   "id": "ed43086d7b9978d5"
  },
  {
   "cell_type": "markdown",
   "id": "76b7dd2c",
   "metadata": {},
   "source": [
    "Check if the values are equal"
   ]
  },
  {
   "cell_type": "code",
   "execution_count": 159,
   "outputs": [
    {
     "data": {
      "text/plain": [
       "malignancy\n",
       "1.0    1365\n",
       "0.0    1365\n",
       "Name: count, dtype: int64"
      ]
     },
     "execution_count": 12,
     "metadata": {},
     "output_type": "execute_result"
    }
   ],
   "source": [
    "df[\"malignancy\"].value_counts()\n"
   ],
   "metadata": {
    "collapsed": false,
    "ExecuteTime": {
     "end_time": "2023-11-04T19:09:56.480497Z",
     "start_time": "2023-11-04T19:09:56.418142Z"
    }
   },
   "id": "19d4919d09c8d37b"
  },
  {
   "cell_type": "code",
   "execution_count": 13,
   "id": "4185a0103aed89ae",
   "metadata": {
    "ExecuteTime": {
     "end_time": "2023-11-04T19:39:40.727890Z",
     "start_time": "2023-11-04T19:39:38.451491Z"
    }
   },
   "outputs": [],
   "source": [
    "df = df.drop(columns=df.select_dtypes(include=['object']))\n",
    "df = (df - df.min()) / (df.max() - df.min())"
   ]
  },
  {
   "cell_type": "code",
   "execution_count": 161,
   "outputs": [],
   "source": [
    "new_column_names = [\n",
    "    'Mean',\n",
    "    'VoxelNum',\n",
    "    'VolumeNum',\n",
    "    'Elongation',\n",
    "    'Flatness',\n",
    "    'LeastAxisLength',\n",
    "    'MajorAxisLength',\n",
    "    'DiameterColumn',\n",
    "    'DiameterRow',\n",
    "    'DiameterSlice',\n",
    "    'Max3DDiameter',\n",
    "    'MeshVolume',\n",
    "    'MinorAxisLength',\n",
    "    'Sphericity',\n",
    "    'SurfaceArea',\n",
    "    'SurfaceVolRatio',\n",
    "    'VoxelVol',\n",
    "    'Energy',\n",
    "    'TotalEnergy',\n",
    "    'DiffEntropy',\n",
    "    'JointEntropy',\n",
    "    'SumEntropy',\n",
    "    'DependEntropy',\n",
    "    'DependNonUniformity',\n",
    "    'DependNonUniformityNorm',\n",
    "    'DependVariance',\n",
    "    'GrayLevelNonUniformity',\n",
    "    'LargeDependEmphasis',\n",
    "    'LargeDependHighGLEmphasis',\n",
    "    'LargeDependLowGLEmphasis',\n",
    "    'SmallDependEmphasis',\n",
    "    'SmallDependHighGLEmphasis',\n",
    "    'SmallDependLowGLEmphasis',\n",
    "    'GLNonUniformity',\n",
    "    'LongRunEmphasis',\n",
    "    'LongRunHighGLEmphasis',\n",
    "    'LongRunLowGLEmphasis',\n",
    "    'RunEntropy',\n",
    "    'RunLengthNonUniformity',\n",
    "    'RunLenNonUniformityNorm',\n",
    "    'RunPercentage',\n",
    "    'RunVariance',\n",
    "    'ShortRunEmphasis',\n",
    "    'ShortRunHighGLEmphasis',\n",
    "    'ShortRunLowGLEmphasis',\n",
    "    'GLNonUniformity_GLSZM',\n",
    "    'LargeAreaEmphasis',\n",
    "    'LargeAreaHighGLEmphasis',\n",
    "    'LargeAreaLowGLEmphasis',\n",
    "    'SizeZoneNonUniformity',\n",
    "    'SizeZoneNonUniformityNorm',\n",
    "    'SmallAreaEmphasis',\n",
    "    'SmallAreaHighGLEmphasis',\n",
    "    'SmallAreaLowGLEmphasis',\n",
    "    'ZoneEntropy',\n",
    "    'ZonePercentage',\n",
    "    'ZoneVariance',\n",
    "    'Subtlety',\n",
    "    'InternalStructure',\n",
    "    'Sphericity',\n",
    "    'Margin',\n",
    "    'Lobulation',\n",
    "    'Spiculation',\n",
    "    'Texture',\n",
    "    'Malignancy'\n",
    "]\n",
    "\n",
    "# Assign the new column names to the DataFrame\n",
    "df.columns = new_column_names"
   ],
   "metadata": {
    "collapsed": false,
    "ExecuteTime": {
     "end_time": "2023-11-04T19:09:56.675903Z",
     "start_time": "2023-11-04T19:09:56.596746Z"
    }
   },
   "id": "45748fe16bdfb7ee"
  },
  {
   "cell_type": "code",
   "execution_count": 15,
   "id": "9260e74c684bee4a",
   "metadata": {
    "ExecuteTime": {
     "end_time": "2023-11-04T19:39:41.084123Z",
     "start_time": "2023-11-04T19:39:38.474282Z"
    }
   },
   "outputs": [
    {
     "data": {
      "text/html": [
       "<div>\n",
       "<style scoped>\n",
       "    .dataframe tbody tr th:only-of-type {\n",
       "        vertical-align: middle;\n",
       "    }\n",
       "\n",
       "    .dataframe tbody tr th {\n",
       "        vertical-align: top;\n",
       "    }\n",
       "\n",
       "    .dataframe thead th {\n",
       "        text-align: right;\n",
       "    }\n",
       "</style>\n",
       "<table border=\"1\" class=\"dataframe\">\n",
       "  <thead>\n",
       "    <tr style=\"text-align: right;\">\n",
       "      <th></th>\n",
       "      <th>Mean</th>\n",
       "      <th>VoxelNum</th>\n",
       "      <th>VolumeNum</th>\n",
       "      <th>Elongation</th>\n",
       "      <th>Flatness</th>\n",
       "      <th>LeastAxisLength</th>\n",
       "      <th>MajorAxisLength</th>\n",
       "      <th>DiameterColumn</th>\n",
       "      <th>DiameterRow</th>\n",
       "      <th>DiameterSlice</th>\n",
       "      <th>...</th>\n",
       "      <th>ZonePercentage</th>\n",
       "      <th>ZoneVariance</th>\n",
       "      <th>Subtlety</th>\n",
       "      <th>InternalStructure</th>\n",
       "      <th>Sphericity</th>\n",
       "      <th>Margin</th>\n",
       "      <th>Lobulation</th>\n",
       "      <th>Spiculation</th>\n",
       "      <th>Texture</th>\n",
       "      <th>Malignancy</th>\n",
       "    </tr>\n",
       "  </thead>\n",
       "  <tbody>\n",
       "    <tr>\n",
       "      <th>0</th>\n",
       "      <td>0.398388</td>\n",
       "      <td>0.041876</td>\n",
       "      <td>0.000</td>\n",
       "      <td>0.800345</td>\n",
       "      <td>0.244418</td>\n",
       "      <td>0.156384</td>\n",
       "      <td>0.363943</td>\n",
       "      <td>0.359994</td>\n",
       "      <td>0.519872</td>\n",
       "      <td>0.293561</td>\n",
       "      <td>...</td>\n",
       "      <td>0.002402</td>\n",
       "      <td>0.000000</td>\n",
       "      <td>0.75</td>\n",
       "      <td>0.0</td>\n",
       "      <td>0.75</td>\n",
       "      <td>0.75</td>\n",
       "      <td>0.25</td>\n",
       "      <td>0.25</td>\n",
       "      <td>1.00</td>\n",
       "      <td>1.0</td>\n",
       "    </tr>\n",
       "    <tr>\n",
       "      <th>1</th>\n",
       "      <td>0.423089</td>\n",
       "      <td>0.038302</td>\n",
       "      <td>0.000</td>\n",
       "      <td>0.795950</td>\n",
       "      <td>0.239970</td>\n",
       "      <td>0.146965</td>\n",
       "      <td>0.346630</td>\n",
       "      <td>0.462676</td>\n",
       "      <td>0.404700</td>\n",
       "      <td>0.256770</td>\n",
       "      <td>...</td>\n",
       "      <td>0.002647</td>\n",
       "      <td>0.000000</td>\n",
       "      <td>1.00</td>\n",
       "      <td>0.0</td>\n",
       "      <td>0.75</td>\n",
       "      <td>0.25</td>\n",
       "      <td>0.75</td>\n",
       "      <td>0.00</td>\n",
       "      <td>1.00</td>\n",
       "      <td>1.0</td>\n",
       "    </tr>\n",
       "    <tr>\n",
       "      <th>2</th>\n",
       "      <td>0.053140</td>\n",
       "      <td>0.000640</td>\n",
       "      <td>0.000</td>\n",
       "      <td>0.842097</td>\n",
       "      <td>0.323084</td>\n",
       "      <td>0.046066</td>\n",
       "      <td>0.049688</td>\n",
       "      <td>0.051377</td>\n",
       "      <td>0.047941</td>\n",
       "      <td>0.035367</td>\n",
       "      <td>...</td>\n",
       "      <td>0.146866</td>\n",
       "      <td>0.000000</td>\n",
       "      <td>0.75</td>\n",
       "      <td>0.0</td>\n",
       "      <td>1.00</td>\n",
       "      <td>1.00</td>\n",
       "      <td>0.00</td>\n",
       "      <td>0.00</td>\n",
       "      <td>1.00</td>\n",
       "      <td>0.0</td>\n",
       "    </tr>\n",
       "    <tr>\n",
       "      <th>3</th>\n",
       "      <td>0.495832</td>\n",
       "      <td>0.080333</td>\n",
       "      <td>0.125</td>\n",
       "      <td>0.947505</td>\n",
       "      <td>0.241808</td>\n",
       "      <td>0.181580</td>\n",
       "      <td>0.434161</td>\n",
       "      <td>0.583195</td>\n",
       "      <td>0.584977</td>\n",
       "      <td>0.407555</td>\n",
       "      <td>...</td>\n",
       "      <td>0.003889</td>\n",
       "      <td>0.026006</td>\n",
       "      <td>1.00</td>\n",
       "      <td>0.0</td>\n",
       "      <td>0.75</td>\n",
       "      <td>0.25</td>\n",
       "      <td>0.75</td>\n",
       "      <td>0.50</td>\n",
       "      <td>1.00</td>\n",
       "      <td>1.0</td>\n",
       "    </tr>\n",
       "    <tr>\n",
       "      <th>4</th>\n",
       "      <td>0.111337</td>\n",
       "      <td>0.011385</td>\n",
       "      <td>0.000</td>\n",
       "      <td>0.706953</td>\n",
       "      <td>0.664863</td>\n",
       "      <td>0.208073</td>\n",
       "      <td>0.157364</td>\n",
       "      <td>0.214484</td>\n",
       "      <td>0.160674</td>\n",
       "      <td>0.121130</td>\n",
       "      <td>...</td>\n",
       "      <td>0.009373</td>\n",
       "      <td>0.000000</td>\n",
       "      <td>0.50</td>\n",
       "      <td>0.0</td>\n",
       "      <td>1.00</td>\n",
       "      <td>1.00</td>\n",
       "      <td>1.00</td>\n",
       "      <td>1.00</td>\n",
       "      <td>1.00</td>\n",
       "      <td>1.0</td>\n",
       "    </tr>\n",
       "    <tr>\n",
       "      <th>...</th>\n",
       "      <td>...</td>\n",
       "      <td>...</td>\n",
       "      <td>...</td>\n",
       "      <td>...</td>\n",
       "      <td>...</td>\n",
       "      <td>...</td>\n",
       "      <td>...</td>\n",
       "      <td>...</td>\n",
       "      <td>...</td>\n",
       "      <td>...</td>\n",
       "      <td>...</td>\n",
       "      <td>...</td>\n",
       "      <td>...</td>\n",
       "      <td>...</td>\n",
       "      <td>...</td>\n",
       "      <td>...</td>\n",
       "      <td>...</td>\n",
       "      <td>...</td>\n",
       "      <td>...</td>\n",
       "      <td>...</td>\n",
       "      <td>...</td>\n",
       "    </tr>\n",
       "    <tr>\n",
       "      <th>2725</th>\n",
       "      <td>0.146078</td>\n",
       "      <td>0.003618</td>\n",
       "      <td>0.000</td>\n",
       "      <td>0.500024</td>\n",
       "      <td>0.258786</td>\n",
       "      <td>0.078401</td>\n",
       "      <td>0.151917</td>\n",
       "      <td>0.145897</td>\n",
       "      <td>0.138285</td>\n",
       "      <td>0.087722</td>\n",
       "      <td>...</td>\n",
       "      <td>0.029342</td>\n",
       "      <td>0.000000</td>\n",
       "      <td>0.75</td>\n",
       "      <td>0.0</td>\n",
       "      <td>0.50</td>\n",
       "      <td>1.00</td>\n",
       "      <td>0.00</td>\n",
       "      <td>0.00</td>\n",
       "      <td>1.00</td>\n",
       "      <td>1.0</td>\n",
       "    </tr>\n",
       "    <tr>\n",
       "      <th>2726</th>\n",
       "      <td>0.274997</td>\n",
       "      <td>0.035037</td>\n",
       "      <td>0.000</td>\n",
       "      <td>0.429916</td>\n",
       "      <td>0.235521</td>\n",
       "      <td>0.170402</td>\n",
       "      <td>0.416814</td>\n",
       "      <td>0.450243</td>\n",
       "      <td>0.534841</td>\n",
       "      <td>0.330323</td>\n",
       "      <td>...</td>\n",
       "      <td>0.002912</td>\n",
       "      <td>0.000000</td>\n",
       "      <td>1.00</td>\n",
       "      <td>0.0</td>\n",
       "      <td>0.25</td>\n",
       "      <td>0.75</td>\n",
       "      <td>0.00</td>\n",
       "      <td>0.25</td>\n",
       "      <td>1.00</td>\n",
       "      <td>1.0</td>\n",
       "    </tr>\n",
       "    <tr>\n",
       "      <th>2727</th>\n",
       "      <td>0.346362</td>\n",
       "      <td>0.054607</td>\n",
       "      <td>0.000</td>\n",
       "      <td>0.305325</td>\n",
       "      <td>0.172922</td>\n",
       "      <td>0.164180</td>\n",
       "      <td>0.584979</td>\n",
       "      <td>0.455872</td>\n",
       "      <td>0.515510</td>\n",
       "      <td>0.401251</td>\n",
       "      <td>...</td>\n",
       "      <td>0.001791</td>\n",
       "      <td>0.000000</td>\n",
       "      <td>1.00</td>\n",
       "      <td>0.0</td>\n",
       "      <td>0.25</td>\n",
       "      <td>0.50</td>\n",
       "      <td>0.00</td>\n",
       "      <td>0.00</td>\n",
       "      <td>1.00</td>\n",
       "      <td>1.0</td>\n",
       "    </tr>\n",
       "    <tr>\n",
       "      <th>2728</th>\n",
       "      <td>0.454973</td>\n",
       "      <td>0.074971</td>\n",
       "      <td>0.000</td>\n",
       "      <td>0.732047</td>\n",
       "      <td>0.286005</td>\n",
       "      <td>0.212082</td>\n",
       "      <td>0.436462</td>\n",
       "      <td>0.522382</td>\n",
       "      <td>0.469772</td>\n",
       "      <td>0.352919</td>\n",
       "      <td>...</td>\n",
       "      <td>0.001243</td>\n",
       "      <td>0.000000</td>\n",
       "      <td>1.00</td>\n",
       "      <td>0.0</td>\n",
       "      <td>0.75</td>\n",
       "      <td>0.50</td>\n",
       "      <td>0.00</td>\n",
       "      <td>0.75</td>\n",
       "      <td>0.75</td>\n",
       "      <td>1.0</td>\n",
       "    </tr>\n",
       "    <tr>\n",
       "      <th>2729</th>\n",
       "      <td>0.178374</td>\n",
       "      <td>0.006244</td>\n",
       "      <td>0.000</td>\n",
       "      <td>0.574123</td>\n",
       "      <td>0.411614</td>\n",
       "      <td>0.114568</td>\n",
       "      <td>0.172293</td>\n",
       "      <td>0.116433</td>\n",
       "      <td>0.179530</td>\n",
       "      <td>0.156222</td>\n",
       "      <td>...</td>\n",
       "      <td>0.017116</td>\n",
       "      <td>0.000000</td>\n",
       "      <td>0.50</td>\n",
       "      <td>0.0</td>\n",
       "      <td>0.75</td>\n",
       "      <td>0.25</td>\n",
       "      <td>0.00</td>\n",
       "      <td>0.00</td>\n",
       "      <td>0.25</td>\n",
       "      <td>1.0</td>\n",
       "    </tr>\n",
       "  </tbody>\n",
       "</table>\n",
       "<p>2730 rows × 65 columns</p>\n",
       "</div>"
      ],
      "text/plain": [
       "          Mean  VoxelNum  VolumeNum  Elongation  Flatness  LeastAxisLength  \\\n",
       "0     0.398388  0.041876      0.000    0.800345  0.244418         0.156384   \n",
       "1     0.423089  0.038302      0.000    0.795950  0.239970         0.146965   \n",
       "2     0.053140  0.000640      0.000    0.842097  0.323084         0.046066   \n",
       "3     0.495832  0.080333      0.125    0.947505  0.241808         0.181580   \n",
       "4     0.111337  0.011385      0.000    0.706953  0.664863         0.208073   \n",
       "...        ...       ...        ...         ...       ...              ...   \n",
       "2725  0.146078  0.003618      0.000    0.500024  0.258786         0.078401   \n",
       "2726  0.274997  0.035037      0.000    0.429916  0.235521         0.170402   \n",
       "2727  0.346362  0.054607      0.000    0.305325  0.172922         0.164180   \n",
       "2728  0.454973  0.074971      0.000    0.732047  0.286005         0.212082   \n",
       "2729  0.178374  0.006244      0.000    0.574123  0.411614         0.114568   \n",
       "\n",
       "      MajorAxisLength  DiameterColumn  DiameterRow  DiameterSlice  ...  \\\n",
       "0            0.363943        0.359994     0.519872       0.293561  ...   \n",
       "1            0.346630        0.462676     0.404700       0.256770  ...   \n",
       "2            0.049688        0.051377     0.047941       0.035367  ...   \n",
       "3            0.434161        0.583195     0.584977       0.407555  ...   \n",
       "4            0.157364        0.214484     0.160674       0.121130  ...   \n",
       "...               ...             ...          ...            ...  ...   \n",
       "2725         0.151917        0.145897     0.138285       0.087722  ...   \n",
       "2726         0.416814        0.450243     0.534841       0.330323  ...   \n",
       "2727         0.584979        0.455872     0.515510       0.401251  ...   \n",
       "2728         0.436462        0.522382     0.469772       0.352919  ...   \n",
       "2729         0.172293        0.116433     0.179530       0.156222  ...   \n",
       "\n",
       "      ZonePercentage  ZoneVariance  Subtlety  InternalStructure  Sphericity  \\\n",
       "0           0.002402      0.000000      0.75                0.0        0.75   \n",
       "1           0.002647      0.000000      1.00                0.0        0.75   \n",
       "2           0.146866      0.000000      0.75                0.0        1.00   \n",
       "3           0.003889      0.026006      1.00                0.0        0.75   \n",
       "4           0.009373      0.000000      0.50                0.0        1.00   \n",
       "...              ...           ...       ...                ...         ...   \n",
       "2725        0.029342      0.000000      0.75                0.0        0.50   \n",
       "2726        0.002912      0.000000      1.00                0.0        0.25   \n",
       "2727        0.001791      0.000000      1.00                0.0        0.25   \n",
       "2728        0.001243      0.000000      1.00                0.0        0.75   \n",
       "2729        0.017116      0.000000      0.50                0.0        0.75   \n",
       "\n",
       "      Margin  Lobulation  Spiculation  Texture  Malignancy  \n",
       "0       0.75        0.25         0.25     1.00         1.0  \n",
       "1       0.25        0.75         0.00     1.00         1.0  \n",
       "2       1.00        0.00         0.00     1.00         0.0  \n",
       "3       0.25        0.75         0.50     1.00         1.0  \n",
       "4       1.00        1.00         1.00     1.00         1.0  \n",
       "...      ...         ...          ...      ...         ...  \n",
       "2725    1.00        0.00         0.00     1.00         1.0  \n",
       "2726    0.75        0.00         0.25     1.00         1.0  \n",
       "2727    0.50        0.00         0.00     1.00         1.0  \n",
       "2728    0.50        0.00         0.75     0.75         1.0  \n",
       "2729    0.25        0.00         0.00     0.25         1.0  \n",
       "\n",
       "[2730 rows x 65 columns]"
      ]
     },
     "execution_count": 15,
     "metadata": {},
     "output_type": "execute_result"
    }
   ],
   "source": [
    "df"
   ]
  },
  {
   "cell_type": "markdown",
   "id": "3d435d1b5f271c72",
   "metadata": {
    "ExecuteTime": {
     "end_time": "2023-11-04T18:18:20.450713Z",
     "start_time": "2023-11-04T18:18:07.486632Z"
    }
   },
   "source": [
    "# Data Analysis"
   ]
  },
  {
   "cell_type": "markdown",
   "id": "b7cce282e957a568",
   "metadata": {
    "ExecuteTime": {
     "end_time": "2023-11-04T18:18:20.450796Z",
     "start_time": "2023-11-04T18:18:07.498123Z"
    }
   },
   "source": [
    "## Imports"
   ]
  },
  {
   "cell_type": "code",
   "execution_count": 16,
   "id": "eb08c650302f0bcd",
   "metadata": {
    "ExecuteTime": {
     "end_time": "2023-11-04T19:39:41.105192Z",
     "start_time": "2023-11-04T19:39:38.494164Z"
    }
   },
   "outputs": [],
   "source": [
    "import seaborn as sns\n",
    "import matplotlib.pyplot as plt\n",
    "from scipy import stats\n",
    "import numpy as np"
   ]
  },
  {
   "cell_type": "markdown",
   "id": "2ecbee21f1b735c1",
   "metadata": {},
   "source": [
    "## Data Overview and Cleaning"
   ]
  },
  {
   "cell_type": "code",
   "execution_count": 17,
   "id": "c22d86d36f87fb96",
   "metadata": {
    "ExecuteTime": {
     "end_time": "2023-11-04T19:39:41.201319Z",
     "start_time": "2023-11-04T19:39:38.500211Z"
    }
   },
   "outputs": [
    {
     "data": {
      "text/html": [
       "<div>\n",
       "<style scoped>\n",
       "    .dataframe tbody tr th:only-of-type {\n",
       "        vertical-align: middle;\n",
       "    }\n",
       "\n",
       "    .dataframe tbody tr th {\n",
       "        vertical-align: top;\n",
       "    }\n",
       "\n",
       "    .dataframe thead th {\n",
       "        text-align: right;\n",
       "    }\n",
       "</style>\n",
       "<table border=\"1\" class=\"dataframe\">\n",
       "  <thead>\n",
       "    <tr style=\"text-align: right;\">\n",
       "      <th></th>\n",
       "      <th>Mean</th>\n",
       "      <th>VoxelNum</th>\n",
       "      <th>VolumeNum</th>\n",
       "      <th>Elongation</th>\n",
       "      <th>Flatness</th>\n",
       "      <th>LeastAxisLength</th>\n",
       "      <th>MajorAxisLength</th>\n",
       "      <th>DiameterColumn</th>\n",
       "      <th>DiameterRow</th>\n",
       "      <th>DiameterSlice</th>\n",
       "      <th>...</th>\n",
       "      <th>ZonePercentage</th>\n",
       "      <th>ZoneVariance</th>\n",
       "      <th>Subtlety</th>\n",
       "      <th>InternalStructure</th>\n",
       "      <th>Sphericity</th>\n",
       "      <th>Margin</th>\n",
       "      <th>Lobulation</th>\n",
       "      <th>Spiculation</th>\n",
       "      <th>Texture</th>\n",
       "      <th>Malignancy</th>\n",
       "    </tr>\n",
       "  </thead>\n",
       "  <tbody>\n",
       "    <tr>\n",
       "      <th>0</th>\n",
       "      <td>0.398388</td>\n",
       "      <td>0.041876</td>\n",
       "      <td>0.000</td>\n",
       "      <td>0.800345</td>\n",
       "      <td>0.244418</td>\n",
       "      <td>0.156384</td>\n",
       "      <td>0.363943</td>\n",
       "      <td>0.359994</td>\n",
       "      <td>0.519872</td>\n",
       "      <td>0.293561</td>\n",
       "      <td>...</td>\n",
       "      <td>0.002402</td>\n",
       "      <td>0.000000</td>\n",
       "      <td>0.75</td>\n",
       "      <td>0.0</td>\n",
       "      <td>0.75</td>\n",
       "      <td>0.75</td>\n",
       "      <td>0.25</td>\n",
       "      <td>0.25</td>\n",
       "      <td>1.0</td>\n",
       "      <td>1.0</td>\n",
       "    </tr>\n",
       "    <tr>\n",
       "      <th>1</th>\n",
       "      <td>0.423089</td>\n",
       "      <td>0.038302</td>\n",
       "      <td>0.000</td>\n",
       "      <td>0.795950</td>\n",
       "      <td>0.239970</td>\n",
       "      <td>0.146965</td>\n",
       "      <td>0.346630</td>\n",
       "      <td>0.462676</td>\n",
       "      <td>0.404700</td>\n",
       "      <td>0.256770</td>\n",
       "      <td>...</td>\n",
       "      <td>0.002647</td>\n",
       "      <td>0.000000</td>\n",
       "      <td>1.00</td>\n",
       "      <td>0.0</td>\n",
       "      <td>0.75</td>\n",
       "      <td>0.25</td>\n",
       "      <td>0.75</td>\n",
       "      <td>0.00</td>\n",
       "      <td>1.0</td>\n",
       "      <td>1.0</td>\n",
       "    </tr>\n",
       "    <tr>\n",
       "      <th>2</th>\n",
       "      <td>0.053140</td>\n",
       "      <td>0.000640</td>\n",
       "      <td>0.000</td>\n",
       "      <td>0.842097</td>\n",
       "      <td>0.323084</td>\n",
       "      <td>0.046066</td>\n",
       "      <td>0.049688</td>\n",
       "      <td>0.051377</td>\n",
       "      <td>0.047941</td>\n",
       "      <td>0.035367</td>\n",
       "      <td>...</td>\n",
       "      <td>0.146866</td>\n",
       "      <td>0.000000</td>\n",
       "      <td>0.75</td>\n",
       "      <td>0.0</td>\n",
       "      <td>1.00</td>\n",
       "      <td>1.00</td>\n",
       "      <td>0.00</td>\n",
       "      <td>0.00</td>\n",
       "      <td>1.0</td>\n",
       "      <td>0.0</td>\n",
       "    </tr>\n",
       "    <tr>\n",
       "      <th>3</th>\n",
       "      <td>0.495832</td>\n",
       "      <td>0.080333</td>\n",
       "      <td>0.125</td>\n",
       "      <td>0.947505</td>\n",
       "      <td>0.241808</td>\n",
       "      <td>0.181580</td>\n",
       "      <td>0.434161</td>\n",
       "      <td>0.583195</td>\n",
       "      <td>0.584977</td>\n",
       "      <td>0.407555</td>\n",
       "      <td>...</td>\n",
       "      <td>0.003889</td>\n",
       "      <td>0.026006</td>\n",
       "      <td>1.00</td>\n",
       "      <td>0.0</td>\n",
       "      <td>0.75</td>\n",
       "      <td>0.25</td>\n",
       "      <td>0.75</td>\n",
       "      <td>0.50</td>\n",
       "      <td>1.0</td>\n",
       "      <td>1.0</td>\n",
       "    </tr>\n",
       "    <tr>\n",
       "      <th>4</th>\n",
       "      <td>0.111337</td>\n",
       "      <td>0.011385</td>\n",
       "      <td>0.000</td>\n",
       "      <td>0.706953</td>\n",
       "      <td>0.664863</td>\n",
       "      <td>0.208073</td>\n",
       "      <td>0.157364</td>\n",
       "      <td>0.214484</td>\n",
       "      <td>0.160674</td>\n",
       "      <td>0.121130</td>\n",
       "      <td>...</td>\n",
       "      <td>0.009373</td>\n",
       "      <td>0.000000</td>\n",
       "      <td>0.50</td>\n",
       "      <td>0.0</td>\n",
       "      <td>1.00</td>\n",
       "      <td>1.00</td>\n",
       "      <td>1.00</td>\n",
       "      <td>1.00</td>\n",
       "      <td>1.0</td>\n",
       "      <td>1.0</td>\n",
       "    </tr>\n",
       "  </tbody>\n",
       "</table>\n",
       "<p>5 rows × 65 columns</p>\n",
       "</div>"
      ],
      "text/plain": [
       "       Mean  VoxelNum  VolumeNum  Elongation  Flatness  LeastAxisLength  \\\n",
       "0  0.398388  0.041876      0.000    0.800345  0.244418         0.156384   \n",
       "1  0.423089  0.038302      0.000    0.795950  0.239970         0.146965   \n",
       "2  0.053140  0.000640      0.000    0.842097  0.323084         0.046066   \n",
       "3  0.495832  0.080333      0.125    0.947505  0.241808         0.181580   \n",
       "4  0.111337  0.011385      0.000    0.706953  0.664863         0.208073   \n",
       "\n",
       "   MajorAxisLength  DiameterColumn  DiameterRow  DiameterSlice  ...  \\\n",
       "0         0.363943        0.359994     0.519872       0.293561  ...   \n",
       "1         0.346630        0.462676     0.404700       0.256770  ...   \n",
       "2         0.049688        0.051377     0.047941       0.035367  ...   \n",
       "3         0.434161        0.583195     0.584977       0.407555  ...   \n",
       "4         0.157364        0.214484     0.160674       0.121130  ...   \n",
       "\n",
       "   ZonePercentage  ZoneVariance  Subtlety  InternalStructure  Sphericity  \\\n",
       "0        0.002402      0.000000      0.75                0.0        0.75   \n",
       "1        0.002647      0.000000      1.00                0.0        0.75   \n",
       "2        0.146866      0.000000      0.75                0.0        1.00   \n",
       "3        0.003889      0.026006      1.00                0.0        0.75   \n",
       "4        0.009373      0.000000      0.50                0.0        1.00   \n",
       "\n",
       "   Margin  Lobulation  Spiculation  Texture  Malignancy  \n",
       "0    0.75        0.25         0.25      1.0         1.0  \n",
       "1    0.25        0.75         0.00      1.0         1.0  \n",
       "2    1.00        0.00         0.00      1.0         0.0  \n",
       "3    0.25        0.75         0.50      1.0         1.0  \n",
       "4    1.00        1.00         1.00      1.0         1.0  \n",
       "\n",
       "[5 rows x 65 columns]"
      ]
     },
     "execution_count": 17,
     "metadata": {},
     "output_type": "execute_result"
    }
   ],
   "source": [
    "df.head()"
   ]
  },
  {
   "cell_type": "code",
   "execution_count": 18,
   "id": "bc1bb67853471cec",
   "metadata": {
    "ExecuteTime": {
     "end_time": "2023-11-04T19:39:41.207466Z",
     "start_time": "2023-11-04T19:39:38.515483Z"
    }
   },
   "outputs": [
    {
     "name": "stdout",
     "output_type": "stream",
     "text": [
      "Mean           0\n",
      "VoxelNum       0\n",
      "VolumeNum      0\n",
      "Elongation     0\n",
      "Flatness       0\n",
      "              ..\n",
      "Margin         0\n",
      "Lobulation     0\n",
      "Spiculation    0\n",
      "Texture        0\n",
      "Malignancy     0\n",
      "Length: 65, dtype: int64\n"
     ]
    }
   ],
   "source": [
    "# checking for null values in columns\n",
    "missing_values = df.isnull().sum()\n",
    "\n",
    "columns_with_missing = missing_values[missing_values > 0]\n",
    "print(missing_values)"
   ]
  },
  {
   "cell_type": "markdown",
   "id": "48a6c5b59a7ce715",
   "metadata": {
    "ExecuteTime": {
     "end_time": "2023-11-04T18:18:20.450976Z",
     "start_time": "2023-11-04T18:18:07.508317Z"
    }
   },
   "source": [
    "## Data Distribution"
   ]
  },
  {
   "cell_type": "code",
   "execution_count": 19,
   "id": "2efba70359a3861b",
   "metadata": {
    "ExecuteTime": {
     "end_time": "2023-11-04T19:39:51.591188Z",
     "start_time": "2023-11-04T19:39:38.523662Z"
    }
   },
   "outputs": [
    {
     "name": "stderr",
     "output_type": "stream",
     "text": [
      "\n",
      "KeyboardInterrupt\n",
      "\n"
     ]
    },
    {
     "name": "stdout",
     "output_type": "stream",
     "text": [
      "Error in callback <function _draw_all_if_interactive at 0x160138cc0> (for post_execute):\n"
     ]
    },
    {
     "name": "stderr",
     "output_type": "stream",
     "text": [
      "\n",
      "KeyboardInterrupt\n",
      "\n"
     ]
    },
    {
     "name": "stdout",
     "output_type": "stream",
     "text": [
      "Error in callback <function flush_figures at 0x16b785620> (for post_execute):\n"
     ]
    },
    {
     "name": "stderr",
     "output_type": "stream",
     "text": [
      "\n",
      "KeyboardInterrupt\n",
      "\n"
     ]
    }
   ],
   "source": [
    "# Create distribution plots for all columns (assuming they are all numerical)\n",
    "# Adjust the number of subplots based on the number of columns\n",
    "num_plots = len(df.columns)\n",
    "\n",
    "# Create a grid of subplots\n",
    "fig, axes = plt.subplots(nrows=1, ncols=num_plots, figsize=(15, 5))\n",
    "\n",
    "# Create histograms for all columns\n",
    "for i, column in enumerate(df.columns):\n",
    "    sns.histplot(df[column], ax=axes[i], kde=True)  # Use sns.histplot for a histogram with a KDE curve\n",
    "    axes[i].set_title(f'Distribution of {column}')\n",
    "    axes[i].set_xlabel(column)\n",
    "    axes[i].set_ylabel('Frequency')\n",
    "\n",
    "    # Rotate x-axis labels for better readability\n",
    "    axes[i].tick_params(axis='x', rotation=45)\n",
    "\n",
    "    # Increase the font size for x and y-axis labels\n",
    "    axes[i].tick_params(axis='both', labelsize=12)  # Adjust the font size (e.g., 12)\n",
    "\n",
    "plt.tight_layout()\n",
    "plt.show()\n"
   ]
  },
  {
   "cell_type": "code",
   "execution_count": null,
   "id": "6f9c3fe8e110b90f",
   "metadata": {
    "collapsed": false
   },
   "outputs": [],
   "source": [
    "# Kernel Density Estimation (KDE) Plot\n",
    "plt.figure(figsize=(8, 4))\n",
    "sns.kdeplot(df['texture'], shade=True)\n",
    "plt.title('Kernel Density Estimation Plot')\n",
    "plt.xlabel('Texture')\n",
    "plt.show()"
   ]
  },
  {
   "cell_type": "code",
   "execution_count": null,
   "id": "c7e19f440986a3ec",
   "metadata": {
    "collapsed": false
   },
   "outputs": [],
   "source": [
    "# Violin plot\n",
    "plt.figure(figsize=(8, 4))\n",
    "sns.violinplot(data=df, x='density', y='texture')\n",
    "plt.title('Violin Plot of Pixel Intensity by Class')\n",
    "plt.xlabel('density')\n",
    "plt.ylabel('Texture')\n",
    "plt.show()\n"
   ]
  },
  {
   "cell_type": "code",
   "execution_count": null,
   "id": "7aa8db0748c679eb",
   "metadata": {
    "collapsed": false
   },
   "outputs": [],
   "source": [
    "# Empirical Cumulative Distribution Function (ECDF) Plot columns_per_plot = 3\n",
    "columns_per_plot = 6\n",
    "# Function to create ECDF plots for a group of columns\n",
    "def create_ecdf_plots(columns):\n",
    "    plt.figure(figsize=(24, 11))\n",
    "    \n",
    "    for col in columns:\n",
    "        x = np.sort(df[col])\n",
    "        y = np.arange(1, len(x) + 1) / len(x)\n",
    "        plt.plot(x, y, marker='.', linestyle='none', label=col)\n",
    "    \n",
    "    plt.title(f'ECDF Plot for Columns {columns[0]} to {columns[-1]}')\n",
    "    plt.xlabel('Value')\n",
    "    plt.ylabel('CDF')\n",
    "    plt.legend()\n",
    "    plt.margins(0.02)\n",
    "    plt.show()\n",
    "    \n",
    "column_names = df.columns.tolist()\n",
    "\n",
    "# Loop to create ECDF plots for groups of columns\n",
    "for i in range(0, len(column_names), columns_per_plot):\n",
    "    columns_to_plot = column_names[i:i + columns_per_plot]\n",
    "    create_ecdf_plots(columns_to_plot)"
   ]
  },
  {
   "cell_type": "code",
   "execution_count": null,
   "id": "90daf2c0dfb00f8a",
   "metadata": {
    "collapsed": false
   },
   "outputs": [],
   "source": []
  },
  {
   "cell_type": "markdown",
   "id": "5c1d1fde4c62d816",
   "metadata": {
    "ExecuteTime": {
     "start_time": "2023-11-04T18:19:38.787990Z"
    }
   },
   "source": [
    "## Correlation Analysis"
   ]
  },
  {
   "cell_type": "code",
   "execution_count": null,
   "id": "85daea57061345d5",
   "metadata": {
    "ExecuteTime": {
     "start_time": "2023-11-04T19:39:51.420221Z"
    }
   },
   "outputs": [],
   "source": [
    "df.select_dtypes(include=['object'])\n",
    "numeric_columns = df.select_dtypes(exclude=['object'])\n",
    "correlation_matrix = numeric_columns.corr()\n",
    "\n",
    "print(correlation_matrix)"
   ]
  },
  {
   "cell_type": "code",
   "execution_count": null,
   "id": "b45207a84bf7ae14",
   "metadata": {
    "collapsed": false
   },
   "outputs": [],
   "source": [
    "correlation_matrix = numeric_columns.corr()\n",
    "plt.figure(figsize=(15, 13))\n",
    "sns.heatmap(correlation_matrix, annot=False, cmap='coolwarm', linewidths=0.5)\n",
    "plt.show()"
   ]
  },
  {
   "cell_type": "code",
   "execution_count": null,
   "id": "ca7b02872e45f25a",
   "metadata": {
    "collapsed": false
   },
   "outputs": [],
   "source": [
    "threshold = 0.7\n",
    "\n",
    "strong_correlations = correlation_matrix[\n",
    "    (correlation_matrix > threshold) & (correlation_matrix < 1)\n",
    "    ]\n",
    "\n",
    "print(strong_correlations)"
   ]
  },
  {
   "cell_type": "markdown",
   "id": "67799810a4e81c07",
   "metadata": {
    "ExecuteTime": {
     "start_time": "2023-11-04T18:19:38.790352Z"
    }
   },
   "source": [
    "## Feature Relationships"
   ]
  },
  {
   "cell_type": "code",
   "execution_count": null,
   "id": "6588340ab8db599d",
   "metadata": {
    "ExecuteTime": {
     "start_time": "2023-11-04T19:39:51.421184Z"
    }
   },
   "outputs": [],
   "source": [
    "import seaborn as sns\n",
    "import matplotlib.pyplot as plt\n",
    "\n",
    "# Create pair plots to explore relationships between numerical features\n",
    "numerical_features = df.select_dtypes(include=['int64', 'float64'])  # Select numerical features\n",
    "\n",
    "# Customize the pair plot based on your preferences\n",
    "sns.set(style=\"ticks\")\n",
    "pair_plot = sns.pairplot(numerical_features, diag_kind=\"kde\")\n",
    "\n",
    "# You can add additional customization options as needed, such as hue, markers, etc.\n",
    "# Example:\n",
    "# pair_plot = sns.pairplot(numerical_features, diag_kind=\"kde\", hue=\"target_variable\", markers=[\"o\", \"s\", \"D\"])\n",
    "\n",
    "# Show the pair plot\n",
    "plt.show()\n"
   ]
  },
  {
   "cell_type": "markdown",
   "id": "f0a11fcea48b3290",
   "metadata": {
    "ExecuteTime": {
     "end_time": "2023-11-04T18:19:38.820463Z",
     "start_time": "2023-11-04T18:19:38.791420Z"
    }
   },
   "source": [
    "## Feature Importance"
   ]
  },
  {
   "cell_type": "code",
   "execution_count": null,
   "id": "e019a738596b4277",
   "metadata": {
    "ExecuteTime": {
     "start_time": "2023-11-04T19:39:51.422183Z"
    }
   },
   "outputs": [],
   "source": []
  },
  {
   "cell_type": "markdown",
   "id": "c50b3106fa9bafe0",
   "metadata": {
    "ExecuteTime": {
     "start_time": "2023-11-04T18:19:38.792244Z"
    }
   },
   "source": [
    "## Outliers and Anomalies"
   ]
  },
  {
   "cell_type": "code",
   "execution_count": null,
   "id": "297624482bae5324",
   "metadata": {
    "ExecuteTime": {
     "start_time": "2023-11-04T19:39:51.422469Z"
    }
   },
   "outputs": [],
   "source": [
    "# Calculate the Z-scores for each numerical feature------------------------------------not working\n",
    "numeric_columns = df.select_dtypes(exclude=['object'])\n",
    "\n",
    "z_scores = np.abs(stats.zscore(numeric_columns))\n",
    "\n",
    "# Define a threshold for considering data points as outliers (e.g., Z-score > 3)\n",
    "threshold = 3\n",
    "\n",
    "# Identify and remove outliers\n",
    "outliers = (z_scores > threshold).any(axis=1)\n",
    "cleaned_data = df[~outliers]\n",
    "cap_value = 3\n",
    "\n",
    "# Alternatively, you can choose to impute or transform outliers instead of removing them\n",
    "# Example for capping outliers to a specific value\n",
    "cleaned_data['texture'] = np.where(z_scores > threshold, cap_value, cleaned_data['texture'])\n"
   ]
  },
  {
   "cell_type": "markdown",
   "id": "2bf0fcee379cf6ac",
   "metadata": {
    "ExecuteTime": {
     "start_time": "2023-11-04T18:19:38.793099Z"
    }
   },
   "source": [
    "## Data Preprocessing and Feature Engineering"
   ]
  },
  {
   "cell_type": "code",
   "execution_count": null,
   "id": "a9ddfd5bb216382d",
   "metadata": {
    "ExecuteTime": {
     "start_time": "2023-11-04T19:39:51.422594Z"
    }
   },
   "outputs": [],
   "source": []
  },
  {
   "cell_type": "markdown",
   "id": "82433caceae1ab21",
   "metadata": {
    "ExecuteTime": {
     "start_time": "2023-11-04T18:19:38.793928Z"
    }
   },
   "source": [
    "## Summary and Insights"
   ]
  },
  {
   "cell_type": "code",
   "execution_count": null,
   "id": "eea97c1ce2db601d",
   "metadata": {
    "ExecuteTime": {
     "start_time": "2023-11-04T19:39:51.423064Z"
    }
   },
   "outputs": [],
   "source": []
  },
  {
   "cell_type": "code",
   "execution_count": null,
   "id": "6808e261",
   "metadata": {
    "ExecuteTime": {
     "start_time": "2023-11-04T19:39:51.428635Z"
    }
   },
   "outputs": [],
   "source": [
    "df.select_dtypes(include=['object'])"
   ]
  },
  {
   "cell_type": "code",
   "execution_count": null,
   "id": "f9a5eabf",
   "metadata": {
    "ExecuteTime": {
     "start_time": "2023-11-04T19:39:51.430285Z"
    }
   },
   "outputs": [],
   "source": [
    "numeric_columns = df.select_dtypes(exclude=['object'])\n",
    "correlation_matrix = numeric_columns.corr()\n",
    "\n",
    "print(correlation_matrix)"
   ]
  },
  {
   "cell_type": "code",
   "execution_count": null,
   "id": "7f612e44",
   "metadata": {
    "ExecuteTime": {
     "start_time": "2023-11-04T19:39:51.430494Z"
    }
   },
   "outputs": [],
   "source": [
    "\n",
    "plt.figure(figsize=(15, 13))\n",
    "sns.heatmap(correlation_matrix, annot=False, cmap='coolwarm', linewidths=0.5)\n",
    "plt.show()"
   ]
  },
  {
   "cell_type": "code",
   "execution_count": null,
   "id": "424b254c",
   "metadata": {
    "ExecuteTime": {
     "start_time": "2023-11-04T19:39:51.430607Z"
    }
   },
   "outputs": [],
   "source": [
    "correlation_matrix = numeric_columns.corr()\n",
    "\n",
    "threshold = 0.7\n",
    "\n",
    "strong_correlations = correlation_matrix[\n",
    "    (correlation_matrix > threshold) & (correlation_matrix < 1)\n",
    "]\n",
    "\n",
    "print(strong_correlations)"
   ]
  },
  {
   "cell_type": "markdown",
   "id": "ccb9048aafe9ceba",
   "metadata": {
    "ExecuteTime": {
     "start_time": "2023-11-04T18:19:38.800509Z"
    }
   },
   "source": [
    "## Classification"
   ]
  },
  {
   "cell_type": "markdown",
   "id": "c3f603b22b686feb",
   "metadata": {
    "is_executing": true
   },
   "source": [
    "### Imports"
   ]
  },
  {
   "cell_type": "code",
   "execution_count": 21,
   "id": "7d01157e4381bc02",
   "metadata": {
    "ExecuteTime": {
     "end_time": "2023-11-04T19:40:10.089943Z",
     "start_time": "2023-11-04T19:40:09.570299Z"
    }
   },
   "outputs": [],
   "source": [
    "from sklearn.model_selection import train_test_split\n",
    "from sklearn.metrics import accuracy_score, classification_report"
   ]
  },
  {
   "cell_type": "code",
   "execution_count": 22,
   "id": "08ce9908",
   "metadata": {
    "ExecuteTime": {
     "end_time": "2023-11-04T19:40:10.099506Z",
     "start_time": "2023-11-04T19:40:09.578292Z"
    }
   },
   "outputs": [
    {
     "data": {
      "text/html": [
       "<div>\n",
       "<style scoped>\n",
       "    .dataframe tbody tr th:only-of-type {\n",
       "        vertical-align: middle;\n",
       "    }\n",
       "\n",
       "    .dataframe tbody tr th {\n",
       "        vertical-align: top;\n",
       "    }\n",
       "\n",
       "    .dataframe thead th {\n",
       "        text-align: right;\n",
       "    }\n",
       "</style>\n",
       "<table border=\"1\" class=\"dataframe\">\n",
       "  <thead>\n",
       "    <tr style=\"text-align: right;\">\n",
       "      <th></th>\n",
       "      <th>Mean</th>\n",
       "      <th>VoxelNum</th>\n",
       "      <th>VolumeNum</th>\n",
       "      <th>Elongation</th>\n",
       "      <th>Flatness</th>\n",
       "      <th>LeastAxisLength</th>\n",
       "      <th>MajorAxisLength</th>\n",
       "      <th>DiameterColumn</th>\n",
       "      <th>DiameterRow</th>\n",
       "      <th>DiameterSlice</th>\n",
       "      <th>...</th>\n",
       "      <th>ZonePercentage</th>\n",
       "      <th>ZoneVariance</th>\n",
       "      <th>Subtlety</th>\n",
       "      <th>InternalStructure</th>\n",
       "      <th>Sphericity</th>\n",
       "      <th>Margin</th>\n",
       "      <th>Lobulation</th>\n",
       "      <th>Spiculation</th>\n",
       "      <th>Texture</th>\n",
       "      <th>Malignancy</th>\n",
       "    </tr>\n",
       "  </thead>\n",
       "  <tbody>\n",
       "    <tr>\n",
       "      <th>0</th>\n",
       "      <td>0.398388</td>\n",
       "      <td>0.041876</td>\n",
       "      <td>0.000</td>\n",
       "      <td>0.800345</td>\n",
       "      <td>0.244418</td>\n",
       "      <td>0.156384</td>\n",
       "      <td>0.363943</td>\n",
       "      <td>0.359994</td>\n",
       "      <td>0.519872</td>\n",
       "      <td>0.293561</td>\n",
       "      <td>...</td>\n",
       "      <td>0.002402</td>\n",
       "      <td>0.000000</td>\n",
       "      <td>0.75</td>\n",
       "      <td>0.0</td>\n",
       "      <td>0.75</td>\n",
       "      <td>0.75</td>\n",
       "      <td>0.25</td>\n",
       "      <td>0.25</td>\n",
       "      <td>1.00</td>\n",
       "      <td>1.0</td>\n",
       "    </tr>\n",
       "    <tr>\n",
       "      <th>1</th>\n",
       "      <td>0.423089</td>\n",
       "      <td>0.038302</td>\n",
       "      <td>0.000</td>\n",
       "      <td>0.795950</td>\n",
       "      <td>0.239970</td>\n",
       "      <td>0.146965</td>\n",
       "      <td>0.346630</td>\n",
       "      <td>0.462676</td>\n",
       "      <td>0.404700</td>\n",
       "      <td>0.256770</td>\n",
       "      <td>...</td>\n",
       "      <td>0.002647</td>\n",
       "      <td>0.000000</td>\n",
       "      <td>1.00</td>\n",
       "      <td>0.0</td>\n",
       "      <td>0.75</td>\n",
       "      <td>0.25</td>\n",
       "      <td>0.75</td>\n",
       "      <td>0.00</td>\n",
       "      <td>1.00</td>\n",
       "      <td>1.0</td>\n",
       "    </tr>\n",
       "    <tr>\n",
       "      <th>2</th>\n",
       "      <td>0.053140</td>\n",
       "      <td>0.000640</td>\n",
       "      <td>0.000</td>\n",
       "      <td>0.842097</td>\n",
       "      <td>0.323084</td>\n",
       "      <td>0.046066</td>\n",
       "      <td>0.049688</td>\n",
       "      <td>0.051377</td>\n",
       "      <td>0.047941</td>\n",
       "      <td>0.035367</td>\n",
       "      <td>...</td>\n",
       "      <td>0.146866</td>\n",
       "      <td>0.000000</td>\n",
       "      <td>0.75</td>\n",
       "      <td>0.0</td>\n",
       "      <td>1.00</td>\n",
       "      <td>1.00</td>\n",
       "      <td>0.00</td>\n",
       "      <td>0.00</td>\n",
       "      <td>1.00</td>\n",
       "      <td>0.0</td>\n",
       "    </tr>\n",
       "    <tr>\n",
       "      <th>3</th>\n",
       "      <td>0.495832</td>\n",
       "      <td>0.080333</td>\n",
       "      <td>0.125</td>\n",
       "      <td>0.947505</td>\n",
       "      <td>0.241808</td>\n",
       "      <td>0.181580</td>\n",
       "      <td>0.434161</td>\n",
       "      <td>0.583195</td>\n",
       "      <td>0.584977</td>\n",
       "      <td>0.407555</td>\n",
       "      <td>...</td>\n",
       "      <td>0.003889</td>\n",
       "      <td>0.026006</td>\n",
       "      <td>1.00</td>\n",
       "      <td>0.0</td>\n",
       "      <td>0.75</td>\n",
       "      <td>0.25</td>\n",
       "      <td>0.75</td>\n",
       "      <td>0.50</td>\n",
       "      <td>1.00</td>\n",
       "      <td>1.0</td>\n",
       "    </tr>\n",
       "    <tr>\n",
       "      <th>4</th>\n",
       "      <td>0.111337</td>\n",
       "      <td>0.011385</td>\n",
       "      <td>0.000</td>\n",
       "      <td>0.706953</td>\n",
       "      <td>0.664863</td>\n",
       "      <td>0.208073</td>\n",
       "      <td>0.157364</td>\n",
       "      <td>0.214484</td>\n",
       "      <td>0.160674</td>\n",
       "      <td>0.121130</td>\n",
       "      <td>...</td>\n",
       "      <td>0.009373</td>\n",
       "      <td>0.000000</td>\n",
       "      <td>0.50</td>\n",
       "      <td>0.0</td>\n",
       "      <td>1.00</td>\n",
       "      <td>1.00</td>\n",
       "      <td>1.00</td>\n",
       "      <td>1.00</td>\n",
       "      <td>1.00</td>\n",
       "      <td>1.0</td>\n",
       "    </tr>\n",
       "    <tr>\n",
       "      <th>...</th>\n",
       "      <td>...</td>\n",
       "      <td>...</td>\n",
       "      <td>...</td>\n",
       "      <td>...</td>\n",
       "      <td>...</td>\n",
       "      <td>...</td>\n",
       "      <td>...</td>\n",
       "      <td>...</td>\n",
       "      <td>...</td>\n",
       "      <td>...</td>\n",
       "      <td>...</td>\n",
       "      <td>...</td>\n",
       "      <td>...</td>\n",
       "      <td>...</td>\n",
       "      <td>...</td>\n",
       "      <td>...</td>\n",
       "      <td>...</td>\n",
       "      <td>...</td>\n",
       "      <td>...</td>\n",
       "      <td>...</td>\n",
       "      <td>...</td>\n",
       "    </tr>\n",
       "    <tr>\n",
       "      <th>2725</th>\n",
       "      <td>0.146078</td>\n",
       "      <td>0.003618</td>\n",
       "      <td>0.000</td>\n",
       "      <td>0.500024</td>\n",
       "      <td>0.258786</td>\n",
       "      <td>0.078401</td>\n",
       "      <td>0.151917</td>\n",
       "      <td>0.145897</td>\n",
       "      <td>0.138285</td>\n",
       "      <td>0.087722</td>\n",
       "      <td>...</td>\n",
       "      <td>0.029342</td>\n",
       "      <td>0.000000</td>\n",
       "      <td>0.75</td>\n",
       "      <td>0.0</td>\n",
       "      <td>0.50</td>\n",
       "      <td>1.00</td>\n",
       "      <td>0.00</td>\n",
       "      <td>0.00</td>\n",
       "      <td>1.00</td>\n",
       "      <td>1.0</td>\n",
       "    </tr>\n",
       "    <tr>\n",
       "      <th>2726</th>\n",
       "      <td>0.274997</td>\n",
       "      <td>0.035037</td>\n",
       "      <td>0.000</td>\n",
       "      <td>0.429916</td>\n",
       "      <td>0.235521</td>\n",
       "      <td>0.170402</td>\n",
       "      <td>0.416814</td>\n",
       "      <td>0.450243</td>\n",
       "      <td>0.534841</td>\n",
       "      <td>0.330323</td>\n",
       "      <td>...</td>\n",
       "      <td>0.002912</td>\n",
       "      <td>0.000000</td>\n",
       "      <td>1.00</td>\n",
       "      <td>0.0</td>\n",
       "      <td>0.25</td>\n",
       "      <td>0.75</td>\n",
       "      <td>0.00</td>\n",
       "      <td>0.25</td>\n",
       "      <td>1.00</td>\n",
       "      <td>1.0</td>\n",
       "    </tr>\n",
       "    <tr>\n",
       "      <th>2727</th>\n",
       "      <td>0.346362</td>\n",
       "      <td>0.054607</td>\n",
       "      <td>0.000</td>\n",
       "      <td>0.305325</td>\n",
       "      <td>0.172922</td>\n",
       "      <td>0.164180</td>\n",
       "      <td>0.584979</td>\n",
       "      <td>0.455872</td>\n",
       "      <td>0.515510</td>\n",
       "      <td>0.401251</td>\n",
       "      <td>...</td>\n",
       "      <td>0.001791</td>\n",
       "      <td>0.000000</td>\n",
       "      <td>1.00</td>\n",
       "      <td>0.0</td>\n",
       "      <td>0.25</td>\n",
       "      <td>0.50</td>\n",
       "      <td>0.00</td>\n",
       "      <td>0.00</td>\n",
       "      <td>1.00</td>\n",
       "      <td>1.0</td>\n",
       "    </tr>\n",
       "    <tr>\n",
       "      <th>2728</th>\n",
       "      <td>0.454973</td>\n",
       "      <td>0.074971</td>\n",
       "      <td>0.000</td>\n",
       "      <td>0.732047</td>\n",
       "      <td>0.286005</td>\n",
       "      <td>0.212082</td>\n",
       "      <td>0.436462</td>\n",
       "      <td>0.522382</td>\n",
       "      <td>0.469772</td>\n",
       "      <td>0.352919</td>\n",
       "      <td>...</td>\n",
       "      <td>0.001243</td>\n",
       "      <td>0.000000</td>\n",
       "      <td>1.00</td>\n",
       "      <td>0.0</td>\n",
       "      <td>0.75</td>\n",
       "      <td>0.50</td>\n",
       "      <td>0.00</td>\n",
       "      <td>0.75</td>\n",
       "      <td>0.75</td>\n",
       "      <td>1.0</td>\n",
       "    </tr>\n",
       "    <tr>\n",
       "      <th>2729</th>\n",
       "      <td>0.178374</td>\n",
       "      <td>0.006244</td>\n",
       "      <td>0.000</td>\n",
       "      <td>0.574123</td>\n",
       "      <td>0.411614</td>\n",
       "      <td>0.114568</td>\n",
       "      <td>0.172293</td>\n",
       "      <td>0.116433</td>\n",
       "      <td>0.179530</td>\n",
       "      <td>0.156222</td>\n",
       "      <td>...</td>\n",
       "      <td>0.017116</td>\n",
       "      <td>0.000000</td>\n",
       "      <td>0.50</td>\n",
       "      <td>0.0</td>\n",
       "      <td>0.75</td>\n",
       "      <td>0.25</td>\n",
       "      <td>0.00</td>\n",
       "      <td>0.00</td>\n",
       "      <td>0.25</td>\n",
       "      <td>1.0</td>\n",
       "    </tr>\n",
       "  </tbody>\n",
       "</table>\n",
       "<p>2730 rows × 65 columns</p>\n",
       "</div>"
      ],
      "text/plain": [
       "          Mean  VoxelNum  VolumeNum  Elongation  Flatness  LeastAxisLength  \\\n",
       "0     0.398388  0.041876      0.000    0.800345  0.244418         0.156384   \n",
       "1     0.423089  0.038302      0.000    0.795950  0.239970         0.146965   \n",
       "2     0.053140  0.000640      0.000    0.842097  0.323084         0.046066   \n",
       "3     0.495832  0.080333      0.125    0.947505  0.241808         0.181580   \n",
       "4     0.111337  0.011385      0.000    0.706953  0.664863         0.208073   \n",
       "...        ...       ...        ...         ...       ...              ...   \n",
       "2725  0.146078  0.003618      0.000    0.500024  0.258786         0.078401   \n",
       "2726  0.274997  0.035037      0.000    0.429916  0.235521         0.170402   \n",
       "2727  0.346362  0.054607      0.000    0.305325  0.172922         0.164180   \n",
       "2728  0.454973  0.074971      0.000    0.732047  0.286005         0.212082   \n",
       "2729  0.178374  0.006244      0.000    0.574123  0.411614         0.114568   \n",
       "\n",
       "      MajorAxisLength  DiameterColumn  DiameterRow  DiameterSlice  ...  \\\n",
       "0            0.363943        0.359994     0.519872       0.293561  ...   \n",
       "1            0.346630        0.462676     0.404700       0.256770  ...   \n",
       "2            0.049688        0.051377     0.047941       0.035367  ...   \n",
       "3            0.434161        0.583195     0.584977       0.407555  ...   \n",
       "4            0.157364        0.214484     0.160674       0.121130  ...   \n",
       "...               ...             ...          ...            ...  ...   \n",
       "2725         0.151917        0.145897     0.138285       0.087722  ...   \n",
       "2726         0.416814        0.450243     0.534841       0.330323  ...   \n",
       "2727         0.584979        0.455872     0.515510       0.401251  ...   \n",
       "2728         0.436462        0.522382     0.469772       0.352919  ...   \n",
       "2729         0.172293        0.116433     0.179530       0.156222  ...   \n",
       "\n",
       "      ZonePercentage  ZoneVariance  Subtlety  InternalStructure  Sphericity  \\\n",
       "0           0.002402      0.000000      0.75                0.0        0.75   \n",
       "1           0.002647      0.000000      1.00                0.0        0.75   \n",
       "2           0.146866      0.000000      0.75                0.0        1.00   \n",
       "3           0.003889      0.026006      1.00                0.0        0.75   \n",
       "4           0.009373      0.000000      0.50                0.0        1.00   \n",
       "...              ...           ...       ...                ...         ...   \n",
       "2725        0.029342      0.000000      0.75                0.0        0.50   \n",
       "2726        0.002912      0.000000      1.00                0.0        0.25   \n",
       "2727        0.001791      0.000000      1.00                0.0        0.25   \n",
       "2728        0.001243      0.000000      1.00                0.0        0.75   \n",
       "2729        0.017116      0.000000      0.50                0.0        0.75   \n",
       "\n",
       "      Margin  Lobulation  Spiculation  Texture  Malignancy  \n",
       "0       0.75        0.25         0.25     1.00         1.0  \n",
       "1       0.25        0.75         0.00     1.00         1.0  \n",
       "2       1.00        0.00         0.00     1.00         0.0  \n",
       "3       0.25        0.75         0.50     1.00         1.0  \n",
       "4       1.00        1.00         1.00     1.00         1.0  \n",
       "...      ...         ...          ...      ...         ...  \n",
       "2725    1.00        0.00         0.00     1.00         1.0  \n",
       "2726    0.75        0.00         0.25     1.00         1.0  \n",
       "2727    0.50        0.00         0.00     1.00         1.0  \n",
       "2728    0.50        0.00         0.75     0.75         1.0  \n",
       "2729    0.25        0.00         0.00     0.25         1.0  \n",
       "\n",
       "[2730 rows x 65 columns]"
      ]
     },
     "execution_count": 22,
     "metadata": {},
     "output_type": "execute_result"
    }
   ],
   "source": [
    "df"
   ]
  },
  {
   "cell_type": "code",
   "execution_count": 23,
   "id": "ad9e28edd1c2dc6b",
   "metadata": {
    "ExecuteTime": {
     "end_time": "2023-11-04T19:40:10.100574Z",
     "start_time": "2023-11-04T19:40:09.593998Z"
    }
   },
   "outputs": [],
   "source": [
    "X = df.iloc[:, :-1]  # Features (all columns except the last one)\n",
    "y = df.iloc[:, -1]   # Target (the last column)"
   ]
  },
  {
   "cell_type": "code",
   "execution_count": 24,
   "id": "707a7f7902652c42",
   "metadata": {
    "ExecuteTime": {
     "end_time": "2023-11-04T19:40:10.100923Z",
     "start_time": "2023-11-04T19:40:09.608378Z"
    }
   },
   "outputs": [],
   "source": [
    "X_train, X_test, y_train, y_test = train_test_split(X, y, test_size=0.3)"
   ]
  },
  {
   "cell_type": "code",
   "execution_count": 25,
   "id": "1c1d08d11609f7b6",
   "metadata": {
    "ExecuteTime": {
     "end_time": "2023-11-04T19:40:10.101108Z",
     "start_time": "2023-11-04T19:40:09.608793Z"
    }
   },
   "outputs": [],
   "source": [
    "from sklearn.metrics import confusion_matrix\n",
    "\n",
    "\n",
    "def testing(test,pred):\n",
    "    accuracy = accuracy_score(test, pred)\n",
    "    report = classification_report(test, pred, zero_division=1)\n",
    "    print(\"Accuracy:\", accuracy)\n",
    "    print(\"Classification Report:\\n\", report)\n",
    "    heatmap(test,pred)\n",
    "    \n",
    "def heatmap(test,pred):\n",
    "    cm = confusion_matrix(test, pred)\n",
    "    sns.heatmap(cm, annot=True, fmt='d', cmap='Blues')\n",
    "    plt.xlabel('Predicted')\n",
    "    plt.ylabel('Actual')\n",
    "    plt.show()"
   ]
  },
  {
   "cell_type": "markdown",
   "id": "c56c480d32daab7a",
   "metadata": {},
   "source": [
    "### Decision Tree Classifier"
   ]
  },
  {
   "cell_type": "code",
   "execution_count": 183,
   "outputs": [],
   "source": [
    "from sklearn.tree import DecisionTreeClassifier"
   ],
   "metadata": {
    "ExecuteTime": {
     "end_time": "2023-11-04T19:40:10.168771Z",
     "start_time": "2023-11-04T19:40:09.641863Z"
    }
   },
   "id": "901c235282a80011"
  },
  {
   "cell_type": "code",
   "execution_count": 184,
   "outputs": [],
   "source": [
    "tree=DecisionTreeClassifier()\n",
    "tree.fit(X_train, y_train)\n",
    "y_pred = tree.predict(X_test)"
   ],
   "metadata": {
    "collapsed": false,
    "ExecuteTime": {
     "end_time": "2023-11-04T19:26:59.353615Z",
     "start_time": "2023-11-04T19:26:59.276089Z"
    }
   },
   "id": "e11ab12afae43afd"
  },
  {
   "cell_type": "code",
   "execution_count": 185,
   "outputs": [
    {
     "name": "stdout",
     "output_type": "stream",
     "text": [
      "Accuracy: 0.8107448107448108\n",
      "Classification Report:\n",
      "               precision    recall  f1-score   support\n",
      "\n",
      "         0.0       0.81      0.78      0.80       393\n",
      "         1.0       0.81      0.84      0.82       426\n",
      "\n",
      "    accuracy                           0.81       819\n",
      "   macro avg       0.81      0.81      0.81       819\n",
      "weighted avg       0.81      0.81      0.81       819\n"
     ]
    },
    {
     "data": {
      "text/plain": "<Figure size 640x480 with 2 Axes>",
      "image/png": "[encoded data removed]"
     },
     "metadata": {},
     "output_type": "display_data"
    }
   ],
   "source": [
    "testing(y_test,y_pred)"
   ],
   "metadata": {
    "collapsed": false,
    "ExecuteTime": {
     "end_time": "2023-11-04T19:26:59.533184Z",
     "start_time": "2023-11-04T19:26:59.442862Z"
    }
   },
   "id": "b29cd5100404e348"
  },
  {
   "cell_type": "markdown",
   "id": "fb456e8c672b88e3",
   "metadata": {
    "ExecuteTime": {
     "start_time": "2023-11-04T18:19:38.807876Z"
    }
   },
   "source": [
    "#### Random Forest Classifier"
   ]
  },
  {
   "cell_type": "code",
   "execution_count": 29,
   "id": "8a21b1cdfae8dad9",
   "metadata": {
    "ExecuteTime": {
     "end_time": "2023-11-04T19:40:10.751676Z",
     "start_time": "2023-11-04T19:40:09.886270Z"
    }
   },
   "outputs": [],
   "source": [
    "from sklearn.ensemble import RandomForestClassifier"
   ]
  },
  {
   "cell_type": "code",
   "execution_count": 30,
   "id": "9fc6012f5a49955b",
   "metadata": {
    "ExecuteTime": {
     "end_time": "2023-11-04T19:40:11.376633Z",
     "start_time": "2023-11-04T19:40:09.892736Z"
    }
   },
   "outputs": [],
   "source": [
    "rf_classifier = RandomForestClassifier(n_estimators=100, random_state=42)  # You can adjust the number of trees (n_estimators)\n",
    "rf_classifier.fit(X_train, y_train)\n",
    "y_pred = rf_classifier.predict(X_test)"
   ]
  },
  {
   "cell_type": "code",
   "execution_count": 31,
   "id": "2a453ee8db8b245d",
   "metadata": {
    "ExecuteTime": {
     "end_time": "2023-11-04T19:40:11.558728Z",
     "start_time": "2023-11-04T19:40:10.701574Z"
    }
   },
   "outputs": [
    {
     "name": "stdout",
     "output_type": "stream",
     "text": [
      "Accuracy: 0.8571428571428571\n",
      "Classification Report:\n",
      "               precision    recall  f1-score   support\n",
      "\n",
      "         0.0       0.86      0.83      0.85       393\n",
      "         1.0       0.85      0.88      0.86       426\n",
      "\n",
      "    accuracy                           0.86       819\n",
      "   macro avg       0.86      0.86      0.86       819\n",
      "weighted avg       0.86      0.86      0.86       819\n"
     ]
    },
    {
     "data": {
      "text/plain": "<Figure size 640x480 with 2 Axes>",
      "image/png": "[encoded data removed]"
     },
     "metadata": {},
     "output_type": "display_data"
    }
   ],
   "source": [
    "testing(y_test,y_pred)"
   ]
  },
  {
   "cell_type": "markdown",
   "source": [
    "#### Knn"
   ],
   "metadata": {
    "collapsed": false
   },
   "id": "eaffbba44eb6dd4c"
  },
  {
   "cell_type": "code",
   "execution_count": null,
   "outputs": [],
   "source": [],
   "metadata": {
    "collapsed": false
   },
   "id": "acba8bef355d5715"
  },
  {
   "cell_type": "markdown",
   "id": "7789853ad2d1c37d",
   "metadata": {
    "ExecuteTime": {
     "start_time": "2023-11-04T18:19:38.809109Z"
    }
   },
   "source": [
    "#### Support Vector Machines (SVM)"
   ]
  },
  {
   "cell_type": "code",
   "execution_count": 32,
   "id": "4c43f183f98200a3",
   "metadata": {
    "ExecuteTime": {
     "end_time": "2023-11-04T19:40:11.560258Z",
     "start_time": "2023-11-04T19:40:10.816634Z"
    }
   },
   "outputs": [],
   "source": [
    "from sklearn.svm import SVC"
   ]
  },
  {
   "cell_type": "code",
   "execution_count": 33,
   "id": "847546be00ee57f2",
   "metadata": {
    "ExecuteTime": {
     "end_time": "2023-11-04T19:40:11.785422Z",
     "start_time": "2023-11-04T19:40:10.822482Z"
    }
   },
   "outputs": [],
   "source": [
    "svclassifier = SVC()\n",
    "svclassifier.fit(X_train, y_train)\n",
    "y_pred = svclassifier.predict(X_test)"
   ]
  },
  {
   "cell_type": "code",
   "execution_count": 179,
   "outputs": [
    {
     "name": "stdout",
     "output_type": "stream",
     "text": [
      "Accuracy: 0.8400488400488401\n",
      "Classification Report:\n",
      "               precision    recall  f1-score   support\n",
      "\n",
      "         0.0       0.82      0.86      0.84       393\n",
      "         1.0       0.86      0.82      0.84       426\n",
      "\n",
      "    accuracy                           0.84       819\n",
      "   macro avg       0.84      0.84      0.84       819\n",
      "weighted avg       0.84      0.84      0.84       819\n"
     ]
    },
    {
     "data": {
      "text/plain": "<Figure size 640x480 with 2 Axes>",
      "image/png": "[encoded data removed]"
     },
     "metadata": {},
     "output_type": "display_data"
    }
   ],
   "source": [
    "testing(y_test,y_pred)"
   ],
   "metadata": {
    "collapsed": false,
    "ExecuteTime": {
     "end_time": "2023-11-04T19:10:09.076667Z",
     "start_time": "2023-11-04T19:10:09.001120Z"
    }
   },
   "id": "dc27bd88e0d9591c"
  },
  {
   "cell_type": "markdown",
   "id": "ebcc7db0f6dce706",
   "metadata": {
    "ExecuteTime": {
     "start_time": "2023-11-04T18:19:38.812015Z"
    }
   },
   "source": [
    "#### Naive Bayes"
   ]
  },
  {
   "cell_type": "markdown",
   "id": "b33ec0a4a4ad4766",
   "metadata": {
    "is_executing": true
   },
   "source": [
    "##### GaussianNB"
   ]
  },
  {
   "cell_type": "code",
   "execution_count": 35,
   "id": "20453e6d8858467e",
   "metadata": {
    "ExecuteTime": {
     "end_time": "2023-11-04T19:40:11.793019Z",
     "start_time": "2023-11-04T19:40:11.221716Z"
    }
   },
   "outputs": [],
   "source": [
    "from sklearn.naive_bayes import GaussianNB"
   ]
  },
  {
   "cell_type": "code",
   "execution_count": 36,
   "id": "365f7961653ea819",
   "metadata": {
    "ExecuteTime": {
     "end_time": "2023-11-04T19:40:11.793190Z",
     "start_time": "2023-11-04T19:40:11.234570Z"
    }
   },
   "outputs": [],
   "source": [
    "gauss = GaussianNB()\n",
    "gauss.fit(X_train, y_train)\n",
    "y_pred = gauss.predict(X_test)"
   ]
  },
  {
   "cell_type": "code",
   "execution_count": 37,
   "id": "2a8b4701616789f1",
   "metadata": {
    "ExecuteTime": {
     "end_time": "2023-11-04T19:40:11.793634Z",
     "start_time": "2023-11-04T19:40:11.236850Z"
    }
   },
   "outputs": [
    {
     "name": "stdout",
     "output_type": "stream",
     "text": [
      "Accuracy: 0.7130647130647131\n",
      "Classification Report:\n",
      "               precision    recall  f1-score   support\n",
      "\n",
      "         0.0       0.63      0.95      0.76       393\n",
      "         1.0       0.91      0.50      0.64       426\n",
      "\n",
      "    accuracy                           0.71       819\n",
      "   macro avg       0.77      0.72      0.70       819\n",
      "weighted avg       0.78      0.71      0.70       819\n"
     ]
    },
    {
     "data": {
      "text/plain": "<Figure size 640x480 with 2 Axes>",
      "image/png": "[encoded data removed]"
     },
     "metadata": {},
     "output_type": "display_data"
    }
   ],
   "source": [
    "testing(y_test,y_pred)"
   ]
  },
  {
   "cell_type": "markdown",
   "id": "42bb091b927d11d3",
   "metadata": {
    "ExecuteTime": {
     "start_time": "2023-11-04T18:19:38.814552Z"
    }
   },
   "source": [
    "##### MultinomialNB"
   ]
  },
  {
   "cell_type": "code",
   "execution_count": 38,
   "id": "f7fcefe7a46864c2",
   "metadata": {
    "ExecuteTime": {
     "end_time": "2023-11-04T19:40:11.793788Z",
     "start_time": "2023-11-04T19:40:11.258953Z"
    }
   },
   "outputs": [],
   "source": [
    "from sklearn.naive_bayes import MultinomialNB"
   ]
  },
  {
   "cell_type": "code",
   "execution_count": 39,
   "id": "d822ad13100866bf",
   "metadata": {
    "ExecuteTime": {
     "end_time": "2023-11-04T19:40:11.793917Z",
     "start_time": "2023-11-04T19:40:11.266189Z"
    }
   },
   "outputs": [],
   "source": [
    "mult = MultinomialNB()\n",
    "mult.fit(X_train, y_train)\n",
    "y_pred = mult.predict(X_test)"
   ]
  },
  {
   "cell_type": "code",
   "execution_count": 40,
   "id": "65220e83f95ba2bc",
   "metadata": {
    "ExecuteTime": {
     "end_time": "2023-11-04T19:40:11.810023Z",
     "start_time": "2023-11-04T19:40:11.276540Z"
    }
   },
   "outputs": [
    {
     "name": "stdout",
     "output_type": "stream",
     "text": [
      "Accuracy: 0.78998778998779\n",
      "Classification Report:\n",
      "               precision    recall  f1-score   support\n",
      "\n",
      "         0.0       0.73      0.90      0.80       393\n",
      "         1.0       0.88      0.69      0.77       426\n",
      "\n",
      "    accuracy                           0.79       819\n",
      "   macro avg       0.80      0.79      0.79       819\n",
      "weighted avg       0.81      0.79      0.79       819\n"
     ]
    },
    {
     "data": {
      "text/plain": "<Figure size 640x480 with 2 Axes>",
      "image/png": "[encoded data removed]"
     },
     "metadata": {},
     "output_type": "display_data"
    }
   ],
   "source": [
    "testing(y_test,y_pred)"
   ]
  },
  {
   "cell_type": "markdown",
   "id": "263ce92d8c434a9d",
   "metadata": {
    "ExecuteTime": {
     "start_time": "2023-11-04T18:19:38.817134Z"
    }
   },
   "source": [
    "##### BernoulliNB"
   ]
  },
  {
   "cell_type": "code",
   "execution_count": 41,
   "id": "ddf3800f99e8d934",
   "metadata": {
    "ExecuteTime": {
     "end_time": "2023-11-04T19:40:11.810287Z",
     "start_time": "2023-11-04T19:40:11.387323Z"
    }
   },
   "outputs": [],
   "source": [
    "from sklearn.naive_bayes import BernoulliNB\n",
    "bern = BernoulliNB()\n",
    "bern.fit(X_train, y_train)\n",
    "y_pred = bern.predict(X_test)"
   ]
  },
  {
   "cell_type": "code",
   "execution_count": 42,
   "id": "f4798d397eccf798",
   "metadata": {
    "ExecuteTime": {
     "end_time": "2023-11-04T19:40:12.152081Z",
     "start_time": "2023-11-04T19:40:11.397246Z"
    }
   },
   "outputs": [
    {
     "name": "stdout",
     "output_type": "stream",
     "text": [
      "Accuracy: 0.7228327228327228\n",
      "Classification Report:\n",
      "               precision    recall  f1-score   support\n",
      "\n",
      "         0.0       0.67      0.82      0.74       393\n",
      "         1.0       0.79      0.64      0.70       426\n",
      "\n",
      "    accuracy                           0.72       819\n",
      "   macro avg       0.73      0.73      0.72       819\n",
      "weighted avg       0.73      0.72      0.72       819\n"
     ]
    },
    {
     "data": {
      "text/plain": "<Figure size 640x480 with 2 Axes>",
      "image/png": "[encoded data removed]"
     },
     "metadata": {},
     "output_type": "display_data"
    }
   ],
   "source": [
    "testing(y_test,y_pred)"
   ]
  },
  {
   "cell_type": "code",
   "execution_count": null,
   "id": "eb69d41ad1a94c19",
   "metadata": {
    "ExecuteTime": {
     "start_time": "2023-11-04T19:40:12.497908Z"
    }
   },
   "outputs": [],
   "source": []
  },
  {
   "cell_type": "code",
   "execution_count": null,
   "id": "ee594dc505911a34",
   "metadata": {
    "ExecuteTime": {
     "start_time": "2023-11-04T19:40:12.499042Z"
    }
   },
   "outputs": [],
   "source": []
  },
  {
   "cell_type": "code",
   "execution_count": null,
   "id": "f11fe6c45a57aea1",
   "metadata": {
    "ExecuteTime": {
     "start_time": "2023-11-04T19:40:12.500798Z"
    }
   },
   "outputs": [],
   "source": []
  },
  {
   "cell_type": "code",
   "execution_count": null,
   "id": "5d0d64e565edbb6",
   "metadata": {
    "collapsed": false
   },
   "outputs": [],
   "source": []
  },
  {
   "cell_type": "code",
   "execution_count": null,
   "id": "82d639c699d1feee",
   "metadata": {
    "collapsed": false
   },
   "outputs": [],
   "source": []
  },
  {
   "cell_type": "code",
   "execution_count": null,
   "id": "e4130d0e2c3c9a",
   "metadata": {
    "collapsed": false
   },
   "outputs": [],
   "source": []
  },
  {
   "cell_type": "code",
   "execution_count": null,
   "id": "281720401943dbee",
   "metadata": {
    "collapsed": false
   },
   "outputs": [],
   "source": []
  },
  {
   "cell_type": "code",
   "execution_count": null,
   "id": "8b05ae5f7ba70ee7",
   "metadata": {
    "collapsed": false
   },
   "outputs": [],
   "source": []
  },
  {
   "cell_type": "code",
   "execution_count": null,
   "id": "8812d98f709abf06",
   "metadata": {
    "collapsed": false
   },
   "outputs": [],
   "source": []
  },
  {
   "cell_type": "code",
   "execution_count": null,
   "id": "d61276635b6ba50",
   "metadata": {
    "collapsed": false
   },
   "outputs": [],
   "source": []
  },
  {
   "cell_type": "code",
   "execution_count": null,
   "id": "bb94e64fbc8351d6",
   "metadata": {
    "collapsed": false
   },
   "outputs": [],
   "source": []
  },
  {
   "cell_type": "code",
   "execution_count": null,
   "id": "2a635cc48da6186",
   "metadata": {
    "collapsed": false
   },
   "outputs": [],
   "source": []
  }
 ],
 "metadata": {
  "kernelspec": {
   "display_name": "Python 3 (ipykernel)",
   "language": "python",
   "name": "python3"
  },
  "language_info": {
   "codemirror_mode": {
    "name": "ipython",
    "version": 3
   },
   "file_extension": ".py",
   "mimetype": "text/x-python",
   "name": "python",
   "nbconvert_exporter": "python",
   "pygments_lexer": "ipython3",
   "version": "3.9.13"
  }
 },
 "nbformat": 4,
 "nbformat_minor": 5
}
