{
 "cells": [
  {
   "cell_type": "markdown",
   "id": "f726fa86fffdd98c",
   "metadata": {},
   "source": [
    "# Lung Cancer"
   ]
  },
  {
   "cell_type": "markdown",
   "id": "b3e8ef7050497e56",
   "metadata": {},
   "source": [
    "## Get Radiomic Features from LIDC-IDRI"
   ]
  },
  {
   "cell_type": "markdown",
   "id": "338499ee5171f96a",
   "metadata": {},
   "source": [
    "### Imports"
   ]
  },
  {
   "cell_type": "code",
   "execution_count": null,
   "id": "8c9b6ef6d8da5220",
   "metadata": {},
   "outputs": [],
   "source": [
    "import pylidc as pl\n",
    "from pylidc.utils import consensus\n",
    "import SimpleITK as sitk\n",
    "from radiomics import featureextractor\n",
    "import pandas as pd\n",
    "from imblearn.over_sampling import SMOTE\n",
    "import statistics"
   ]
  },
  {
   "cell_type": "markdown",
   "id": "dfe2dc2891fdbaa4",
   "metadata": {},
   "source": [
    "### Get the dataset with all the features"
   ]
  },
  {
   "cell_type": "code",
   "execution_count": null,
   "outputs": [],
   "source": [
    "\n",
    "# Initialize the feature extractor\n",
    "extractor = featureextractor.RadiomicsFeatureExtractor()\n",
    "\n",
    "# Get the list of additional features from pl.annotation_feature_names\n",
    "additional_features = pl.annotation_feature_names\n",
    "\n",
    "# Query the LIDC-IDRI dataset for scans with annotations\n",
    "scans_with_annotations = pl.query(pl.Scan).filter(pl.Scan.annotations.any()).all()\n",
    "\n",
    "# Lists to store the extracted features and patient IDs\n",
    "features_list = []\n",
    "\n",
    "# Variable to create unique IDs for the nodules\n",
    "nodule_id_counter = 1\n",
    "\n",
    "#weights = {1: 0.18745, 2: 0.34375, 3: 0.65625, 4: 1.28125, 5: 2.53125}\n",
    "\n",
    "\n",
    "# Iterating through all scans with annotations\n",
    "for scan in scans_with_annotations:\n",
    "    # Get the patient ID\n",
    "    patient_id = scan.patient_id\n",
    "\n",
    "    # Clusterize the annotations for the scan and retrieve all annotations\n",
    "    nods = scan.cluster_annotations()\n",
    "\n",
    "    # Iterating through all nodules of the patient\n",
    "    for anns in nods:\n",
    "        # Check if the current nodule has annotations\n",
    "        if anns:\n",
    "            # Convert consensus annotations into a mask\n",
    "            cmask, _, _ = pl.utils.consensus(anns, clevel=0.5, pad=[(20, 20), (20, 20), (0, 0)])\n",
    "\n",
    "            # Convert the pixel array to a SimpleITK image\n",
    "            image = sitk.GetImageFromArray(cmask.astype(float))\n",
    "\n",
    "            # Extract radiomic features using PyRadiomics\n",
    "            features = extractor.execute(image, image, label=1)  # Use label 1 for the nodule\n",
    "\n",
    "            # Add the patient ID to the features\n",
    "            features['Patient_ID'] = patient_id\n",
    "\n",
    "            # Add a unique ID for the nodule\n",
    "            features['Nodule_ID'] = f'Nodule_{nodule_id_counter}'\n",
    "            nodule_id_counter += 1\n",
    "\n",
    "            def calculate_value(value):\n",
    "                try:\n",
    "                    return statistics.mode(value)\n",
    "                except statistics.StatisticsError:\n",
    "                    return np.mean(value)\n",
    "\n",
    "\n",
    "            def  calculate_mean(value):\n",
    "                return np.mean(value)\n",
    "            \n",
    "            subtlety_value = calculate_value([ann.subtlety for ann in anns])\n",
    "            internalStructure_value = calculate_value([ann.internalStructure for ann in anns])\n",
    "            calcification_value = calculate_value([ann.calcification for ann in anns])\n",
    "            sphericity_value = calculate_value([ann.sphericity for ann in anns])\n",
    "            margin_value = calculate_value([ann.margin for ann in anns])\n",
    "            lobulation_value = calculate_value([ann.lobulation for ann in anns])\n",
    "            spiculation_value = calculate_value([ann.spiculation for ann in anns])\n",
    "            texture_value = calculate_value([ann.texture for ann in anns])\n",
    "            malignancy_value = calculate_mean([ann.malignancy for ann in anns])\n",
    "            #weighted_sum = sum(value*weights.get(value) for value in malignancy_value)\n",
    "            #total_weight = sum(weights.get(value) for value in malignancy_value)\n",
    "            #final_malignancy=weighted_sum/total_weight\n",
    "\n",
    "            # Add the additional features to the features dictionary\n",
    "            for feature_name in additional_features:\n",
    "                features['subtlety'] = subtlety_value\n",
    "                features['internalStructure'] = internalStructure_value\n",
    "                features['sphericity'] = sphericity_value\n",
    "                features['margin'] = margin_value\n",
    "                features['lobulation'] = lobulation_value\n",
    "                features['spiculation'] = spiculation_value\n",
    "                features['texture'] = texture_value\n",
    "                features['malignancy'] = malignancy_value # final_malignancy\n",
    "\n",
    "            # Add the features to the list\n",
    "            features_list.append(features)\n",
    "\n",
    "        # Create a DataFrame to store the features\n",
    "features_df = pd.DataFrame(features_list)\n",
    "\n",
    "# Save the features to a CSV file\n",
    "features_df.to_csv('radiomic_features.csv', index=False)\n"
   ],
   "metadata": {
    "collapsed": false
   },
   "id": "867b4e20f90029e8"
  },
  {
   "cell_type": "markdown",
   "id": "23eea0d1c2b7cad1",
   "metadata": {},
   "source": [
    "## Data Clean-up"
   ]
  },
  {
   "cell_type": "code",
   "execution_count": null,
   "id": "f51d0300",
   "metadata": {},
   "outputs": [],
   "source": [
    "#Read and print the features dataset\n",
    "df = pd.read_csv('radiomic_features.csv')\n",
    "df"
   ]
  },
  {
   "cell_type": "code",
   "execution_count": null,
   "id": "e2eaa4fa",
   "metadata": {},
   "outputs": [],
   "source": [
    "#Check for null values\n",
    "df.isna().sum()"
   ]
  },
  {
   "cell_type": "code",
   "execution_count": null,
   "id": "9f6071ed",
   "metadata": {},
   "outputs": [],
   "source": [
    "#Check if there are columns with only one value\n",
    "df.nunique().tolist()"
   ]
  },
  {
   "cell_type": "code",
   "execution_count": null,
   "id": "d83f256c",
   "metadata": {},
   "outputs": [],
   "source": [
    "#Get all columns with only one value\n",
    "unique_value_counts = df.nunique()\n",
    "columns_with_single_unique_value = unique_value_counts[unique_value_counts == 1].index\n",
    "print(columns_with_single_unique_value)"
   ]
  },
  {
   "cell_type": "code",
   "execution_count": null,
   "id": "36f6ef93",
   "metadata": {},
   "outputs": [],
   "source": [
    "#Drop the selected columns\n",
    "df.drop(columns=columns_with_single_unique_value,inplace=True)"
   ]
  },
  {
   "cell_type": "code",
   "execution_count": null,
   "id": "bcb10130994b97b8",
   "metadata": {},
   "outputs": [],
   "source": [
    "#Drop columns without ints or tuples\n",
    "df = df.select_dtypes(include=[int, float])\n",
    "df"
   ]
  },
  {
   "cell_type": "code",
   "execution_count": null,
   "outputs": [],
   "source": [
    "#Get the count of each value in malignancy column\n",
    "df[\"malignancy\"].value_counts()"
   ],
   "metadata": {
    "collapsed": false
   },
   "id": "7d52679148ec2e98"
  },
  {
   "cell_type": "code",
   "execution_count": null,
   "outputs": [],
   "source": [
    "# Transform values of the malignancy column to 0 or 1\n",
    "\n",
    "df = df[df['malignancy'] != 3]\n",
    "\n",
    "df.loc[:, \"malignancy\"] = df[\"malignancy\"].apply(lambda x: 1 if x > 3 else 0)"
   ],
   "metadata": {
    "collapsed": false
   },
   "id": "65fac7b0be7f0bd"
  },
  {
   "cell_type": "code",
   "execution_count": null,
   "outputs": [],
   "source": [
    "#Get the count of each value in malignancy column\n",
    "df[\"malignancy\"].value_counts()"
   ],
   "metadata": {
    "collapsed": false
   },
   "id": "638089bc7df483a"
  },
  {
   "cell_type": "code",
   "execution_count": null,
   "outputs": [],
   "source": [
    "smote = SMOTE(sampling_strategy='auto', random_state=42)\n",
    "df, _ = smote.fit_resample(df, df['malignancy'])"
   ],
   "metadata": {
    "collapsed": false
   },
   "id": "70c18a87e30e292b"
  },
  {
   "cell_type": "code",
   "execution_count": null,
   "outputs": [],
   "source": [
    "df[\"malignancy\"].value_counts()\n"
   ],
   "metadata": {
    "collapsed": false
   },
   "id": "19d4919d09c8d37b"
  },
  {
   "cell_type": "code",
   "execution_count": null,
   "id": "4185a0103aed89ae",
   "metadata": {},
   "outputs": [],
   "source": [
    "# Normalizing the columns using Min-Max scaling\n",
    "df = df.drop(columns=df.select_dtypes(include=['object']))\n",
    "df = (df - df.min()) / (df.max() - df.min())"
   ]
  },
  {
   "cell_type": "code",
   "execution_count": null,
   "outputs": [],
   "source": [
    "new_column_names = [\n",
    "    'Mean',\n",
    "    'VoxelNum',\n",
    "    'VolumeNum',\n",
    "    'Elongation',\n",
    "    'Flatness',\n",
    "    'LeastAxisLength',\n",
    "    'MajorAxisLength',\n",
    "    'DiameterColumn',\n",
    "    'DiameterRow',\n",
    "    'DiameterSlice',\n",
    "    'Max3DDiameter',\n",
    "    'MeshVolume',\n",
    "    'MinorAxisLength',\n",
    "    'Sphericity',\n",
    "    'SurfaceArea',\n",
    "    'SurfaceVolRatio',\n",
    "    'VoxelVol',\n",
    "    'Energy',\n",
    "    'TotalEnergy',\n",
    "    'DiffEntropy',\n",
    "    'JointEntropy',\n",
    "    'SumEntropy',\n",
    "    'DependEntropy',\n",
    "    'DependNonUniformity',\n",
    "    'DependNonUniformityNorm',\n",
    "    'DependVariance',\n",
    "    'GrayLevelNonUniformity',\n",
    "    'LargeDependEmphasis',\n",
    "    'LargeDependHighGLEmphasis',\n",
    "    'LargeDependLowGLEmphasis',\n",
    "    'SmallDependEmphasis',\n",
    "    'SmallDependHighGLEmphasis',\n",
    "    'SmallDependLowGLEmphasis',\n",
    "    'GLNonUniformity',\n",
    "    'LongRunEmphasis',\n",
    "    'LongRunHighGLEmphasis',\n",
    "    'LongRunLowGLEmphasis',\n",
    "    'RunEntropy',\n",
    "    'RunLengthNonUniformity',\n",
    "    'RunLenNonUniformityNorm',\n",
    "    'RunPercentage',\n",
    "    'RunVariance',\n",
    "    'ShortRunEmphasis',\n",
    "    'ShortRunHighGLEmphasis',\n",
    "    'ShortRunLowGLEmphasis',\n",
    "    'GLNonUniformity_GLSZM',\n",
    "    'LargeAreaEmphasis',\n",
    "    'LargeAreaHighGLEmphasis',\n",
    "    'LargeAreaLowGLEmphasis',\n",
    "    'SizeZoneNonUniformity',\n",
    "    'SizeZoneNonUniformityNorm',\n",
    "    'SmallAreaEmphasis',\n",
    "    'SmallAreaHighGLEmphasis',\n",
    "    'SmallAreaLowGLEmphasis',\n",
    "    'ZoneEntropy',\n",
    "    'ZonePercentage',\n",
    "    'ZoneVariance',\n",
    "    'Subtlety',\n",
    "    'InternalStructure',\n",
    "    'Sphericity',\n",
    "    'Margin',\n",
    "    'Lobulation',\n",
    "    'Spiculation',\n",
    "    'Texture',\n",
    "    'Malignancy'\n",
    "]\n",
    "\n",
    "# Assign the new column names to the DataFrame\n",
    "df.columns = new_column_names"
   ],
   "metadata": {
    "collapsed": false
   },
   "id": "45748fe16bdfb7ee"
  },
  {
   "cell_type": "code",
   "execution_count": null,
   "id": "9260e74c684bee4a",
   "metadata": {},
   "outputs": [],
   "source": [
    "df"
   ]
  },
  {
   "cell_type": "markdown",
   "id": "3d435d1b5f271c72",
   "metadata": {
    "ExecuteTime": {
     "end_time": "2023-11-04T18:18:20.450713Z",
     "start_time": "2023-11-04T18:18:07.486632Z"
    }
   },
   "source": [
    "# Data Analysis"
   ]
  },
  {
   "cell_type": "markdown",
   "id": "b7cce282e957a568",
   "metadata": {
    "ExecuteTime": {
     "end_time": "2023-11-04T18:18:20.450796Z",
     "start_time": "2023-11-04T18:18:07.498123Z"
    }
   },
   "source": [
    "## Imports"
   ]
  },
  {
   "cell_type": "code",
   "execution_count": null,
   "id": "eb08c650302f0bcd",
   "metadata": {},
   "outputs": [],
   "source": [
    "import seaborn as sns\n",
    "import matplotlib.pyplot as plt\n",
    "from scipy import stats\n",
    "import numpy as np"
   ]
  },
  {
   "cell_type": "markdown",
   "id": "2ecbee21f1b735c1",
   "metadata": {},
   "source": [
    "## Data Overview and Cleaning"
   ]
  },
  {
   "cell_type": "code",
   "execution_count": null,
   "id": "c22d86d36f87fb96",
   "metadata": {},
   "outputs": [],
   "source": [
    "df.head()"
   ]
  },
  {
   "cell_type": "code",
   "execution_count": null,
   "id": "bc1bb67853471cec",
   "metadata": {},
   "outputs": [],
   "source": [
    "# checking for null values in columns\n",
    "missing_values = df.isnull().sum()\n",
    "\n",
    "columns_with_missing = missing_values[missing_values > 0]\n",
    "print(missing_values)"
   ]
  },
  {
   "cell_type": "markdown",
   "id": "48a6c5b59a7ce715",
   "metadata": {
    "ExecuteTime": {
     "end_time": "2023-11-04T18:18:20.450976Z",
     "start_time": "2023-11-04T18:18:07.508317Z"
    }
   },
   "source": [
    "## Data Distribution"
   ]
  },
  {
   "cell_type": "code",
   "execution_count": null,
   "id": "2efba70359a3861b",
   "metadata": {},
   "outputs": [],
   "source": [
    "# Create distribution plots for all columns (assuming they are all numerical)\n",
    "# Adjust the number of subplots based on the number of columns\n",
    "num_plots = len(df.columns)\n",
    "\n",
    "# Create a grid of subplots\n",
    "fig, axes = plt.subplots(nrows=1, ncols=num_plots, figsize=(15, 5))\n",
    "\n",
    "# Create histograms for all columns\n",
    "for i, column in enumerate(df.columns):\n",
    "    sns.histplot(df[column], ax=axes[i], kde=True)  # Use sns.histplot for a histogram with a KDE curve\n",
    "    axes[i].set_title(f'Distribution of {column}')\n",
    "    axes[i].set_xlabel(column)\n",
    "    axes[i].set_ylabel('Frequency')\n",
    "\n",
    "    # Rotate x-axis labels for better readability\n",
    "    axes[i].tick_params(axis='x', rotation=45)\n",
    "\n",
    "    # Increase the font size for x and y-axis labels\n",
    "    axes[i].tick_params(axis='both', labelsize=12)  # Adjust the font size (e.g., 12)\n",
    "\n",
    "plt.tight_layout()\n",
    "plt.show()\n"
   ]
  },
  {
   "cell_type": "code",
   "execution_count": null,
   "outputs": [],
   "source": [
    "# Kernel Density Estimation (KDE) Plot\n",
    "plt.figure(figsize=(8, 4))\n",
    "sns.kdeplot(df['texture'], shade=True)\n",
    "plt.title('Kernel Density Estimation Plot')\n",
    "plt.xlabel('Texture')\n",
    "plt.show()"
   ],
   "metadata": {
    "collapsed": false
   },
   "id": "6f9c3fe8e110b90f"
  },
  {
   "cell_type": "code",
   "execution_count": null,
   "outputs": [],
   "source": [
    "# Violin plot\n",
    "plt.figure(figsize=(8, 4))\n",
    "sns.violinplot(data=df, x='density', y='texture')\n",
    "plt.title('Violin Plot of Pixel Intensity by Class')\n",
    "plt.xlabel('density')\n",
    "plt.ylabel('Texture')\n",
    "plt.show()\n"
   ],
   "metadata": {
    "collapsed": false
   },
   "id": "c7e19f440986a3ec"
  },
  {
   "cell_type": "code",
   "execution_count": null,
   "outputs": [],
   "source": [
    "# Empirical Cumulative Distribution Function (ECDF) Plot columns_per_plot = 3\n",
    "columns_per_plot = 6\n",
    "# Function to create ECDF plots for a group of columns\n",
    "def create_ecdf_plots(columns):\n",
    "    plt.figure(figsize=(24, 11))\n",
    "    \n",
    "    for col in columns:\n",
    "        x = np.sort(df[col])\n",
    "        y = np.arange(1, len(x) + 1) / len(x)\n",
    "        plt.plot(x, y, marker='.', linestyle='none', label=col)\n",
    "    \n",
    "    plt.title(f'ECDF Plot for Columns {columns[0]} to {columns[-1]}')\n",
    "    plt.xlabel('Value')\n",
    "    plt.ylabel('CDF')\n",
    "    plt.legend()\n",
    "    plt.margins(0.02)\n",
    "    plt.show()\n",
    "    \n",
    "column_names = df.columns.tolist()\n",
    "\n",
    "# Loop to create ECDF plots for groups of columns\n",
    "for i in range(0, len(column_names), columns_per_plot):\n",
    "    columns_to_plot = column_names[i:i + columns_per_plot]\n",
    "    create_ecdf_plots(columns_to_plot)"
   ],
   "metadata": {
    "collapsed": false
   },
   "id": "7aa8db0748c679eb"
  },
  {
   "cell_type": "code",
   "execution_count": null,
   "outputs": [],
   "source": [],
   "metadata": {
    "collapsed": false
   },
   "id": "90daf2c0dfb00f8a"
  },
  {
   "cell_type": "markdown",
   "id": "5c1d1fde4c62d816",
   "metadata": {
    "ExecuteTime": {
     "start_time": "2023-11-04T18:19:38.787990Z"
    }
   },
   "source": [
    "## Correlation Analysis"
   ]
  },
  {
   "cell_type": "code",
   "execution_count": null,
   "id": "85daea57061345d5",
   "metadata": {},
   "outputs": [],
   "source": [
    "df.select_dtypes(include=['object'])\n",
    "numeric_columns = df.select_dtypes(exclude=['object'])\n",
    "correlation_matrix = numeric_columns.corr()\n",
    "\n",
    "print(correlation_matrix)"
   ]
  },
  {
   "cell_type": "code",
   "execution_count": null,
   "outputs": [],
   "source": [
    "correlation_matrix = numeric_columns.corr()\n",
    "plt.figure(figsize=(15, 13))\n",
    "sns.heatmap(correlation_matrix, annot=False, cmap='coolwarm', linewidths=0.5)\n",
    "plt.show()"
   ],
   "metadata": {
    "collapsed": false
   },
   "id": "b45207a84bf7ae14"
  },
  {
   "cell_type": "code",
   "execution_count": null,
   "outputs": [],
   "source": [
    "threshold = 0.7\n",
    "\n",
    "strong_correlations = correlation_matrix[\n",
    "    (correlation_matrix > threshold) & (correlation_matrix < 1)\n",
    "    ]\n",
    "\n",
    "print(strong_correlations)"
   ],
   "metadata": {
    "collapsed": false
   },
   "id": "ca7b02872e45f25a"
  },
  {
   "cell_type": "markdown",
   "id": "67799810a4e81c07",
   "metadata": {
    "ExecuteTime": {
     "start_time": "2023-11-04T18:19:38.790352Z"
    }
   },
   "source": [
    "## Feature Relationships"
   ]
  },
  {
   "cell_type": "code",
   "execution_count": null,
   "id": "6588340ab8db599d",
   "metadata": {},
   "outputs": [],
   "source": [
    "import seaborn as sns\n",
    "import matplotlib.pyplot as plt\n",
    "\n",
    "# Create pair plots to explore relationships between numerical features\n",
    "numerical_features = df.select_dtypes(include=['int64', 'float64'])  # Select numerical features\n",
    "\n",
    "# Customize the pair plot based on your preferences\n",
    "sns.set(style=\"ticks\")\n",
    "pair_plot = sns.pairplot(numerical_features, diag_kind=\"kde\")\n",
    "\n",
    "# You can add additional customization options as needed, such as hue, markers, etc.\n",
    "# Example:\n",
    "# pair_plot = sns.pairplot(numerical_features, diag_kind=\"kde\", hue=\"target_variable\", markers=[\"o\", \"s\", \"D\"])\n",
    "\n",
    "# Show the pair plot\n",
    "plt.show()\n"
   ]
  },
  {
   "cell_type": "markdown",
   "id": "f0a11fcea48b3290",
   "metadata": {
    "ExecuteTime": {
     "end_time": "2023-11-04T18:19:38.820463Z",
     "start_time": "2023-11-04T18:19:38.791420Z"
    }
   },
   "source": [
    "## Feature Importance"
   ]
  },
  {
   "cell_type": "code",
   "execution_count": null,
   "id": "e019a738596b4277",
   "metadata": {},
   "outputs": [],
   "source": []
  },
  {
   "cell_type": "markdown",
   "id": "c50b3106fa9bafe0",
   "metadata": {
    "ExecuteTime": {
     "start_time": "2023-11-04T18:19:38.792244Z"
    }
   },
   "source": [
    "## Outliers and Anomalies"
   ]
  },
  {
   "cell_type": "code",
   "execution_count": null,
   "id": "297624482bae5324",
   "metadata": {},
   "outputs": [],
   "source": [
    "# Calculate the Z-scores for each numerical feature------------------------------------not working\n",
    "numeric_columns = df.select_dtypes(exclude=['object'])\n",
    "\n",
    "z_scores = np.abs(stats.zscore(numeric_columns))\n",
    "\n",
    "# Define a threshold for considering data points as outliers (e.g., Z-score > 3)\n",
    "threshold = 3\n",
    "\n",
    "# Identify and remove outliers\n",
    "outliers = (z_scores > threshold).any(axis=1)\n",
    "cleaned_data = df[~outliers]\n",
    "cap_value = 3\n",
    "\n",
    "# Alternatively, you can choose to impute or transform outliers instead of removing them\n",
    "# Example for capping outliers to a specific value\n",
    "cleaned_data['texture'] = np.where(z_scores > threshold, cap_value, cleaned_data['texture'])\n"
   ]
  },
  {
   "cell_type": "markdown",
   "id": "2bf0fcee379cf6ac",
   "metadata": {
    "ExecuteTime": {
     "start_time": "2023-11-04T18:19:38.793099Z"
    }
   },
   "source": [
    "## Data Preprocessing and Feature Engineering"
   ]
  },
  {
   "cell_type": "code",
   "execution_count": null,
   "id": "a9ddfd5bb216382d",
   "metadata": {},
   "outputs": [],
   "source": []
  },
  {
   "cell_type": "markdown",
   "id": "82433caceae1ab21",
   "metadata": {
    "ExecuteTime": {
     "start_time": "2023-11-04T18:19:38.793928Z"
    }
   },
   "source": [
    "## Summary and Insights"
   ]
  },
  {
   "cell_type": "code",
   "execution_count": null,
   "id": "eea97c1ce2db601d",
   "metadata": {},
   "outputs": [],
   "source": []
  },
  {
   "cell_type": "code",
   "execution_count": null,
   "id": "6808e261",
   "metadata": {},
   "outputs": [],
   "source": [
    "df.select_dtypes(include=['object'])"
   ]
  },
  {
   "cell_type": "code",
   "execution_count": null,
   "id": "f9a5eabf",
   "metadata": {},
   "outputs": [],
   "source": [
    "numeric_columns = df.select_dtypes(exclude=['object'])\n",
    "correlation_matrix = numeric_columns.corr()\n",
    "\n",
    "print(correlation_matrix)"
   ]
  },
  {
   "cell_type": "code",
   "execution_count": null,
   "id": "7f612e44",
   "metadata": {},
   "outputs": [],
   "source": [
    "\n",
    "plt.figure(figsize=(15, 13))\n",
    "sns.heatmap(correlation_matrix, annot=False, cmap='coolwarm', linewidths=0.5)\n",
    "plt.show()"
   ]
  },
  {
   "cell_type": "code",
   "execution_count": null,
   "id": "424b254c",
   "metadata": {},
   "outputs": [],
   "source": [
    "correlation_matrix = numeric_columns.corr()\n",
    "\n",
    "threshold = 0.7\n",
    "\n",
    "strong_correlations = correlation_matrix[\n",
    "    (correlation_matrix > threshold) & (correlation_matrix < 1)\n",
    "]\n",
    "\n",
    "print(strong_correlations)"
   ]
  },
  {
   "cell_type": "markdown",
   "id": "ccb9048aafe9ceba",
   "metadata": {
    "ExecuteTime": {
     "start_time": "2023-11-04T18:19:38.800509Z"
    }
   },
   "source": [
    "## Classification"
   ]
  },
  {
   "cell_type": "markdown",
   "id": "c3f603b22b686feb",
   "metadata": {
    "is_executing": true
   },
   "source": [
    "### Imports"
   ]
  },
  {
   "cell_type": "code",
   "execution_count": null,
   "id": "7d01157e4381bc02",
   "metadata": {},
   "outputs": [],
   "source": [
    "from sklearn.model_selection import train_test_split\n",
    "from sklearn.metrics import accuracy_score, classification_report"
   ]
  },
  {
   "cell_type": "code",
   "execution_count": null,
   "id": "08ce9908",
   "metadata": {},
   "outputs": [],
   "source": [
    "df"
   ]
  },
  {
   "cell_type": "code",
   "execution_count": null,
   "id": "ad9e28edd1c2dc6b",
   "metadata": {},
   "outputs": [],
   "source": [
    "X = df.iloc[:, :-1]  # Features (all columns except the last one)\n",
    "y = df.iloc[:, -1]   # Target (the last column)"
   ]
  },
  {
   "cell_type": "code",
   "execution_count": null,
   "id": "707a7f7902652c42",
   "metadata": {},
   "outputs": [],
   "source": [
    "X_train, X_test, y_train, y_test = train_test_split(X, y, test_size=0.3, random_state=42)"
   ]
  },
  {
   "cell_type": "code",
   "execution_count": null,
   "id": "1c1d08d11609f7b6",
   "metadata": {},
   "outputs": [],
   "source": [
    "from sklearn.metrics import confusion_matrix\n",
    "\n",
    "\n",
    "def testing(test,pred):\n",
    "    accuracy = accuracy_score(test, pred)\n",
    "    report = classification_report(test, pred, zero_division=1)\n",
    "    print(\"Accuracy:\", accuracy)\n",
    "    print(\"Classification Report:\\n\", report)\n",
    "    heatmap(test,pred)\n",
    "    \n",
    "def heatmap(test,pred):\n",
    "    cm = confusion_matrix(test, pred)\n",
    "    sns.heatmap(cm, annot=True, fmt='d', cmap='Blues')\n",
    "    plt.xlabel('Predicted')\n",
    "    plt.ylabel('Actual')\n",
    "    plt.show()"
   ]
  },
  {
   "cell_type": "markdown",
   "source": [
    "### Decision Tree Classifier"
   ],
   "metadata": {
    "collapsed": false
   },
   "id": "c56c480d32daab7a"
  },
  {
   "cell_type": "code",
   "execution_count": null,
   "outputs": [],
   "source": [
    "from sklearn.tree import DecisionTreeClassifier"
   ],
   "metadata": {
    "collapsed": false
   },
   "id": "62a7556c7c63c4a5"
  },
  {
   "cell_type": "code",
   "execution_count": null,
   "outputs": [],
   "source": [
    "tree=DecisionTreeClassifier()\n",
    "tree.fit(X_train, y_train)\n",
    "y_pred = tree.predict(X_test)"
   ],
   "metadata": {
    "collapsed": false
   },
   "id": "e11ab12afae43afd"
  },
  {
   "cell_type": "code",
   "execution_count": null,
   "outputs": [],
   "source": [
    "testing(y_test,y_pred)"
   ],
   "metadata": {
    "collapsed": false
   },
   "id": "b29cd5100404e348"
  },
  {
   "cell_type": "markdown",
   "id": "fb456e8c672b88e3",
   "metadata": {
    "ExecuteTime": {
     "start_time": "2023-11-04T18:19:38.807876Z"
    }
   },
   "source": [
    "#### Random Forest Classifier"
   ]
  },
  {
   "cell_type": "code",
   "execution_count": null,
   "id": "8a21b1cdfae8dad9",
   "metadata": {},
   "outputs": [],
   "source": [
    "from sklearn.ensemble import RandomForestClassifier"
   ]
  },
  {
   "cell_type": "code",
   "execution_count": null,
   "id": "9fc6012f5a49955b",
   "metadata": {},
   "outputs": [],
   "source": [
    "rf_classifier = RandomForestClassifier(n_estimators=100, random_state=42)  # You can adjust the number of trees (n_estimators)\n",
    "rf_classifier.fit(X_train, y_train)\n",
    "y_pred = rf_classifier.predict(X_test)"
   ]
  },
  {
   "cell_type": "code",
   "execution_count": null,
   "id": "2a453ee8db8b245d",
   "metadata": {},
   "outputs": [],
   "source": [
    "testing(y_test,y_pred)"
   ]
  },
  {
   "cell_type": "markdown",
   "id": "7789853ad2d1c37d",
   "metadata": {
    "ExecuteTime": {
     "start_time": "2023-11-04T18:19:38.809109Z"
    }
   },
   "source": [
    "#### Support Vector Machines (SVM)"
   ]
  },
  {
   "cell_type": "code",
   "execution_count": null,
   "id": "4c43f183f98200a3",
   "metadata": {},
   "outputs": [],
   "source": [
    "from sklearn.svm import SVC"
   ]
  },
  {
   "cell_type": "code",
   "execution_count": null,
   "id": "847546be00ee57f2",
   "metadata": {},
   "outputs": [],
   "source": [
    "svclassifier = SVC()\n",
    "svclassifier.fit(X_train, y_train)\n",
    "y_pred = svclassifier.predict(X_test)"
   ]
  },
  {
   "cell_type": "code",
   "execution_count": null,
   "outputs": [],
   "source": [
    "testing(y_test,y_pred)"
   ],
   "metadata": {
    "collapsed": false
   },
   "id": "dc27bd88e0d9591c"
  },
  {
   "cell_type": "markdown",
   "id": "ebcc7db0f6dce706",
   "metadata": {
    "ExecuteTime": {
     "start_time": "2023-11-04T18:19:38.812015Z"
    }
   },
   "source": [
    "#### Naive Bayes"
   ]
  },
  {
   "cell_type": "markdown",
   "id": "b33ec0a4a4ad4766",
   "metadata": {
    "is_executing": true
   },
   "source": [
    "##### GaussianNB"
   ]
  },
  {
   "cell_type": "code",
   "execution_count": null,
   "id": "20453e6d8858467e",
   "metadata": {},
   "outputs": [],
   "source": [
    "from sklearn.naive_bayes import GaussianNB"
   ]
  },
  {
   "cell_type": "code",
   "execution_count": null,
   "id": "365f7961653ea819",
   "metadata": {},
   "outputs": [],
   "source": [
    "gauss = GaussianNB()\n",
    "gauss.fit(X_train, y_train)\n",
    "y_pred = gauss.predict(X_test)"
   ]
  },
  {
   "cell_type": "code",
   "execution_count": null,
   "id": "2a8b4701616789f1",
   "metadata": {},
   "outputs": [],
   "source": [
    "testing(y_test,y_pred)"
   ]
  },
  {
   "cell_type": "markdown",
   "id": "42bb091b927d11d3",
   "metadata": {
    "ExecuteTime": {
     "start_time": "2023-11-04T18:19:38.814552Z"
    }
   },
   "source": [
    "##### MultinomialNB"
   ]
  },
  {
   "cell_type": "code",
   "execution_count": null,
   "id": "f7fcefe7a46864c2",
   "metadata": {},
   "outputs": [],
   "source": [
    "from sklearn.naive_bayes import MultinomialNB"
   ]
  },
  {
   "cell_type": "code",
   "execution_count": null,
   "id": "d822ad13100866bf",
   "metadata": {},
   "outputs": [],
   "source": [
    "mult = MultinomialNB()\n",
    "mult.fit(X_train, y_train)\n",
    "y_pred = mult.predict(X_test)"
   ]
  },
  {
   "cell_type": "code",
   "execution_count": null,
   "id": "65220e83f95ba2bc",
   "metadata": {},
   "outputs": [],
   "source": [
    "testing(y_test,y_pred)"
   ]
  },
  {
   "cell_type": "markdown",
   "id": "263ce92d8c434a9d",
   "metadata": {
    "ExecuteTime": {
     "start_time": "2023-11-04T18:19:38.817134Z"
    }
   },
   "source": [
    "##### BernoulliNB"
   ]
  },
  {
   "cell_type": "code",
   "execution_count": null,
   "id": "ddf3800f99e8d934",
   "metadata": {},
   "outputs": [],
   "source": [
    "from sklearn.naive_bayes import BernoulliNB\n",
    "bern = BernoulliNB()\n",
    "bern.fit(X_train, y_train)\n",
    "y_pred = bern.predict(X_test)"
   ]
  },
  {
   "cell_type": "code",
   "execution_count": null,
   "id": "f4798d397eccf798",
   "metadata": {},
   "outputs": [],
   "source": [
    "testing(y_test,y_pred)"
   ]
  },
  {
   "cell_type": "markdown",
   "id": "f7509d065f47c6a4",
   "metadata": {
    "ExecuteTime": {
     "start_time": "2023-11-04T18:19:38.818209Z"
    }
   },
   "source": [
    "#### Logistic Regression"
   ]
  },
  {
   "cell_type": "code",
   "execution_count": null,
   "id": "5beb1b02dc8c3edf",
   "metadata": {},
   "outputs": [],
   "source": [
    "from sklearn.linear_model import LogisticRegression"
   ]
  },
  {
   "cell_type": "code",
   "execution_count": null,
   "id": "71c3269da651251e",
   "metadata": {},
   "outputs": [],
   "source": [
    "lregress = LogisticRegression()\n",
    "lregress.fit(X_train, y_train)\n",
    "y_pred = lregress.predict(X_test)"
   ]
  },
  {
   "cell_type": "code",
   "execution_count": null,
   "id": "6c23a0f178e6fcca",
   "metadata": {},
   "outputs": [],
   "source": [
    "testing(y_test,y_pred)"
   ]
  },
  {
   "cell_type": "markdown",
   "id": "805e95ac88ac4d60",
   "metadata": {
    "ExecuteTime": {
     "start_time": "2023-11-04T18:19:38.819795Z"
    }
   },
   "source": [
    "#### XGBoost/LightGBM (Gradient Boosting)"
   ]
  },
  {
   "cell_type": "markdown",
   "id": "7feaf3ae0f735598",
   "metadata": {
    "is_executing": true
   },
   "source": [
    "##### XGBoost"
   ]
  },
  {
   "cell_type": "code",
   "execution_count": null,
   "id": "a3b2bf6437c53631",
   "metadata": {},
   "outputs": [],
   "source": [
    "import xgboost as xgb"
   ]
  },
  {
   "cell_type": "code",
   "execution_count": null,
   "id": "3f0c70fbbe553b54",
   "metadata": {},
   "outputs": [],
   "source": [
    "model = xgb.XGBClassifier()\n",
    "model.fit(X_train, y_train)\n",
    "y_pred = model.predict(X_test)\n"
   ]
  },
  {
   "cell_type": "code",
   "execution_count": null,
   "id": "88e47706d7912d44",
   "metadata": {},
   "outputs": [],
   "source": [
    "testing(y_test,y_pred)"
   ]
  },
  {
   "cell_type": "markdown",
   "id": "933332c3c37b3c6f",
   "metadata": {
    "ExecuteTime": {
     "start_time": "2023-11-04T18:19:38.821412Z"
    }
   },
   "source": [
    "##### LightGBM"
   ]
  },
  {
   "cell_type": "code",
   "execution_count": null,
   "id": "7f02a9a1a4135fa0",
   "metadata": {},
   "outputs": [],
   "source": [
    "import lightgbm as lgb"
   ]
  },
  {
   "cell_type": "code",
   "execution_count": null,
   "id": "327115aa050e7c5a",
   "metadata": {},
   "outputs": [],
   "source": [
    "model = lgb.LGBMClassifier()\n",
    "model.fit(X_train, y_train)\n",
    "y_pred = model.predict(X_test)"
   ]
  },
  {
   "cell_type": "code",
   "execution_count": null,
   "id": "e9e90ec07c89eaf1",
   "metadata": {},
   "outputs": [],
   "source": [
    "testing(y_test,y_pred)"
   ]
  },
  {
   "cell_type": "code",
   "execution_count": null,
   "id": "eb69d41ad1a94c19",
   "metadata": {},
   "outputs": [],
   "source": []
  },
  {
   "cell_type": "code",
   "execution_count": null,
   "id": "ee594dc505911a34",
   "metadata": {},
   "outputs": [],
   "source": []
  },
  {
   "cell_type": "code",
   "execution_count": null,
   "id": "f11fe6c45a57aea1",
   "metadata": {},
   "outputs": [],
   "source": []
  },
  {
   "cell_type": "code",
   "execution_count": null,
   "outputs": [],
   "source": [],
   "metadata": {
    "collapsed": false
   },
   "id": "5d0d64e565edbb6"
  },
  {
   "cell_type": "code",
   "execution_count": null,
   "outputs": [],
   "source": [],
   "metadata": {
    "collapsed": false
   },
   "id": "82d639c699d1feee"
  },
  {
   "cell_type": "code",
   "execution_count": null,
   "outputs": [],
   "source": [],
   "metadata": {
    "collapsed": false
   },
   "id": "e4130d0e2c3c9a"
  },
  {
   "cell_type": "code",
   "execution_count": null,
   "outputs": [],
   "source": [],
   "metadata": {
    "collapsed": false
   },
   "id": "281720401943dbee"
  },
  {
   "cell_type": "code",
   "execution_count": null,
   "outputs": [],
   "source": [],
   "metadata": {
    "collapsed": false
   },
   "id": "8b05ae5f7ba70ee7"
  },
  {
   "cell_type": "code",
   "execution_count": null,
   "outputs": [],
   "source": [],
   "metadata": {
    "collapsed": false
   },
   "id": "8812d98f709abf06"
  },
  {
   "cell_type": "code",
   "execution_count": null,
   "outputs": [],
   "source": [],
   "metadata": {
    "collapsed": false
   },
   "id": "d61276635b6ba50"
  },
  {
   "cell_type": "code",
   "execution_count": null,
   "outputs": [],
   "source": [],
   "metadata": {
    "collapsed": false
   },
   "id": "bb94e64fbc8351d6"
  },
  {
   "cell_type": "code",
   "execution_count": null,
   "outputs": [],
   "source": [],
   "metadata": {
    "collapsed": false
   },
   "id": "2a635cc48da6186"
  }
 ],
 "metadata": {
  "kernelspec": {
   "display_name": "Python 3 (ipykernel)",
   "language": "python",
   "name": "python3"
  },
  "language_info": {
   "codemirror_mode": {
    "name": "ipython",
    "version": 3
   },
   "file_extension": ".py",
   "mimetype": "text/x-python",
   "name": "python",
   "nbconvert_exporter": "python",
   "pygments_lexer": "ipython3",
   "version": "3.6.13"
  }
 },
 "nbformat": 4,
 "nbformat_minor": 5
}
