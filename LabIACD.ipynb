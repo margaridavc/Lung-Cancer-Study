{
 "cells": [
  {
   "cell_type": "markdown",
   "id": "f726fa86fffdd98c",
   "metadata": {},
   "source": [
    "# Lung Cancer"
   ]
  },
  {
   "cell_type": "markdown",
   "id": "b3e8ef7050497e56",
   "metadata": {},
   "source": [
    "## Get Radiomic Features from LIDC-IDRI"
   ]
  },
  {
   "cell_type": "markdown",
   "id": "338499ee5171f96a",
   "metadata": {},
   "source": [
    "### Imports"
   ]
  },
  {
   "cell_type": "code",
   "execution_count": 1,
   "id": "8c9b6ef6d8da5220",
   "metadata": {
    "ExecuteTime": {
     "end_time": "2023-11-04T19:39:22.302591Z",
     "start_time": "2023-11-04T19:39:21.214575Z"
    }
   },
   "outputs": [],
   "source": [
    "import pylidc as pl\n",
    "from pylidc.utils import consensus\n",
    "import SimpleITK as sitk\n",
    "from radiomics import featureextractor\n",
    "import pandas as pd\n",
    "from imblearn.over_sampling import SMOTE\n",
    "import statistics"
   ]
  },
  {
   "cell_type": "markdown",
   "id": "dfe2dc2891fdbaa4",
   "metadata": {},
   "source": [
    "### Get the dataset with all the features"
   ]
  },
  {
   "cell_type": "code",
   "execution_count": null,
   "outputs": [],
   "source": [
    "\n",
    "# Initialize the feature extractor\n",
    "extractor = featureextractor.RadiomicsFeatureExtractor()\n",
    "\n",
    "# Get the list of additional features from pl.annotation_feature_names\n",
    "additional_features = pl.annotation_feature_names\n",
    "\n",
    "# Query the LIDC-IDRI dataset for scans with annotations\n",
    "scans_with_annotations = pl.query(pl.Scan).filter(pl.Scan.annotations.any()).all()\n",
    "\n",
    "# Lists to store the extracted features and patient IDs\n",
    "features_list = []\n",
    "\n",
    "# Variable to create unique IDs for the nodules\n",
    "nodule_id_counter = 1\n",
    "\n",
    "#weights = {1: 0.18745, 2: 0.34375, 3: 0.65625, 4: 1.28125, 5: 2.53125}\n",
    "\n",
    "\n",
    "# Iterating through all scans with annotations\n",
    "for scan in scans_with_annotations:\n",
    "    # Get the patient ID\n",
    "    patient_id = scan.patient_id\n",
    "\n",
    "    # Clusterize the annotations for the scan and retrieve all annotations\n",
    "    nods = scan.cluster_annotations()\n",
    "\n",
    "    # Iterating through all nodules of the patient\n",
    "    for anns in nods:\n",
    "        # Check if the current nodule has annotations\n",
    "        if anns:\n",
    "            # Convert consensus annotations into a mask\n",
    "            cmask, _, _ = pl.utils.consensus(anns, clevel=0.5, pad=[(20, 20), (20, 20), (0, 0)])\n",
    "\n",
    "            # Convert the pixel array to a SimpleITK image\n",
    "            image = sitk.GetImageFromArray(cmask.astype(float))\n",
    "\n",
    "            # Extract radiomic features using PyRadiomics\n",
    "            features = extractor.execute(image, image, label=1)  # Use label 1 for the nodule\n",
    "\n",
    "            # Add the patient ID to the features\n",
    "            features['Patient_ID'] = patient_id\n",
    "\n",
    "            # Add a unique ID for the nodule\n",
    "            features['Nodule_ID'] = f'Nodule_{nodule_id_counter}'\n",
    "            nodule_id_counter += 1\n",
    "\n",
    "            def calculate_value(value):\n",
    "                try:\n",
    "                    return statistics.mode(value)\n",
    "                except statistics.StatisticsError:\n",
    "                    return np.mean(value)\n",
    "\n",
    "\n",
    "            def  calculate_mean(value):\n",
    "                return np.mean(value)\n",
    "            \n",
    "            subtlety_value = calculate_value([ann.subtlety for ann in anns])\n",
    "            internalStructure_value = calculate_value([ann.internalStructure for ann in anns])\n",
    "            calcification_value = calculate_value([ann.calcification for ann in anns])\n",
    "            sphericity_value = calculate_value([ann.sphericity for ann in anns])\n",
    "            margin_value = calculate_value([ann.margin for ann in anns])\n",
    "            lobulation_value = calculate_value([ann.lobulation for ann in anns])\n",
    "            spiculation_value = calculate_value([ann.spiculation for ann in anns])\n",
    "            texture_value = calculate_value([ann.texture for ann in anns])\n",
    "            malignancy_value = calculate_mean([ann.malignancy for ann in anns])\n",
    "            \n",
    "            #weighted_sum = sum(value*weights.get(value) for value in malignancy_value)\n",
    "            #total_weight = sum(weights.get(value) for value in malignancy_value)\n",
    "            #final_malignancy=weighted_sum/total_weight\n",
    "\n",
    "            # Add the additional features to the features dictionary\n",
    "            for feature_name in additional_features:\n",
    "                features['subtlety'] = subtlety_value\n",
    "                features['internalStructure'] = internalStructure_value\n",
    "                features['sphericity'] = sphericity_value\n",
    "                features['margin'] = margin_value\n",
    "                features['lobulation'] = lobulation_value\n",
    "                features['spiculation'] = spiculation_value\n",
    "                features['texture'] = texture_value\n",
    "                features['malignancy'] = malignancy_value # final_malignancy\n",
    "\n",
    "            # Add the features to the list\n",
    "            features_list.append(features)\n",
    "\n",
    "        # Create a DataFrame to store the features\n",
    "features_df = pd.DataFrame(features_list)\n",
    "\n",
    "# Save the features to a CSV file\n",
    "features_df.to_csv('radiomic_features.csv', index=False)\n"
   ],
   "metadata": {
    "collapsed": false
   },
   "id": "867b4e20f90029e8"
  },
  {
   "cell_type": "markdown",
   "id": "23eea0d1c2b7cad1",
   "metadata": {},
   "source": [
    "## Data Clean-up"
   ]
  },
  {
   "cell_type": "code",
   "execution_count": 2,
   "id": "f51d0300",
   "metadata": {
    "ExecuteTime": {
     "end_time": "2023-11-04T19:39:39.995189Z",
     "start_time": "2023-11-04T19:39:38.217325Z"
    }
   },
   "outputs": [
    {
     "data": {
      "text/plain": "     diagnostics_Versions_PyRadiomics diagnostics_Versions_Numpy  \\\n0                              v3.0.1                     1.23.5   \n1                              v3.0.1                     1.23.5   \n2                              v3.0.1                     1.23.5   \n3                              v3.0.1                     1.23.5   \n4                              v3.0.1                     1.23.5   \n...                               ...                        ...   \n2646                           v3.0.1                     1.23.5   \n2647                           v3.0.1                     1.23.5   \n2648                           v3.0.1                     1.23.5   \n2649                           v3.0.1                     1.23.5   \n2650                           v3.0.1                     1.23.5   \n\n     diagnostics_Versions_SimpleITK diagnostics_Versions_PyWavelet  \\\n0                      2.3.0-g277b7                          1.4.1   \n1                      2.3.0-g277b7                          1.4.1   \n2                      2.3.0-g277b7                          1.4.1   \n3                      2.3.0-g277b7                          1.4.1   \n4                      2.3.0-g277b7                          1.4.1   \n...                             ...                            ...   \n2646                   2.3.0-g277b7                          1.4.1   \n2647                   2.3.0-g277b7                          1.4.1   \n2648                   2.3.0-g277b7                          1.4.1   \n2649                   2.3.0-g277b7                          1.4.1   \n2650                   2.3.0-g277b7                          1.4.1   \n\n     diagnostics_Versions_Python  \\\n0                         3.11.5   \n1                         3.11.5   \n2                         3.11.5   \n3                         3.11.5   \n4                         3.11.5   \n...                          ...   \n2646                      3.11.5   \n2647                      3.11.5   \n2648                      3.11.5   \n2649                      3.11.5   \n2650                      3.11.5   \n\n                     diagnostics_Configuration_Settings  \\\n0     {'minimumROIDimensions': 2, 'minimumROISize': ...   \n1     {'minimumROIDimensions': 2, 'minimumROISize': ...   \n2     {'minimumROIDimensions': 2, 'minimumROISize': ...   \n3     {'minimumROIDimensions': 2, 'minimumROISize': ...   \n4     {'minimumROIDimensions': 2, 'minimumROISize': ...   \n...                                                 ...   \n2646  {'minimumROIDimensions': 2, 'minimumROISize': ...   \n2647  {'minimumROIDimensions': 2, 'minimumROISize': ...   \n2648  {'minimumROIDimensions': 2, 'minimumROISize': ...   \n2649  {'minimumROIDimensions': 2, 'minimumROISize': ...   \n2650  {'minimumROIDimensions': 2, 'minimumROISize': ...   \n\n     diagnostics_Configuration_EnabledImageTypes  \\\n0                               {'Original': {}}   \n1                               {'Original': {}}   \n2                               {'Original': {}}   \n3                               {'Original': {}}   \n4                               {'Original': {}}   \n...                                          ...   \n2646                            {'Original': {}}   \n2647                            {'Original': {}}   \n2648                            {'Original': {}}   \n2649                            {'Original': {}}   \n2650                            {'Original': {}}   \n\n               diagnostics_Image-original_Hash  \\\n0     966db6c8d814983bbfe7125907b2ae5008c7994e   \n1     d750f93365c734f6f1972e806b046bb1a203f47f   \n2     58d9ee5073ad7215556c1e295a67e9204a623b2d   \n3     312913e3e22bc6f2e6cffc8abd1120da5fa413fd   \n4     08706c40effcb9f7489dc9ce0139a265b8dc6048   \n...                                        ...   \n2646  db18dcbfdf1ebd1c1390db9dd1fbfd85cce4724b   \n2647  fe63df501e056c7f875ab771151194481c70a0b1   \n2648  e25d0da08cbc45ea3587c9426cc102940176a4de   \n2649  5888efc13966913742433819826d00f4d79f0c24   \n2650  13269d945ba36fb2fbefd307f1fa513918911e5c   \n\n     diagnostics_Image-original_Dimensionality  \\\n0                                           3D   \n1                                           3D   \n2                                           3D   \n3                                           3D   \n4                                           3D   \n...                                        ...   \n2646                                        3D   \n2647                                        3D   \n2648                                        3D   \n2649                                        3D   \n2650                                        3D   \n\n     diagnostics_Image-original_Spacing  ...      Patient_ID    Nodule_ID  \\\n0                       (1.0, 1.0, 1.0)  ...  LIDC-IDRI-0078     Nodule_1   \n1                       (1.0, 1.0, 1.0)  ...  LIDC-IDRI-0078     Nodule_2   \n2                       (1.0, 1.0, 1.0)  ...  LIDC-IDRI-0078     Nodule_3   \n3                       (1.0, 1.0, 1.0)  ...  LIDC-IDRI-0078     Nodule_4   \n4                       (1.0, 1.0, 1.0)  ...  LIDC-IDRI-0069     Nodule_5   \n...                                 ...  ...             ...          ...   \n2646                    (1.0, 1.0, 1.0)  ...  LIDC-IDRI-0639  Nodule_2647   \n2647                    (1.0, 1.0, 1.0)  ...  LIDC-IDRI-0639  Nodule_2648   \n2648                    (1.0, 1.0, 1.0)  ...  LIDC-IDRI-0638  Nodule_2649   \n2649                    (1.0, 1.0, 1.0)  ...  LIDC-IDRI-0638  Nodule_2650   \n2650                    (1.0, 1.0, 1.0)  ...  LIDC-IDRI-0127  Nodule_2651   \n\n      subtlety  internalStructure sphericity margin lobulation spiculation  \\\n0            4                  1          4      4          2           2   \n1            5                  1          4      2          4           1   \n2            4                  1          5      5          1           1   \n3            5                  1          4      2          4           3   \n4            3                  1          5      5          5           5   \n...        ...                ...        ...    ...        ...         ...   \n2646         4                  1          4      4          2           2   \n2647         1                  1          4      1          1           1   \n2648         2                  1          4      3          1           1   \n2649         5                  1          4      5          1           1   \n2650         5                  1          5      5          4           5   \n\n      texture  malignancy  \n0           5        3.75  \n1           5        3.75  \n2           5        1.00  \n3           5        4.25  \n4           5        3.25  \n...       ...         ...  \n2646        5        4.00  \n2647        1        3.50  \n2648        5        3.50  \n2649        5        2.00  \n2650        5        2.50  \n\n[2651 rows x 139 columns]",
      "text/html": "<div>\n<style scoped>\n    .dataframe tbody tr th:only-of-type {\n        vertical-align: middle;\n    }\n\n    .dataframe tbody tr th {\n        vertical-align: top;\n    }\n\n    .dataframe thead th {\n        text-align: right;\n    }\n</style>\n<table border=\"1\" class=\"dataframe\">\n  <thead>\n    <tr style=\"text-align: right;\">\n      <th></th>\n      <th>diagnostics_Versions_PyRadiomics</th>\n      <th>diagnostics_Versions_Numpy</th>\n      <th>diagnostics_Versions_SimpleITK</th>\n      <th>diagnostics_Versions_PyWavelet</th>\n      <th>diagnostics_Versions_Python</th>\n      <th>diagnostics_Configuration_Settings</th>\n      <th>diagnostics_Configuration_EnabledImageTypes</th>\n      <th>diagnostics_Image-original_Hash</th>\n      <th>diagnostics_Image-original_Dimensionality</th>\n      <th>diagnostics_Image-original_Spacing</th>\n      <th>...</th>\n      <th>Patient_ID</th>\n      <th>Nodule_ID</th>\n      <th>subtlety</th>\n      <th>internalStructure</th>\n      <th>sphericity</th>\n      <th>margin</th>\n      <th>lobulation</th>\n      <th>spiculation</th>\n      <th>texture</th>\n      <th>malignancy</th>\n    </tr>\n  </thead>\n  <tbody>\n    <tr>\n      <th>0</th>\n      <td>v3.0.1</td>\n      <td>1.23.5</td>\n      <td>2.3.0-g277b7</td>\n      <td>1.4.1</td>\n      <td>3.11.5</td>\n      <td>{'minimumROIDimensions': 2, 'minimumROISize': ...</td>\n      <td>{'Original': {}}</td>\n      <td>966db6c8d814983bbfe7125907b2ae5008c7994e</td>\n      <td>3D</td>\n      <td>(1.0, 1.0, 1.0)</td>\n      <td>...</td>\n      <td>LIDC-IDRI-0078</td>\n      <td>Nodule_1</td>\n      <td>4</td>\n      <td>1</td>\n      <td>4</td>\n      <td>4</td>\n      <td>2</td>\n      <td>2</td>\n      <td>5</td>\n      <td>3.75</td>\n    </tr>\n    <tr>\n      <th>1</th>\n      <td>v3.0.1</td>\n      <td>1.23.5</td>\n      <td>2.3.0-g277b7</td>\n      <td>1.4.1</td>\n      <td>3.11.5</td>\n      <td>{'minimumROIDimensions': 2, 'minimumROISize': ...</td>\n      <td>{'Original': {}}</td>\n      <td>d750f93365c734f6f1972e806b046bb1a203f47f</td>\n      <td>3D</td>\n      <td>(1.0, 1.0, 1.0)</td>\n      <td>...</td>\n      <td>LIDC-IDRI-0078</td>\n      <td>Nodule_2</td>\n      <td>5</td>\n      <td>1</td>\n      <td>4</td>\n      <td>2</td>\n      <td>4</td>\n      <td>1</td>\n      <td>5</td>\n      <td>3.75</td>\n    </tr>\n    <tr>\n      <th>2</th>\n      <td>v3.0.1</td>\n      <td>1.23.5</td>\n      <td>2.3.0-g277b7</td>\n      <td>1.4.1</td>\n      <td>3.11.5</td>\n      <td>{'minimumROIDimensions': 2, 'minimumROISize': ...</td>\n      <td>{'Original': {}}</td>\n      <td>58d9ee5073ad7215556c1e295a67e9204a623b2d</td>\n      <td>3D</td>\n      <td>(1.0, 1.0, 1.0)</td>\n      <td>...</td>\n      <td>LIDC-IDRI-0078</td>\n      <td>Nodule_3</td>\n      <td>4</td>\n      <td>1</td>\n      <td>5</td>\n      <td>5</td>\n      <td>1</td>\n      <td>1</td>\n      <td>5</td>\n      <td>1.00</td>\n    </tr>\n    <tr>\n      <th>3</th>\n      <td>v3.0.1</td>\n      <td>1.23.5</td>\n      <td>2.3.0-g277b7</td>\n      <td>1.4.1</td>\n      <td>3.11.5</td>\n      <td>{'minimumROIDimensions': 2, 'minimumROISize': ...</td>\n      <td>{'Original': {}}</td>\n      <td>312913e3e22bc6f2e6cffc8abd1120da5fa413fd</td>\n      <td>3D</td>\n      <td>(1.0, 1.0, 1.0)</td>\n      <td>...</td>\n      <td>LIDC-IDRI-0078</td>\n      <td>Nodule_4</td>\n      <td>5</td>\n      <td>1</td>\n      <td>4</td>\n      <td>2</td>\n      <td>4</td>\n      <td>3</td>\n      <td>5</td>\n      <td>4.25</td>\n    </tr>\n    <tr>\n      <th>4</th>\n      <td>v3.0.1</td>\n      <td>1.23.5</td>\n      <td>2.3.0-g277b7</td>\n      <td>1.4.1</td>\n      <td>3.11.5</td>\n      <td>{'minimumROIDimensions': 2, 'minimumROISize': ...</td>\n      <td>{'Original': {}}</td>\n      <td>08706c40effcb9f7489dc9ce0139a265b8dc6048</td>\n      <td>3D</td>\n      <td>(1.0, 1.0, 1.0)</td>\n      <td>...</td>\n      <td>LIDC-IDRI-0069</td>\n      <td>Nodule_5</td>\n      <td>3</td>\n      <td>1</td>\n      <td>5</td>\n      <td>5</td>\n      <td>5</td>\n      <td>5</td>\n      <td>5</td>\n      <td>3.25</td>\n    </tr>\n    <tr>\n      <th>...</th>\n      <td>...</td>\n      <td>...</td>\n      <td>...</td>\n      <td>...</td>\n      <td>...</td>\n      <td>...</td>\n      <td>...</td>\n      <td>...</td>\n      <td>...</td>\n      <td>...</td>\n      <td>...</td>\n      <td>...</td>\n      <td>...</td>\n      <td>...</td>\n      <td>...</td>\n      <td>...</td>\n      <td>...</td>\n      <td>...</td>\n      <td>...</td>\n      <td>...</td>\n      <td>...</td>\n    </tr>\n    <tr>\n      <th>2646</th>\n      <td>v3.0.1</td>\n      <td>1.23.5</td>\n      <td>2.3.0-g277b7</td>\n      <td>1.4.1</td>\n      <td>3.11.5</td>\n      <td>{'minimumROIDimensions': 2, 'minimumROISize': ...</td>\n      <td>{'Original': {}}</td>\n      <td>db18dcbfdf1ebd1c1390db9dd1fbfd85cce4724b</td>\n      <td>3D</td>\n      <td>(1.0, 1.0, 1.0)</td>\n      <td>...</td>\n      <td>LIDC-IDRI-0639</td>\n      <td>Nodule_2647</td>\n      <td>4</td>\n      <td>1</td>\n      <td>4</td>\n      <td>4</td>\n      <td>2</td>\n      <td>2</td>\n      <td>5</td>\n      <td>4.00</td>\n    </tr>\n    <tr>\n      <th>2647</th>\n      <td>v3.0.1</td>\n      <td>1.23.5</td>\n      <td>2.3.0-g277b7</td>\n      <td>1.4.1</td>\n      <td>3.11.5</td>\n      <td>{'minimumROIDimensions': 2, 'minimumROISize': ...</td>\n      <td>{'Original': {}}</td>\n      <td>fe63df501e056c7f875ab771151194481c70a0b1</td>\n      <td>3D</td>\n      <td>(1.0, 1.0, 1.0)</td>\n      <td>...</td>\n      <td>LIDC-IDRI-0639</td>\n      <td>Nodule_2648</td>\n      <td>1</td>\n      <td>1</td>\n      <td>4</td>\n      <td>1</td>\n      <td>1</td>\n      <td>1</td>\n      <td>1</td>\n      <td>3.50</td>\n    </tr>\n    <tr>\n      <th>2648</th>\n      <td>v3.0.1</td>\n      <td>1.23.5</td>\n      <td>2.3.0-g277b7</td>\n      <td>1.4.1</td>\n      <td>3.11.5</td>\n      <td>{'minimumROIDimensions': 2, 'minimumROISize': ...</td>\n      <td>{'Original': {}}</td>\n      <td>e25d0da08cbc45ea3587c9426cc102940176a4de</td>\n      <td>3D</td>\n      <td>(1.0, 1.0, 1.0)</td>\n      <td>...</td>\n      <td>LIDC-IDRI-0638</td>\n      <td>Nodule_2649</td>\n      <td>2</td>\n      <td>1</td>\n      <td>4</td>\n      <td>3</td>\n      <td>1</td>\n      <td>1</td>\n      <td>5</td>\n      <td>3.50</td>\n    </tr>\n    <tr>\n      <th>2649</th>\n      <td>v3.0.1</td>\n      <td>1.23.5</td>\n      <td>2.3.0-g277b7</td>\n      <td>1.4.1</td>\n      <td>3.11.5</td>\n      <td>{'minimumROIDimensions': 2, 'minimumROISize': ...</td>\n      <td>{'Original': {}}</td>\n      <td>5888efc13966913742433819826d00f4d79f0c24</td>\n      <td>3D</td>\n      <td>(1.0, 1.0, 1.0)</td>\n      <td>...</td>\n      <td>LIDC-IDRI-0638</td>\n      <td>Nodule_2650</td>\n      <td>5</td>\n      <td>1</td>\n      <td>4</td>\n      <td>5</td>\n      <td>1</td>\n      <td>1</td>\n      <td>5</td>\n      <td>2.00</td>\n    </tr>\n    <tr>\n      <th>2650</th>\n      <td>v3.0.1</td>\n      <td>1.23.5</td>\n      <td>2.3.0-g277b7</td>\n      <td>1.4.1</td>\n      <td>3.11.5</td>\n      <td>{'minimumROIDimensions': 2, 'minimumROISize': ...</td>\n      <td>{'Original': {}}</td>\n      <td>13269d945ba36fb2fbefd307f1fa513918911e5c</td>\n      <td>3D</td>\n      <td>(1.0, 1.0, 1.0)</td>\n      <td>...</td>\n      <td>LIDC-IDRI-0127</td>\n      <td>Nodule_2651</td>\n      <td>5</td>\n      <td>1</td>\n      <td>5</td>\n      <td>5</td>\n      <td>4</td>\n      <td>5</td>\n      <td>5</td>\n      <td>2.50</td>\n    </tr>\n  </tbody>\n</table>\n<p>2651 rows × 139 columns</p>\n</div>"
     },
     "execution_count": 2,
     "metadata": {},
     "output_type": "execute_result"
    }
   ],
   "source": [
    "#Read and print the features dataset\n",
    "df = pd.read_csv('radiomic_features.csv')\n",
    "df"
   ]
  },
  {
   "cell_type": "code",
   "execution_count": 3,
   "id": "e2eaa4fa",
   "metadata": {
    "ExecuteTime": {
     "end_time": "2023-11-04T19:39:40.061496Z",
     "start_time": "2023-11-04T19:39:38.286220Z"
    }
   },
   "outputs": [
    {
     "data": {
      "text/plain": "diagnostics_Versions_PyRadiomics    0\ndiagnostics_Versions_Numpy          0\ndiagnostics_Versions_SimpleITK      0\ndiagnostics_Versions_PyWavelet      0\ndiagnostics_Versions_Python         0\n                                   ..\nmargin                              0\nlobulation                          0\nspiculation                         0\ntexture                             0\nmalignancy                          0\nLength: 139, dtype: int64"
     },
     "execution_count": 3,
     "metadata": {},
     "output_type": "execute_result"
    }
   ],
   "source": [
    "#Check for null values\n",
    "df.isna().sum()"
   ]
  },
  {
   "cell_type": "code",
   "execution_count": 4,
   "id": "9f6071ed",
   "metadata": {
    "ExecuteTime": {
     "end_time": "2023-11-04T19:39:40.198527Z",
     "start_time": "2023-11-04T19:39:38.293737Z"
    }
   },
   "outputs": [
    {
     "data": {
      "text/plain": "[1,\n 1,\n 1,\n 1,\n 1,\n 1,\n 1,\n 2651,\n 1,\n 1,\n 1339,\n 2334,\n 1,\n 1,\n 2651,\n 1,\n 1339,\n 1856,\n 951,\n 6,\n 2651,\n 2651,\n 2651,\n 2570,\n 2570,\n 2651,\n 325,\n 394,\n 314,\n 658,\n 2347,\n 2651,\n 2650,\n 2650,\n 2650,\n 951,\n 1,\n 1,\n 951,\n 1,\n 1,\n 1,\n 1,\n 1,\n 1,\n 1,\n 1,\n 1,\n 1,\n 1,\n 1,\n 951,\n 1,\n 1,\n 1,\n 1,\n 1,\n 1,\n 1,\n 1,\n 1,\n 2,\n 1,\n 1,\n 1,\n 1,\n 1,\n 1,\n 1,\n 1,\n 1,\n 1,\n 2,\n 1,\n 1,\n 1,\n 2,\n 1,\n 2647,\n 2483,\n 2536,\n 2648,\n 951,\n 1,\n 1,\n 2641,\n 2641,\n 2641,\n 1,\n 2650,\n 2650,\n 2650,\n 1668,\n 1,\n 1,\n 1,\n 2651,\n 2651,\n 2651,\n 1,\n 2651,\n 2651,\n 2651,\n 2546,\n 2651,\n 2651,\n 2651,\n 2651,\n 6,\n 1,\n 1,\n 1,\n 962,\n 962,\n 962,\n 1,\n 7,\n 9,\n 962,\n 962,\n 962,\n 9,\n 951,\n 48,\n 1,\n 1,\n 1,\n 1,\n 1,\n 875,\n 2651,\n 5,\n 4,\n 5,\n 5,\n 5,\n 5,\n 5,\n 35]"
     },
     "execution_count": 4,
     "metadata": {},
     "output_type": "execute_result"
    }
   ],
   "source": [
    "#Check if there are columns with only one value\n",
    "df.nunique().tolist()"
   ]
  },
  {
   "cell_type": "code",
   "execution_count": 5,
   "id": "d83f256c",
   "metadata": {
    "ExecuteTime": {
     "end_time": "2023-11-04T19:39:40.202570Z",
     "start_time": "2023-11-04T19:39:38.315899Z"
    }
   },
   "outputs": [
    {
     "name": "stdout",
     "output_type": "stream",
     "text": [
      "Index(['diagnostics_Versions_PyRadiomics', 'diagnostics_Versions_Numpy',\n",
      "       'diagnostics_Versions_SimpleITK', 'diagnostics_Versions_PyWavelet',\n",
      "       'diagnostics_Versions_Python', 'diagnostics_Configuration_Settings',\n",
      "       'diagnostics_Configuration_EnabledImageTypes',\n",
      "       'diagnostics_Image-original_Dimensionality',\n",
      "       'diagnostics_Image-original_Spacing',\n",
      "       'diagnostics_Image-original_Minimum',\n",
      "       'diagnostics_Image-original_Maximum',\n",
      "       'diagnostics_Mask-original_Spacing', 'original_firstorder_10Percentile',\n",
      "       'original_firstorder_90Percentile', 'original_firstorder_Entropy',\n",
      "       'original_firstorder_InterquartileRange',\n",
      "       'original_firstorder_Kurtosis', 'original_firstorder_Maximum',\n",
      "       'original_firstorder_MeanAbsoluteDeviation', 'original_firstorder_Mean',\n",
      "       'original_firstorder_Median', 'original_firstorder_Minimum',\n",
      "       'original_firstorder_Range',\n",
      "       'original_firstorder_RobustMeanAbsoluteDeviation',\n",
      "       'original_firstorder_RootMeanSquared', 'original_firstorder_Skewness',\n",
      "       'original_firstorder_Uniformity', 'original_firstorder_Variance',\n",
      "       'original_glcm_Autocorrelation', 'original_glcm_ClusterProminence',\n",
      "       'original_glcm_ClusterShade', 'original_glcm_ClusterTendency',\n",
      "       'original_glcm_Contrast', 'original_glcm_Correlation',\n",
      "       'original_glcm_DifferenceAverage', 'original_glcm_DifferenceVariance',\n",
      "       'original_glcm_Id', 'original_glcm_Idm', 'original_glcm_Idmn',\n",
      "       'original_glcm_Idn', 'original_glcm_Imc1', 'original_glcm_Imc2',\n",
      "       'original_glcm_InverseVariance', 'original_glcm_JointAverage',\n",
      "       'original_glcm_JointEnergy', 'original_glcm_MCC',\n",
      "       'original_glcm_MaximumProbability', 'original_glcm_SumAverage',\n",
      "       'original_glcm_SumSquares', 'original_gldm_GrayLevelVariance',\n",
      "       'original_gldm_HighGrayLevelEmphasis',\n",
      "       'original_gldm_LowGrayLevelEmphasis',\n",
      "       'original_glrlm_GrayLevelNonUniformityNormalized',\n",
      "       'original_glrlm_GrayLevelVariance',\n",
      "       'original_glrlm_HighGrayLevelRunEmphasis',\n",
      "       'original_glrlm_LowGrayLevelRunEmphasis',\n",
      "       'original_glszm_GrayLevelNonUniformityNormalized',\n",
      "       'original_glszm_GrayLevelVariance',\n",
      "       'original_glszm_HighGrayLevelZoneEmphasis',\n",
      "       'original_glszm_LowGrayLevelZoneEmphasis', 'original_ngtdm_Busyness',\n",
      "       'original_ngtdm_Coarseness', 'original_ngtdm_Complexity',\n",
      "       'original_ngtdm_Contrast', 'original_ngtdm_Strength'],\n",
      "      dtype='object')\n"
     ]
    }
   ],
   "source": [
    "#Get all columns with only one value\n",
    "unique_value_counts = df.nunique()\n",
    "columns_with_single_unique_value = unique_value_counts[unique_value_counts == 1].index\n",
    "print(columns_with_single_unique_value)"
   ]
  },
  {
   "cell_type": "code",
   "execution_count": 6,
   "id": "36f6ef93",
   "metadata": {
    "ExecuteTime": {
     "end_time": "2023-11-04T19:39:40.203236Z",
     "start_time": "2023-11-04T19:39:38.336623Z"
    }
   },
   "outputs": [],
   "source": [
    "#Drop the selected columns\n",
    "df.drop(columns=columns_with_single_unique_value,inplace=True)"
   ]
  },
  {
   "cell_type": "code",
   "execution_count": 7,
   "id": "bcb10130994b97b8",
   "metadata": {
    "ExecuteTime": {
     "end_time": "2023-11-04T19:39:40.264081Z",
     "start_time": "2023-11-04T19:39:38.339864Z"
    }
   },
   "outputs": [
    {
     "data": {
      "text/plain": "      diagnostics_Image-original_Mean  diagnostics_Mask-original_VoxelNum  \\\n0                            0.051024                                1903   \n1                            0.054136                                1741   \n2                            0.007535                                  34   \n3                            0.063299                                3646   \n4                            0.014866                                 521   \n...                               ...                                 ...   \n2646                         0.010188                                 325   \n2647                         0.019069                                 623   \n2648                         0.020854                                 189   \n2649                         0.007404                                  77   \n2650                         0.126805                               13801   \n\n      diagnostics_Mask-original_VolumeNum  original_shape_Elongation  \\\n0                                       1                   0.848594   \n1                                       1                   0.845360   \n2                                       1                   0.879310   \n3                                       3                   0.956858   \n4                                       1                   0.779886   \n...                                   ...                        ...   \n2646                                    1                   0.793847   \n2647                                    1                   0.754255   \n2648                                    1                   0.564212   \n2649                                    1                   0.453474   \n2650                                    3                   0.909345   \n\n      original_shape_Flatness  original_shape_LeastAxisLength  \\\n0                    0.219031                        5.542891   \n1                    0.215045                        5.209030   \n2                    0.289526                        1.632763   \n3                    0.216692                        6.435946   \n4                    0.595806                        7.374952   \n...                       ...                             ...   \n2646                 0.375133                        4.534490   \n2647                 0.687954                        8.589183   \n2648                 0.185778                        2.586515   \n2649                 0.247844                        2.471175   \n2650                 0.273192                       11.674262   \n\n      original_shape_MajorAxisLength  original_shape_Maximum2DDiameterColumn  \\\n0                          25.306411                               24.020824   \n1                          24.222923                               30.016662   \n2                           5.639429                                6.000000   \n3                          29.700850                               37.054015   \n4                          12.378110                               15.524175   \n...                              ...                                     ...   \n2646                       12.087678                               12.806248   \n2647                       12.485120                               14.422205   \n2648                       13.922612                               11.045361   \n2649                        9.970706                                7.280110   \n2650                       42.732887                               49.040799   \n\n      original_shape_Maximum2DDiameterRow  \\\n0                               39.051248   \n1                               31.064449   \n2                                6.324555   \n3                               43.566042   \n4                               14.142136   \n...                                   ...   \n2646                            11.401754   \n2647                            14.317821   \n2648                            14.866069   \n2649                             7.211103   \n2650                            50.219518   \n\n      original_shape_Maximum2DDiameterSlice  ...  \\\n0                                 26.000000  ...   \n1                                 23.021729  ...   \n2                                  5.099020  ...   \n3                                 35.227830  ...   \n4                                 12.041595  ...   \n...                                     ...  ...   \n2646                              13.928388  ...   \n2647                              12.649111  ...   \n2648                              12.165525  ...   \n2649                               7.615773  ...   \n2650                              46.097722  ...   \n\n      original_glszm_ZonePercentage  original_glszm_ZoneVariance  subtlety  \\\n0                          0.000525                 0.000000e+00         4   \n1                          0.000574                 0.000000e+00         5   \n2                          0.029412                 0.000000e+00         4   \n3                          0.000823                 2.949211e+06         5   \n4                          0.001919                 0.000000e+00         3   \n...                             ...                          ...       ...   \n2646                       0.003077                 0.000000e+00         4   \n2647                       0.001605                 0.000000e+00         1   \n2648                       0.005291                 0.000000e+00         2   \n2649                       0.012987                 0.000000e+00         5   \n2650                       0.000217                 4.230773e+07         5   \n\n      internalStructure  sphericity  margin  lobulation  spiculation  texture  \\\n0                     1           4       4           2            2        5   \n1                     1           4       2           4            1        5   \n2                     1           5       5           1            1        5   \n3                     1           4       2           4            3        5   \n4                     1           5       5           5            5        5   \n...                 ...         ...     ...         ...          ...      ...   \n2646                  1           4       4           2            2        5   \n2647                  1           4       1           1            1        1   \n2648                  1           4       3           1            1        5   \n2649                  1           4       5           1            1        5   \n2650                  1           5       5           4            5        5   \n\n      malignancy  \n0           3.75  \n1           3.75  \n2           1.00  \n3           4.25  \n4           3.25  \n...          ...  \n2646        4.00  \n2647        3.50  \n2648        3.50  \n2649        2.00  \n2650        2.50  \n\n[2651 rows x 65 columns]",
      "text/html": "<div>\n<style scoped>\n    .dataframe tbody tr th:only-of-type {\n        vertical-align: middle;\n    }\n\n    .dataframe tbody tr th {\n        vertical-align: top;\n    }\n\n    .dataframe thead th {\n        text-align: right;\n    }\n</style>\n<table border=\"1\" class=\"dataframe\">\n  <thead>\n    <tr style=\"text-align: right;\">\n      <th></th>\n      <th>diagnostics_Image-original_Mean</th>\n      <th>diagnostics_Mask-original_VoxelNum</th>\n      <th>diagnostics_Mask-original_VolumeNum</th>\n      <th>original_shape_Elongation</th>\n      <th>original_shape_Flatness</th>\n      <th>original_shape_LeastAxisLength</th>\n      <th>original_shape_MajorAxisLength</th>\n      <th>original_shape_Maximum2DDiameterColumn</th>\n      <th>original_shape_Maximum2DDiameterRow</th>\n      <th>original_shape_Maximum2DDiameterSlice</th>\n      <th>...</th>\n      <th>original_glszm_ZonePercentage</th>\n      <th>original_glszm_ZoneVariance</th>\n      <th>subtlety</th>\n      <th>internalStructure</th>\n      <th>sphericity</th>\n      <th>margin</th>\n      <th>lobulation</th>\n      <th>spiculation</th>\n      <th>texture</th>\n      <th>malignancy</th>\n    </tr>\n  </thead>\n  <tbody>\n    <tr>\n      <th>0</th>\n      <td>0.051024</td>\n      <td>1903</td>\n      <td>1</td>\n      <td>0.848594</td>\n      <td>0.219031</td>\n      <td>5.542891</td>\n      <td>25.306411</td>\n      <td>24.020824</td>\n      <td>39.051248</td>\n      <td>26.000000</td>\n      <td>...</td>\n      <td>0.000525</td>\n      <td>0.000000e+00</td>\n      <td>4</td>\n      <td>1</td>\n      <td>4</td>\n      <td>4</td>\n      <td>2</td>\n      <td>2</td>\n      <td>5</td>\n      <td>3.75</td>\n    </tr>\n    <tr>\n      <th>1</th>\n      <td>0.054136</td>\n      <td>1741</td>\n      <td>1</td>\n      <td>0.845360</td>\n      <td>0.215045</td>\n      <td>5.209030</td>\n      <td>24.222923</td>\n      <td>30.016662</td>\n      <td>31.064449</td>\n      <td>23.021729</td>\n      <td>...</td>\n      <td>0.000574</td>\n      <td>0.000000e+00</td>\n      <td>5</td>\n      <td>1</td>\n      <td>4</td>\n      <td>2</td>\n      <td>4</td>\n      <td>1</td>\n      <td>5</td>\n      <td>3.75</td>\n    </tr>\n    <tr>\n      <th>2</th>\n      <td>0.007535</td>\n      <td>34</td>\n      <td>1</td>\n      <td>0.879310</td>\n      <td>0.289526</td>\n      <td>1.632763</td>\n      <td>5.639429</td>\n      <td>6.000000</td>\n      <td>6.324555</td>\n      <td>5.099020</td>\n      <td>...</td>\n      <td>0.029412</td>\n      <td>0.000000e+00</td>\n      <td>4</td>\n      <td>1</td>\n      <td>5</td>\n      <td>5</td>\n      <td>1</td>\n      <td>1</td>\n      <td>5</td>\n      <td>1.00</td>\n    </tr>\n    <tr>\n      <th>3</th>\n      <td>0.063299</td>\n      <td>3646</td>\n      <td>3</td>\n      <td>0.956858</td>\n      <td>0.216692</td>\n      <td>6.435946</td>\n      <td>29.700850</td>\n      <td>37.054015</td>\n      <td>43.566042</td>\n      <td>35.227830</td>\n      <td>...</td>\n      <td>0.000823</td>\n      <td>2.949211e+06</td>\n      <td>5</td>\n      <td>1</td>\n      <td>4</td>\n      <td>2</td>\n      <td>4</td>\n      <td>3</td>\n      <td>5</td>\n      <td>4.25</td>\n    </tr>\n    <tr>\n      <th>4</th>\n      <td>0.014866</td>\n      <td>521</td>\n      <td>1</td>\n      <td>0.779886</td>\n      <td>0.595806</td>\n      <td>7.374952</td>\n      <td>12.378110</td>\n      <td>15.524175</td>\n      <td>14.142136</td>\n      <td>12.041595</td>\n      <td>...</td>\n      <td>0.001919</td>\n      <td>0.000000e+00</td>\n      <td>3</td>\n      <td>1</td>\n      <td>5</td>\n      <td>5</td>\n      <td>5</td>\n      <td>5</td>\n      <td>5</td>\n      <td>3.25</td>\n    </tr>\n    <tr>\n      <th>...</th>\n      <td>...</td>\n      <td>...</td>\n      <td>...</td>\n      <td>...</td>\n      <td>...</td>\n      <td>...</td>\n      <td>...</td>\n      <td>...</td>\n      <td>...</td>\n      <td>...</td>\n      <td>...</td>\n      <td>...</td>\n      <td>...</td>\n      <td>...</td>\n      <td>...</td>\n      <td>...</td>\n      <td>...</td>\n      <td>...</td>\n      <td>...</td>\n      <td>...</td>\n      <td>...</td>\n    </tr>\n    <tr>\n      <th>2646</th>\n      <td>0.010188</td>\n      <td>325</td>\n      <td>1</td>\n      <td>0.793847</td>\n      <td>0.375133</td>\n      <td>4.534490</td>\n      <td>12.087678</td>\n      <td>12.806248</td>\n      <td>11.401754</td>\n      <td>13.928388</td>\n      <td>...</td>\n      <td>0.003077</td>\n      <td>0.000000e+00</td>\n      <td>4</td>\n      <td>1</td>\n      <td>4</td>\n      <td>4</td>\n      <td>2</td>\n      <td>2</td>\n      <td>5</td>\n      <td>4.00</td>\n    </tr>\n    <tr>\n      <th>2647</th>\n      <td>0.019069</td>\n      <td>623</td>\n      <td>1</td>\n      <td>0.754255</td>\n      <td>0.687954</td>\n      <td>8.589183</td>\n      <td>12.485120</td>\n      <td>14.422205</td>\n      <td>14.317821</td>\n      <td>12.649111</td>\n      <td>...</td>\n      <td>0.001605</td>\n      <td>0.000000e+00</td>\n      <td>1</td>\n      <td>1</td>\n      <td>4</td>\n      <td>1</td>\n      <td>1</td>\n      <td>1</td>\n      <td>1</td>\n      <td>3.50</td>\n    </tr>\n    <tr>\n      <th>2648</th>\n      <td>0.020854</td>\n      <td>189</td>\n      <td>1</td>\n      <td>0.564212</td>\n      <td>0.185778</td>\n      <td>2.586515</td>\n      <td>13.922612</td>\n      <td>11.045361</td>\n      <td>14.866069</td>\n      <td>12.165525</td>\n      <td>...</td>\n      <td>0.005291</td>\n      <td>0.000000e+00</td>\n      <td>2</td>\n      <td>1</td>\n      <td>4</td>\n      <td>3</td>\n      <td>1</td>\n      <td>1</td>\n      <td>5</td>\n      <td>3.50</td>\n    </tr>\n    <tr>\n      <th>2649</th>\n      <td>0.007404</td>\n      <td>77</td>\n      <td>1</td>\n      <td>0.453474</td>\n      <td>0.247844</td>\n      <td>2.471175</td>\n      <td>9.970706</td>\n      <td>7.280110</td>\n      <td>7.211103</td>\n      <td>7.615773</td>\n      <td>...</td>\n      <td>0.012987</td>\n      <td>0.000000e+00</td>\n      <td>5</td>\n      <td>1</td>\n      <td>4</td>\n      <td>5</td>\n      <td>1</td>\n      <td>1</td>\n      <td>5</td>\n      <td>2.00</td>\n    </tr>\n    <tr>\n      <th>2650</th>\n      <td>0.126805</td>\n      <td>13801</td>\n      <td>3</td>\n      <td>0.909345</td>\n      <td>0.273192</td>\n      <td>11.674262</td>\n      <td>42.732887</td>\n      <td>49.040799</td>\n      <td>50.219518</td>\n      <td>46.097722</td>\n      <td>...</td>\n      <td>0.000217</td>\n      <td>4.230773e+07</td>\n      <td>5</td>\n      <td>1</td>\n      <td>5</td>\n      <td>5</td>\n      <td>4</td>\n      <td>5</td>\n      <td>5</td>\n      <td>2.50</td>\n    </tr>\n  </tbody>\n</table>\n<p>2651 rows × 65 columns</p>\n</div>"
     },
     "execution_count": 7,
     "metadata": {},
     "output_type": "execute_result"
    }
   ],
   "source": [
    "#Drop columns without ints or tuples\n",
    "df = df.select_dtypes(include=[int, float])\n",
    "df"
   ]
  },
  {
   "cell_type": "code",
   "execution_count": 8,
   "outputs": [
    {
     "data": {
      "text/plain": "malignancy\n3.000000    641\n2.000000    417\n1.000000    272\n2.500000    228\n2.666667    130\n4.000000    127\n3.500000    116\n2.750000    111\n3.250000     95\n2.333333     65\n3.750000     54\n2.250000     46\n3.333333     45\n1.500000     45\n4.250000     42\n4.500000     41\n5.000000     37\n3.666667     33\n4.750000     23\n1.666667     18\n1.750000     17\n4.333333     13\n1.250000     10\n4.666667     10\n1.333333      5\n2.600000      1\n3.600000      1\n3.166667      1\n4.166667      1\n4.200000      1\n3.800000      1\n3.714286      1\n3.428571      1\n4.285714      1\n3.400000      1\nName: count, dtype: int64"
     },
     "execution_count": 8,
     "metadata": {},
     "output_type": "execute_result"
    }
   ],
   "source": [
    "#Get the count of each value in malignancy column\n",
    "df[\"malignancy\"].value_counts()"
   ],
   "metadata": {
    "collapsed": false,
    "ExecuteTime": {
     "end_time": "2023-11-04T19:39:40.271786Z",
     "start_time": "2023-11-04T19:39:38.356871Z"
    }
   },
   "id": "7d52679148ec2e98"
  },
  {
   "cell_type": "code",
   "execution_count": 9,
   "outputs": [],
   "source": [
    "# Transform values of the malignancy column to 0 or 1\n",
    "\n",
    "df = df[df['malignancy'] != 3]\n",
    "\n",
    "df.loc[:, \"malignancy\"] = df[\"malignancy\"].apply(lambda x: 1 if x > 3 else 0)"
   ],
   "metadata": {
    "collapsed": false,
    "ExecuteTime": {
     "end_time": "2023-11-04T19:39:40.272626Z",
     "start_time": "2023-11-04T19:39:38.359223Z"
    }
   },
   "id": "65fac7b0be7f0bd"
  },
  {
   "cell_type": "code",
   "execution_count": 10,
   "outputs": [
    {
     "data": {
      "text/plain": "malignancy\n0.0    1365\n1.0     645\nName: count, dtype: int64"
     },
     "execution_count": 10,
     "metadata": {},
     "output_type": "execute_result"
    }
   ],
   "source": [
    "#Get the count of each value in malignancy column\n",
    "df[\"malignancy\"].value_counts()"
   ],
   "metadata": {
    "collapsed": false,
    "ExecuteTime": {
     "end_time": "2023-11-04T19:39:40.273983Z",
     "start_time": "2023-11-04T19:39:38.366660Z"
    }
   },
   "id": "638089bc7df483a"
  },
  {
   "cell_type": "code",
   "execution_count": 11,
   "outputs": [],
   "source": [
    "smote = SMOTE(sampling_strategy='auto', random_state=42)\n",
    "df, _ = smote.fit_resample(df, df['malignancy'])"
   ],
   "metadata": {
    "collapsed": false,
    "ExecuteTime": {
     "end_time": "2023-11-04T19:39:40.417813Z",
     "start_time": "2023-11-04T19:39:38.368926Z"
    }
   },
   "id": "70c18a87e30e292b"
  },
  {
   "cell_type": "code",
   "execution_count": 12,
   "outputs": [
    {
     "data": {
      "text/plain": "malignancy\n1.0    1365\n0.0    1365\nName: count, dtype: int64"
     },
     "execution_count": 12,
     "metadata": {},
     "output_type": "execute_result"
    }
   ],
   "source": [
    "df[\"malignancy\"].value_counts()\n"
   ],
   "metadata": {
    "collapsed": false,
    "ExecuteTime": {
     "end_time": "2023-11-04T19:39:40.478881Z",
     "start_time": "2023-11-04T19:39:38.440037Z"
    }
   },
   "id": "19d4919d09c8d37b"
  },
  {
   "cell_type": "code",
   "execution_count": 13,
   "id": "4185a0103aed89ae",
   "metadata": {
    "ExecuteTime": {
     "end_time": "2023-11-04T19:39:40.727890Z",
     "start_time": "2023-11-04T19:39:38.451491Z"
    }
   },
   "outputs": [],
   "source": [
    "# Normalizing the columns using Min-Max scaling\n",
    "df = df.drop(columns=df.select_dtypes(include=['object']))\n",
    "df = (df - df.min()) / (df.max() - df.min())"
   ]
  },
  {
   "cell_type": "code",
   "execution_count": 14,
   "outputs": [],
   "source": [
    "new_column_names = [\n",
    "    'Mean',\n",
    "    'VoxelNum',\n",
    "    'VolumeNum',\n",
    "    'Elongation',\n",
    "    'Flatness',\n",
    "    'LeastAxisLength',\n",
    "    'MajorAxisLength',\n",
    "    'DiameterColumn',\n",
    "    'DiameterRow',\n",
    "    'DiameterSlice',\n",
    "    'Max3DDiameter',\n",
    "    'MeshVolume',\n",
    "    'MinorAxisLength',\n",
    "    'Sphericity',\n",
    "    'SurfaceArea',\n",
    "    'SurfaceVolRatio',\n",
    "    'VoxelVol',\n",
    "    'Energy',\n",
    "    'TotalEnergy',\n",
    "    'DiffEntropy',\n",
    "    'JointEntropy',\n",
    "    'SumEntropy',\n",
    "    'DependEntropy',\n",
    "    'DependNonUniformity',\n",
    "    'DependNonUniformityNorm',\n",
    "    'DependVariance',\n",
    "    'GrayLevelNonUniformity',\n",
    "    'LargeDependEmphasis',\n",
    "    'LargeDependHighGLEmphasis',\n",
    "    'LargeDependLowGLEmphasis',\n",
    "    'SmallDependEmphasis',\n",
    "    'SmallDependHighGLEmphasis',\n",
    "    'SmallDependLowGLEmphasis',\n",
    "    'GLNonUniformity',\n",
    "    'LongRunEmphasis',\n",
    "    'LongRunHighGLEmphasis',\n",
    "    'LongRunLowGLEmphasis',\n",
    "    'RunEntropy',\n",
    "    'RunLengthNonUniformity',\n",
    "    'RunLenNonUniformityNorm',\n",
    "    'RunPercentage',\n",
    "    'RunVariance',\n",
    "    'ShortRunEmphasis',\n",
    "    'ShortRunHighGLEmphasis',\n",
    "    'ShortRunLowGLEmphasis',\n",
    "    'GLNonUniformity_GLSZM',\n",
    "    'LargeAreaEmphasis',\n",
    "    'LargeAreaHighGLEmphasis',\n",
    "    'LargeAreaLowGLEmphasis',\n",
    "    'SizeZoneNonUniformity',\n",
    "    'SizeZoneNonUniformityNorm',\n",
    "    'SmallAreaEmphasis',\n",
    "    'SmallAreaHighGLEmphasis',\n",
    "    'SmallAreaLowGLEmphasis',\n",
    "    'ZoneEntropy',\n",
    "    'ZonePercentage',\n",
    "    'ZoneVariance',\n",
    "    'Subtlety',\n",
    "    'InternalStructure',\n",
    "    'Sphericity',\n",
    "    'Margin',\n",
    "    'Lobulation',\n",
    "    'Spiculation',\n",
    "    'Texture',\n",
    "    'Malignancy'\n",
    "]\n",
    "\n",
    "# Assign the new column names to the DataFrame\n",
    "df.columns = new_column_names"
   ],
   "metadata": {
    "collapsed": false,
    "ExecuteTime": {
     "end_time": "2023-11-04T19:39:40.736322Z",
     "start_time": "2023-11-04T19:39:38.466882Z"
    }
   },
   "id": "45748fe16bdfb7ee"
  },
  {
   "cell_type": "code",
   "execution_count": 15,
   "id": "9260e74c684bee4a",
   "metadata": {
    "ExecuteTime": {
     "end_time": "2023-11-04T19:39:41.084123Z",
     "start_time": "2023-11-04T19:39:38.474282Z"
    }
   },
   "outputs": [
    {
     "data": {
      "text/plain": "          Mean  VoxelNum  VolumeNum  Elongation  Flatness  LeastAxisLength  \\\n0     0.398388  0.041876      0.000    0.800345  0.244418         0.156384   \n1     0.423089  0.038302      0.000    0.795950  0.239970         0.146965   \n2     0.053140  0.000640      0.000    0.842097  0.323084         0.046066   \n3     0.495832  0.080333      0.125    0.947505  0.241808         0.181580   \n4     0.111337  0.011385      0.000    0.706953  0.664863         0.208073   \n...        ...       ...        ...         ...       ...              ...   \n2725  0.146078  0.003618      0.000    0.500024  0.258786         0.078401   \n2726  0.274997  0.035037      0.000    0.429916  0.235521         0.170402   \n2727  0.346362  0.054607      0.000    0.305325  0.172922         0.164180   \n2728  0.454973  0.074971      0.000    0.732047  0.286005         0.212082   \n2729  0.178374  0.006244      0.000    0.574123  0.411614         0.114568   \n\n      MajorAxisLength  DiameterColumn  DiameterRow  DiameterSlice  ...  \\\n0            0.363943        0.359994     0.519872       0.293561  ...   \n1            0.346630        0.462676     0.404700       0.256770  ...   \n2            0.049688        0.051377     0.047941       0.035367  ...   \n3            0.434161        0.583195     0.584977       0.407555  ...   \n4            0.157364        0.214484     0.160674       0.121130  ...   \n...               ...             ...          ...            ...  ...   \n2725         0.151917        0.145897     0.138285       0.087722  ...   \n2726         0.416814        0.450243     0.534841       0.330323  ...   \n2727         0.584979        0.455872     0.515510       0.401251  ...   \n2728         0.436462        0.522382     0.469772       0.352919  ...   \n2729         0.172293        0.116433     0.179530       0.156222  ...   \n\n      ZonePercentage  ZoneVariance  Subtlety  InternalStructure  Sphericity  \\\n0           0.002402      0.000000      0.75                0.0        0.75   \n1           0.002647      0.000000      1.00                0.0        0.75   \n2           0.146866      0.000000      0.75                0.0        1.00   \n3           0.003889      0.026006      1.00                0.0        0.75   \n4           0.009373      0.000000      0.50                0.0        1.00   \n...              ...           ...       ...                ...         ...   \n2725        0.029342      0.000000      0.75                0.0        0.50   \n2726        0.002912      0.000000      1.00                0.0        0.25   \n2727        0.001791      0.000000      1.00                0.0        0.25   \n2728        0.001243      0.000000      1.00                0.0        0.75   \n2729        0.017116      0.000000      0.50                0.0        0.75   \n\n      Margin  Lobulation  Spiculation  Texture  Malignancy  \n0       0.75        0.25         0.25     1.00         1.0  \n1       0.25        0.75         0.00     1.00         1.0  \n2       1.00        0.00         0.00     1.00         0.0  \n3       0.25        0.75         0.50     1.00         1.0  \n4       1.00        1.00         1.00     1.00         1.0  \n...      ...         ...          ...      ...         ...  \n2725    1.00        0.00         0.00     1.00         1.0  \n2726    0.75        0.00         0.25     1.00         1.0  \n2727    0.50        0.00         0.00     1.00         1.0  \n2728    0.50        0.00         0.75     0.75         1.0  \n2729    0.25        0.00         0.00     0.25         1.0  \n\n[2730 rows x 65 columns]",
      "text/html": "<div>\n<style scoped>\n    .dataframe tbody tr th:only-of-type {\n        vertical-align: middle;\n    }\n\n    .dataframe tbody tr th {\n        vertical-align: top;\n    }\n\n    .dataframe thead th {\n        text-align: right;\n    }\n</style>\n<table border=\"1\" class=\"dataframe\">\n  <thead>\n    <tr style=\"text-align: right;\">\n      <th></th>\n      <th>Mean</th>\n      <th>VoxelNum</th>\n      <th>VolumeNum</th>\n      <th>Elongation</th>\n      <th>Flatness</th>\n      <th>LeastAxisLength</th>\n      <th>MajorAxisLength</th>\n      <th>DiameterColumn</th>\n      <th>DiameterRow</th>\n      <th>DiameterSlice</th>\n      <th>...</th>\n      <th>ZonePercentage</th>\n      <th>ZoneVariance</th>\n      <th>Subtlety</th>\n      <th>InternalStructure</th>\n      <th>Sphericity</th>\n      <th>Margin</th>\n      <th>Lobulation</th>\n      <th>Spiculation</th>\n      <th>Texture</th>\n      <th>Malignancy</th>\n    </tr>\n  </thead>\n  <tbody>\n    <tr>\n      <th>0</th>\n      <td>0.398388</td>\n      <td>0.041876</td>\n      <td>0.000</td>\n      <td>0.800345</td>\n      <td>0.244418</td>\n      <td>0.156384</td>\n      <td>0.363943</td>\n      <td>0.359994</td>\n      <td>0.519872</td>\n      <td>0.293561</td>\n      <td>...</td>\n      <td>0.002402</td>\n      <td>0.000000</td>\n      <td>0.75</td>\n      <td>0.0</td>\n      <td>0.75</td>\n      <td>0.75</td>\n      <td>0.25</td>\n      <td>0.25</td>\n      <td>1.00</td>\n      <td>1.0</td>\n    </tr>\n    <tr>\n      <th>1</th>\n      <td>0.423089</td>\n      <td>0.038302</td>\n      <td>0.000</td>\n      <td>0.795950</td>\n      <td>0.239970</td>\n      <td>0.146965</td>\n      <td>0.346630</td>\n      <td>0.462676</td>\n      <td>0.404700</td>\n      <td>0.256770</td>\n      <td>...</td>\n      <td>0.002647</td>\n      <td>0.000000</td>\n      <td>1.00</td>\n      <td>0.0</td>\n      <td>0.75</td>\n      <td>0.25</td>\n      <td>0.75</td>\n      <td>0.00</td>\n      <td>1.00</td>\n      <td>1.0</td>\n    </tr>\n    <tr>\n      <th>2</th>\n      <td>0.053140</td>\n      <td>0.000640</td>\n      <td>0.000</td>\n      <td>0.842097</td>\n      <td>0.323084</td>\n      <td>0.046066</td>\n      <td>0.049688</td>\n      <td>0.051377</td>\n      <td>0.047941</td>\n      <td>0.035367</td>\n      <td>...</td>\n      <td>0.146866</td>\n      <td>0.000000</td>\n      <td>0.75</td>\n      <td>0.0</td>\n      <td>1.00</td>\n      <td>1.00</td>\n      <td>0.00</td>\n      <td>0.00</td>\n      <td>1.00</td>\n      <td>0.0</td>\n    </tr>\n    <tr>\n      <th>3</th>\n      <td>0.495832</td>\n      <td>0.080333</td>\n      <td>0.125</td>\n      <td>0.947505</td>\n      <td>0.241808</td>\n      <td>0.181580</td>\n      <td>0.434161</td>\n      <td>0.583195</td>\n      <td>0.584977</td>\n      <td>0.407555</td>\n      <td>...</td>\n      <td>0.003889</td>\n      <td>0.026006</td>\n      <td>1.00</td>\n      <td>0.0</td>\n      <td>0.75</td>\n      <td>0.25</td>\n      <td>0.75</td>\n      <td>0.50</td>\n      <td>1.00</td>\n      <td>1.0</td>\n    </tr>\n    <tr>\n      <th>4</th>\n      <td>0.111337</td>\n      <td>0.011385</td>\n      <td>0.000</td>\n      <td>0.706953</td>\n      <td>0.664863</td>\n      <td>0.208073</td>\n      <td>0.157364</td>\n      <td>0.214484</td>\n      <td>0.160674</td>\n      <td>0.121130</td>\n      <td>...</td>\n      <td>0.009373</td>\n      <td>0.000000</td>\n      <td>0.50</td>\n      <td>0.0</td>\n      <td>1.00</td>\n      <td>1.00</td>\n      <td>1.00</td>\n      <td>1.00</td>\n      <td>1.00</td>\n      <td>1.0</td>\n    </tr>\n    <tr>\n      <th>...</th>\n      <td>...</td>\n      <td>...</td>\n      <td>...</td>\n      <td>...</td>\n      <td>...</td>\n      <td>...</td>\n      <td>...</td>\n      <td>...</td>\n      <td>...</td>\n      <td>...</td>\n      <td>...</td>\n      <td>...</td>\n      <td>...</td>\n      <td>...</td>\n      <td>...</td>\n      <td>...</td>\n      <td>...</td>\n      <td>...</td>\n      <td>...</td>\n      <td>...</td>\n      <td>...</td>\n    </tr>\n    <tr>\n      <th>2725</th>\n      <td>0.146078</td>\n      <td>0.003618</td>\n      <td>0.000</td>\n      <td>0.500024</td>\n      <td>0.258786</td>\n      <td>0.078401</td>\n      <td>0.151917</td>\n      <td>0.145897</td>\n      <td>0.138285</td>\n      <td>0.087722</td>\n      <td>...</td>\n      <td>0.029342</td>\n      <td>0.000000</td>\n      <td>0.75</td>\n      <td>0.0</td>\n      <td>0.50</td>\n      <td>1.00</td>\n      <td>0.00</td>\n      <td>0.00</td>\n      <td>1.00</td>\n      <td>1.0</td>\n    </tr>\n    <tr>\n      <th>2726</th>\n      <td>0.274997</td>\n      <td>0.035037</td>\n      <td>0.000</td>\n      <td>0.429916</td>\n      <td>0.235521</td>\n      <td>0.170402</td>\n      <td>0.416814</td>\n      <td>0.450243</td>\n      <td>0.534841</td>\n      <td>0.330323</td>\n      <td>...</td>\n      <td>0.002912</td>\n      <td>0.000000</td>\n      <td>1.00</td>\n      <td>0.0</td>\n      <td>0.25</td>\n      <td>0.75</td>\n      <td>0.00</td>\n      <td>0.25</td>\n      <td>1.00</td>\n      <td>1.0</td>\n    </tr>\n    <tr>\n      <th>2727</th>\n      <td>0.346362</td>\n      <td>0.054607</td>\n      <td>0.000</td>\n      <td>0.305325</td>\n      <td>0.172922</td>\n      <td>0.164180</td>\n      <td>0.584979</td>\n      <td>0.455872</td>\n      <td>0.515510</td>\n      <td>0.401251</td>\n      <td>...</td>\n      <td>0.001791</td>\n      <td>0.000000</td>\n      <td>1.00</td>\n      <td>0.0</td>\n      <td>0.25</td>\n      <td>0.50</td>\n      <td>0.00</td>\n      <td>0.00</td>\n      <td>1.00</td>\n      <td>1.0</td>\n    </tr>\n    <tr>\n      <th>2728</th>\n      <td>0.454973</td>\n      <td>0.074971</td>\n      <td>0.000</td>\n      <td>0.732047</td>\n      <td>0.286005</td>\n      <td>0.212082</td>\n      <td>0.436462</td>\n      <td>0.522382</td>\n      <td>0.469772</td>\n      <td>0.352919</td>\n      <td>...</td>\n      <td>0.001243</td>\n      <td>0.000000</td>\n      <td>1.00</td>\n      <td>0.0</td>\n      <td>0.75</td>\n      <td>0.50</td>\n      <td>0.00</td>\n      <td>0.75</td>\n      <td>0.75</td>\n      <td>1.0</td>\n    </tr>\n    <tr>\n      <th>2729</th>\n      <td>0.178374</td>\n      <td>0.006244</td>\n      <td>0.000</td>\n      <td>0.574123</td>\n      <td>0.411614</td>\n      <td>0.114568</td>\n      <td>0.172293</td>\n      <td>0.116433</td>\n      <td>0.179530</td>\n      <td>0.156222</td>\n      <td>...</td>\n      <td>0.017116</td>\n      <td>0.000000</td>\n      <td>0.50</td>\n      <td>0.0</td>\n      <td>0.75</td>\n      <td>0.25</td>\n      <td>0.00</td>\n      <td>0.00</td>\n      <td>0.25</td>\n      <td>1.0</td>\n    </tr>\n  </tbody>\n</table>\n<p>2730 rows × 65 columns</p>\n</div>"
     },
     "execution_count": 15,
     "metadata": {},
     "output_type": "execute_result"
    }
   ],
   "source": [
    "df"
   ]
  },
  {
   "cell_type": "markdown",
   "id": "3d435d1b5f271c72",
   "metadata": {
    "ExecuteTime": {
     "end_time": "2023-11-04T18:18:20.450713Z",
     "start_time": "2023-11-04T18:18:07.486632Z"
    }
   },
   "source": [
    "# Data Analysis"
   ]
  },
  {
   "cell_type": "markdown",
   "id": "b7cce282e957a568",
   "metadata": {
    "ExecuteTime": {
     "end_time": "2023-11-04T18:18:20.450796Z",
     "start_time": "2023-11-04T18:18:07.498123Z"
    }
   },
   "source": [
    "## Imports"
   ]
  },
  {
   "cell_type": "code",
   "execution_count": 16,
   "id": "eb08c650302f0bcd",
   "metadata": {
    "ExecuteTime": {
     "end_time": "2023-11-04T19:39:41.105192Z",
     "start_time": "2023-11-04T19:39:38.494164Z"
    }
   },
   "outputs": [],
   "source": [
    "import seaborn as sns\n",
    "import matplotlib.pyplot as plt\n",
    "from scipy import stats\n",
    "import numpy as np"
   ]
  },
  {
   "cell_type": "markdown",
   "id": "2ecbee21f1b735c1",
   "metadata": {},
   "source": [
    "## Data Overview and Cleaning"
   ]
  },
  {
   "cell_type": "code",
   "execution_count": 17,
   "id": "c22d86d36f87fb96",
   "metadata": {
    "ExecuteTime": {
     "end_time": "2023-11-04T19:39:41.201319Z",
     "start_time": "2023-11-04T19:39:38.500211Z"
    }
   },
   "outputs": [
    {
     "data": {
      "text/plain": "       Mean  VoxelNum  VolumeNum  Elongation  Flatness  LeastAxisLength  \\\n0  0.398388  0.041876      0.000    0.800345  0.244418         0.156384   \n1  0.423089  0.038302      0.000    0.795950  0.239970         0.146965   \n2  0.053140  0.000640      0.000    0.842097  0.323084         0.046066   \n3  0.495832  0.080333      0.125    0.947505  0.241808         0.181580   \n4  0.111337  0.011385      0.000    0.706953  0.664863         0.208073   \n\n   MajorAxisLength  DiameterColumn  DiameterRow  DiameterSlice  ...  \\\n0         0.363943        0.359994     0.519872       0.293561  ...   \n1         0.346630        0.462676     0.404700       0.256770  ...   \n2         0.049688        0.051377     0.047941       0.035367  ...   \n3         0.434161        0.583195     0.584977       0.407555  ...   \n4         0.157364        0.214484     0.160674       0.121130  ...   \n\n   ZonePercentage  ZoneVariance  Subtlety  InternalStructure  Sphericity  \\\n0        0.002402      0.000000      0.75                0.0        0.75   \n1        0.002647      0.000000      1.00                0.0        0.75   \n2        0.146866      0.000000      0.75                0.0        1.00   \n3        0.003889      0.026006      1.00                0.0        0.75   \n4        0.009373      0.000000      0.50                0.0        1.00   \n\n   Margin  Lobulation  Spiculation  Texture  Malignancy  \n0    0.75        0.25         0.25      1.0         1.0  \n1    0.25        0.75         0.00      1.0         1.0  \n2    1.00        0.00         0.00      1.0         0.0  \n3    0.25        0.75         0.50      1.0         1.0  \n4    1.00        1.00         1.00      1.0         1.0  \n\n[5 rows x 65 columns]",
      "text/html": "<div>\n<style scoped>\n    .dataframe tbody tr th:only-of-type {\n        vertical-align: middle;\n    }\n\n    .dataframe tbody tr th {\n        vertical-align: top;\n    }\n\n    .dataframe thead th {\n        text-align: right;\n    }\n</style>\n<table border=\"1\" class=\"dataframe\">\n  <thead>\n    <tr style=\"text-align: right;\">\n      <th></th>\n      <th>Mean</th>\n      <th>VoxelNum</th>\n      <th>VolumeNum</th>\n      <th>Elongation</th>\n      <th>Flatness</th>\n      <th>LeastAxisLength</th>\n      <th>MajorAxisLength</th>\n      <th>DiameterColumn</th>\n      <th>DiameterRow</th>\n      <th>DiameterSlice</th>\n      <th>...</th>\n      <th>ZonePercentage</th>\n      <th>ZoneVariance</th>\n      <th>Subtlety</th>\n      <th>InternalStructure</th>\n      <th>Sphericity</th>\n      <th>Margin</th>\n      <th>Lobulation</th>\n      <th>Spiculation</th>\n      <th>Texture</th>\n      <th>Malignancy</th>\n    </tr>\n  </thead>\n  <tbody>\n    <tr>\n      <th>0</th>\n      <td>0.398388</td>\n      <td>0.041876</td>\n      <td>0.000</td>\n      <td>0.800345</td>\n      <td>0.244418</td>\n      <td>0.156384</td>\n      <td>0.363943</td>\n      <td>0.359994</td>\n      <td>0.519872</td>\n      <td>0.293561</td>\n      <td>...</td>\n      <td>0.002402</td>\n      <td>0.000000</td>\n      <td>0.75</td>\n      <td>0.0</td>\n      <td>0.75</td>\n      <td>0.75</td>\n      <td>0.25</td>\n      <td>0.25</td>\n      <td>1.0</td>\n      <td>1.0</td>\n    </tr>\n    <tr>\n      <th>1</th>\n      <td>0.423089</td>\n      <td>0.038302</td>\n      <td>0.000</td>\n      <td>0.795950</td>\n      <td>0.239970</td>\n      <td>0.146965</td>\n      <td>0.346630</td>\n      <td>0.462676</td>\n      <td>0.404700</td>\n      <td>0.256770</td>\n      <td>...</td>\n      <td>0.002647</td>\n      <td>0.000000</td>\n      <td>1.00</td>\n      <td>0.0</td>\n      <td>0.75</td>\n      <td>0.25</td>\n      <td>0.75</td>\n      <td>0.00</td>\n      <td>1.0</td>\n      <td>1.0</td>\n    </tr>\n    <tr>\n      <th>2</th>\n      <td>0.053140</td>\n      <td>0.000640</td>\n      <td>0.000</td>\n      <td>0.842097</td>\n      <td>0.323084</td>\n      <td>0.046066</td>\n      <td>0.049688</td>\n      <td>0.051377</td>\n      <td>0.047941</td>\n      <td>0.035367</td>\n      <td>...</td>\n      <td>0.146866</td>\n      <td>0.000000</td>\n      <td>0.75</td>\n      <td>0.0</td>\n      <td>1.00</td>\n      <td>1.00</td>\n      <td>0.00</td>\n      <td>0.00</td>\n      <td>1.0</td>\n      <td>0.0</td>\n    </tr>\n    <tr>\n      <th>3</th>\n      <td>0.495832</td>\n      <td>0.080333</td>\n      <td>0.125</td>\n      <td>0.947505</td>\n      <td>0.241808</td>\n      <td>0.181580</td>\n      <td>0.434161</td>\n      <td>0.583195</td>\n      <td>0.584977</td>\n      <td>0.407555</td>\n      <td>...</td>\n      <td>0.003889</td>\n      <td>0.026006</td>\n      <td>1.00</td>\n      <td>0.0</td>\n      <td>0.75</td>\n      <td>0.25</td>\n      <td>0.75</td>\n      <td>0.50</td>\n      <td>1.0</td>\n      <td>1.0</td>\n    </tr>\n    <tr>\n      <th>4</th>\n      <td>0.111337</td>\n      <td>0.011385</td>\n      <td>0.000</td>\n      <td>0.706953</td>\n      <td>0.664863</td>\n      <td>0.208073</td>\n      <td>0.157364</td>\n      <td>0.214484</td>\n      <td>0.160674</td>\n      <td>0.121130</td>\n      <td>...</td>\n      <td>0.009373</td>\n      <td>0.000000</td>\n      <td>0.50</td>\n      <td>0.0</td>\n      <td>1.00</td>\n      <td>1.00</td>\n      <td>1.00</td>\n      <td>1.00</td>\n      <td>1.0</td>\n      <td>1.0</td>\n    </tr>\n  </tbody>\n</table>\n<p>5 rows × 65 columns</p>\n</div>"
     },
     "execution_count": 17,
     "metadata": {},
     "output_type": "execute_result"
    }
   ],
   "source": [
    "df.head()"
   ]
  },
  {
   "cell_type": "code",
   "execution_count": 18,
   "id": "bc1bb67853471cec",
   "metadata": {
    "ExecuteTime": {
     "end_time": "2023-11-04T19:39:41.207466Z",
     "start_time": "2023-11-04T19:39:38.515483Z"
    }
   },
   "outputs": [
    {
     "name": "stdout",
     "output_type": "stream",
     "text": [
      "Mean           0\n",
      "VoxelNum       0\n",
      "VolumeNum      0\n",
      "Elongation     0\n",
      "Flatness       0\n",
      "              ..\n",
      "Margin         0\n",
      "Lobulation     0\n",
      "Spiculation    0\n",
      "Texture        0\n",
      "Malignancy     0\n",
      "Length: 65, dtype: int64\n"
     ]
    }
   ],
   "source": [
    "# checking for null values in columns\n",
    "missing_values = df.isnull().sum()\n",
    "\n",
    "columns_with_missing = missing_values[missing_values > 0]\n",
    "print(missing_values)"
   ]
  },
  {
   "cell_type": "markdown",
   "id": "48a6c5b59a7ce715",
   "metadata": {
    "ExecuteTime": {
     "end_time": "2023-11-04T18:18:20.450976Z",
     "start_time": "2023-11-04T18:18:07.508317Z"
    }
   },
   "source": [
    "## Data Distribution"
   ]
  },
  {
   "cell_type": "code",
   "execution_count": 19,
   "id": "2efba70359a3861b",
   "metadata": {
    "ExecuteTime": {
     "end_time": "2023-11-04T19:39:51.591188Z",
     "start_time": "2023-11-04T19:39:38.523662Z"
    }
   },
   "outputs": [
    {
     "name": "stderr",
     "output_type": "stream",
     "text": [
      "\n",
      "KeyboardInterrupt\n",
      "\n"
     ]
    },
    {
     "name": "stdout",
     "output_type": "stream",
     "text": [
      "Error in callback <function _draw_all_if_interactive at 0x160138cc0> (for post_execute):\n"
     ]
    },
    {
     "name": "stderr",
     "output_type": "stream",
     "text": [
      "\n",
      "KeyboardInterrupt\n",
      "\n"
     ]
    },
    {
     "name": "stdout",
     "output_type": "stream",
     "text": [
      "Error in callback <function flush_figures at 0x16b785620> (for post_execute):\n"
     ]
    },
    {
     "name": "stderr",
     "output_type": "stream",
     "text": [
      "\n",
      "KeyboardInterrupt\n",
      "\n"
     ]
    }
   ],
   "source": [
    "# Create distribution plots for all columns (assuming they are all numerical)\n",
    "# Adjust the number of subplots based on the number of columns\n",
    "num_plots = len(df.columns)\n",
    "\n",
    "# Create a grid of subplots\n",
    "fig, axes = plt.subplots(nrows=1, ncols=num_plots, figsize=(15, 5))\n",
    "\n",
    "# Create histograms for all columns\n",
    "for i, column in enumerate(df.columns):\n",
    "    sns.histplot(df[column], ax=axes[i], kde=True)  # Use sns.histplot for a histogram with a KDE curve\n",
    "    axes[i].set_title(f'Distribution of {column}')\n",
    "    axes[i].set_xlabel(column)\n",
    "    axes[i].set_ylabel('Frequency')\n",
    "\n",
    "    # Rotate x-axis labels for better readability\n",
    "    axes[i].tick_params(axis='x', rotation=45)\n",
    "\n",
    "    # Increase the font size for x and y-axis labels\n",
    "    axes[i].tick_params(axis='both', labelsize=12)  # Adjust the font size (e.g., 12)\n",
    "\n",
    "plt.tight_layout()\n",
    "plt.show()\n"
   ]
  },
  {
   "cell_type": "code",
   "execution_count": null,
   "outputs": [],
   "source": [
    "# Kernel Density Estimation (KDE) Plot\n",
    "plt.figure(figsize=(8, 4))\n",
    "sns.kdeplot(df['texture'], shade=True)\n",
    "plt.title('Kernel Density Estimation Plot')\n",
    "plt.xlabel('Texture')\n",
    "plt.show()"
   ],
   "metadata": {
    "collapsed": false,
    "ExecuteTime": {
     "start_time": "2023-11-04T19:39:51.404510Z"
    }
   },
   "id": "6f9c3fe8e110b90f"
  },
  {
   "cell_type": "code",
   "execution_count": null,
   "outputs": [],
   "source": [
    "# Violin plot\n",
    "plt.figure(figsize=(8, 4))\n",
    "sns.violinplot(data=df, x='density', y='texture')\n",
    "plt.title('Violin Plot of Pixel Intensity by Class')\n",
    "plt.xlabel('density')\n",
    "plt.ylabel('Texture')\n",
    "plt.show()\n"
   ],
   "metadata": {
    "collapsed": false,
    "ExecuteTime": {
     "start_time": "2023-11-04T19:39:51.419215Z"
    }
   },
   "id": "c7e19f440986a3ec"
  },
  {
   "cell_type": "code",
   "execution_count": null,
   "outputs": [],
   "source": [
    "# Empirical Cumulative Distribution Function (ECDF) Plot columns_per_plot = 3\n",
    "columns_per_plot = 6\n",
    "# Function to create ECDF plots for a group of columns\n",
    "def create_ecdf_plots(columns):\n",
    "    plt.figure(figsize=(24, 11))\n",
    "    \n",
    "    for col in columns:\n",
    "        x = np.sort(df[col])\n",
    "        y = np.arange(1, len(x) + 1) / len(x)\n",
    "        plt.plot(x, y, marker='.', linestyle='none', label=col)\n",
    "    \n",
    "    plt.title(f'ECDF Plot for Columns {columns[0]} to {columns[-1]}')\n",
    "    plt.xlabel('Value')\n",
    "    plt.ylabel('CDF')\n",
    "    plt.legend()\n",
    "    plt.margins(0.02)\n",
    "    plt.show()\n",
    "    \n",
    "column_names = df.columns.tolist()\n",
    "\n",
    "# Loop to create ECDF plots for groups of columns\n",
    "for i in range(0, len(column_names), columns_per_plot):\n",
    "    columns_to_plot = column_names[i:i + columns_per_plot]\n",
    "    create_ecdf_plots(columns_to_plot)"
   ],
   "metadata": {
    "collapsed": false,
    "ExecuteTime": {
     "start_time": "2023-11-04T19:39:51.419508Z"
    }
   },
   "id": "7aa8db0748c679eb"
  },
  {
   "cell_type": "code",
   "execution_count": null,
   "outputs": [],
   "source": [],
   "metadata": {
    "collapsed": false,
    "ExecuteTime": {
     "start_time": "2023-11-04T19:39:51.419881Z"
    }
   },
   "id": "90daf2c0dfb00f8a"
  },
  {
   "cell_type": "markdown",
   "id": "5c1d1fde4c62d816",
   "metadata": {
    "ExecuteTime": {
     "start_time": "2023-11-04T18:19:38.787990Z"
    }
   },
   "source": [
    "## Correlation Analysis"
   ]
  },
  {
   "cell_type": "code",
   "execution_count": null,
   "id": "85daea57061345d5",
   "metadata": {
    "ExecuteTime": {
     "start_time": "2023-11-04T19:39:51.420221Z"
    }
   },
   "outputs": [],
   "source": [
    "df.select_dtypes(include=['object'])\n",
    "numeric_columns = df.select_dtypes(exclude=['object'])\n",
    "correlation_matrix = numeric_columns.corr()\n",
    "\n",
    "print(correlation_matrix)"
   ]
  },
  {
   "cell_type": "code",
   "execution_count": null,
   "outputs": [],
   "source": [
    "correlation_matrix = numeric_columns.corr()\n",
    "plt.figure(figsize=(15, 13))\n",
    "sns.heatmap(correlation_matrix, annot=False, cmap='coolwarm', linewidths=0.5)\n",
    "plt.show()"
   ],
   "metadata": {
    "collapsed": false,
    "ExecuteTime": {
     "start_time": "2023-11-04T19:39:51.420790Z"
    }
   },
   "id": "b45207a84bf7ae14"
  },
  {
   "cell_type": "code",
   "execution_count": null,
   "outputs": [],
   "source": [
    "threshold = 0.7\n",
    "\n",
    "strong_correlations = correlation_matrix[\n",
    "    (correlation_matrix > threshold) & (correlation_matrix < 1)\n",
    "    ]\n",
    "\n",
    "print(strong_correlations)"
   ],
   "metadata": {
    "collapsed": false,
    "ExecuteTime": {
     "start_time": "2023-11-04T19:39:51.421071Z"
    }
   },
   "id": "ca7b02872e45f25a"
  },
  {
   "cell_type": "markdown",
   "id": "67799810a4e81c07",
   "metadata": {
    "ExecuteTime": {
     "start_time": "2023-11-04T18:19:38.790352Z"
    }
   },
   "source": [
    "## Feature Relationships"
   ]
  },
  {
   "cell_type": "code",
   "execution_count": null,
   "id": "6588340ab8db599d",
   "metadata": {
    "ExecuteTime": {
     "start_time": "2023-11-04T19:39:51.421184Z"
    }
   },
   "outputs": [],
   "source": [
    "import seaborn as sns\n",
    "import matplotlib.pyplot as plt\n",
    "\n",
    "# Create pair plots to explore relationships between numerical features\n",
    "numerical_features = df.select_dtypes(include=['int64', 'float64'])  # Select numerical features\n",
    "\n",
    "# Customize the pair plot based on your preferences\n",
    "sns.set(style=\"ticks\")\n",
    "pair_plot = sns.pairplot(numerical_features, diag_kind=\"kde\")\n",
    "\n",
    "# You can add additional customization options as needed, such as hue, markers, etc.\n",
    "# Example:\n",
    "# pair_plot = sns.pairplot(numerical_features, diag_kind=\"kde\", hue=\"target_variable\", markers=[\"o\", \"s\", \"D\"])\n",
    "\n",
    "# Show the pair plot\n",
    "plt.show()\n"
   ]
  },
  {
   "cell_type": "markdown",
   "id": "f0a11fcea48b3290",
   "metadata": {
    "ExecuteTime": {
     "end_time": "2023-11-04T18:19:38.820463Z",
     "start_time": "2023-11-04T18:19:38.791420Z"
    }
   },
   "source": [
    "## Feature Importance"
   ]
  },
  {
   "cell_type": "code",
   "execution_count": null,
   "id": "e019a738596b4277",
   "metadata": {
    "ExecuteTime": {
     "start_time": "2023-11-04T19:39:51.422183Z"
    }
   },
   "outputs": [],
   "source": []
  },
  {
   "cell_type": "markdown",
   "id": "c50b3106fa9bafe0",
   "metadata": {
    "ExecuteTime": {
     "start_time": "2023-11-04T18:19:38.792244Z"
    }
   },
   "source": [
    "## Outliers and Anomalies"
   ]
  },
  {
   "cell_type": "code",
   "execution_count": null,
   "id": "297624482bae5324",
   "metadata": {
    "ExecuteTime": {
     "start_time": "2023-11-04T19:39:51.422469Z"
    }
   },
   "outputs": [],
   "source": [
    "# Calculate the Z-scores for each numerical feature------------------------------------not working\n",
    "numeric_columns = df.select_dtypes(exclude=['object'])\n",
    "\n",
    "z_scores = np.abs(stats.zscore(numeric_columns))\n",
    "\n",
    "# Define a threshold for considering data points as outliers (e.g., Z-score > 3)\n",
    "threshold = 3\n",
    "\n",
    "# Identify and remove outliers\n",
    "outliers = (z_scores > threshold).any(axis=1)\n",
    "cleaned_data = df[~outliers]\n",
    "cap_value = 3\n",
    "\n",
    "# Alternatively, you can choose to impute or transform outliers instead of removing them\n",
    "# Example for capping outliers to a specific value\n",
    "cleaned_data['texture'] = np.where(z_scores > threshold, cap_value, cleaned_data['texture'])\n"
   ]
  },
  {
   "cell_type": "markdown",
   "id": "2bf0fcee379cf6ac",
   "metadata": {
    "ExecuteTime": {
     "start_time": "2023-11-04T18:19:38.793099Z"
    }
   },
   "source": [
    "## Data Preprocessing and Feature Engineering"
   ]
  },
  {
   "cell_type": "code",
   "execution_count": null,
   "id": "a9ddfd5bb216382d",
   "metadata": {
    "ExecuteTime": {
     "start_time": "2023-11-04T19:39:51.422594Z"
    }
   },
   "outputs": [],
   "source": []
  },
  {
   "cell_type": "markdown",
   "id": "82433caceae1ab21",
   "metadata": {
    "ExecuteTime": {
     "start_time": "2023-11-04T18:19:38.793928Z"
    }
   },
   "source": [
    "## Summary and Insights"
   ]
  },
  {
   "cell_type": "code",
   "execution_count": null,
   "id": "eea97c1ce2db601d",
   "metadata": {
    "ExecuteTime": {
     "start_time": "2023-11-04T19:39:51.423064Z"
    }
   },
   "outputs": [],
   "source": []
  },
  {
   "cell_type": "code",
   "execution_count": null,
   "id": "6808e261",
   "metadata": {
    "ExecuteTime": {
     "start_time": "2023-11-04T19:39:51.428635Z"
    }
   },
   "outputs": [],
   "source": [
    "df.select_dtypes(include=['object'])"
   ]
  },
  {
   "cell_type": "code",
   "execution_count": null,
   "id": "f9a5eabf",
   "metadata": {
    "ExecuteTime": {
     "start_time": "2023-11-04T19:39:51.430285Z"
    }
   },
   "outputs": [],
   "source": [
    "numeric_columns = df.select_dtypes(exclude=['object'])\n",
    "correlation_matrix = numeric_columns.corr()\n",
    "\n",
    "print(correlation_matrix)"
   ]
  },
  {
   "cell_type": "code",
   "execution_count": null,
   "id": "7f612e44",
   "metadata": {
    "ExecuteTime": {
     "start_time": "2023-11-04T19:39:51.430494Z"
    }
   },
   "outputs": [],
   "source": [
    "\n",
    "plt.figure(figsize=(15, 13))\n",
    "sns.heatmap(correlation_matrix, annot=False, cmap='coolwarm', linewidths=0.5)\n",
    "plt.show()"
   ]
  },
  {
   "cell_type": "code",
   "execution_count": null,
   "id": "424b254c",
   "metadata": {
    "ExecuteTime": {
     "start_time": "2023-11-04T19:39:51.430607Z"
    }
   },
   "outputs": [],
   "source": [
    "correlation_matrix = numeric_columns.corr()\n",
    "\n",
    "threshold = 0.7\n",
    "\n",
    "strong_correlations = correlation_matrix[\n",
    "    (correlation_matrix > threshold) & (correlation_matrix < 1)\n",
    "]\n",
    "\n",
    "print(strong_correlations)"
   ]
  },
  {
   "cell_type": "markdown",
   "id": "ccb9048aafe9ceba",
   "metadata": {
    "ExecuteTime": {
     "start_time": "2023-11-04T18:19:38.800509Z"
    }
   },
   "source": [
    "## Classification"
   ]
  },
  {
   "cell_type": "markdown",
   "id": "c3f603b22b686feb",
   "metadata": {
    "is_executing": true
   },
   "source": [
    "### Imports"
   ]
  },
  {
   "cell_type": "code",
   "execution_count": 21,
   "id": "7d01157e4381bc02",
   "metadata": {
    "ExecuteTime": {
     "end_time": "2023-11-04T19:40:10.089943Z",
     "start_time": "2023-11-04T19:40:09.570299Z"
    }
   },
   "outputs": [],
   "source": [
    "from sklearn.model_selection import train_test_split\n",
    "from sklearn.metrics import accuracy_score, classification_report"
   ]
  },
  {
   "cell_type": "code",
   "execution_count": 22,
   "id": "08ce9908",
   "metadata": {
    "ExecuteTime": {
     "end_time": "2023-11-04T19:40:10.099506Z",
     "start_time": "2023-11-04T19:40:09.578292Z"
    }
   },
   "outputs": [
    {
     "data": {
      "text/plain": "          Mean  VoxelNum  VolumeNum  Elongation  Flatness  LeastAxisLength  \\\n0     0.398388  0.041876      0.000    0.800345  0.244418         0.156384   \n1     0.423089  0.038302      0.000    0.795950  0.239970         0.146965   \n2     0.053140  0.000640      0.000    0.842097  0.323084         0.046066   \n3     0.495832  0.080333      0.125    0.947505  0.241808         0.181580   \n4     0.111337  0.011385      0.000    0.706953  0.664863         0.208073   \n...        ...       ...        ...         ...       ...              ...   \n2725  0.146078  0.003618      0.000    0.500024  0.258786         0.078401   \n2726  0.274997  0.035037      0.000    0.429916  0.235521         0.170402   \n2727  0.346362  0.054607      0.000    0.305325  0.172922         0.164180   \n2728  0.454973  0.074971      0.000    0.732047  0.286005         0.212082   \n2729  0.178374  0.006244      0.000    0.574123  0.411614         0.114568   \n\n      MajorAxisLength  DiameterColumn  DiameterRow  DiameterSlice  ...  \\\n0            0.363943        0.359994     0.519872       0.293561  ...   \n1            0.346630        0.462676     0.404700       0.256770  ...   \n2            0.049688        0.051377     0.047941       0.035367  ...   \n3            0.434161        0.583195     0.584977       0.407555  ...   \n4            0.157364        0.214484     0.160674       0.121130  ...   \n...               ...             ...          ...            ...  ...   \n2725         0.151917        0.145897     0.138285       0.087722  ...   \n2726         0.416814        0.450243     0.534841       0.330323  ...   \n2727         0.584979        0.455872     0.515510       0.401251  ...   \n2728         0.436462        0.522382     0.469772       0.352919  ...   \n2729         0.172293        0.116433     0.179530       0.156222  ...   \n\n      ZonePercentage  ZoneVariance  Subtlety  InternalStructure  Sphericity  \\\n0           0.002402      0.000000      0.75                0.0        0.75   \n1           0.002647      0.000000      1.00                0.0        0.75   \n2           0.146866      0.000000      0.75                0.0        1.00   \n3           0.003889      0.026006      1.00                0.0        0.75   \n4           0.009373      0.000000      0.50                0.0        1.00   \n...              ...           ...       ...                ...         ...   \n2725        0.029342      0.000000      0.75                0.0        0.50   \n2726        0.002912      0.000000      1.00                0.0        0.25   \n2727        0.001791      0.000000      1.00                0.0        0.25   \n2728        0.001243      0.000000      1.00                0.0        0.75   \n2729        0.017116      0.000000      0.50                0.0        0.75   \n\n      Margin  Lobulation  Spiculation  Texture  Malignancy  \n0       0.75        0.25         0.25     1.00         1.0  \n1       0.25        0.75         0.00     1.00         1.0  \n2       1.00        0.00         0.00     1.00         0.0  \n3       0.25        0.75         0.50     1.00         1.0  \n4       1.00        1.00         1.00     1.00         1.0  \n...      ...         ...          ...      ...         ...  \n2725    1.00        0.00         0.00     1.00         1.0  \n2726    0.75        0.00         0.25     1.00         1.0  \n2727    0.50        0.00         0.00     1.00         1.0  \n2728    0.50        0.00         0.75     0.75         1.0  \n2729    0.25        0.00         0.00     0.25         1.0  \n\n[2730 rows x 65 columns]",
      "text/html": "<div>\n<style scoped>\n    .dataframe tbody tr th:only-of-type {\n        vertical-align: middle;\n    }\n\n    .dataframe tbody tr th {\n        vertical-align: top;\n    }\n\n    .dataframe thead th {\n        text-align: right;\n    }\n</style>\n<table border=\"1\" class=\"dataframe\">\n  <thead>\n    <tr style=\"text-align: right;\">\n      <th></th>\n      <th>Mean</th>\n      <th>VoxelNum</th>\n      <th>VolumeNum</th>\n      <th>Elongation</th>\n      <th>Flatness</th>\n      <th>LeastAxisLength</th>\n      <th>MajorAxisLength</th>\n      <th>DiameterColumn</th>\n      <th>DiameterRow</th>\n      <th>DiameterSlice</th>\n      <th>...</th>\n      <th>ZonePercentage</th>\n      <th>ZoneVariance</th>\n      <th>Subtlety</th>\n      <th>InternalStructure</th>\n      <th>Sphericity</th>\n      <th>Margin</th>\n      <th>Lobulation</th>\n      <th>Spiculation</th>\n      <th>Texture</th>\n      <th>Malignancy</th>\n    </tr>\n  </thead>\n  <tbody>\n    <tr>\n      <th>0</th>\n      <td>0.398388</td>\n      <td>0.041876</td>\n      <td>0.000</td>\n      <td>0.800345</td>\n      <td>0.244418</td>\n      <td>0.156384</td>\n      <td>0.363943</td>\n      <td>0.359994</td>\n      <td>0.519872</td>\n      <td>0.293561</td>\n      <td>...</td>\n      <td>0.002402</td>\n      <td>0.000000</td>\n      <td>0.75</td>\n      <td>0.0</td>\n      <td>0.75</td>\n      <td>0.75</td>\n      <td>0.25</td>\n      <td>0.25</td>\n      <td>1.00</td>\n      <td>1.0</td>\n    </tr>\n    <tr>\n      <th>1</th>\n      <td>0.423089</td>\n      <td>0.038302</td>\n      <td>0.000</td>\n      <td>0.795950</td>\n      <td>0.239970</td>\n      <td>0.146965</td>\n      <td>0.346630</td>\n      <td>0.462676</td>\n      <td>0.404700</td>\n      <td>0.256770</td>\n      <td>...</td>\n      <td>0.002647</td>\n      <td>0.000000</td>\n      <td>1.00</td>\n      <td>0.0</td>\n      <td>0.75</td>\n      <td>0.25</td>\n      <td>0.75</td>\n      <td>0.00</td>\n      <td>1.00</td>\n      <td>1.0</td>\n    </tr>\n    <tr>\n      <th>2</th>\n      <td>0.053140</td>\n      <td>0.000640</td>\n      <td>0.000</td>\n      <td>0.842097</td>\n      <td>0.323084</td>\n      <td>0.046066</td>\n      <td>0.049688</td>\n      <td>0.051377</td>\n      <td>0.047941</td>\n      <td>0.035367</td>\n      <td>...</td>\n      <td>0.146866</td>\n      <td>0.000000</td>\n      <td>0.75</td>\n      <td>0.0</td>\n      <td>1.00</td>\n      <td>1.00</td>\n      <td>0.00</td>\n      <td>0.00</td>\n      <td>1.00</td>\n      <td>0.0</td>\n    </tr>\n    <tr>\n      <th>3</th>\n      <td>0.495832</td>\n      <td>0.080333</td>\n      <td>0.125</td>\n      <td>0.947505</td>\n      <td>0.241808</td>\n      <td>0.181580</td>\n      <td>0.434161</td>\n      <td>0.583195</td>\n      <td>0.584977</td>\n      <td>0.407555</td>\n      <td>...</td>\n      <td>0.003889</td>\n      <td>0.026006</td>\n      <td>1.00</td>\n      <td>0.0</td>\n      <td>0.75</td>\n      <td>0.25</td>\n      <td>0.75</td>\n      <td>0.50</td>\n      <td>1.00</td>\n      <td>1.0</td>\n    </tr>\n    <tr>\n      <th>4</th>\n      <td>0.111337</td>\n      <td>0.011385</td>\n      <td>0.000</td>\n      <td>0.706953</td>\n      <td>0.664863</td>\n      <td>0.208073</td>\n      <td>0.157364</td>\n      <td>0.214484</td>\n      <td>0.160674</td>\n      <td>0.121130</td>\n      <td>...</td>\n      <td>0.009373</td>\n      <td>0.000000</td>\n      <td>0.50</td>\n      <td>0.0</td>\n      <td>1.00</td>\n      <td>1.00</td>\n      <td>1.00</td>\n      <td>1.00</td>\n      <td>1.00</td>\n      <td>1.0</td>\n    </tr>\n    <tr>\n      <th>...</th>\n      <td>...</td>\n      <td>...</td>\n      <td>...</td>\n      <td>...</td>\n      <td>...</td>\n      <td>...</td>\n      <td>...</td>\n      <td>...</td>\n      <td>...</td>\n      <td>...</td>\n      <td>...</td>\n      <td>...</td>\n      <td>...</td>\n      <td>...</td>\n      <td>...</td>\n      <td>...</td>\n      <td>...</td>\n      <td>...</td>\n      <td>...</td>\n      <td>...</td>\n      <td>...</td>\n    </tr>\n    <tr>\n      <th>2725</th>\n      <td>0.146078</td>\n      <td>0.003618</td>\n      <td>0.000</td>\n      <td>0.500024</td>\n      <td>0.258786</td>\n      <td>0.078401</td>\n      <td>0.151917</td>\n      <td>0.145897</td>\n      <td>0.138285</td>\n      <td>0.087722</td>\n      <td>...</td>\n      <td>0.029342</td>\n      <td>0.000000</td>\n      <td>0.75</td>\n      <td>0.0</td>\n      <td>0.50</td>\n      <td>1.00</td>\n      <td>0.00</td>\n      <td>0.00</td>\n      <td>1.00</td>\n      <td>1.0</td>\n    </tr>\n    <tr>\n      <th>2726</th>\n      <td>0.274997</td>\n      <td>0.035037</td>\n      <td>0.000</td>\n      <td>0.429916</td>\n      <td>0.235521</td>\n      <td>0.170402</td>\n      <td>0.416814</td>\n      <td>0.450243</td>\n      <td>0.534841</td>\n      <td>0.330323</td>\n      <td>...</td>\n      <td>0.002912</td>\n      <td>0.000000</td>\n      <td>1.00</td>\n      <td>0.0</td>\n      <td>0.25</td>\n      <td>0.75</td>\n      <td>0.00</td>\n      <td>0.25</td>\n      <td>1.00</td>\n      <td>1.0</td>\n    </tr>\n    <tr>\n      <th>2727</th>\n      <td>0.346362</td>\n      <td>0.054607</td>\n      <td>0.000</td>\n      <td>0.305325</td>\n      <td>0.172922</td>\n      <td>0.164180</td>\n      <td>0.584979</td>\n      <td>0.455872</td>\n      <td>0.515510</td>\n      <td>0.401251</td>\n      <td>...</td>\n      <td>0.001791</td>\n      <td>0.000000</td>\n      <td>1.00</td>\n      <td>0.0</td>\n      <td>0.25</td>\n      <td>0.50</td>\n      <td>0.00</td>\n      <td>0.00</td>\n      <td>1.00</td>\n      <td>1.0</td>\n    </tr>\n    <tr>\n      <th>2728</th>\n      <td>0.454973</td>\n      <td>0.074971</td>\n      <td>0.000</td>\n      <td>0.732047</td>\n      <td>0.286005</td>\n      <td>0.212082</td>\n      <td>0.436462</td>\n      <td>0.522382</td>\n      <td>0.469772</td>\n      <td>0.352919</td>\n      <td>...</td>\n      <td>0.001243</td>\n      <td>0.000000</td>\n      <td>1.00</td>\n      <td>0.0</td>\n      <td>0.75</td>\n      <td>0.50</td>\n      <td>0.00</td>\n      <td>0.75</td>\n      <td>0.75</td>\n      <td>1.0</td>\n    </tr>\n    <tr>\n      <th>2729</th>\n      <td>0.178374</td>\n      <td>0.006244</td>\n      <td>0.000</td>\n      <td>0.574123</td>\n      <td>0.411614</td>\n      <td>0.114568</td>\n      <td>0.172293</td>\n      <td>0.116433</td>\n      <td>0.179530</td>\n      <td>0.156222</td>\n      <td>...</td>\n      <td>0.017116</td>\n      <td>0.000000</td>\n      <td>0.50</td>\n      <td>0.0</td>\n      <td>0.75</td>\n      <td>0.25</td>\n      <td>0.00</td>\n      <td>0.00</td>\n      <td>0.25</td>\n      <td>1.0</td>\n    </tr>\n  </tbody>\n</table>\n<p>2730 rows × 65 columns</p>\n</div>"
     },
     "execution_count": 22,
     "metadata": {},
     "output_type": "execute_result"
    }
   ],
   "source": [
    "df"
   ]
  },
  {
   "cell_type": "code",
   "execution_count": 23,
   "id": "ad9e28edd1c2dc6b",
   "metadata": {
    "ExecuteTime": {
     "end_time": "2023-11-04T19:40:10.100574Z",
     "start_time": "2023-11-04T19:40:09.593998Z"
    }
   },
   "outputs": [],
   "source": [
    "X = df.iloc[:, :-1]  # Features (all columns except the last one)\n",
    "y = df.iloc[:, -1]   # Target (the last column)"
   ]
  },
  {
   "cell_type": "code",
   "execution_count": 24,
   "id": "707a7f7902652c42",
   "metadata": {
    "ExecuteTime": {
     "end_time": "2023-11-04T19:40:10.100923Z",
     "start_time": "2023-11-04T19:40:09.608378Z"
    }
   },
   "outputs": [],
   "source": [
    "X_train, X_test, y_train, y_test = train_test_split(X, y, test_size=0.3)"
   ]
  },
  {
   "cell_type": "code",
   "execution_count": 25,
   "id": "1c1d08d11609f7b6",
   "metadata": {
    "ExecuteTime": {
     "end_time": "2023-11-04T19:40:10.101108Z",
     "start_time": "2023-11-04T19:40:09.608793Z"
    }
   },
   "outputs": [],
   "source": [
    "from sklearn.metrics import confusion_matrix\n",
    "\n",
    "\n",
    "def testing(test,pred):\n",
    "    accuracy = accuracy_score(test, pred)\n",
    "    report = classification_report(test, pred, zero_division=1)\n",
    "    print(\"Accuracy:\", accuracy)\n",
    "    print(\"Classification Report:\\n\", report)\n",
    "    heatmap(test,pred)\n",
    "    \n",
    "def heatmap(test,pred):\n",
    "    cm = confusion_matrix(test, pred)\n",
    "    sns.heatmap(cm, annot=True, fmt='d', cmap='Blues')\n",
    "    plt.xlabel('Predicted')\n",
    "    plt.ylabel('Actual')\n",
    "    plt.show()"
   ]
  },
  {
   "cell_type": "markdown",
   "source": [
    "### Decision Tree Classifier"
   ],
   "metadata": {
    "collapsed": false
   },
   "id": "c56c480d32daab7a"
  },
  {
   "cell_type": "code",
   "execution_count": 26,
   "outputs": [],
   "source": [
    "from sklearn.tree import DecisionTreeClassifier"
   ],
   "metadata": {
    "collapsed": false,
    "ExecuteTime": {
     "end_time": "2023-11-04T19:40:10.168771Z",
     "start_time": "2023-11-04T19:40:09.641863Z"
    }
   },
   "id": "62a7556c7c63c4a5"
  },
  {
   "cell_type": "code",
   "execution_count": 27,
   "outputs": [],
   "source": [
    "tree=DecisionTreeClassifier()\n",
    "tree.fit(X_train, y_train)\n",
    "y_pred = tree.predict(X_test)"
   ],
   "metadata": {
    "collapsed": false,
    "ExecuteTime": {
     "end_time": "2023-11-04T19:40:10.436216Z",
     "start_time": "2023-11-04T19:40:09.646605Z"
    }
   },
   "id": "e11ab12afae43afd"
  },
  {
   "cell_type": "code",
   "execution_count": 28,
   "outputs": [
    {
     "name": "stdout",
     "output_type": "stream",
     "text": [
      "Accuracy: 0.8107448107448108\n",
      "Classification Report:\n",
      "               precision    recall  f1-score   support\n",
      "\n",
      "         0.0       0.81      0.78      0.80       393\n",
      "         1.0       0.81      0.84      0.82       426\n",
      "\n",
      "    accuracy                           0.81       819\n",
      "   macro avg       0.81      0.81      0.81       819\n",
      "weighted avg       0.81      0.81      0.81       819\n"
     ]
    },
    {
     "data": {
      "text/plain": "<Figure size 640x480 with 2 Axes>",
      "image/png": "[encoded data removed]"
     },
     "metadata": {},
     "output_type": "display_data"
    }
   ],
   "source": [
    "testing(y_test,y_pred)"
   ],
   "metadata": {
    "collapsed": false,
    "ExecuteTime": {
     "end_time": "2023-11-04T19:40:10.751126Z",
     "start_time": "2023-11-04T19:40:09.753918Z"
    }
   },
   "id": "b29cd5100404e348"
  },
  {
   "cell_type": "markdown",
   "id": "fb456e8c672b88e3",
   "metadata": {
    "ExecuteTime": {
     "start_time": "2023-11-04T18:19:38.807876Z"
    }
   },
   "source": [
    "#### Random Forest Classifier"
   ]
  },
  {
   "cell_type": "code",
   "execution_count": 29,
   "id": "8a21b1cdfae8dad9",
   "metadata": {
    "ExecuteTime": {
     "end_time": "2023-11-04T19:40:10.751676Z",
     "start_time": "2023-11-04T19:40:09.886270Z"
    }
   },
   "outputs": [],
   "source": [
    "from sklearn.ensemble import RandomForestClassifier"
   ]
  },
  {
   "cell_type": "code",
   "execution_count": 30,
   "id": "9fc6012f5a49955b",
   "metadata": {
    "ExecuteTime": {
     "end_time": "2023-11-04T19:40:11.376633Z",
     "start_time": "2023-11-04T19:40:09.892736Z"
    }
   },
   "outputs": [],
   "source": [
    "rf_classifier = RandomForestClassifier(n_estimators=100, random_state=42)  # You can adjust the number of trees (n_estimators)\n",
    "rf_classifier.fit(X_train, y_train)\n",
    "y_pred = rf_classifier.predict(X_test)"
   ]
  },
  {
   "cell_type": "code",
   "execution_count": 31,
   "id": "2a453ee8db8b245d",
   "metadata": {
    "ExecuteTime": {
     "end_time": "2023-11-04T19:40:11.558728Z",
     "start_time": "2023-11-04T19:40:10.701574Z"
    }
   },
   "outputs": [
    {
     "name": "stdout",
     "output_type": "stream",
     "text": [
      "Accuracy: 0.8571428571428571\n",
      "Classification Report:\n",
      "               precision    recall  f1-score   support\n",
      "\n",
      "         0.0       0.86      0.83      0.85       393\n",
      "         1.0       0.85      0.88      0.86       426\n",
      "\n",
      "    accuracy                           0.86       819\n",
      "   macro avg       0.86      0.86      0.86       819\n",
      "weighted avg       0.86      0.86      0.86       819\n"
     ]
    },
    {
     "data": {
      "text/plain": "<Figure size 640x480 with 2 Axes>",
      "image/png": "[encoded data removed]"
     },
     "metadata": {},
     "output_type": "display_data"
    }
   ],
   "source": [
    "testing(y_test,y_pred)"
   ]
  },
  {
   "cell_type": "markdown",
   "source": [
    "#### Knn"
   ],
   "metadata": {
    "collapsed": false
   },
   "id": "eaffbba44eb6dd4c"
  },
  {
   "cell_type": "code",
   "execution_count": null,
   "outputs": [],
   "source": [],
   "metadata": {
    "collapsed": false
   },
   "id": "acba8bef355d5715"
  },
  {
   "cell_type": "markdown",
   "id": "7789853ad2d1c37d",
   "metadata": {
    "ExecuteTime": {
     "start_time": "2023-11-04T18:19:38.809109Z"
    }
   },
   "source": [
    "#### Support Vector Machines (SVM)"
   ]
  },
  {
   "cell_type": "code",
   "execution_count": 32,
   "id": "4c43f183f98200a3",
   "metadata": {
    "ExecuteTime": {
     "end_time": "2023-11-04T19:40:11.560258Z",
     "start_time": "2023-11-04T19:40:10.816634Z"
    }
   },
   "outputs": [],
   "source": [
    "from sklearn.svm import SVC"
   ]
  },
  {
   "cell_type": "code",
   "execution_count": 33,
   "id": "847546be00ee57f2",
   "metadata": {
    "ExecuteTime": {
     "end_time": "2023-11-04T19:40:11.785422Z",
     "start_time": "2023-11-04T19:40:10.822482Z"
    }
   },
   "outputs": [],
   "source": [
    "svclassifier = SVC()\n",
    "svclassifier.fit(X_train, y_train)\n",
    "y_pred = svclassifier.predict(X_test)"
   ]
  },
  {
   "cell_type": "code",
   "execution_count": 34,
   "outputs": [
    {
     "name": "stdout",
     "output_type": "stream",
     "text": [
      "Accuracy: 0.8400488400488401\n",
      "Classification Report:\n",
      "               precision    recall  f1-score   support\n",
      "\n",
      "         0.0       0.82      0.86      0.84       393\n",
      "         1.0       0.86      0.82      0.84       426\n",
      "\n",
      "    accuracy                           0.84       819\n",
      "   macro avg       0.84      0.84      0.84       819\n",
      "weighted avg       0.84      0.84      0.84       819\n"
     ]
    },
    {
     "data": {
      "text/plain": "<Figure size 640x480 with 2 Axes>",
      "image/png": "[encoded data removed]"
     },
     "metadata": {},
     "output_type": "display_data"
    }
   ],
   "source": [
    "testing(y_test,y_pred)"
   ],
   "metadata": {
    "collapsed": false,
    "ExecuteTime": {
     "end_time": "2023-11-04T19:40:11.792177Z",
     "start_time": "2023-11-04T19:40:10.995714Z"
    }
   },
   "id": "dc27bd88e0d9591c"
  },
  {
   "cell_type": "markdown",
   "id": "ebcc7db0f6dce706",
   "metadata": {
    "ExecuteTime": {
     "start_time": "2023-11-04T18:19:38.812015Z"
    }
   },
   "source": [
    "#### Naive Bayes"
   ]
  },
  {
   "cell_type": "markdown",
   "id": "b33ec0a4a4ad4766",
   "metadata": {
    "is_executing": true
   },
   "source": [
    "##### GaussianNB"
   ]
  },
  {
   "cell_type": "code",
   "execution_count": 35,
   "id": "20453e6d8858467e",
   "metadata": {
    "ExecuteTime": {
     "end_time": "2023-11-04T19:40:11.793019Z",
     "start_time": "2023-11-04T19:40:11.221716Z"
    }
   },
   "outputs": [],
   "source": [
    "from sklearn.naive_bayes import GaussianNB"
   ]
  },
  {
   "cell_type": "code",
   "execution_count": 36,
   "id": "365f7961653ea819",
   "metadata": {
    "ExecuteTime": {
     "end_time": "2023-11-04T19:40:11.793190Z",
     "start_time": "2023-11-04T19:40:11.234570Z"
    }
   },
   "outputs": [],
   "source": [
    "gauss = GaussianNB()\n",
    "gauss.fit(X_train, y_train)\n",
    "y_pred = gauss.predict(X_test)"
   ]
  },
  {
   "cell_type": "code",
   "execution_count": 37,
   "id": "2a8b4701616789f1",
   "metadata": {
    "ExecuteTime": {
     "end_time": "2023-11-04T19:40:11.793634Z",
     "start_time": "2023-11-04T19:40:11.236850Z"
    }
   },
   "outputs": [
    {
     "name": "stdout",
     "output_type": "stream",
     "text": [
      "Accuracy: 0.7130647130647131\n",
      "Classification Report:\n",
      "               precision    recall  f1-score   support\n",
      "\n",
      "         0.0       0.63      0.95      0.76       393\n",
      "         1.0       0.91      0.50      0.64       426\n",
      "\n",
      "    accuracy                           0.71       819\n",
      "   macro avg       0.77      0.72      0.70       819\n",
      "weighted avg       0.78      0.71      0.70       819\n"
     ]
    },
    {
     "data": {
      "text/plain": "<Figure size 640x480 with 2 Axes>",
      "image/png": "[encoded data removed]"
     },
     "metadata": {},
     "output_type": "display_data"
    }
   ],
   "source": [
    "testing(y_test,y_pred)"
   ]
  },
  {
   "cell_type": "markdown",
   "id": "42bb091b927d11d3",
   "metadata": {
    "ExecuteTime": {
     "start_time": "2023-11-04T18:19:38.814552Z"
    }
   },
   "source": [
    "##### MultinomialNB"
   ]
  },
  {
   "cell_type": "code",
   "execution_count": 38,
   "id": "f7fcefe7a46864c2",
   "metadata": {
    "ExecuteTime": {
     "end_time": "2023-11-04T19:40:11.793788Z",
     "start_time": "2023-11-04T19:40:11.258953Z"
    }
   },
   "outputs": [],
   "source": [
    "from sklearn.naive_bayes import MultinomialNB"
   ]
  },
  {
   "cell_type": "code",
   "execution_count": 39,
   "id": "d822ad13100866bf",
   "metadata": {
    "ExecuteTime": {
     "end_time": "2023-11-04T19:40:11.793917Z",
     "start_time": "2023-11-04T19:40:11.266189Z"
    }
   },
   "outputs": [],
   "source": [
    "mult = MultinomialNB()\n",
    "mult.fit(X_train, y_train)\n",
    "y_pred = mult.predict(X_test)"
   ]
  },
  {
   "cell_type": "code",
   "execution_count": 40,
   "id": "65220e83f95ba2bc",
   "metadata": {
    "ExecuteTime": {
     "end_time": "2023-11-04T19:40:11.810023Z",
     "start_time": "2023-11-04T19:40:11.276540Z"
    }
   },
   "outputs": [
    {
     "name": "stdout",
     "output_type": "stream",
     "text": [
      "Accuracy: 0.78998778998779\n",
      "Classification Report:\n",
      "               precision    recall  f1-score   support\n",
      "\n",
      "         0.0       0.73      0.90      0.80       393\n",
      "         1.0       0.88      0.69      0.77       426\n",
      "\n",
      "    accuracy                           0.79       819\n",
      "   macro avg       0.80      0.79      0.79       819\n",
      "weighted avg       0.81      0.79      0.79       819\n"
     ]
    },
    {
     "data": {
      "text/plain": "<Figure size 640x480 with 2 Axes>",
      "image/png": "[encoded data removed]"
     },
     "metadata": {},
     "output_type": "display_data"
    }
   ],
   "source": [
    "testing(y_test,y_pred)"
   ]
  },
  {
   "cell_type": "markdown",
   "id": "263ce92d8c434a9d",
   "metadata": {
    "ExecuteTime": {
     "start_time": "2023-11-04T18:19:38.817134Z"
    }
   },
   "source": [
    "##### BernoulliNB"
   ]
  },
  {
   "cell_type": "code",
   "execution_count": 41,
   "id": "ddf3800f99e8d934",
   "metadata": {
    "ExecuteTime": {
     "end_time": "2023-11-04T19:40:11.810287Z",
     "start_time": "2023-11-04T19:40:11.387323Z"
    }
   },
   "outputs": [],
   "source": [
    "from sklearn.naive_bayes import BernoulliNB\n",
    "bern = BernoulliNB()\n",
    "bern.fit(X_train, y_train)\n",
    "y_pred = bern.predict(X_test)"
   ]
  },
  {
   "cell_type": "code",
   "execution_count": 42,
   "id": "f4798d397eccf798",
   "metadata": {
    "ExecuteTime": {
     "end_time": "2023-11-04T19:40:12.152081Z",
     "start_time": "2023-11-04T19:40:11.397246Z"
    }
   },
   "outputs": [
    {
     "name": "stdout",
     "output_type": "stream",
     "text": [
      "Accuracy: 0.7228327228327228\n",
      "Classification Report:\n",
      "               precision    recall  f1-score   support\n",
      "\n",
      "         0.0       0.67      0.82      0.74       393\n",
      "         1.0       0.79      0.64      0.70       426\n",
      "\n",
      "    accuracy                           0.72       819\n",
      "   macro avg       0.73      0.73      0.72       819\n",
      "weighted avg       0.73      0.72      0.72       819\n"
     ]
    },
    {
     "data": {
      "text/plain": "<Figure size 640x480 with 2 Axes>",
      "image/png": "[encoded data removed]"
     },
     "metadata": {},
     "output_type": "display_data"
    }
   ],
   "source": [
    "testing(y_test,y_pred)"
   ]
  },
  {
   "cell_type": "code",
   "execution_count": null,
   "id": "eb69d41ad1a94c19",
   "metadata": {
    "ExecuteTime": {
     "start_time": "2023-11-04T19:40:12.497908Z"
    }
   },
   "outputs": [],
   "source": []
  },
  {
   "cell_type": "code",
   "execution_count": null,
   "id": "ee594dc505911a34",
   "metadata": {
    "ExecuteTime": {
     "start_time": "2023-11-04T19:40:12.499042Z"
    }
   },
   "outputs": [],
   "source": []
  },
  {
   "cell_type": "code",
   "execution_count": null,
   "id": "f11fe6c45a57aea1",
   "metadata": {
    "ExecuteTime": {
     "start_time": "2023-11-04T19:40:12.500798Z"
    }
   },
   "outputs": [],
   "source": []
  },
  {
   "cell_type": "code",
   "execution_count": null,
   "outputs": [],
   "source": [],
   "metadata": {
    "collapsed": false,
    "ExecuteTime": {
     "start_time": "2023-11-04T19:40:12.502153Z"
    }
   },
   "id": "5d0d64e565edbb6"
  },
  {
   "cell_type": "code",
   "execution_count": null,
   "outputs": [],
   "source": [],
   "metadata": {
    "collapsed": false,
    "ExecuteTime": {
     "start_time": "2023-11-04T19:40:12.503391Z"
    }
   },
   "id": "82d639c699d1feee"
  },
  {
   "cell_type": "code",
   "execution_count": null,
   "outputs": [],
   "source": [],
   "metadata": {
    "collapsed": false,
    "ExecuteTime": {
     "start_time": "2023-11-04T19:40:12.504895Z"
    }
   },
   "id": "e4130d0e2c3c9a"
  },
  {
   "cell_type": "code",
   "execution_count": null,
   "outputs": [],
   "source": [],
   "metadata": {
    "collapsed": false,
    "ExecuteTime": {
     "start_time": "2023-11-04T19:40:12.506248Z"
    }
   },
   "id": "281720401943dbee"
  },
  {
   "cell_type": "code",
   "execution_count": null,
   "outputs": [],
   "source": [],
   "metadata": {
    "collapsed": false,
    "ExecuteTime": {
     "start_time": "2023-11-04T19:40:12.507699Z"
    }
   },
   "id": "8b05ae5f7ba70ee7"
  },
  {
   "cell_type": "code",
   "execution_count": null,
   "outputs": [],
   "source": [],
   "metadata": {
    "collapsed": false,
    "ExecuteTime": {
     "start_time": "2023-11-04T19:40:12.508903Z"
    }
   },
   "id": "8812d98f709abf06"
  },
  {
   "cell_type": "code",
   "execution_count": null,
   "outputs": [],
   "source": [],
   "metadata": {
    "collapsed": false,
    "ExecuteTime": {
     "start_time": "2023-11-04T19:40:12.510083Z"
    }
   },
   "id": "d61276635b6ba50"
  },
  {
   "cell_type": "code",
   "execution_count": null,
   "outputs": [],
   "source": [],
   "metadata": {
    "collapsed": false,
    "ExecuteTime": {
     "start_time": "2023-11-04T19:40:12.511267Z"
    }
   },
   "id": "bb94e64fbc8351d6"
  },
  {
   "cell_type": "code",
   "execution_count": null,
   "outputs": [],
   "source": [],
   "metadata": {
    "collapsed": false,
    "ExecuteTime": {
     "start_time": "2023-11-04T19:40:12.512590Z"
    }
   },
   "id": "2a635cc48da6186"
  }
 ],
 "metadata": {
  "kernelspec": {
   "display_name": "Python 3 (ipykernel)",
   "language": "python",
   "name": "python3"
  },
  "language_info": {
   "codemirror_mode": {
    "name": "ipython",
    "version": 3
   },
   "file_extension": ".py",
   "mimetype": "text/x-python",
   "name": "python",
   "nbconvert_exporter": "python",
   "pygments_lexer": "ipython3",
   "version": "3.6.13"
  }
 },
 "nbformat": 4,
 "nbformat_minor": 5
}
