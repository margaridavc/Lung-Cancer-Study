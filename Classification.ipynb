{
 "cells": [
  {
   "cell_type": "markdown",
   "source": [
    "# Classification"
   ],
   "metadata": {
    "collapsed": false
   },
   "id": "b30a803b8ed5c42f"
  },
  {
   "cell_type": "markdown",
   "source": [
    "## Imports"
   ],
   "metadata": {
    "collapsed": false
   },
   "id": "7f25b1780efcd76d"
  },
  {
   "cell_type": "code",
   "execution_count": 3,
   "id": "initial_id",
   "metadata": {
    "collapsed": true,
    "ExecuteTime": {
     "end_time": "2023-10-18T23:41:15.697006Z",
     "start_time": "2023-10-18T23:41:15.688298Z"
    }
   },
   "outputs": [],
   "source": [
    "import pandas as pd"
   ]
  },
  {
   "cell_type": "code",
   "execution_count": 4,
   "outputs": [
    {
     "data": {
      "text/plain": "  diagnostics_Versions_PyRadiomics diagnostics_Versions_Numpy  \\\n0                           v3.1.0                     1.23.5   \n1                           v3.1.0                     1.23.5   \n2                           v3.1.0                     1.23.5   \n3                           v3.1.0                     1.23.5   \n4                           v3.1.0                     1.23.5   \n\n  diagnostics_Versions_SimpleITK diagnostics_Versions_PyWavelet  \\\n0                          2.3.0                          1.3.0   \n1                          2.3.0                          1.3.0   \n2                          2.3.0                          1.3.0   \n3                          2.3.0                          1.3.0   \n4                          2.3.0                          1.3.0   \n\n  diagnostics_Versions_Python  \\\n0                      3.9.13   \n1                      3.9.13   \n2                      3.9.13   \n3                      3.9.13   \n4                      3.9.13   \n\n                  diagnostics_Configuration_Settings  \\\n0  {'minimumROIDimensions': 2, 'minimumROISize': ...   \n1  {'minimumROIDimensions': 2, 'minimumROISize': ...   \n2  {'minimumROIDimensions': 2, 'minimumROISize': ...   \n3  {'minimumROIDimensions': 2, 'minimumROISize': ...   \n4  {'minimumROIDimensions': 2, 'minimumROISize': ...   \n\n  diagnostics_Configuration_EnabledImageTypes  \\\n0                            {'Original': {}}   \n1                            {'Original': {}}   \n2                            {'Original': {}}   \n3                            {'Original': {}}   \n4                            {'Original': {}}   \n\n            diagnostics_Image-original_Hash  \\\n0  966db6c8d814983bbfe7125907b2ae5008c7994e   \n1  d750f93365c734f6f1972e806b046bb1a203f47f   \n2  58d9ee5073ad7215556c1e295a67e9204a623b2d   \n3  312913e3e22bc6f2e6cffc8abd1120da5fa413fd   \n4  08706c40effcb9f7489dc9ce0139a265b8dc6048   \n\n  diagnostics_Image-original_Dimensionality  \\\n0                                        3D   \n1                                        3D   \n2                                        3D   \n3                                        3D   \n4                                        3D   \n\n  diagnostics_Image-original_Spacing  ... Nodule_ID  subtlety  \\\n0                    (1.0, 1.0, 1.0)  ...  Nodule_1         4   \n1                    (1.0, 1.0, 1.0)  ...  Nodule_2         5   \n2                    (1.0, 1.0, 1.0)  ...  Nodule_3         4   \n3                    (1.0, 1.0, 1.0)  ...  Nodule_4         5   \n4                    (1.0, 1.0, 1.0)  ...  Nodule_5         3   \n\n   internalStructure  calcification sphericity margin lobulation spiculation  \\\n0                  1              6          4      4          1           2   \n1                  1              6          3      4          1           1   \n2                  1              5          5      5          1           1   \n3                  1              4          3      5          2           3   \n4                  1              6          5      5          5           5   \n\n   texture  malignancy  \n0        5           3  \n1        5           3  \n2        5           1  \n3        5           4  \n4        5           5  \n\n[5 rows x 140 columns]",
      "text/html": "<div>\n<style scoped>\n    .dataframe tbody tr th:only-of-type {\n        vertical-align: middle;\n    }\n\n    .dataframe tbody tr th {\n        vertical-align: top;\n    }\n\n    .dataframe thead th {\n        text-align: right;\n    }\n</style>\n<table border=\"1\" class=\"dataframe\">\n  <thead>\n    <tr style=\"text-align: right;\">\n      <th></th>\n      <th>diagnostics_Versions_PyRadiomics</th>\n      <th>diagnostics_Versions_Numpy</th>\n      <th>diagnostics_Versions_SimpleITK</th>\n      <th>diagnostics_Versions_PyWavelet</th>\n      <th>diagnostics_Versions_Python</th>\n      <th>diagnostics_Configuration_Settings</th>\n      <th>diagnostics_Configuration_EnabledImageTypes</th>\n      <th>diagnostics_Image-original_Hash</th>\n      <th>diagnostics_Image-original_Dimensionality</th>\n      <th>diagnostics_Image-original_Spacing</th>\n      <th>...</th>\n      <th>Nodule_ID</th>\n      <th>subtlety</th>\n      <th>internalStructure</th>\n      <th>calcification</th>\n      <th>sphericity</th>\n      <th>margin</th>\n      <th>lobulation</th>\n      <th>spiculation</th>\n      <th>texture</th>\n      <th>malignancy</th>\n    </tr>\n  </thead>\n  <tbody>\n    <tr>\n      <th>0</th>\n      <td>v3.1.0</td>\n      <td>1.23.5</td>\n      <td>2.3.0</td>\n      <td>1.3.0</td>\n      <td>3.9.13</td>\n      <td>{'minimumROIDimensions': 2, 'minimumROISize': ...</td>\n      <td>{'Original': {}}</td>\n      <td>966db6c8d814983bbfe7125907b2ae5008c7994e</td>\n      <td>3D</td>\n      <td>(1.0, 1.0, 1.0)</td>\n      <td>...</td>\n      <td>Nodule_1</td>\n      <td>4</td>\n      <td>1</td>\n      <td>6</td>\n      <td>4</td>\n      <td>4</td>\n      <td>1</td>\n      <td>2</td>\n      <td>5</td>\n      <td>3</td>\n    </tr>\n    <tr>\n      <th>1</th>\n      <td>v3.1.0</td>\n      <td>1.23.5</td>\n      <td>2.3.0</td>\n      <td>1.3.0</td>\n      <td>3.9.13</td>\n      <td>{'minimumROIDimensions': 2, 'minimumROISize': ...</td>\n      <td>{'Original': {}}</td>\n      <td>d750f93365c734f6f1972e806b046bb1a203f47f</td>\n      <td>3D</td>\n      <td>(1.0, 1.0, 1.0)</td>\n      <td>...</td>\n      <td>Nodule_2</td>\n      <td>5</td>\n      <td>1</td>\n      <td>6</td>\n      <td>3</td>\n      <td>4</td>\n      <td>1</td>\n      <td>1</td>\n      <td>5</td>\n      <td>3</td>\n    </tr>\n    <tr>\n      <th>2</th>\n      <td>v3.1.0</td>\n      <td>1.23.5</td>\n      <td>2.3.0</td>\n      <td>1.3.0</td>\n      <td>3.9.13</td>\n      <td>{'minimumROIDimensions': 2, 'minimumROISize': ...</td>\n      <td>{'Original': {}}</td>\n      <td>58d9ee5073ad7215556c1e295a67e9204a623b2d</td>\n      <td>3D</td>\n      <td>(1.0, 1.0, 1.0)</td>\n      <td>...</td>\n      <td>Nodule_3</td>\n      <td>4</td>\n      <td>1</td>\n      <td>5</td>\n      <td>5</td>\n      <td>5</td>\n      <td>1</td>\n      <td>1</td>\n      <td>5</td>\n      <td>1</td>\n    </tr>\n    <tr>\n      <th>3</th>\n      <td>v3.1.0</td>\n      <td>1.23.5</td>\n      <td>2.3.0</td>\n      <td>1.3.0</td>\n      <td>3.9.13</td>\n      <td>{'minimumROIDimensions': 2, 'minimumROISize': ...</td>\n      <td>{'Original': {}}</td>\n      <td>312913e3e22bc6f2e6cffc8abd1120da5fa413fd</td>\n      <td>3D</td>\n      <td>(1.0, 1.0, 1.0)</td>\n      <td>...</td>\n      <td>Nodule_4</td>\n      <td>5</td>\n      <td>1</td>\n      <td>4</td>\n      <td>3</td>\n      <td>5</td>\n      <td>2</td>\n      <td>3</td>\n      <td>5</td>\n      <td>4</td>\n    </tr>\n    <tr>\n      <th>4</th>\n      <td>v3.1.0</td>\n      <td>1.23.5</td>\n      <td>2.3.0</td>\n      <td>1.3.0</td>\n      <td>3.9.13</td>\n      <td>{'minimumROIDimensions': 2, 'minimumROISize': ...</td>\n      <td>{'Original': {}}</td>\n      <td>08706c40effcb9f7489dc9ce0139a265b8dc6048</td>\n      <td>3D</td>\n      <td>(1.0, 1.0, 1.0)</td>\n      <td>...</td>\n      <td>Nodule_5</td>\n      <td>3</td>\n      <td>1</td>\n      <td>6</td>\n      <td>5</td>\n      <td>5</td>\n      <td>5</td>\n      <td>5</td>\n      <td>5</td>\n      <td>5</td>\n    </tr>\n  </tbody>\n</table>\n<p>5 rows × 140 columns</p>\n</div>"
     },
     "execution_count": 4,
     "metadata": {},
     "output_type": "execute_result"
    }
   ],
   "source": [
    "dataset = pd.read_csv(\"radiomic_features_lidc_all_with_additional.csv\")\n",
    "dataset.head()"
   ],
   "metadata": {
    "collapsed": false,
    "ExecuteTime": {
     "end_time": "2023-10-18T23:41:15.865715Z",
     "start_time": "2023-10-18T23:41:15.785569Z"
    }
   },
   "id": "a9df95174f6b33ef"
  },
  {
   "cell_type": "code",
   "execution_count": null,
   "outputs": [],
   "source": [],
   "metadata": {
    "collapsed": false
   },
   "id": "4ef81a322afbfaeb"
  }
 ],
 "metadata": {
  "kernelspec": {
   "display_name": "Python 3",
   "language": "python",
   "name": "python3"
  },
  "language_info": {
   "codemirror_mode": {
    "name": "ipython",
    "version": 2
   },
   "file_extension": ".py",
   "mimetype": "text/x-python",
   "name": "python",
   "nbconvert_exporter": "python",
   "pygments_lexer": "ipython2",
   "version": "2.7.6"
  }
 },
 "nbformat": 4,
 "nbformat_minor": 5
}
